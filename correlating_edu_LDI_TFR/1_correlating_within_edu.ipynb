{
 "cells": [
  {
   "cell_type": "code",
   "execution_count": 10,
   "metadata": {
    "collapsed": false,
    "scrolled": true
   },
   "outputs": [
    {
     "name": "stderr",
     "output_type": "stream",
     "text": [
      "Loading required package: rlist\n",
      "Warning message in library(package, lib.loc = lib.loc, character.only = TRUE, logical.return = TRUE, :\n",
      "“there is no package called ‘rlist’”"
     ]
    },
    {
     "data": {
      "text/html": [
       "40"
      ],
      "text/latex": [
       "40"
      ],
      "text/markdown": [
       "40"
      ],
      "text/plain": [
       "[1] 40"
      ]
     },
     "metadata": {},
     "output_type": "display_data"
    }
   ],
   "source": [
    "# rm(list=ls())\n",
    "require(data.table)\n",
    "require(MASS)\n",
    "require(ggplot2)\n",
    "# require(foreach)\n",
    "require(gridExtra)\n",
    "require(stringr)\n",
    "require(matrixStats)\n",
    "require(parallel)\n",
    "require(abind)\n",
    "require(rlist)\n",
    "\n",
    "\n",
    "parallel::detectCores()\n",
    "## Resizing notebook plot space\n",
    "options(repr.plot.width=16, repr.plot.height=9)"
   ]
  },
  {
   "cell_type": "code",
   "execution_count": 11,
   "metadata": {
    "collapsed": false
   },
   "outputs": [
    {
     "data": {
      "text/html": [
       "<table>\n",
       "<thead><tr><th scope=col>location_id</th><th scope=col>sex_id</th><th scope=col>age_group_id</th><th scope=col>year_id</th><th scope=col>pop</th></tr></thead>\n",
       "<tbody>\n",
       "\t<tr><td>6       </td><td>1       </td><td>15      </td><td>1950    </td><td>27530292</td></tr>\n",
       "\t<tr><td>6       </td><td>1       </td><td>15      </td><td>1951    </td><td>28008975</td></tr>\n",
       "\t<tr><td>6       </td><td>1       </td><td>15      </td><td>1952    </td><td>28183766</td></tr>\n",
       "\t<tr><td>6       </td><td>1       </td><td>15      </td><td>1953    </td><td>28252474</td></tr>\n",
       "\t<tr><td>6       </td><td>1       </td><td>15      </td><td>1954    </td><td>28303795</td></tr>\n",
       "\t<tr><td>6       </td><td>1       </td><td>15      </td><td>1955    </td><td>28343730</td></tr>\n",
       "</tbody>\n",
       "</table>\n"
      ],
      "text/latex": [
       "\\begin{tabular}{r|lllll}\n",
       " location\\_id & sex\\_id & age\\_group\\_id & year\\_id & pop\\\\\n",
       "\\hline\n",
       "\t 6        & 1        & 15       & 1950     & 27530292\\\\\n",
       "\t 6        & 1        & 15       & 1951     & 28008975\\\\\n",
       "\t 6        & 1        & 15       & 1952     & 28183766\\\\\n",
       "\t 6        & 1        & 15       & 1953     & 28252474\\\\\n",
       "\t 6        & 1        & 15       & 1954     & 28303795\\\\\n",
       "\t 6        & 1        & 15       & 1955     & 28343730\\\\\n",
       "\\end{tabular}\n"
      ],
      "text/markdown": [
       "\n",
       "location_id | sex_id | age_group_id | year_id | pop | \n",
       "|---|---|---|---|---|---|\n",
       "| 6        | 1        | 15       | 1950     | 27530292 | \n",
       "| 6        | 1        | 15       | 1951     | 28008975 | \n",
       "| 6        | 1        | 15       | 1952     | 28183766 | \n",
       "| 6        | 1        | 15       | 1953     | 28252474 | \n",
       "| 6        | 1        | 15       | 1954     | 28303795 | \n",
       "| 6        | 1        | 15       | 1955     | 28343730 | \n",
       "\n",
       "\n"
      ],
      "text/plain": [
       "  location_id sex_id age_group_id year_id pop     \n",
       "1 6           1      15           1950    27530292\n",
       "2 6           1      15           1951    28008975\n",
       "3 6           1      15           1952    28183766\n",
       "4 6           1      15           1953    28252474\n",
       "5 6           1      15           1954    28303795\n",
       "6 6           1      15           1955    28343730"
      ]
     },
     "metadata": {},
     "output_type": "display_data"
    }
   ],
   "source": [
    "## POP DATA from UN\n",
    "# pop <- data.table(fread(\"/home/j/Project/IRH/Forecasting/data/WPP_forecasted_population.csv\"))\n",
    "pop <- fread('/ihme/forecasting/data/pop/20150101_wpp/data.csv')\n",
    "pop <- pop[, age_group_id:=15+5*(age_group_id -8)] \n",
    "pop<- pop[age_group_id == 15 | age_group_id == 20 | age_group_id == 25 | age_group_id == 30 | age_group_id == 35 | age_group_id == 40 | age_group_id == 45 | age_group_id == 50 | age_group_id == 55 | age_group_id == 60 | age_group_id == 65 | age_group_id == 70 | age_group_id == 75 | age_group_id == 85,]\n",
    "head(pop)"
   ]
  },
  {
   "cell_type": "code",
   "execution_count": 12,
   "metadata": {
    "collapsed": false
   },
   "outputs": [
    {
     "name": "stdout",
     "output_type": "stream",
     "text": [
      "\r",
      "Read 0.0% of 496860 rows\r",
      "Read 2.0% of 496860 rows\r",
      "Read 4.0% of 496860 rows\r",
      "Read 6.0% of 496860 rows\r",
      "Read 8.1% of 496860 rows\r",
      "Read 10.1% of 496860 rows\r",
      "Read 12.1% of 496860 rows\r",
      "Read 14.1% of 496860 rows\r",
      "Read 16.1% of 496860 rows\r",
      "Read 18.1% of 496860 rows\r",
      "Read 20.1% of 496860 rows\r",
      "Read 22.1% of 496860 rows\r",
      "Read 24.2% of 496860 rows\r",
      "Read 26.2% of 496860 rows\r",
      "Read 28.2% of 496860 rows\r",
      "Read 30.2% of 496860 rows\r",
      "Read 32.2% of 496860 rows\r",
      "Read 34.2% of 496860 rows\r",
      "Read 36.2% of 496860 rows\r",
      "Read 38.2% of 496860 rows\r",
      "Read 40.3% of 496860 rows\r",
      "Read 42.3% of 496860 rows\r",
      "Read 44.3% of 496860 rows\r",
      "Read 46.3% of 496860 rows\r",
      "Read 48.3% of 496860 rows\r",
      "Read 50.3% of 496860 rows\r",
      "Read 52.3% of 496860 rows\r",
      "Read 54.3% of 496860 rows\r",
      "Read 56.4% of 496860 rows\r",
      "Read 58.4% of 496860 rows\r",
      "Read 60.4% of 496860 rows\r",
      "Read 62.4% of 496860 rows\r",
      "Read 64.4% of 496860 rows\r",
      "Read 66.4% of 496860 rows\r",
      "Read 68.4% of 496860 rows\r",
      "Read 70.4% of 496860 rows\r",
      "Read 72.5% of 496860 rows\r",
      "Read 74.5% of 496860 rows\r",
      "Read 76.5% of 496860 rows\r",
      "Read 78.5% of 496860 rows\r",
      "Read 80.5% of 496860 rows\r",
      "Read 82.5% of 496860 rows\r",
      "Read 84.5% of 496860 rows\r",
      "Read 86.5% of 496860 rows\r",
      "Read 88.6% of 496860 rows\r",
      "Read 90.6% of 496860 rows\r",
      "Read 92.6% of 496860 rows\r",
      "Read 94.6% of 496860 rows\r",
      "Read 96.6% of 496860 rows\r",
      "Read 98.6% of 496860 rows\r",
      "Read 496860 rows and 1005 (of 1005) columns from 6.600 GB file in 00:02:06\n"
     ]
    },
    {
     "data": {
      "text/html": [
       "<table>\n",
       "<thead><tr><th scope=col>location_id</th><th scope=col>year_id</th><th scope=col>age_group_id</th><th scope=col>sex_id</th><th scope=col>draw0</th><th scope=col>draw1</th><th scope=col>draw2</th><th scope=col>draw3</th><th scope=col>draw4</th><th scope=col>draw5</th><th scope=col>⋯</th><th scope=col>draw990</th><th scope=col>draw991</th><th scope=col>draw992</th><th scope=col>draw993</th><th scope=col>draw994</th><th scope=col>draw995</th><th scope=col>draw996</th><th scope=col>draw997</th><th scope=col>draw998</th><th scope=col>draw999</th></tr></thead>\n",
       "<tbody>\n",
       "\t<tr><td>6       </td><td>1950    </td><td>8       </td><td>1       </td><td>2.193899</td><td>3.696831</td><td>3.899294</td><td>5.886914</td><td>3.221693</td><td>3.998282</td><td>⋯       </td><td>2.322269</td><td>3.697725</td><td>2.680337</td><td>3.931184</td><td>4.004720</td><td>4.729225</td><td>8.494130</td><td>2.570683</td><td>2.368506</td><td>3.664268</td></tr>\n",
       "\t<tr><td>6       </td><td>1951    </td><td>8       </td><td>1       </td><td>2.329269</td><td>3.838159</td><td>4.045678</td><td>6.013686</td><td>3.346715</td><td>4.065710</td><td>⋯       </td><td>2.427470</td><td>3.836150</td><td>2.780698</td><td>3.969950</td><td>4.142245</td><td>4.905914</td><td>8.606566</td><td>2.687016</td><td>2.487811</td><td>3.796609</td></tr>\n",
       "\t<tr><td>6       </td><td>1952    </td><td>8       </td><td>1       </td><td>2.472498</td><td>3.986922</td><td>4.199735</td><td>6.134196</td><td>3.484166</td><td>4.133698</td><td>⋯       </td><td>2.537848</td><td>3.977886</td><td>2.888934</td><td>4.009498</td><td>4.284303</td><td>5.089704</td><td>8.709071</td><td>2.806243</td><td>2.615149</td><td>3.934128</td></tr>\n",
       "\t<tr><td>6       </td><td>1953    </td><td>8       </td><td>1       </td><td>2.623456</td><td>4.143215</td><td>4.361473</td><td>6.248749</td><td>3.634715</td><td>4.203069</td><td>⋯       </td><td>2.653360</td><td>4.122637</td><td>3.005171</td><td>4.050488</td><td>4.431217</td><td>5.279684</td><td>8.801838</td><td>2.928341</td><td>2.751002</td><td>4.076550</td></tr>\n",
       "\t<tr><td>6       </td><td>1954    </td><td>8       </td><td>1       </td><td>2.781863</td><td>4.307003</td><td>4.530767</td><td>6.357675</td><td>3.798821</td><td>4.274492</td><td>⋯       </td><td>2.773895</td><td>4.270091</td><td>3.129476</td><td>4.093673</td><td>4.583275</td><td>5.474768</td><td>8.885073</td><td>3.053305</td><td>2.895764</td><td>4.223558</td></tr>\n",
       "\t<tr><td>6       </td><td>1955    </td><td>8       </td><td>1       </td><td>2.947277</td><td>4.478090</td><td>4.707342</td><td>6.461299</td><td>3.976678</td><td>4.348449</td><td>⋯       </td><td>2.899285</td><td>4.419948</td><td>3.261856</td><td>4.139855</td><td>4.740723</td><td>5.673722</td><td>8.958986</td><td>3.181143</td><td>3.049714</td><td>4.374800</td></tr>\n",
       "</tbody>\n",
       "</table>\n"
      ],
      "text/latex": [
       "\\begin{tabular}{r|llllllllllllllllllllllllllllllllllllllllllllllllllllllllllllllllllllllllllllllllllllllllllllllllllllllllllllllllllllllllllllllllllllllllllllllllllllllllllllllllllllllllllllllllllllllllllllllllllllllllllllllllllllllllllllllllllllllllllllllllllllllllllllllllllllllllllllllllllllllllllllllllllllllllllllllllllllllllllllllllllllllllllllllllllllllllllllllllllllllllllllllllllllllllllllllllllllllllllllllllllllllllllllllllllllllllllllllllllllllllllllllllllllllllllllllllllllllllllllllllllllllllllllllllllllllllllllllllllllllllllllllllllllllllllllllllllllllllllllllllllllllllllllllllllllllllllllllllllllllllllllllllllllllllllllllllllllllllllllllllllllllllllllllllllllllllllllllllllllllllllllllllllllllllllllllllllllllllllllllllllllllllllllllllllllllllllllllllllllllllllllllllllllllllllllllllllllllllllllllllllllllllllllllllllllllllllllllllllllllllllllllllllllllllllllllllllllllllllllllllllllllllllllllllllllllllllllllllllllllllllllllllllllllllllllllllllllllllllllllllllllllllllllllllllllllllllllllllllllllllllll}\n",
       " location\\_id & year\\_id & age\\_group\\_id & sex\\_id & draw0 & draw1 & draw2 & draw3 & draw4 & draw5 & ⋯ & draw990 & draw991 & draw992 & draw993 & draw994 & draw995 & draw996 & draw997 & draw998 & draw999\\\\\n",
       "\\hline\n",
       "\t 6        & 1950     & 8        & 1        & 2.193899 & 3.696831 & 3.899294 & 5.886914 & 3.221693 & 3.998282 & ⋯        & 2.322269 & 3.697725 & 2.680337 & 3.931184 & 4.004720 & 4.729225 & 8.494130 & 2.570683 & 2.368506 & 3.664268\\\\\n",
       "\t 6        & 1951     & 8        & 1        & 2.329269 & 3.838159 & 4.045678 & 6.013686 & 3.346715 & 4.065710 & ⋯        & 2.427470 & 3.836150 & 2.780698 & 3.969950 & 4.142245 & 4.905914 & 8.606566 & 2.687016 & 2.487811 & 3.796609\\\\\n",
       "\t 6        & 1952     & 8        & 1        & 2.472498 & 3.986922 & 4.199735 & 6.134196 & 3.484166 & 4.133698 & ⋯        & 2.537848 & 3.977886 & 2.888934 & 4.009498 & 4.284303 & 5.089704 & 8.709071 & 2.806243 & 2.615149 & 3.934128\\\\\n",
       "\t 6        & 1953     & 8        & 1        & 2.623456 & 4.143215 & 4.361473 & 6.248749 & 3.634715 & 4.203069 & ⋯        & 2.653360 & 4.122637 & 3.005171 & 4.050488 & 4.431217 & 5.279684 & 8.801838 & 2.928341 & 2.751002 & 4.076550\\\\\n",
       "\t 6        & 1954     & 8        & 1        & 2.781863 & 4.307003 & 4.530767 & 6.357675 & 3.798821 & 4.274492 & ⋯        & 2.773895 & 4.270091 & 3.129476 & 4.093673 & 4.583275 & 5.474768 & 8.885073 & 3.053305 & 2.895764 & 4.223558\\\\\n",
       "\t 6        & 1955     & 8        & 1        & 2.947277 & 4.478090 & 4.707342 & 6.461299 & 3.976678 & 4.348449 & ⋯        & 2.899285 & 4.419948 & 3.261856 & 4.139855 & 4.740723 & 5.673722 & 8.958986 & 3.181143 & 3.049714 & 4.374800\\\\\n",
       "\\end{tabular}\n"
      ],
      "text/markdown": [
       "\n",
       "location_id | year_id | age_group_id | sex_id | draw0 | draw1 | draw2 | draw3 | draw4 | draw5 | ⋯ | draw990 | draw991 | draw992 | draw993 | draw994 | draw995 | draw996 | draw997 | draw998 | draw999 | \n",
       "|---|---|---|---|---|---|\n",
       "| 6        | 1950     | 8        | 1        | 2.193899 | 3.696831 | 3.899294 | 5.886914 | 3.221693 | 3.998282 | ⋯        | 2.322269 | 3.697725 | 2.680337 | 3.931184 | 4.004720 | 4.729225 | 8.494130 | 2.570683 | 2.368506 | 3.664268 | \n",
       "| 6        | 1951     | 8        | 1        | 2.329269 | 3.838159 | 4.045678 | 6.013686 | 3.346715 | 4.065710 | ⋯        | 2.427470 | 3.836150 | 2.780698 | 3.969950 | 4.142245 | 4.905914 | 8.606566 | 2.687016 | 2.487811 | 3.796609 | \n",
       "| 6        | 1952     | 8        | 1        | 2.472498 | 3.986922 | 4.199735 | 6.134196 | 3.484166 | 4.133698 | ⋯        | 2.537848 | 3.977886 | 2.888934 | 4.009498 | 4.284303 | 5.089704 | 8.709071 | 2.806243 | 2.615149 | 3.934128 | \n",
       "| 6        | 1953     | 8        | 1        | 2.623456 | 4.143215 | 4.361473 | 6.248749 | 3.634715 | 4.203069 | ⋯        | 2.653360 | 4.122637 | 3.005171 | 4.050488 | 4.431217 | 5.279684 | 8.801838 | 2.928341 | 2.751002 | 4.076550 | \n",
       "| 6        | 1954     | 8        | 1        | 2.781863 | 4.307003 | 4.530767 | 6.357675 | 3.798821 | 4.274492 | ⋯        | 2.773895 | 4.270091 | 3.129476 | 4.093673 | 4.583275 | 5.474768 | 8.885073 | 3.053305 | 2.895764 | 4.223558 | \n",
       "| 6        | 1955     | 8        | 1        | 2.947277 | 4.478090 | 4.707342 | 6.461299 | 3.976678 | 4.348449 | ⋯        | 2.899285 | 4.419948 | 3.261856 | 4.139855 | 4.740723 | 5.673722 | 8.958986 | 3.181143 | 3.049714 | 4.374800 | \n",
       "\n",
       "\n"
      ],
      "text/plain": [
       "  location_id year_id age_group_id sex_id draw0    draw1    draw2    draw3   \n",
       "1 6           1950    8            1      2.193899 3.696831 3.899294 5.886914\n",
       "2 6           1951    8            1      2.329269 3.838159 4.045678 6.013686\n",
       "3 6           1952    8            1      2.472498 3.986922 4.199735 6.134196\n",
       "4 6           1953    8            1      2.623456 4.143215 4.361473 6.248749\n",
       "5 6           1954    8            1      2.781863 4.307003 4.530767 6.357675\n",
       "6 6           1955    8            1      2.947277 4.478090 4.707342 6.461299\n",
       "  draw4    draw5    ⋯ draw990  draw991  draw992  draw993  draw994  draw995 \n",
       "1 3.221693 3.998282 ⋯ 2.322269 3.697725 2.680337 3.931184 4.004720 4.729225\n",
       "2 3.346715 4.065710 ⋯ 2.427470 3.836150 2.780698 3.969950 4.142245 4.905914\n",
       "3 3.484166 4.133698 ⋯ 2.537848 3.977886 2.888934 4.009498 4.284303 5.089704\n",
       "4 3.634715 4.203069 ⋯ 2.653360 4.122637 3.005171 4.050488 4.431217 5.279684\n",
       "5 3.798821 4.274492 ⋯ 2.773895 4.270091 3.129476 4.093673 4.583275 5.474768\n",
       "6 3.976678 4.348449 ⋯ 2.899285 4.419948 3.261856 4.139855 4.740723 5.673722\n",
       "  draw996  draw997  draw998  draw999 \n",
       "1 8.494130 2.570683 2.368506 3.664268\n",
       "2 8.606566 2.687016 2.487811 3.796609\n",
       "3 8.709071 2.806243 2.615149 3.934128\n",
       "4 8.801838 2.928341 2.751002 4.076550\n",
       "5 8.885073 3.053305 2.895764 4.223558\n",
       "6 8.958986 3.181143 3.049714 4.374800"
      ]
     },
     "metadata": {},
     "output_type": "display_data"
    }
   ],
   "source": [
    "## Education forecasts\n",
    "edu_orig<-data.table(fread(paste0(\"/home/j/WORK/01_covariates/02_inputs/education/update_2017/data/output_data/20161121_GBD2016prelim_95+_raked_2/gpr_draws.csv\"), header = T))\n",
    "edu_orig <- edu_orig[, V1:=NULL]\n",
    "head(edu_orig)\n",
    "# edu<-data.table(fread(paste0(\"/home/j/WORK/01_covariates/02_inputs/education/update_2017/data/output_data/20161121_GBD2016prelim_95+_raked_2/intermediate/gpr_draws_wide_by_years.csv\"), header = T))\n",
    "# edu <- data.table(edu)"
   ]
  },
  {
   "cell_type": "code",
   "execution_count": 13,
   "metadata": {
    "collapsed": false
   },
   "outputs": [
    {
     "data": {
      "text/html": [
       "<table>\n",
       "<thead><tr><th scope=col>location_id</th><th scope=col>year_id</th><th scope=col>age_group_id</th><th scope=col>sex_id</th><th scope=col>draw0</th><th scope=col>draw1</th><th scope=col>draw2</th><th scope=col>draw3</th><th scope=col>draw4</th><th scope=col>draw5</th><th scope=col>⋯</th><th scope=col>draw991</th><th scope=col>draw992</th><th scope=col>draw993</th><th scope=col>draw994</th><th scope=col>draw995</th><th scope=col>draw996</th><th scope=col>draw997</th><th scope=col>draw998</th><th scope=col>draw999</th><th scope=col>pop</th></tr></thead>\n",
       "<tbody>\n",
       "\t<tr><td>6        </td><td>1950     </td><td>15       </td><td>1        </td><td>2.193899 </td><td>3.696831 </td><td>3.899294 </td><td>5.886914 </td><td>3.221693 </td><td>3.9982819</td><td>⋯        </td><td>3.697725 </td><td>2.680337 </td><td>3.931184 </td><td>4.004720 </td><td>4.729225 </td><td>8.494130 </td><td>2.570683 </td><td>2.368506 </td><td>3.664268 </td><td>27530292 </td></tr>\n",
       "\t<tr><td>6        </td><td>1950     </td><td>15       </td><td>2        </td><td>1.448223 </td><td>1.717579 </td><td>1.264084 </td><td>2.688726 </td><td>1.105919 </td><td>2.9296499</td><td>⋯        </td><td>1.686870 </td><td>2.820281 </td><td>1.765360 </td><td>1.768387 </td><td>1.150810 </td><td>6.372643 </td><td>3.671428 </td><td>3.714362 </td><td>1.342723 </td><td>24197011 </td></tr>\n",
       "\t<tr><td>6        </td><td>1950     </td><td>20       </td><td>1        </td><td>3.659962 </td><td>6.524635 </td><td>5.061532 </td><td>4.889121 </td><td>3.392158 </td><td>4.9910636</td><td>⋯        </td><td>3.611764 </td><td>7.242992 </td><td>6.457297 </td><td>2.078608 </td><td>3.527786 </td><td>5.901678 </td><td>3.306459 </td><td>4.475085 </td><td>5.129506 </td><td>23969500 </td></tr>\n",
       "\t<tr><td>6        </td><td>1950     </td><td>20       </td><td>2        </td><td>2.369894 </td><td>3.444858 </td><td>2.579920 </td><td>1.316519 </td><td>1.937400 </td><td>0.6819823</td><td>⋯        </td><td>1.725552 </td><td>2.844054 </td><td>2.390240 </td><td>2.152858 </td><td>2.072482 </td><td>3.173004 </td><td>1.785650 </td><td>3.116931 </td><td>4.983018 </td><td>21357948 </td></tr>\n",
       "\t<tr><td>6        </td><td>1950     </td><td>25       </td><td>1        </td><td>3.671581 </td><td>3.666101 </td><td>4.578098 </td><td>4.200772 </td><td>5.551238 </td><td>3.9531776</td><td>⋯        </td><td>4.889428 </td><td>4.225506 </td><td>4.003180 </td><td>4.758941 </td><td>4.536601 </td><td>3.752857 </td><td>4.255601 </td><td>4.350941 </td><td>6.348433 </td><td>20697985 </td></tr>\n",
       "\t<tr><td>6        </td><td>1950     </td><td>25       </td><td>2        </td><td>2.310831 </td><td>1.251723 </td><td>1.244117 </td><td>2.343411 </td><td>1.729022 </td><td>2.8095801</td><td>⋯        </td><td>2.737274 </td><td>1.884835 </td><td>1.863390 </td><td>1.372926 </td><td>1.996004 </td><td>1.648636 </td><td>1.170188 </td><td>1.117986 </td><td>1.338400 </td><td>19208750 </td></tr>\n",
       "</tbody>\n",
       "</table>\n"
      ],
      "text/latex": [
       "\\begin{tabular}{r|lllllllllllllllllllllllllllllllllllllllllllllllllllllllllllllllllllllllllllllllllllllllllllllllllllllllllllllllllllllllllllllllllllllllllllllllllllllllllllllllllllllllllllllllllllllllllllllllllllllllllllllllllllllllllllllllllllllllllllllllllllllllllllllllllllllllllllllllllllllllllllllllllllllllllllllllllllllllllllllllllllllllllllllllllllllllllllllllllllllllllllllllllllllllllllllllllllllllllllllllllllllllllllllllllllllllllllllllllllllllllllllllllllllllllllllllllllllllllllllllllllllllllllllllllllllllllllllllllllllllllllllllllllllllllllllllllllllllllllllllllllllllllllllllllllllllllllllllllllllllllllllllllllllllllllllllllllllllllllllllllllllllllllllllllllllllllllllllllllllllllllllllllllllllllllllllllllllllllllllllllllllllllllllllllllllllllllllllllllllllllllllllllllllllllllllllllllllllllllllllllllllllllllllllllllllllllllllllllllllllllllllllllllllllllllllllllllllllllllllllllllllllllllllllllllllllllllllllllllllllllllllllllllllllllllllllllllllllllllllllllllllllllllllllllllllllllllllllllllllllllllll}\n",
       " location\\_id & year\\_id & age\\_group\\_id & sex\\_id & draw0 & draw1 & draw2 & draw3 & draw4 & draw5 & ⋯ & draw991 & draw992 & draw993 & draw994 & draw995 & draw996 & draw997 & draw998 & draw999 & pop\\\\\n",
       "\\hline\n",
       "\t 6         & 1950      & 15        & 1         & 2.193899  & 3.696831  & 3.899294  & 5.886914  & 3.221693  & 3.9982819 & ⋯         & 3.697725  & 2.680337  & 3.931184  & 4.004720  & 4.729225  & 8.494130  & 2.570683  & 2.368506  & 3.664268  & 27530292 \\\\\n",
       "\t 6         & 1950      & 15        & 2         & 1.448223  & 1.717579  & 1.264084  & 2.688726  & 1.105919  & 2.9296499 & ⋯         & 1.686870  & 2.820281  & 1.765360  & 1.768387  & 1.150810  & 6.372643  & 3.671428  & 3.714362  & 1.342723  & 24197011 \\\\\n",
       "\t 6         & 1950      & 20        & 1         & 3.659962  & 6.524635  & 5.061532  & 4.889121  & 3.392158  & 4.9910636 & ⋯         & 3.611764  & 7.242992  & 6.457297  & 2.078608  & 3.527786  & 5.901678  & 3.306459  & 4.475085  & 5.129506  & 23969500 \\\\\n",
       "\t 6         & 1950      & 20        & 2         & 2.369894  & 3.444858  & 2.579920  & 1.316519  & 1.937400  & 0.6819823 & ⋯         & 1.725552  & 2.844054  & 2.390240  & 2.152858  & 2.072482  & 3.173004  & 1.785650  & 3.116931  & 4.983018  & 21357948 \\\\\n",
       "\t 6         & 1950      & 25        & 1         & 3.671581  & 3.666101  & 4.578098  & 4.200772  & 5.551238  & 3.9531776 & ⋯         & 4.889428  & 4.225506  & 4.003180  & 4.758941  & 4.536601  & 3.752857  & 4.255601  & 4.350941  & 6.348433  & 20697985 \\\\\n",
       "\t 6         & 1950      & 25        & 2         & 2.310831  & 1.251723  & 1.244117  & 2.343411  & 1.729022  & 2.8095801 & ⋯         & 2.737274  & 1.884835  & 1.863390  & 1.372926  & 1.996004  & 1.648636  & 1.170188  & 1.117986  & 1.338400  & 19208750 \\\\\n",
       "\\end{tabular}\n"
      ],
      "text/markdown": [
       "\n",
       "location_id | year_id | age_group_id | sex_id | draw0 | draw1 | draw2 | draw3 | draw4 | draw5 | ⋯ | draw991 | draw992 | draw993 | draw994 | draw995 | draw996 | draw997 | draw998 | draw999 | pop | \n",
       "|---|---|---|---|---|---|\n",
       "| 6         | 1950      | 15        | 1         | 2.193899  | 3.696831  | 3.899294  | 5.886914  | 3.221693  | 3.9982819 | ⋯         | 3.697725  | 2.680337  | 3.931184  | 4.004720  | 4.729225  | 8.494130  | 2.570683  | 2.368506  | 3.664268  | 27530292  | \n",
       "| 6         | 1950      | 15        | 2         | 1.448223  | 1.717579  | 1.264084  | 2.688726  | 1.105919  | 2.9296499 | ⋯         | 1.686870  | 2.820281  | 1.765360  | 1.768387  | 1.150810  | 6.372643  | 3.671428  | 3.714362  | 1.342723  | 24197011  | \n",
       "| 6         | 1950      | 20        | 1         | 3.659962  | 6.524635  | 5.061532  | 4.889121  | 3.392158  | 4.9910636 | ⋯         | 3.611764  | 7.242992  | 6.457297  | 2.078608  | 3.527786  | 5.901678  | 3.306459  | 4.475085  | 5.129506  | 23969500  | \n",
       "| 6         | 1950      | 20        | 2         | 2.369894  | 3.444858  | 2.579920  | 1.316519  | 1.937400  | 0.6819823 | ⋯         | 1.725552  | 2.844054  | 2.390240  | 2.152858  | 2.072482  | 3.173004  | 1.785650  | 3.116931  | 4.983018  | 21357948  | \n",
       "| 6         | 1950      | 25        | 1         | 3.671581  | 3.666101  | 4.578098  | 4.200772  | 5.551238  | 3.9531776 | ⋯         | 4.889428  | 4.225506  | 4.003180  | 4.758941  | 4.536601  | 3.752857  | 4.255601  | 4.350941  | 6.348433  | 20697985  | \n",
       "| 6         | 1950      | 25        | 2         | 2.310831  | 1.251723  | 1.244117  | 2.343411  | 1.729022  | 2.8095801 | ⋯         | 2.737274  | 1.884835  | 1.863390  | 1.372926  | 1.996004  | 1.648636  | 1.170188  | 1.117986  | 1.338400  | 19208750  | \n",
       "\n",
       "\n"
      ],
      "text/plain": [
       "  location_id year_id age_group_id sex_id draw0    draw1    draw2    draw3   \n",
       "1 6           1950    15           1      2.193899 3.696831 3.899294 5.886914\n",
       "2 6           1950    15           2      1.448223 1.717579 1.264084 2.688726\n",
       "3 6           1950    20           1      3.659962 6.524635 5.061532 4.889121\n",
       "4 6           1950    20           2      2.369894 3.444858 2.579920 1.316519\n",
       "5 6           1950    25           1      3.671581 3.666101 4.578098 4.200772\n",
       "6 6           1950    25           2      2.310831 1.251723 1.244117 2.343411\n",
       "  draw4    draw5     ⋯ draw991  draw992  draw993  draw994  draw995  draw996 \n",
       "1 3.221693 3.9982819 ⋯ 3.697725 2.680337 3.931184 4.004720 4.729225 8.494130\n",
       "2 1.105919 2.9296499 ⋯ 1.686870 2.820281 1.765360 1.768387 1.150810 6.372643\n",
       "3 3.392158 4.9910636 ⋯ 3.611764 7.242992 6.457297 2.078608 3.527786 5.901678\n",
       "4 1.937400 0.6819823 ⋯ 1.725552 2.844054 2.390240 2.152858 2.072482 3.173004\n",
       "5 5.551238 3.9531776 ⋯ 4.889428 4.225506 4.003180 4.758941 4.536601 3.752857\n",
       "6 1.729022 2.8095801 ⋯ 2.737274 1.884835 1.863390 1.372926 1.996004 1.648636\n",
       "  draw997  draw998  draw999  pop     \n",
       "1 2.570683 2.368506 3.664268 27530292\n",
       "2 3.671428 3.714362 1.342723 24197011\n",
       "3 3.306459 4.475085 5.129506 23969500\n",
       "4 1.785650 3.116931 4.983018 21357948\n",
       "5 4.255601 4.350941 6.348433 20697985\n",
       "6 1.170188 1.117986 1.338400 19208750"
      ]
     },
     "metadata": {},
     "output_type": "display_data"
    }
   ],
   "source": [
    "## Convert age_group_id to age_start\n",
    "edu_orig <- edu_orig[, age_group_id:=15+5*(age_group_id -8)] \n",
    "# unique(edu_orig[,age_group_id])\n",
    "edu_orig_2 <- edu_orig\n",
    "\n",
    "## Merge pop for later stuff\n",
    "edu_orig_2 <- merge(edu_orig_2, pop, by = c(\"location_id\", \"year_id\", \"age_group_id\", \"sex_id\"))\n",
    "head(edu_orig_2)"
   ]
  },
  {
   "cell_type": "code",
   "execution_count": 17,
   "metadata": {
    "collapsed": false
   },
   "outputs": [
    {
     "data": {
      "text/plain": [
       "   user  system elapsed \n",
       "  0.790   0.000   0.789 "
      ]
     },
     "metadata": {},
     "output_type": "display_data"
    },
    {
     "data": {
      "text/html": [
       "<table>\n",
       "<thead><tr><th scope=col>location_id</th><th scope=col>year_id</th><th scope=col>age_sex</th><th scope=col>draw0</th><th scope=col>draw1</th><th scope=col>draw2</th><th scope=col>draw3</th><th scope=col>draw4</th><th scope=col>draw5</th><th scope=col>draw6</th><th scope=col>⋯</th><th scope=col>draw990</th><th scope=col>draw991</th><th scope=col>draw992</th><th scope=col>draw993</th><th scope=col>draw994</th><th scope=col>draw995</th><th scope=col>draw996</th><th scope=col>draw997</th><th scope=col>draw998</th><th scope=col>draw999</th></tr></thead>\n",
       "<tbody>\n",
       "\t<tr><td>6       </td><td>1950    </td><td>15_1    </td><td>2.193899</td><td>3.696831</td><td>3.899294</td><td>5.886914</td><td>3.221693</td><td>3.998282</td><td>3.933010</td><td>⋯       </td><td>2.322269</td><td>3.697725</td><td>2.680337</td><td>3.931184</td><td>4.004720</td><td>4.729225</td><td>8.494130</td><td>2.570683</td><td>2.368506</td><td>3.664268</td></tr>\n",
       "\t<tr><td>6       </td><td>1951    </td><td>15_1    </td><td>2.329269</td><td>3.838159</td><td>4.045678</td><td>6.013686</td><td>3.346715</td><td>4.065710</td><td>4.017445</td><td>⋯       </td><td>2.427470</td><td>3.836150</td><td>2.780698</td><td>3.969950</td><td>4.142245</td><td>4.905914</td><td>8.606566</td><td>2.687016</td><td>2.487811</td><td>3.796609</td></tr>\n",
       "\t<tr><td>6       </td><td>1952    </td><td>15_1    </td><td>2.472498</td><td>3.986922</td><td>4.199735</td><td>6.134196</td><td>3.484166</td><td>4.133698</td><td>4.106628</td><td>⋯       </td><td>2.537848</td><td>3.977886</td><td>2.888934</td><td>4.009498</td><td>4.284303</td><td>5.089704</td><td>8.709071</td><td>2.806243</td><td>2.615149</td><td>3.934128</td></tr>\n",
       "\t<tr><td>6       </td><td>1953    </td><td>15_1    </td><td>2.623456</td><td>4.143215</td><td>4.361473</td><td>6.248749</td><td>3.634715</td><td>4.203069</td><td>4.201276</td><td>⋯       </td><td>2.653360</td><td>4.122637</td><td>3.005171</td><td>4.050488</td><td>4.431217</td><td>5.279684</td><td>8.801838</td><td>2.928341</td><td>2.751002</td><td>4.076550</td></tr>\n",
       "\t<tr><td>6       </td><td>1954    </td><td>15_1    </td><td>2.781863</td><td>4.307003</td><td>4.530767</td><td>6.357675</td><td>3.798821</td><td>4.274492</td><td>4.302071</td><td>⋯       </td><td>2.773895</td><td>4.270091</td><td>3.129476</td><td>4.093673</td><td>4.583275</td><td>5.474768</td><td>8.885073</td><td>3.053305</td><td>2.895764</td><td>4.223558</td></tr>\n",
       "\t<tr><td>6       </td><td>1955    </td><td>15_1    </td><td>2.947277</td><td>4.478090</td><td>4.707342</td><td>6.461299</td><td>3.976678</td><td>4.348449</td><td>4.409642</td><td>⋯       </td><td>2.899285</td><td>4.419948</td><td>3.261856</td><td>4.139855</td><td>4.740723</td><td>5.673722</td><td>8.958986</td><td>3.181143</td><td>3.049714</td><td>4.374800</td></tr>\n",
       "</tbody>\n",
       "</table>\n"
      ],
      "text/latex": [
       "\\begin{tabular}{r|lllllllllllllllllllllllllllllllllllllllllllllllllllllllllllllllllllllllllllllllllllllllllllllllllllllllllllllllllllllllllllllllllllllllllllllllllllllllllllllllllllllllllllllllllllllllllllllllllllllllllllllllllllllllllllllllllllllllllllllllllllllllllllllllllllllllllllllllllllllllllllllllllllllllllllllllllllllllllllllllllllllllllllllllllllllllllllllllllllllllllllllllllllllllllllllllllllllllllllllllllllllllllllllllllllllllllllllllllllllllllllllllllllllllllllllllllllllllllllllllllllllllllllllllllllllllllllllllllllllllllllllllllllllllllllllllllllllllllllllllllllllllllllllllllllllllllllllllllllllllllllllllllllllllllllllllllllllllllllllllllllllllllllllllllllllllllllllllllllllllllllllllllllllllllllllllllllllllllllllllllllllllllllllllllllllllllllllllllllllllllllllllllllllllllllllllllllllllllllllllllllllllllllllllllllllllllllllllllllllllllllllllllllllllllllllllllllllllllllllllllllllllllllllllllllllllllllllllllllllllllllllllllllllllllllllllllllllllllllllllllllllllllllllllllllllllllllllllllllllllllll}\n",
       " location\\_id & year\\_id & age\\_sex & draw0 & draw1 & draw2 & draw3 & draw4 & draw5 & draw6 & ⋯ & draw990 & draw991 & draw992 & draw993 & draw994 & draw995 & draw996 & draw997 & draw998 & draw999\\\\\n",
       "\\hline\n",
       "\t 6        & 1950     & 15\\_1   & 2.193899 & 3.696831 & 3.899294 & 5.886914 & 3.221693 & 3.998282 & 3.933010 & ⋯        & 2.322269 & 3.697725 & 2.680337 & 3.931184 & 4.004720 & 4.729225 & 8.494130 & 2.570683 & 2.368506 & 3.664268\\\\\n",
       "\t 6        & 1951     & 15\\_1   & 2.329269 & 3.838159 & 4.045678 & 6.013686 & 3.346715 & 4.065710 & 4.017445 & ⋯        & 2.427470 & 3.836150 & 2.780698 & 3.969950 & 4.142245 & 4.905914 & 8.606566 & 2.687016 & 2.487811 & 3.796609\\\\\n",
       "\t 6        & 1952     & 15\\_1   & 2.472498 & 3.986922 & 4.199735 & 6.134196 & 3.484166 & 4.133698 & 4.106628 & ⋯        & 2.537848 & 3.977886 & 2.888934 & 4.009498 & 4.284303 & 5.089704 & 8.709071 & 2.806243 & 2.615149 & 3.934128\\\\\n",
       "\t 6        & 1953     & 15\\_1   & 2.623456 & 4.143215 & 4.361473 & 6.248749 & 3.634715 & 4.203069 & 4.201276 & ⋯        & 2.653360 & 4.122637 & 3.005171 & 4.050488 & 4.431217 & 5.279684 & 8.801838 & 2.928341 & 2.751002 & 4.076550\\\\\n",
       "\t 6        & 1954     & 15\\_1   & 2.781863 & 4.307003 & 4.530767 & 6.357675 & 3.798821 & 4.274492 & 4.302071 & ⋯        & 2.773895 & 4.270091 & 3.129476 & 4.093673 & 4.583275 & 5.474768 & 8.885073 & 3.053305 & 2.895764 & 4.223558\\\\\n",
       "\t 6        & 1955     & 15\\_1   & 2.947277 & 4.478090 & 4.707342 & 6.461299 & 3.976678 & 4.348449 & 4.409642 & ⋯        & 2.899285 & 4.419948 & 3.261856 & 4.139855 & 4.740723 & 5.673722 & 8.958986 & 3.181143 & 3.049714 & 4.374800\\\\\n",
       "\\end{tabular}\n"
      ],
      "text/markdown": [
       "\n",
       "location_id | year_id | age_sex | draw0 | draw1 | draw2 | draw3 | draw4 | draw5 | draw6 | ⋯ | draw990 | draw991 | draw992 | draw993 | draw994 | draw995 | draw996 | draw997 | draw998 | draw999 | \n",
       "|---|---|---|---|---|---|\n",
       "| 6        | 1950     | 15_1     | 2.193899 | 3.696831 | 3.899294 | 5.886914 | 3.221693 | 3.998282 | 3.933010 | ⋯        | 2.322269 | 3.697725 | 2.680337 | 3.931184 | 4.004720 | 4.729225 | 8.494130 | 2.570683 | 2.368506 | 3.664268 | \n",
       "| 6        | 1951     | 15_1     | 2.329269 | 3.838159 | 4.045678 | 6.013686 | 3.346715 | 4.065710 | 4.017445 | ⋯        | 2.427470 | 3.836150 | 2.780698 | 3.969950 | 4.142245 | 4.905914 | 8.606566 | 2.687016 | 2.487811 | 3.796609 | \n",
       "| 6        | 1952     | 15_1     | 2.472498 | 3.986922 | 4.199735 | 6.134196 | 3.484166 | 4.133698 | 4.106628 | ⋯        | 2.537848 | 3.977886 | 2.888934 | 4.009498 | 4.284303 | 5.089704 | 8.709071 | 2.806243 | 2.615149 | 3.934128 | \n",
       "| 6        | 1953     | 15_1     | 2.623456 | 4.143215 | 4.361473 | 6.248749 | 3.634715 | 4.203069 | 4.201276 | ⋯        | 2.653360 | 4.122637 | 3.005171 | 4.050488 | 4.431217 | 5.279684 | 8.801838 | 2.928341 | 2.751002 | 4.076550 | \n",
       "| 6        | 1954     | 15_1     | 2.781863 | 4.307003 | 4.530767 | 6.357675 | 3.798821 | 4.274492 | 4.302071 | ⋯        | 2.773895 | 4.270091 | 3.129476 | 4.093673 | 4.583275 | 5.474768 | 8.885073 | 3.053305 | 2.895764 | 4.223558 | \n",
       "| 6        | 1955     | 15_1     | 2.947277 | 4.478090 | 4.707342 | 6.461299 | 3.976678 | 4.348449 | 4.409642 | ⋯        | 2.899285 | 4.419948 | 3.261856 | 4.139855 | 4.740723 | 5.673722 | 8.958986 | 3.181143 | 3.049714 | 4.374800 | \n",
       "\n",
       "\n"
      ],
      "text/plain": [
       "  location_id year_id age_sex draw0    draw1    draw2    draw3    draw4   \n",
       "1 6           1950    15_1    2.193899 3.696831 3.899294 5.886914 3.221693\n",
       "2 6           1951    15_1    2.329269 3.838159 4.045678 6.013686 3.346715\n",
       "3 6           1952    15_1    2.472498 3.986922 4.199735 6.134196 3.484166\n",
       "4 6           1953    15_1    2.623456 4.143215 4.361473 6.248749 3.634715\n",
       "5 6           1954    15_1    2.781863 4.307003 4.530767 6.357675 3.798821\n",
       "6 6           1955    15_1    2.947277 4.478090 4.707342 6.461299 3.976678\n",
       "  draw5    draw6    ⋯ draw990  draw991  draw992  draw993  draw994  draw995 \n",
       "1 3.998282 3.933010 ⋯ 2.322269 3.697725 2.680337 3.931184 4.004720 4.729225\n",
       "2 4.065710 4.017445 ⋯ 2.427470 3.836150 2.780698 3.969950 4.142245 4.905914\n",
       "3 4.133698 4.106628 ⋯ 2.537848 3.977886 2.888934 4.009498 4.284303 5.089704\n",
       "4 4.203069 4.201276 ⋯ 2.653360 4.122637 3.005171 4.050488 4.431217 5.279684\n",
       "5 4.274492 4.302071 ⋯ 2.773895 4.270091 3.129476 4.093673 4.583275 5.474768\n",
       "6 4.348449 4.409642 ⋯ 2.899285 4.419948 3.261856 4.139855 4.740723 5.673722\n",
       "  draw996  draw997  draw998  draw999 \n",
       "1 8.494130 2.570683 2.368506 3.664268\n",
       "2 8.606566 2.687016 2.487811 3.796609\n",
       "3 8.709071 2.806243 2.615149 3.934128\n",
       "4 8.801838 2.928341 2.751002 4.076550\n",
       "5 8.885073 3.053305 2.895764 4.223558\n",
       "6 8.958986 3.181143 3.049714 4.374800"
      ]
     },
     "metadata": {},
     "output_type": "display_data"
    }
   ],
   "source": [
    "### For now, let's concatenatate the age and sex columns to be one identifier:\n",
    "system.time(edu_orig <- edu_orig[, age_sex := paste0(age_group_id, \"_\", sex_id)])\n",
    "edu_orig <- edu_orig[, age_group_id:= NULL]\n",
    "edu_orig <- edu_orig[, sex_id:= NULL]\n",
    "edu_orig <- setcolorder(edu_orig, c(\"location_id\", \"year_id\", \"age_sex\", paste0(\"draw\",c(0:999)) ))\n",
    "head(edu_orig)"
   ]
  },
  {
   "cell_type": "markdown",
   "metadata": {},
   "source": [
    "### Reshape long by draws, wide by year, use copula with spearman = 1, and reshape back AND collapse by country-year"
   ]
  },
  {
   "cell_type": "code",
   "execution_count": 18,
   "metadata": {
    "collapsed": false,
    "scrolled": true
   },
   "outputs": [
    {
     "data": {
      "text/plain": [
       "   user  system elapsed \n",
       "  9.929   3.527  13.448 "
      ]
     },
     "metadata": {},
     "output_type": "display_data"
    },
    {
     "data": {
      "text/html": [
       "<table>\n",
       "<thead><tr><th scope=col>location_id</th><th scope=col>age_sex</th><th scope=col>year_id</th><th scope=col>variable</th><th scope=col>edu</th></tr></thead>\n",
       "<tbody>\n",
       "\t<tr><td>6       </td><td>15_1    </td><td>1950    </td><td>draw0   </td><td>2.193899</td></tr>\n",
       "\t<tr><td>6       </td><td>15_1    </td><td>1951    </td><td>draw0   </td><td>2.329269</td></tr>\n",
       "\t<tr><td>6       </td><td>15_1    </td><td>1952    </td><td>draw0   </td><td>2.472498</td></tr>\n",
       "\t<tr><td>6       </td><td>15_1    </td><td>1953    </td><td>draw0   </td><td>2.623456</td></tr>\n",
       "\t<tr><td>6       </td><td>15_1    </td><td>1954    </td><td>draw0   </td><td>2.781863</td></tr>\n",
       "\t<tr><td>6       </td><td>15_1    </td><td>1955    </td><td>draw0   </td><td>2.947277</td></tr>\n",
       "</tbody>\n",
       "</table>\n"
      ],
      "text/latex": [
       "\\begin{tabular}{r|lllll}\n",
       " location\\_id & age\\_sex & year\\_id & variable & edu\\\\\n",
       "\\hline\n",
       "\t 6        & 15\\_1   & 1950     & draw0    & 2.193899\\\\\n",
       "\t 6        & 15\\_1   & 1951     & draw0    & 2.329269\\\\\n",
       "\t 6        & 15\\_1   & 1952     & draw0    & 2.472498\\\\\n",
       "\t 6        & 15\\_1   & 1953     & draw0    & 2.623456\\\\\n",
       "\t 6        & 15\\_1   & 1954     & draw0    & 2.781863\\\\\n",
       "\t 6        & 15\\_1   & 1955     & draw0    & 2.947277\\\\\n",
       "\\end{tabular}\n"
      ],
      "text/markdown": [
       "\n",
       "location_id | age_sex | year_id | variable | edu | \n",
       "|---|---|---|---|---|---|\n",
       "| 6        | 15_1     | 1950     | draw0    | 2.193899 | \n",
       "| 6        | 15_1     | 1951     | draw0    | 2.329269 | \n",
       "| 6        | 15_1     | 1952     | draw0    | 2.472498 | \n",
       "| 6        | 15_1     | 1953     | draw0    | 2.623456 | \n",
       "| 6        | 15_1     | 1954     | draw0    | 2.781863 | \n",
       "| 6        | 15_1     | 1955     | draw0    | 2.947277 | \n",
       "\n",
       "\n"
      ],
      "text/plain": [
       "  location_id age_sex year_id variable edu     \n",
       "1 6           15_1    1950    draw0    2.193899\n",
       "2 6           15_1    1951    draw0    2.329269\n",
       "3 6           15_1    1952    draw0    2.472498\n",
       "4 6           15_1    1953    draw0    2.623456\n",
       "5 6           15_1    1954    draw0    2.781863\n",
       "6 6           15_1    1955    draw0    2.947277"
      ]
     },
     "metadata": {},
     "output_type": "display_data"
    }
   ],
   "source": [
    "# Make draws long first\n",
    "system.time(edu_temp <- melt(data.table(edu_orig), id.vars = c(\"location_id\", \"age_sex\", \"year_id\"), value.name = \"edu\", varnames = \"draw\"))\n",
    "head(edu_temp)"
   ]
  },
  {
   "cell_type": "code",
   "execution_count": 21,
   "metadata": {
    "collapsed": false
   },
   "outputs": [],
   "source": [
    "## Get our baseline correlation matrix\n",
    "load(\"/home/j/WORK/01_covariates/02_inputs/education/update_2017/data/tabulated_data/archive_nafis/insample_corr_mat.Rdata\")\n",
    "\n",
    "## For now, trim the corr matrix to have 14 age groups\n",
    "corr_mat <- corr_mat[1:28,1:28]"
   ]
  },
  {
   "cell_type": "code",
   "execution_count": 22,
   "metadata": {
    "collapsed": false
   },
   "outputs": [
    {
     "data": {
      "text/html": [
       "<table>\n",
       "<thead><tr><th></th><th scope=col>X15_1</th><th scope=col>X15_2</th><th scope=col>X20_1</th><th scope=col>X20_2</th><th scope=col>X25_1</th><th scope=col>X25_2</th><th scope=col>X30_1</th><th scope=col>X30_2</th><th scope=col>X35_1</th><th scope=col>X35_2</th><th scope=col>⋯</th><th scope=col>X60_1</th><th scope=col>X60_2</th><th scope=col>X65_1</th><th scope=col>X65_2</th><th scope=col>X70_1</th><th scope=col>X70_2</th><th scope=col>X75_1</th><th scope=col>X75_2</th><th scope=col>X80_1</th><th scope=col>X80_2</th></tr></thead>\n",
       "<tbody>\n",
       "\t<tr><th scope=row>X15_1</th><td>1.0000000</td><td>0.9732170</td><td>0.9104992</td><td>0.9046017</td><td>0.8413393</td><td>0.8303616</td><td>0.7998517</td><td>0.7995524</td><td>0.7917872</td><td>0.7917473</td><td>⋯        </td><td>0.7482268</td><td>0.7331851</td><td>0.7262849</td><td>0.7069870</td><td>0.7197770</td><td>0.6952294</td><td>0.7139103</td><td>0.6857951</td><td>0.6995786</td><td>0.6713990</td></tr>\n",
       "\t<tr><th scope=row>X15_2</th><td>0.9732170</td><td>1.0000000</td><td>0.9066666</td><td>0.9301547</td><td>0.8443134</td><td>0.8647346</td><td>0.8062725</td><td>0.8361994</td><td>0.7982391</td><td>0.8278405</td><td>⋯        </td><td>0.7559799</td><td>0.7423640</td><td>0.7337840</td><td>0.7164053</td><td>0.7264590</td><td>0.7008226</td><td>0.7176584</td><td>0.6920926</td><td>0.7039369</td><td>0.6792888</td></tr>\n",
       "\t<tr><th scope=row>X20_1</th><td>0.9104992</td><td>0.9066666</td><td>1.0000000</td><td>0.9738001</td><td>0.9625117</td><td>0.9411055</td><td>0.9339038</td><td>0.9170183</td><td>0.9223430</td><td>0.9068547</td><td>⋯        </td><td>0.8732217</td><td>0.8485870</td><td>0.8570412</td><td>0.8306959</td><td>0.8484752</td><td>0.8166672</td><td>0.8310918</td><td>0.8066116</td><td>0.8159975</td><td>0.7936400</td></tr>\n",
       "\t<tr><th scope=row>X20_2</th><td>0.9046017</td><td>0.9301547</td><td>0.9738001</td><td>1.0000000</td><td>0.9550482</td><td>0.9694022</td><td>0.9316304</td><td>0.9477552</td><td>0.9223331</td><td>0.9361865</td><td>⋯        </td><td>0.8767044</td><td>0.8594654</td><td>0.8589430</td><td>0.8393110</td><td>0.8477186</td><td>0.8213519</td><td>0.8304820</td><td>0.8082242</td><td>0.8141875</td><td>0.7969626</td></tr>\n",
       "\t<tr><th scope=row>X25_1</th><td>0.8413393</td><td>0.8443134</td><td>0.9625117</td><td>0.9550482</td><td>1.0000000</td><td>0.9732973</td><td>0.9818283</td><td>0.9629529</td><td>0.9720973</td><td>0.9537425</td><td>⋯        </td><td>0.9207465</td><td>0.8960389</td><td>0.9079004</td><td>0.8839700</td><td>0.8977128</td><td>0.8678577</td><td>0.8784131</td><td>0.8550561</td><td>0.8601061</td><td>0.8454362</td></tr>\n",
       "\t<tr><th scope=row>X25_2</th><td>0.8303616</td><td>0.8647346</td><td>0.9411055</td><td>0.9694022</td><td>0.9732973</td><td>1.0000000</td><td>0.9701192</td><td>0.9871900</td><td>0.9639241</td><td>0.9783820</td><td>⋯        </td><td>0.9227883</td><td>0.9094065</td><td>0.9054487</td><td>0.8928053</td><td>0.8949982</td><td>0.8742269</td><td>0.8759034</td><td>0.8592598</td><td>0.8579544</td><td>0.8479529</td></tr>\n",
       "\t<tr><th scope=row>X30_1</th><td>0.7998517</td><td>0.8062725</td><td>0.9339038</td><td>0.9316304</td><td>0.9818283</td><td>0.9701192</td><td>1.0000000</td><td>0.9727286</td><td>0.9855729</td><td>0.9648310</td><td>⋯        </td><td>0.9353576</td><td>0.9093810</td><td>0.9223108</td><td>0.8982082</td><td>0.9103158</td><td>0.8818344</td><td>0.8913038</td><td>0.8680249</td><td>0.8703433</td><td>0.8581746</td></tr>\n",
       "\t<tr><th scope=row>X30_2</th><td>0.7995524</td><td>0.8361994</td><td>0.9170183</td><td>0.9477552</td><td>0.9629529</td><td>0.9871900</td><td>0.9727286</td><td>1.0000000</td><td>0.9742012</td><td>0.9914609</td><td>⋯        </td><td>0.9393929</td><td>0.9291963</td><td>0.9230729</td><td>0.9144482</td><td>0.9123802</td><td>0.8968873</td><td>0.8934111</td><td>0.8811522</td><td>0.8735186</td><td>0.8694395</td></tr>\n",
       "\t<tr><th scope=row>X35_1</th><td>0.7917872</td><td>0.7982391</td><td>0.9223430</td><td>0.9223331</td><td>0.9720973</td><td>0.9639241</td><td>0.9855729</td><td>0.9742012</td><td>1.0000000</td><td>0.9728535</td><td>⋯        </td><td>0.9460091</td><td>0.9158019</td><td>0.9287850</td><td>0.9038734</td><td>0.9182596</td><td>0.8881971</td><td>0.8977425</td><td>0.8729893</td><td>0.8782630</td><td>0.8604146</td></tr>\n",
       "\t<tr><th scope=row>X35_2</th><td>0.7917473</td><td>0.8278405</td><td>0.9068547</td><td>0.9361865</td><td>0.9537425</td><td>0.9783820</td><td>0.9648310</td><td>0.9914609</td><td>0.9728535</td><td>1.0000000</td><td>⋯        </td><td>0.9489714</td><td>0.9415432</td><td>0.9338957</td><td>0.9261148</td><td>0.9226281</td><td>0.9075578</td><td>0.9039858</td><td>0.8933919</td><td>0.8828959</td><td>0.8799922</td></tr>\n",
       "\t<tr><th scope=row>X40_1</th><td>0.7823045</td><td>0.7902559</td><td>0.9129729</td><td>0.9130059</td><td>0.9623400</td><td>0.9578952</td><td>0.9782753</td><td>0.9664081</td><td>0.9842757</td><td>0.9699026</td><td>⋯        </td><td>0.9584682</td><td>0.9277091</td><td>0.9442919</td><td>0.9146103</td><td>0.9321850</td><td>0.8981939</td><td>0.9108797</td><td>0.8855113</td><td>0.8896400</td><td>0.8714397</td></tr>\n",
       "\t<tr><th scope=row>X40_2</th><td>0.7839885</td><td>0.8174564</td><td>0.8987753</td><td>0.9262099</td><td>0.9451906</td><td>0.9690326</td><td>0.9568560</td><td>0.9828915</td><td>0.9644335</td><td>0.9896377</td><td>⋯        </td><td>0.9621156</td><td>0.9586125</td><td>0.9491411</td><td>0.9438399</td><td>0.9383063</td><td>0.9238495</td><td>0.9195966</td><td>0.9103324</td><td>0.8985445</td><td>0.8954707</td></tr>\n",
       "\t<tr><th scope=row>X45_1</th><td>0.7776164</td><td>0.7848470</td><td>0.9047475</td><td>0.9065371</td><td>0.9538951</td><td>0.9503521</td><td>0.9688385</td><td>0.9606392</td><td>0.9773144</td><td>0.9664845</td><td>⋯        </td><td>0.9684897</td><td>0.9347132</td><td>0.9537828</td><td>0.9233465</td><td>0.9405117</td><td>0.9059888</td><td>0.9217199</td><td>0.8926509</td><td>0.8989328</td><td>0.8771628</td></tr>\n",
       "\t<tr><th scope=row>X45_2</th><td>0.7710050</td><td>0.8005395</td><td>0.8855329</td><td>0.9098966</td><td>0.9330341</td><td>0.9565441</td><td>0.9459088</td><td>0.9718932</td><td>0.9557398</td><td>0.9825424</td><td>⋯        </td><td>0.9683962</td><td>0.9684193</td><td>0.9554607</td><td>0.9541549</td><td>0.9477084</td><td>0.9365855</td><td>0.9281417</td><td>0.9228764</td><td>0.9070864</td><td>0.9060698</td></tr>\n",
       "\t<tr><th scope=row>X50_1</th><td>0.7681110</td><td>0.7757876</td><td>0.8935658</td><td>0.8966744</td><td>0.9422351</td><td>0.9406333</td><td>0.9579328</td><td>0.9540331</td><td>0.9662439</td><td>0.9609911</td><td>⋯        </td><td>0.9772945</td><td>0.9446638</td><td>0.9650294</td><td>0.9334348</td><td>0.9503620</td><td>0.9168552</td><td>0.9288377</td><td>0.9038570</td><td>0.9087165</td><td>0.8844122</td></tr>\n",
       "\t<tr><th scope=row>X50_2</th><td>0.7585391</td><td>0.7792797</td><td>0.8732258</td><td>0.8940036</td><td>0.9214687</td><td>0.9416612</td><td>0.9337220</td><td>0.9606607</td><td>0.9431647</td><td>0.9717198</td><td>⋯        </td><td>0.9727664</td><td>0.9795185</td><td>0.9641065</td><td>0.9683683</td><td>0.9568689</td><td>0.9522575</td><td>0.9381955</td><td>0.9372100</td><td>0.9170448</td><td>0.9185111</td></tr>\n",
       "\t<tr><th scope=row>X55_1</th><td>0.7618830</td><td>0.7669232</td><td>0.8827075</td><td>0.8857061</td><td>0.9289910</td><td>0.9301191</td><td>0.9442330</td><td>0.9447311</td><td>0.9528518</td><td>0.9542717</td><td>⋯        </td><td>0.9826281</td><td>0.9568012</td><td>0.9731798</td><td>0.9448012</td><td>0.9597575</td><td>0.9265821</td><td>0.9401255</td><td>0.9125476</td><td>0.9182360</td><td>0.8929891</td></tr>\n",
       "\t<tr><th scope=row>X55_2</th><td>0.7510217</td><td>0.7628309</td><td>0.8640793</td><td>0.8772571</td><td>0.9103330</td><td>0.9271694</td><td>0.9220597</td><td>0.9450244</td><td>0.9299471</td><td>0.9575092</td><td>⋯        </td><td>0.9728571</td><td>0.9877973</td><td>0.9687213</td><td>0.9803701</td><td>0.9637458</td><td>0.9641988</td><td>0.9448014</td><td>0.9507282</td><td>0.9281878</td><td>0.9331012</td></tr>\n",
       "\t<tr><th scope=row>X60_1</th><td>0.7482268</td><td>0.7559799</td><td>0.8732217</td><td>0.8767044</td><td>0.9207465</td><td>0.9227883</td><td>0.9353576</td><td>0.9393929</td><td>0.9460091</td><td>0.9489714</td><td>⋯        </td><td>1.0000000</td><td>0.9685077</td><td>0.9829148</td><td>0.9593917</td><td>0.9739857</td><td>0.9448166</td><td>0.9542574</td><td>0.9322492</td><td>0.9342391</td><td>0.9114293</td></tr>\n",
       "\t<tr><th scope=row>X60_2</th><td>0.7331851</td><td>0.7423640</td><td>0.8485870</td><td>0.8594654</td><td>0.8960389</td><td>0.9094065</td><td>0.9093810</td><td>0.9291963</td><td>0.9158019</td><td>0.9415432</td><td>⋯        </td><td>0.9685077</td><td>1.0000000</td><td>0.9694623</td><td>0.9874311</td><td>0.9669618</td><td>0.9738086</td><td>0.9522185</td><td>0.9614503</td><td>0.9353636</td><td>0.9429791</td></tr>\n",
       "\t<tr><th scope=row>X65_1</th><td>0.7262849</td><td>0.7337840</td><td>0.8570412</td><td>0.8589430</td><td>0.9079004</td><td>0.9054487</td><td>0.9223108</td><td>0.9230729</td><td>0.9287850</td><td>0.9338957</td><td>⋯        </td><td>0.9829148</td><td>0.9694623</td><td>1.0000000</td><td>0.9672667</td><td>0.9784168</td><td>0.9546440</td><td>0.9621649</td><td>0.9430434</td><td>0.9434983</td><td>0.9241348</td></tr>\n",
       "\t<tr><th scope=row>X65_2</th><td>0.7069870</td><td>0.7164053</td><td>0.8306959</td><td>0.8393110</td><td>0.8839700</td><td>0.8928053</td><td>0.8982082</td><td>0.9144482</td><td>0.9038734</td><td>0.9261148</td><td>⋯        </td><td>0.9593917</td><td>0.9874311</td><td>0.9672667</td><td>1.0000000</td><td>0.9673734</td><td>0.9827463</td><td>0.9514726</td><td>0.9718956</td><td>0.9392156</td><td>0.9557508</td></tr>\n",
       "\t<tr><th scope=row>X70_1</th><td>0.7197770</td><td>0.7264590</td><td>0.8484752</td><td>0.8477186</td><td>0.8977128</td><td>0.8949982</td><td>0.9103158</td><td>0.9123802</td><td>0.9182596</td><td>0.9226281</td><td>⋯        </td><td>0.9739857</td><td>0.9669618</td><td>0.9784168</td><td>0.9673734</td><td>1.0000000</td><td>0.9624594</td><td>0.9655473</td><td>0.9491459</td><td>0.9501650</td><td>0.9376479</td></tr>\n",
       "\t<tr><th scope=row>X70_2</th><td>0.6952294</td><td>0.7008226</td><td>0.8166672</td><td>0.8213519</td><td>0.8678577</td><td>0.8742269</td><td>0.8818344</td><td>0.8968873</td><td>0.8881971</td><td>0.9075578</td><td>⋯        </td><td>0.9448166</td><td>0.9738086</td><td>0.9546440</td><td>0.9827463</td><td>0.9624594</td><td>1.0000000</td><td>0.9494448</td><td>0.9764494</td><td>0.9392495</td><td>0.9617758</td></tr>\n",
       "\t<tr><th scope=row>X75_1</th><td>0.7139103</td><td>0.7176584</td><td>0.8310918</td><td>0.8304820</td><td>0.8784131</td><td>0.8759034</td><td>0.8913038</td><td>0.8934111</td><td>0.8977425</td><td>0.9039858</td><td>⋯        </td><td>0.9542574</td><td>0.9522185</td><td>0.9621649</td><td>0.9514726</td><td>0.9655473</td><td>0.9494448</td><td>1.0000000</td><td>0.9491962</td><td>0.9505775</td><td>0.9352910</td></tr>\n",
       "\t<tr><th scope=row>X75_2</th><td>0.6857951</td><td>0.6920926</td><td>0.8066116</td><td>0.8082242</td><td>0.8550561</td><td>0.8592598</td><td>0.8680249</td><td>0.8811522</td><td>0.8729893</td><td>0.8933919</td><td>⋯        </td><td>0.9322492</td><td>0.9614503</td><td>0.9430434</td><td>0.9718956</td><td>0.9491459</td><td>0.9764494</td><td>0.9491962</td><td>1.0000000</td><td>0.9389753</td><td>0.9644808</td></tr>\n",
       "\t<tr><th scope=row>X80_1</th><td>0.6995786</td><td>0.7039369</td><td>0.8159975</td><td>0.8141875</td><td>0.8601061</td><td>0.8579544</td><td>0.8703433</td><td>0.8735186</td><td>0.8782630</td><td>0.8828959</td><td>⋯        </td><td>0.9342391</td><td>0.9353636</td><td>0.9434983</td><td>0.9392156</td><td>0.9501650</td><td>0.9392495</td><td>0.9505775</td><td>0.9389753</td><td>1.0000000</td><td>0.9311666</td></tr>\n",
       "\t<tr><th scope=row>X80_2</th><td>0.6713990</td><td>0.6792888</td><td>0.7936400</td><td>0.7969626</td><td>0.8454362</td><td>0.8479529</td><td>0.8581746</td><td>0.8694395</td><td>0.8604146</td><td>0.8799922</td><td>⋯        </td><td>0.9114293</td><td>0.9429791</td><td>0.9241348</td><td>0.9557508</td><td>0.9376479</td><td>0.9617758</td><td>0.9352910</td><td>0.9644808</td><td>0.9311666</td><td>1.0000000</td></tr>\n",
       "</tbody>\n",
       "</table>\n"
      ],
      "text/latex": [
       "\\begin{tabular}{r|llllllllllllllllllllllllllll}\n",
       "  & X15\\_1 & X15\\_2 & X20\\_1 & X20\\_2 & X25\\_1 & X25\\_2 & X30\\_1 & X30\\_2 & X35\\_1 & X35\\_2 & ⋯ & X60\\_1 & X60\\_2 & X65\\_1 & X65\\_2 & X70\\_1 & X70\\_2 & X75\\_1 & X75\\_2 & X80\\_1 & X80\\_2\\\\\n",
       "\\hline\n",
       "\tX15\\_1 & 1.0000000 & 0.9732170 & 0.9104992 & 0.9046017 & 0.8413393 & 0.8303616 & 0.7998517 & 0.7995524 & 0.7917872 & 0.7917473 & ⋯         & 0.7482268 & 0.7331851 & 0.7262849 & 0.7069870 & 0.7197770 & 0.6952294 & 0.7139103 & 0.6857951 & 0.6995786 & 0.6713990\\\\\n",
       "\tX15\\_2 & 0.9732170 & 1.0000000 & 0.9066666 & 0.9301547 & 0.8443134 & 0.8647346 & 0.8062725 & 0.8361994 & 0.7982391 & 0.8278405 & ⋯         & 0.7559799 & 0.7423640 & 0.7337840 & 0.7164053 & 0.7264590 & 0.7008226 & 0.7176584 & 0.6920926 & 0.7039369 & 0.6792888\\\\\n",
       "\tX20\\_1 & 0.9104992 & 0.9066666 & 1.0000000 & 0.9738001 & 0.9625117 & 0.9411055 & 0.9339038 & 0.9170183 & 0.9223430 & 0.9068547 & ⋯         & 0.8732217 & 0.8485870 & 0.8570412 & 0.8306959 & 0.8484752 & 0.8166672 & 0.8310918 & 0.8066116 & 0.8159975 & 0.7936400\\\\\n",
       "\tX20\\_2 & 0.9046017 & 0.9301547 & 0.9738001 & 1.0000000 & 0.9550482 & 0.9694022 & 0.9316304 & 0.9477552 & 0.9223331 & 0.9361865 & ⋯         & 0.8767044 & 0.8594654 & 0.8589430 & 0.8393110 & 0.8477186 & 0.8213519 & 0.8304820 & 0.8082242 & 0.8141875 & 0.7969626\\\\\n",
       "\tX25\\_1 & 0.8413393 & 0.8443134 & 0.9625117 & 0.9550482 & 1.0000000 & 0.9732973 & 0.9818283 & 0.9629529 & 0.9720973 & 0.9537425 & ⋯         & 0.9207465 & 0.8960389 & 0.9079004 & 0.8839700 & 0.8977128 & 0.8678577 & 0.8784131 & 0.8550561 & 0.8601061 & 0.8454362\\\\\n",
       "\tX25\\_2 & 0.8303616 & 0.8647346 & 0.9411055 & 0.9694022 & 0.9732973 & 1.0000000 & 0.9701192 & 0.9871900 & 0.9639241 & 0.9783820 & ⋯         & 0.9227883 & 0.9094065 & 0.9054487 & 0.8928053 & 0.8949982 & 0.8742269 & 0.8759034 & 0.8592598 & 0.8579544 & 0.8479529\\\\\n",
       "\tX30\\_1 & 0.7998517 & 0.8062725 & 0.9339038 & 0.9316304 & 0.9818283 & 0.9701192 & 1.0000000 & 0.9727286 & 0.9855729 & 0.9648310 & ⋯         & 0.9353576 & 0.9093810 & 0.9223108 & 0.8982082 & 0.9103158 & 0.8818344 & 0.8913038 & 0.8680249 & 0.8703433 & 0.8581746\\\\\n",
       "\tX30\\_2 & 0.7995524 & 0.8361994 & 0.9170183 & 0.9477552 & 0.9629529 & 0.9871900 & 0.9727286 & 1.0000000 & 0.9742012 & 0.9914609 & ⋯         & 0.9393929 & 0.9291963 & 0.9230729 & 0.9144482 & 0.9123802 & 0.8968873 & 0.8934111 & 0.8811522 & 0.8735186 & 0.8694395\\\\\n",
       "\tX35\\_1 & 0.7917872 & 0.7982391 & 0.9223430 & 0.9223331 & 0.9720973 & 0.9639241 & 0.9855729 & 0.9742012 & 1.0000000 & 0.9728535 & ⋯         & 0.9460091 & 0.9158019 & 0.9287850 & 0.9038734 & 0.9182596 & 0.8881971 & 0.8977425 & 0.8729893 & 0.8782630 & 0.8604146\\\\\n",
       "\tX35\\_2 & 0.7917473 & 0.8278405 & 0.9068547 & 0.9361865 & 0.9537425 & 0.9783820 & 0.9648310 & 0.9914609 & 0.9728535 & 1.0000000 & ⋯         & 0.9489714 & 0.9415432 & 0.9338957 & 0.9261148 & 0.9226281 & 0.9075578 & 0.9039858 & 0.8933919 & 0.8828959 & 0.8799922\\\\\n",
       "\tX40\\_1 & 0.7823045 & 0.7902559 & 0.9129729 & 0.9130059 & 0.9623400 & 0.9578952 & 0.9782753 & 0.9664081 & 0.9842757 & 0.9699026 & ⋯         & 0.9584682 & 0.9277091 & 0.9442919 & 0.9146103 & 0.9321850 & 0.8981939 & 0.9108797 & 0.8855113 & 0.8896400 & 0.8714397\\\\\n",
       "\tX40\\_2 & 0.7839885 & 0.8174564 & 0.8987753 & 0.9262099 & 0.9451906 & 0.9690326 & 0.9568560 & 0.9828915 & 0.9644335 & 0.9896377 & ⋯         & 0.9621156 & 0.9586125 & 0.9491411 & 0.9438399 & 0.9383063 & 0.9238495 & 0.9195966 & 0.9103324 & 0.8985445 & 0.8954707\\\\\n",
       "\tX45\\_1 & 0.7776164 & 0.7848470 & 0.9047475 & 0.9065371 & 0.9538951 & 0.9503521 & 0.9688385 & 0.9606392 & 0.9773144 & 0.9664845 & ⋯         & 0.9684897 & 0.9347132 & 0.9537828 & 0.9233465 & 0.9405117 & 0.9059888 & 0.9217199 & 0.8926509 & 0.8989328 & 0.8771628\\\\\n",
       "\tX45\\_2 & 0.7710050 & 0.8005395 & 0.8855329 & 0.9098966 & 0.9330341 & 0.9565441 & 0.9459088 & 0.9718932 & 0.9557398 & 0.9825424 & ⋯         & 0.9683962 & 0.9684193 & 0.9554607 & 0.9541549 & 0.9477084 & 0.9365855 & 0.9281417 & 0.9228764 & 0.9070864 & 0.9060698\\\\\n",
       "\tX50\\_1 & 0.7681110 & 0.7757876 & 0.8935658 & 0.8966744 & 0.9422351 & 0.9406333 & 0.9579328 & 0.9540331 & 0.9662439 & 0.9609911 & ⋯         & 0.9772945 & 0.9446638 & 0.9650294 & 0.9334348 & 0.9503620 & 0.9168552 & 0.9288377 & 0.9038570 & 0.9087165 & 0.8844122\\\\\n",
       "\tX50\\_2 & 0.7585391 & 0.7792797 & 0.8732258 & 0.8940036 & 0.9214687 & 0.9416612 & 0.9337220 & 0.9606607 & 0.9431647 & 0.9717198 & ⋯         & 0.9727664 & 0.9795185 & 0.9641065 & 0.9683683 & 0.9568689 & 0.9522575 & 0.9381955 & 0.9372100 & 0.9170448 & 0.9185111\\\\\n",
       "\tX55\\_1 & 0.7618830 & 0.7669232 & 0.8827075 & 0.8857061 & 0.9289910 & 0.9301191 & 0.9442330 & 0.9447311 & 0.9528518 & 0.9542717 & ⋯         & 0.9826281 & 0.9568012 & 0.9731798 & 0.9448012 & 0.9597575 & 0.9265821 & 0.9401255 & 0.9125476 & 0.9182360 & 0.8929891\\\\\n",
       "\tX55\\_2 & 0.7510217 & 0.7628309 & 0.8640793 & 0.8772571 & 0.9103330 & 0.9271694 & 0.9220597 & 0.9450244 & 0.9299471 & 0.9575092 & ⋯         & 0.9728571 & 0.9877973 & 0.9687213 & 0.9803701 & 0.9637458 & 0.9641988 & 0.9448014 & 0.9507282 & 0.9281878 & 0.9331012\\\\\n",
       "\tX60\\_1 & 0.7482268 & 0.7559799 & 0.8732217 & 0.8767044 & 0.9207465 & 0.9227883 & 0.9353576 & 0.9393929 & 0.9460091 & 0.9489714 & ⋯         & 1.0000000 & 0.9685077 & 0.9829148 & 0.9593917 & 0.9739857 & 0.9448166 & 0.9542574 & 0.9322492 & 0.9342391 & 0.9114293\\\\\n",
       "\tX60\\_2 & 0.7331851 & 0.7423640 & 0.8485870 & 0.8594654 & 0.8960389 & 0.9094065 & 0.9093810 & 0.9291963 & 0.9158019 & 0.9415432 & ⋯         & 0.9685077 & 1.0000000 & 0.9694623 & 0.9874311 & 0.9669618 & 0.9738086 & 0.9522185 & 0.9614503 & 0.9353636 & 0.9429791\\\\\n",
       "\tX65\\_1 & 0.7262849 & 0.7337840 & 0.8570412 & 0.8589430 & 0.9079004 & 0.9054487 & 0.9223108 & 0.9230729 & 0.9287850 & 0.9338957 & ⋯         & 0.9829148 & 0.9694623 & 1.0000000 & 0.9672667 & 0.9784168 & 0.9546440 & 0.9621649 & 0.9430434 & 0.9434983 & 0.9241348\\\\\n",
       "\tX65\\_2 & 0.7069870 & 0.7164053 & 0.8306959 & 0.8393110 & 0.8839700 & 0.8928053 & 0.8982082 & 0.9144482 & 0.9038734 & 0.9261148 & ⋯         & 0.9593917 & 0.9874311 & 0.9672667 & 1.0000000 & 0.9673734 & 0.9827463 & 0.9514726 & 0.9718956 & 0.9392156 & 0.9557508\\\\\n",
       "\tX70\\_1 & 0.7197770 & 0.7264590 & 0.8484752 & 0.8477186 & 0.8977128 & 0.8949982 & 0.9103158 & 0.9123802 & 0.9182596 & 0.9226281 & ⋯         & 0.9739857 & 0.9669618 & 0.9784168 & 0.9673734 & 1.0000000 & 0.9624594 & 0.9655473 & 0.9491459 & 0.9501650 & 0.9376479\\\\\n",
       "\tX70\\_2 & 0.6952294 & 0.7008226 & 0.8166672 & 0.8213519 & 0.8678577 & 0.8742269 & 0.8818344 & 0.8968873 & 0.8881971 & 0.9075578 & ⋯         & 0.9448166 & 0.9738086 & 0.9546440 & 0.9827463 & 0.9624594 & 1.0000000 & 0.9494448 & 0.9764494 & 0.9392495 & 0.9617758\\\\\n",
       "\tX75\\_1 & 0.7139103 & 0.7176584 & 0.8310918 & 0.8304820 & 0.8784131 & 0.8759034 & 0.8913038 & 0.8934111 & 0.8977425 & 0.9039858 & ⋯         & 0.9542574 & 0.9522185 & 0.9621649 & 0.9514726 & 0.9655473 & 0.9494448 & 1.0000000 & 0.9491962 & 0.9505775 & 0.9352910\\\\\n",
       "\tX75\\_2 & 0.6857951 & 0.6920926 & 0.8066116 & 0.8082242 & 0.8550561 & 0.8592598 & 0.8680249 & 0.8811522 & 0.8729893 & 0.8933919 & ⋯         & 0.9322492 & 0.9614503 & 0.9430434 & 0.9718956 & 0.9491459 & 0.9764494 & 0.9491962 & 1.0000000 & 0.9389753 & 0.9644808\\\\\n",
       "\tX80\\_1 & 0.6995786 & 0.7039369 & 0.8159975 & 0.8141875 & 0.8601061 & 0.8579544 & 0.8703433 & 0.8735186 & 0.8782630 & 0.8828959 & ⋯         & 0.9342391 & 0.9353636 & 0.9434983 & 0.9392156 & 0.9501650 & 0.9392495 & 0.9505775 & 0.9389753 & 1.0000000 & 0.9311666\\\\\n",
       "\tX80\\_2 & 0.6713990 & 0.6792888 & 0.7936400 & 0.7969626 & 0.8454362 & 0.8479529 & 0.8581746 & 0.8694395 & 0.8604146 & 0.8799922 & ⋯         & 0.9114293 & 0.9429791 & 0.9241348 & 0.9557508 & 0.9376479 & 0.9617758 & 0.9352910 & 0.9644808 & 0.9311666 & 1.0000000\\\\\n",
       "\\end{tabular}\n"
      ],
      "text/markdown": [
       "\n",
       "| <!--/--> | X15_1 | X15_2 | X20_1 | X20_2 | X25_1 | X25_2 | X30_1 | X30_2 | X35_1 | X35_2 | ⋯ | X60_1 | X60_2 | X65_1 | X65_2 | X70_1 | X70_2 | X75_1 | X75_2 | X80_1 | X80_2 | \n",
       "|---|---|---|---|---|---|---|---|---|---|---|---|---|---|---|---|---|---|---|---|---|---|---|---|---|---|---|---|\n",
       "| X15_1 | 1.0000000 | 0.9732170 | 0.9104992 | 0.9046017 | 0.8413393 | 0.8303616 | 0.7998517 | 0.7995524 | 0.7917872 | 0.7917473 | ⋯         | 0.7482268 | 0.7331851 | 0.7262849 | 0.7069870 | 0.7197770 | 0.6952294 | 0.7139103 | 0.6857951 | 0.6995786 | 0.6713990 | \n",
       "| X15_2 | 0.9732170 | 1.0000000 | 0.9066666 | 0.9301547 | 0.8443134 | 0.8647346 | 0.8062725 | 0.8361994 | 0.7982391 | 0.8278405 | ⋯         | 0.7559799 | 0.7423640 | 0.7337840 | 0.7164053 | 0.7264590 | 0.7008226 | 0.7176584 | 0.6920926 | 0.7039369 | 0.6792888 | \n",
       "| X20_1 | 0.9104992 | 0.9066666 | 1.0000000 | 0.9738001 | 0.9625117 | 0.9411055 | 0.9339038 | 0.9170183 | 0.9223430 | 0.9068547 | ⋯         | 0.8732217 | 0.8485870 | 0.8570412 | 0.8306959 | 0.8484752 | 0.8166672 | 0.8310918 | 0.8066116 | 0.8159975 | 0.7936400 | \n",
       "| X20_2 | 0.9046017 | 0.9301547 | 0.9738001 | 1.0000000 | 0.9550482 | 0.9694022 | 0.9316304 | 0.9477552 | 0.9223331 | 0.9361865 | ⋯         | 0.8767044 | 0.8594654 | 0.8589430 | 0.8393110 | 0.8477186 | 0.8213519 | 0.8304820 | 0.8082242 | 0.8141875 | 0.7969626 | \n",
       "| X25_1 | 0.8413393 | 0.8443134 | 0.9625117 | 0.9550482 | 1.0000000 | 0.9732973 | 0.9818283 | 0.9629529 | 0.9720973 | 0.9537425 | ⋯         | 0.9207465 | 0.8960389 | 0.9079004 | 0.8839700 | 0.8977128 | 0.8678577 | 0.8784131 | 0.8550561 | 0.8601061 | 0.8454362 | \n",
       "| X25_2 | 0.8303616 | 0.8647346 | 0.9411055 | 0.9694022 | 0.9732973 | 1.0000000 | 0.9701192 | 0.9871900 | 0.9639241 | 0.9783820 | ⋯         | 0.9227883 | 0.9094065 | 0.9054487 | 0.8928053 | 0.8949982 | 0.8742269 | 0.8759034 | 0.8592598 | 0.8579544 | 0.8479529 | \n",
       "| X30_1 | 0.7998517 | 0.8062725 | 0.9339038 | 0.9316304 | 0.9818283 | 0.9701192 | 1.0000000 | 0.9727286 | 0.9855729 | 0.9648310 | ⋯         | 0.9353576 | 0.9093810 | 0.9223108 | 0.8982082 | 0.9103158 | 0.8818344 | 0.8913038 | 0.8680249 | 0.8703433 | 0.8581746 | \n",
       "| X30_2 | 0.7995524 | 0.8361994 | 0.9170183 | 0.9477552 | 0.9629529 | 0.9871900 | 0.9727286 | 1.0000000 | 0.9742012 | 0.9914609 | ⋯         | 0.9393929 | 0.9291963 | 0.9230729 | 0.9144482 | 0.9123802 | 0.8968873 | 0.8934111 | 0.8811522 | 0.8735186 | 0.8694395 | \n",
       "| X35_1 | 0.7917872 | 0.7982391 | 0.9223430 | 0.9223331 | 0.9720973 | 0.9639241 | 0.9855729 | 0.9742012 | 1.0000000 | 0.9728535 | ⋯         | 0.9460091 | 0.9158019 | 0.9287850 | 0.9038734 | 0.9182596 | 0.8881971 | 0.8977425 | 0.8729893 | 0.8782630 | 0.8604146 | \n",
       "| X35_2 | 0.7917473 | 0.8278405 | 0.9068547 | 0.9361865 | 0.9537425 | 0.9783820 | 0.9648310 | 0.9914609 | 0.9728535 | 1.0000000 | ⋯         | 0.9489714 | 0.9415432 | 0.9338957 | 0.9261148 | 0.9226281 | 0.9075578 | 0.9039858 | 0.8933919 | 0.8828959 | 0.8799922 | \n",
       "| X40_1 | 0.7823045 | 0.7902559 | 0.9129729 | 0.9130059 | 0.9623400 | 0.9578952 | 0.9782753 | 0.9664081 | 0.9842757 | 0.9699026 | ⋯         | 0.9584682 | 0.9277091 | 0.9442919 | 0.9146103 | 0.9321850 | 0.8981939 | 0.9108797 | 0.8855113 | 0.8896400 | 0.8714397 | \n",
       "| X40_2 | 0.7839885 | 0.8174564 | 0.8987753 | 0.9262099 | 0.9451906 | 0.9690326 | 0.9568560 | 0.9828915 | 0.9644335 | 0.9896377 | ⋯         | 0.9621156 | 0.9586125 | 0.9491411 | 0.9438399 | 0.9383063 | 0.9238495 | 0.9195966 | 0.9103324 | 0.8985445 | 0.8954707 | \n",
       "| X45_1 | 0.7776164 | 0.7848470 | 0.9047475 | 0.9065371 | 0.9538951 | 0.9503521 | 0.9688385 | 0.9606392 | 0.9773144 | 0.9664845 | ⋯         | 0.9684897 | 0.9347132 | 0.9537828 | 0.9233465 | 0.9405117 | 0.9059888 | 0.9217199 | 0.8926509 | 0.8989328 | 0.8771628 | \n",
       "| X45_2 | 0.7710050 | 0.8005395 | 0.8855329 | 0.9098966 | 0.9330341 | 0.9565441 | 0.9459088 | 0.9718932 | 0.9557398 | 0.9825424 | ⋯         | 0.9683962 | 0.9684193 | 0.9554607 | 0.9541549 | 0.9477084 | 0.9365855 | 0.9281417 | 0.9228764 | 0.9070864 | 0.9060698 | \n",
       "| X50_1 | 0.7681110 | 0.7757876 | 0.8935658 | 0.8966744 | 0.9422351 | 0.9406333 | 0.9579328 | 0.9540331 | 0.9662439 | 0.9609911 | ⋯         | 0.9772945 | 0.9446638 | 0.9650294 | 0.9334348 | 0.9503620 | 0.9168552 | 0.9288377 | 0.9038570 | 0.9087165 | 0.8844122 | \n",
       "| X50_2 | 0.7585391 | 0.7792797 | 0.8732258 | 0.8940036 | 0.9214687 | 0.9416612 | 0.9337220 | 0.9606607 | 0.9431647 | 0.9717198 | ⋯         | 0.9727664 | 0.9795185 | 0.9641065 | 0.9683683 | 0.9568689 | 0.9522575 | 0.9381955 | 0.9372100 | 0.9170448 | 0.9185111 | \n",
       "| X55_1 | 0.7618830 | 0.7669232 | 0.8827075 | 0.8857061 | 0.9289910 | 0.9301191 | 0.9442330 | 0.9447311 | 0.9528518 | 0.9542717 | ⋯         | 0.9826281 | 0.9568012 | 0.9731798 | 0.9448012 | 0.9597575 | 0.9265821 | 0.9401255 | 0.9125476 | 0.9182360 | 0.8929891 | \n",
       "| X55_2 | 0.7510217 | 0.7628309 | 0.8640793 | 0.8772571 | 0.9103330 | 0.9271694 | 0.9220597 | 0.9450244 | 0.9299471 | 0.9575092 | ⋯         | 0.9728571 | 0.9877973 | 0.9687213 | 0.9803701 | 0.9637458 | 0.9641988 | 0.9448014 | 0.9507282 | 0.9281878 | 0.9331012 | \n",
       "| X60_1 | 0.7482268 | 0.7559799 | 0.8732217 | 0.8767044 | 0.9207465 | 0.9227883 | 0.9353576 | 0.9393929 | 0.9460091 | 0.9489714 | ⋯         | 1.0000000 | 0.9685077 | 0.9829148 | 0.9593917 | 0.9739857 | 0.9448166 | 0.9542574 | 0.9322492 | 0.9342391 | 0.9114293 | \n",
       "| X60_2 | 0.7331851 | 0.7423640 | 0.8485870 | 0.8594654 | 0.8960389 | 0.9094065 | 0.9093810 | 0.9291963 | 0.9158019 | 0.9415432 | ⋯         | 0.9685077 | 1.0000000 | 0.9694623 | 0.9874311 | 0.9669618 | 0.9738086 | 0.9522185 | 0.9614503 | 0.9353636 | 0.9429791 | \n",
       "| X65_1 | 0.7262849 | 0.7337840 | 0.8570412 | 0.8589430 | 0.9079004 | 0.9054487 | 0.9223108 | 0.9230729 | 0.9287850 | 0.9338957 | ⋯         | 0.9829148 | 0.9694623 | 1.0000000 | 0.9672667 | 0.9784168 | 0.9546440 | 0.9621649 | 0.9430434 | 0.9434983 | 0.9241348 | \n",
       "| X65_2 | 0.7069870 | 0.7164053 | 0.8306959 | 0.8393110 | 0.8839700 | 0.8928053 | 0.8982082 | 0.9144482 | 0.9038734 | 0.9261148 | ⋯         | 0.9593917 | 0.9874311 | 0.9672667 | 1.0000000 | 0.9673734 | 0.9827463 | 0.9514726 | 0.9718956 | 0.9392156 | 0.9557508 | \n",
       "| X70_1 | 0.7197770 | 0.7264590 | 0.8484752 | 0.8477186 | 0.8977128 | 0.8949982 | 0.9103158 | 0.9123802 | 0.9182596 | 0.9226281 | ⋯         | 0.9739857 | 0.9669618 | 0.9784168 | 0.9673734 | 1.0000000 | 0.9624594 | 0.9655473 | 0.9491459 | 0.9501650 | 0.9376479 | \n",
       "| X70_2 | 0.6952294 | 0.7008226 | 0.8166672 | 0.8213519 | 0.8678577 | 0.8742269 | 0.8818344 | 0.8968873 | 0.8881971 | 0.9075578 | ⋯         | 0.9448166 | 0.9738086 | 0.9546440 | 0.9827463 | 0.9624594 | 1.0000000 | 0.9494448 | 0.9764494 | 0.9392495 | 0.9617758 | \n",
       "| X75_1 | 0.7139103 | 0.7176584 | 0.8310918 | 0.8304820 | 0.8784131 | 0.8759034 | 0.8913038 | 0.8934111 | 0.8977425 | 0.9039858 | ⋯         | 0.9542574 | 0.9522185 | 0.9621649 | 0.9514726 | 0.9655473 | 0.9494448 | 1.0000000 | 0.9491962 | 0.9505775 | 0.9352910 | \n",
       "| X75_2 | 0.6857951 | 0.6920926 | 0.8066116 | 0.8082242 | 0.8550561 | 0.8592598 | 0.8680249 | 0.8811522 | 0.8729893 | 0.8933919 | ⋯         | 0.9322492 | 0.9614503 | 0.9430434 | 0.9718956 | 0.9491459 | 0.9764494 | 0.9491962 | 1.0000000 | 0.9389753 | 0.9644808 | \n",
       "| X80_1 | 0.6995786 | 0.7039369 | 0.8159975 | 0.8141875 | 0.8601061 | 0.8579544 | 0.8703433 | 0.8735186 | 0.8782630 | 0.8828959 | ⋯         | 0.9342391 | 0.9353636 | 0.9434983 | 0.9392156 | 0.9501650 | 0.9392495 | 0.9505775 | 0.9389753 | 1.0000000 | 0.9311666 | \n",
       "| X80_2 | 0.6713990 | 0.6792888 | 0.7936400 | 0.7969626 | 0.8454362 | 0.8479529 | 0.8581746 | 0.8694395 | 0.8604146 | 0.8799922 | ⋯         | 0.9114293 | 0.9429791 | 0.9241348 | 0.9557508 | 0.9376479 | 0.9617758 | 0.9352910 | 0.9644808 | 0.9311666 | 1.0000000 | \n",
       "\n",
       "\n"
      ],
      "text/plain": [
       "      X15_1     X15_2     X20_1     X20_2     X25_1     X25_2     X30_1    \n",
       "X15_1 1.0000000 0.9732170 0.9104992 0.9046017 0.8413393 0.8303616 0.7998517\n",
       "X15_2 0.9732170 1.0000000 0.9066666 0.9301547 0.8443134 0.8647346 0.8062725\n",
       "X20_1 0.9104992 0.9066666 1.0000000 0.9738001 0.9625117 0.9411055 0.9339038\n",
       "X20_2 0.9046017 0.9301547 0.9738001 1.0000000 0.9550482 0.9694022 0.9316304\n",
       "X25_1 0.8413393 0.8443134 0.9625117 0.9550482 1.0000000 0.9732973 0.9818283\n",
       "X25_2 0.8303616 0.8647346 0.9411055 0.9694022 0.9732973 1.0000000 0.9701192\n",
       "X30_1 0.7998517 0.8062725 0.9339038 0.9316304 0.9818283 0.9701192 1.0000000\n",
       "X30_2 0.7995524 0.8361994 0.9170183 0.9477552 0.9629529 0.9871900 0.9727286\n",
       "X35_1 0.7917872 0.7982391 0.9223430 0.9223331 0.9720973 0.9639241 0.9855729\n",
       "X35_2 0.7917473 0.8278405 0.9068547 0.9361865 0.9537425 0.9783820 0.9648310\n",
       "X40_1 0.7823045 0.7902559 0.9129729 0.9130059 0.9623400 0.9578952 0.9782753\n",
       "X40_2 0.7839885 0.8174564 0.8987753 0.9262099 0.9451906 0.9690326 0.9568560\n",
       "X45_1 0.7776164 0.7848470 0.9047475 0.9065371 0.9538951 0.9503521 0.9688385\n",
       "X45_2 0.7710050 0.8005395 0.8855329 0.9098966 0.9330341 0.9565441 0.9459088\n",
       "X50_1 0.7681110 0.7757876 0.8935658 0.8966744 0.9422351 0.9406333 0.9579328\n",
       "X50_2 0.7585391 0.7792797 0.8732258 0.8940036 0.9214687 0.9416612 0.9337220\n",
       "X55_1 0.7618830 0.7669232 0.8827075 0.8857061 0.9289910 0.9301191 0.9442330\n",
       "X55_2 0.7510217 0.7628309 0.8640793 0.8772571 0.9103330 0.9271694 0.9220597\n",
       "X60_1 0.7482268 0.7559799 0.8732217 0.8767044 0.9207465 0.9227883 0.9353576\n",
       "X60_2 0.7331851 0.7423640 0.8485870 0.8594654 0.8960389 0.9094065 0.9093810\n",
       "X65_1 0.7262849 0.7337840 0.8570412 0.8589430 0.9079004 0.9054487 0.9223108\n",
       "X65_2 0.7069870 0.7164053 0.8306959 0.8393110 0.8839700 0.8928053 0.8982082\n",
       "X70_1 0.7197770 0.7264590 0.8484752 0.8477186 0.8977128 0.8949982 0.9103158\n",
       "X70_2 0.6952294 0.7008226 0.8166672 0.8213519 0.8678577 0.8742269 0.8818344\n",
       "X75_1 0.7139103 0.7176584 0.8310918 0.8304820 0.8784131 0.8759034 0.8913038\n",
       "X75_2 0.6857951 0.6920926 0.8066116 0.8082242 0.8550561 0.8592598 0.8680249\n",
       "X80_1 0.6995786 0.7039369 0.8159975 0.8141875 0.8601061 0.8579544 0.8703433\n",
       "X80_2 0.6713990 0.6792888 0.7936400 0.7969626 0.8454362 0.8479529 0.8581746\n",
       "      X30_2     X35_1     X35_2     ⋯ X60_1     X60_2     X65_1     X65_2    \n",
       "X15_1 0.7995524 0.7917872 0.7917473 ⋯ 0.7482268 0.7331851 0.7262849 0.7069870\n",
       "X15_2 0.8361994 0.7982391 0.8278405 ⋯ 0.7559799 0.7423640 0.7337840 0.7164053\n",
       "X20_1 0.9170183 0.9223430 0.9068547 ⋯ 0.8732217 0.8485870 0.8570412 0.8306959\n",
       "X20_2 0.9477552 0.9223331 0.9361865 ⋯ 0.8767044 0.8594654 0.8589430 0.8393110\n",
       "X25_1 0.9629529 0.9720973 0.9537425 ⋯ 0.9207465 0.8960389 0.9079004 0.8839700\n",
       "X25_2 0.9871900 0.9639241 0.9783820 ⋯ 0.9227883 0.9094065 0.9054487 0.8928053\n",
       "X30_1 0.9727286 0.9855729 0.9648310 ⋯ 0.9353576 0.9093810 0.9223108 0.8982082\n",
       "X30_2 1.0000000 0.9742012 0.9914609 ⋯ 0.9393929 0.9291963 0.9230729 0.9144482\n",
       "X35_1 0.9742012 1.0000000 0.9728535 ⋯ 0.9460091 0.9158019 0.9287850 0.9038734\n",
       "X35_2 0.9914609 0.9728535 1.0000000 ⋯ 0.9489714 0.9415432 0.9338957 0.9261148\n",
       "X40_1 0.9664081 0.9842757 0.9699026 ⋯ 0.9584682 0.9277091 0.9442919 0.9146103\n",
       "X40_2 0.9828915 0.9644335 0.9896377 ⋯ 0.9621156 0.9586125 0.9491411 0.9438399\n",
       "X45_1 0.9606392 0.9773144 0.9664845 ⋯ 0.9684897 0.9347132 0.9537828 0.9233465\n",
       "X45_2 0.9718932 0.9557398 0.9825424 ⋯ 0.9683962 0.9684193 0.9554607 0.9541549\n",
       "X50_1 0.9540331 0.9662439 0.9609911 ⋯ 0.9772945 0.9446638 0.9650294 0.9334348\n",
       "X50_2 0.9606607 0.9431647 0.9717198 ⋯ 0.9727664 0.9795185 0.9641065 0.9683683\n",
       "X55_1 0.9447311 0.9528518 0.9542717 ⋯ 0.9826281 0.9568012 0.9731798 0.9448012\n",
       "X55_2 0.9450244 0.9299471 0.9575092 ⋯ 0.9728571 0.9877973 0.9687213 0.9803701\n",
       "X60_1 0.9393929 0.9460091 0.9489714 ⋯ 1.0000000 0.9685077 0.9829148 0.9593917\n",
       "X60_2 0.9291963 0.9158019 0.9415432 ⋯ 0.9685077 1.0000000 0.9694623 0.9874311\n",
       "X65_1 0.9230729 0.9287850 0.9338957 ⋯ 0.9829148 0.9694623 1.0000000 0.9672667\n",
       "X65_2 0.9144482 0.9038734 0.9261148 ⋯ 0.9593917 0.9874311 0.9672667 1.0000000\n",
       "X70_1 0.9123802 0.9182596 0.9226281 ⋯ 0.9739857 0.9669618 0.9784168 0.9673734\n",
       "X70_2 0.8968873 0.8881971 0.9075578 ⋯ 0.9448166 0.9738086 0.9546440 0.9827463\n",
       "X75_1 0.8934111 0.8977425 0.9039858 ⋯ 0.9542574 0.9522185 0.9621649 0.9514726\n",
       "X75_2 0.8811522 0.8729893 0.8933919 ⋯ 0.9322492 0.9614503 0.9430434 0.9718956\n",
       "X80_1 0.8735186 0.8782630 0.8828959 ⋯ 0.9342391 0.9353636 0.9434983 0.9392156\n",
       "X80_2 0.8694395 0.8604146 0.8799922 ⋯ 0.9114293 0.9429791 0.9241348 0.9557508\n",
       "      X70_1     X70_2     X75_1     X75_2     X80_1     X80_2    \n",
       "X15_1 0.7197770 0.6952294 0.7139103 0.6857951 0.6995786 0.6713990\n",
       "X15_2 0.7264590 0.7008226 0.7176584 0.6920926 0.7039369 0.6792888\n",
       "X20_1 0.8484752 0.8166672 0.8310918 0.8066116 0.8159975 0.7936400\n",
       "X20_2 0.8477186 0.8213519 0.8304820 0.8082242 0.8141875 0.7969626\n",
       "X25_1 0.8977128 0.8678577 0.8784131 0.8550561 0.8601061 0.8454362\n",
       "X25_2 0.8949982 0.8742269 0.8759034 0.8592598 0.8579544 0.8479529\n",
       "X30_1 0.9103158 0.8818344 0.8913038 0.8680249 0.8703433 0.8581746\n",
       "X30_2 0.9123802 0.8968873 0.8934111 0.8811522 0.8735186 0.8694395\n",
       "X35_1 0.9182596 0.8881971 0.8977425 0.8729893 0.8782630 0.8604146\n",
       "X35_2 0.9226281 0.9075578 0.9039858 0.8933919 0.8828959 0.8799922\n",
       "X40_1 0.9321850 0.8981939 0.9108797 0.8855113 0.8896400 0.8714397\n",
       "X40_2 0.9383063 0.9238495 0.9195966 0.9103324 0.8985445 0.8954707\n",
       "X45_1 0.9405117 0.9059888 0.9217199 0.8926509 0.8989328 0.8771628\n",
       "X45_2 0.9477084 0.9365855 0.9281417 0.9228764 0.9070864 0.9060698\n",
       "X50_1 0.9503620 0.9168552 0.9288377 0.9038570 0.9087165 0.8844122\n",
       "X50_2 0.9568689 0.9522575 0.9381955 0.9372100 0.9170448 0.9185111\n",
       "X55_1 0.9597575 0.9265821 0.9401255 0.9125476 0.9182360 0.8929891\n",
       "X55_2 0.9637458 0.9641988 0.9448014 0.9507282 0.9281878 0.9331012\n",
       "X60_1 0.9739857 0.9448166 0.9542574 0.9322492 0.9342391 0.9114293\n",
       "X60_2 0.9669618 0.9738086 0.9522185 0.9614503 0.9353636 0.9429791\n",
       "X65_1 0.9784168 0.9546440 0.9621649 0.9430434 0.9434983 0.9241348\n",
       "X65_2 0.9673734 0.9827463 0.9514726 0.9718956 0.9392156 0.9557508\n",
       "X70_1 1.0000000 0.9624594 0.9655473 0.9491459 0.9501650 0.9376479\n",
       "X70_2 0.9624594 1.0000000 0.9494448 0.9764494 0.9392495 0.9617758\n",
       "X75_1 0.9655473 0.9494448 1.0000000 0.9491962 0.9505775 0.9352910\n",
       "X75_2 0.9491459 0.9764494 0.9491962 1.0000000 0.9389753 0.9644808\n",
       "X80_1 0.9501650 0.9392495 0.9505775 0.9389753 1.0000000 0.9311666\n",
       "X80_2 0.9376479 0.9617758 0.9352910 0.9644808 0.9311666 1.0000000"
      ]
     },
     "metadata": {},
     "output_type": "display_data"
    }
   ],
   "source": [
    "corr_mat"
   ]
  },
  {
   "cell_type": "code",
   "execution_count": 23,
   "metadata": {
    "collapsed": false
   },
   "outputs": [
    {
     "data": {
      "text/html": [
       "<ol class=list-inline>\n",
       "\t<li>6</li>\n",
       "\t<li>7</li>\n",
       "\t<li>8</li>\n",
       "\t<li>10</li>\n",
       "\t<li>11</li>\n",
       "\t<li>12</li>\n",
       "\t<li>13</li>\n",
       "\t<li>14</li>\n",
       "\t<li>15</li>\n",
       "\t<li>16</li>\n",
       "\t<li>17</li>\n",
       "\t<li>18</li>\n",
       "\t<li>19</li>\n",
       "\t<li>20</li>\n",
       "\t<li>22</li>\n",
       "\t<li>23</li>\n",
       "\t<li>24</li>\n",
       "\t<li>25</li>\n",
       "\t<li>26</li>\n",
       "\t<li>27</li>\n",
       "\t<li>28</li>\n",
       "\t<li>29</li>\n",
       "\t<li>30</li>\n",
       "\t<li>33</li>\n",
       "\t<li>34</li>\n",
       "\t<li>35</li>\n",
       "\t<li>36</li>\n",
       "\t<li>37</li>\n",
       "\t<li>38</li>\n",
       "\t<li>39</li>\n",
       "\t<li>40</li>\n",
       "\t<li>41</li>\n",
       "\t<li>43</li>\n",
       "\t<li>44</li>\n",
       "\t<li>45</li>\n",
       "\t<li>46</li>\n",
       "\t<li>47</li>\n",
       "\t<li>48</li>\n",
       "\t<li>49</li>\n",
       "\t<li>50</li>\n",
       "\t<li>51</li>\n",
       "\t<li>52</li>\n",
       "\t<li>53</li>\n",
       "\t<li>54</li>\n",
       "\t<li>55</li>\n",
       "\t<li>57</li>\n",
       "\t<li>58</li>\n",
       "\t<li>59</li>\n",
       "\t<li>60</li>\n",
       "\t<li>61</li>\n",
       "\t<li>62</li>\n",
       "\t<li>63</li>\n",
       "\t<li>66</li>\n",
       "\t<li>67</li>\n",
       "\t<li>68</li>\n",
       "\t<li>69</li>\n",
       "\t<li>71</li>\n",
       "\t<li>72</li>\n",
       "\t<li>74</li>\n",
       "\t<li>75</li>\n",
       "\t<li>76</li>\n",
       "\t<li>77</li>\n",
       "\t<li>78</li>\n",
       "\t<li>79</li>\n",
       "\t<li>80</li>\n",
       "\t<li>81</li>\n",
       "\t<li>82</li>\n",
       "\t<li>83</li>\n",
       "\t<li>84</li>\n",
       "\t<li>85</li>\n",
       "\t<li>86</li>\n",
       "\t<li>87</li>\n",
       "\t<li>88</li>\n",
       "\t<li>89</li>\n",
       "\t<li>90</li>\n",
       "\t<li>91</li>\n",
       "\t<li>92</li>\n",
       "\t<li>93</li>\n",
       "\t<li>94</li>\n",
       "\t<li>95</li>\n",
       "\t<li>97</li>\n",
       "\t<li>98</li>\n",
       "\t<li>99</li>\n",
       "\t<li>101</li>\n",
       "\t<li>102</li>\n",
       "\t<li>105</li>\n",
       "\t<li>106</li>\n",
       "\t<li>107</li>\n",
       "\t<li>108</li>\n",
       "\t<li>109</li>\n",
       "\t<li>110</li>\n",
       "\t<li>111</li>\n",
       "\t<li>112</li>\n",
       "\t<li>113</li>\n",
       "\t<li>114</li>\n",
       "\t<li>115</li>\n",
       "\t<li>116</li>\n",
       "\t<li>117</li>\n",
       "\t<li>118</li>\n",
       "\t<li>119</li>\n",
       "\t<li>121</li>\n",
       "\t<li>122</li>\n",
       "\t<li>123</li>\n",
       "\t<li>125</li>\n",
       "\t<li>126</li>\n",
       "\t<li>127</li>\n",
       "\t<li>128</li>\n",
       "\t<li>129</li>\n",
       "\t<li>130</li>\n",
       "\t<li>131</li>\n",
       "\t<li>132</li>\n",
       "\t<li>133</li>\n",
       "\t<li>135</li>\n",
       "\t<li>136</li>\n",
       "\t<li>139</li>\n",
       "\t<li>140</li>\n",
       "\t<li>141</li>\n",
       "\t<li>142</li>\n",
       "\t<li>143</li>\n",
       "\t<li>144</li>\n",
       "\t<li>145</li>\n",
       "\t<li>146</li>\n",
       "\t<li>147</li>\n",
       "\t<li>148</li>\n",
       "\t<li>149</li>\n",
       "\t<li>150</li>\n",
       "\t<li>151</li>\n",
       "\t<li>152</li>\n",
       "\t<li>153</li>\n",
       "\t<li>154</li>\n",
       "\t<li>155</li>\n",
       "\t<li>156</li>\n",
       "\t<li>157</li>\n",
       "\t<li>160</li>\n",
       "\t<li>161</li>\n",
       "\t<li>162</li>\n",
       "\t<li>163</li>\n",
       "\t<li>164</li>\n",
       "\t<li>165</li>\n",
       "\t<li>168</li>\n",
       "\t<li>169</li>\n",
       "\t<li>170</li>\n",
       "\t<li>171</li>\n",
       "\t<li>172</li>\n",
       "\t<li>173</li>\n",
       "\t<li>175</li>\n",
       "\t<li>176</li>\n",
       "\t<li>177</li>\n",
       "\t<li>178</li>\n",
       "\t<li>179</li>\n",
       "\t<li>180</li>\n",
       "\t<li>181</li>\n",
       "\t<li>182</li>\n",
       "\t<li>183</li>\n",
       "\t<li>184</li>\n",
       "\t<li>185</li>\n",
       "\t<li>186</li>\n",
       "\t<li>187</li>\n",
       "\t<li>189</li>\n",
       "\t<li>190</li>\n",
       "\t<li>191</li>\n",
       "\t<li>193</li>\n",
       "\t<li>194</li>\n",
       "\t<li>195</li>\n",
       "\t<li>196</li>\n",
       "\t<li>197</li>\n",
       "\t<li>198</li>\n",
       "\t<li>200</li>\n",
       "\t<li>201</li>\n",
       "\t<li>202</li>\n",
       "\t<li>203</li>\n",
       "\t<li>204</li>\n",
       "\t<li>205</li>\n",
       "\t<li>206</li>\n",
       "\t<li>207</li>\n",
       "\t<li>208</li>\n",
       "\t<li>209</li>\n",
       "\t<li>210</li>\n",
       "\t<li>211</li>\n",
       "\t<li>212</li>\n",
       "\t<li>213</li>\n",
       "\t<li>214</li>\n",
       "\t<li>215</li>\n",
       "\t<li>216</li>\n",
       "\t<li>217</li>\n",
       "\t<li>218</li>\n",
       "\t<li>298</li>\n",
       "\t<li>305</li>\n",
       "\t<li>349</li>\n",
       "\t<li>351</li>\n",
       "\t<li>376</li>\n",
       "\t<li>385</li>\n",
       "\t<li>422</li>\n",
       "\t<li>435</li>\n",
       "\t<li>522</li>\n",
       "</ol>\n"
      ],
      "text/latex": [
       "\\begin{enumerate*}\n",
       "\\item 6\n",
       "\\item 7\n",
       "\\item 8\n",
       "\\item 10\n",
       "\\item 11\n",
       "\\item 12\n",
       "\\item 13\n",
       "\\item 14\n",
       "\\item 15\n",
       "\\item 16\n",
       "\\item 17\n",
       "\\item 18\n",
       "\\item 19\n",
       "\\item 20\n",
       "\\item 22\n",
       "\\item 23\n",
       "\\item 24\n",
       "\\item 25\n",
       "\\item 26\n",
       "\\item 27\n",
       "\\item 28\n",
       "\\item 29\n",
       "\\item 30\n",
       "\\item 33\n",
       "\\item 34\n",
       "\\item 35\n",
       "\\item 36\n",
       "\\item 37\n",
       "\\item 38\n",
       "\\item 39\n",
       "\\item 40\n",
       "\\item 41\n",
       "\\item 43\n",
       "\\item 44\n",
       "\\item 45\n",
       "\\item 46\n",
       "\\item 47\n",
       "\\item 48\n",
       "\\item 49\n",
       "\\item 50\n",
       "\\item 51\n",
       "\\item 52\n",
       "\\item 53\n",
       "\\item 54\n",
       "\\item 55\n",
       "\\item 57\n",
       "\\item 58\n",
       "\\item 59\n",
       "\\item 60\n",
       "\\item 61\n",
       "\\item 62\n",
       "\\item 63\n",
       "\\item 66\n",
       "\\item 67\n",
       "\\item 68\n",
       "\\item 69\n",
       "\\item 71\n",
       "\\item 72\n",
       "\\item 74\n",
       "\\item 75\n",
       "\\item 76\n",
       "\\item 77\n",
       "\\item 78\n",
       "\\item 79\n",
       "\\item 80\n",
       "\\item 81\n",
       "\\item 82\n",
       "\\item 83\n",
       "\\item 84\n",
       "\\item 85\n",
       "\\item 86\n",
       "\\item 87\n",
       "\\item 88\n",
       "\\item 89\n",
       "\\item 90\n",
       "\\item 91\n",
       "\\item 92\n",
       "\\item 93\n",
       "\\item 94\n",
       "\\item 95\n",
       "\\item 97\n",
       "\\item 98\n",
       "\\item 99\n",
       "\\item 101\n",
       "\\item 102\n",
       "\\item 105\n",
       "\\item 106\n",
       "\\item 107\n",
       "\\item 108\n",
       "\\item 109\n",
       "\\item 110\n",
       "\\item 111\n",
       "\\item 112\n",
       "\\item 113\n",
       "\\item 114\n",
       "\\item 115\n",
       "\\item 116\n",
       "\\item 117\n",
       "\\item 118\n",
       "\\item 119\n",
       "\\item 121\n",
       "\\item 122\n",
       "\\item 123\n",
       "\\item 125\n",
       "\\item 126\n",
       "\\item 127\n",
       "\\item 128\n",
       "\\item 129\n",
       "\\item 130\n",
       "\\item 131\n",
       "\\item 132\n",
       "\\item 133\n",
       "\\item 135\n",
       "\\item 136\n",
       "\\item 139\n",
       "\\item 140\n",
       "\\item 141\n",
       "\\item 142\n",
       "\\item 143\n",
       "\\item 144\n",
       "\\item 145\n",
       "\\item 146\n",
       "\\item 147\n",
       "\\item 148\n",
       "\\item 149\n",
       "\\item 150\n",
       "\\item 151\n",
       "\\item 152\n",
       "\\item 153\n",
       "\\item 154\n",
       "\\item 155\n",
       "\\item 156\n",
       "\\item 157\n",
       "\\item 160\n",
       "\\item 161\n",
       "\\item 162\n",
       "\\item 163\n",
       "\\item 164\n",
       "\\item 165\n",
       "\\item 168\n",
       "\\item 169\n",
       "\\item 170\n",
       "\\item 171\n",
       "\\item 172\n",
       "\\item 173\n",
       "\\item 175\n",
       "\\item 176\n",
       "\\item 177\n",
       "\\item 178\n",
       "\\item 179\n",
       "\\item 180\n",
       "\\item 181\n",
       "\\item 182\n",
       "\\item 183\n",
       "\\item 184\n",
       "\\item 185\n",
       "\\item 186\n",
       "\\item 187\n",
       "\\item 189\n",
       "\\item 190\n",
       "\\item 191\n",
       "\\item 193\n",
       "\\item 194\n",
       "\\item 195\n",
       "\\item 196\n",
       "\\item 197\n",
       "\\item 198\n",
       "\\item 200\n",
       "\\item 201\n",
       "\\item 202\n",
       "\\item 203\n",
       "\\item 204\n",
       "\\item 205\n",
       "\\item 206\n",
       "\\item 207\n",
       "\\item 208\n",
       "\\item 209\n",
       "\\item 210\n",
       "\\item 211\n",
       "\\item 212\n",
       "\\item 213\n",
       "\\item 214\n",
       "\\item 215\n",
       "\\item 216\n",
       "\\item 217\n",
       "\\item 218\n",
       "\\item 298\n",
       "\\item 305\n",
       "\\item 349\n",
       "\\item 351\n",
       "\\item 376\n",
       "\\item 385\n",
       "\\item 422\n",
       "\\item 435\n",
       "\\item 522\n",
       "\\end{enumerate*}\n"
      ],
      "text/markdown": [
       "1. 6\n",
       "2. 7\n",
       "3. 8\n",
       "4. 10\n",
       "5. 11\n",
       "6. 12\n",
       "7. 13\n",
       "8. 14\n",
       "9. 15\n",
       "10. 16\n",
       "11. 17\n",
       "12. 18\n",
       "13. 19\n",
       "14. 20\n",
       "15. 22\n",
       "16. 23\n",
       "17. 24\n",
       "18. 25\n",
       "19. 26\n",
       "20. 27\n",
       "21. 28\n",
       "22. 29\n",
       "23. 30\n",
       "24. 33\n",
       "25. 34\n",
       "26. 35\n",
       "27. 36\n",
       "28. 37\n",
       "29. 38\n",
       "30. 39\n",
       "31. 40\n",
       "32. 41\n",
       "33. 43\n",
       "34. 44\n",
       "35. 45\n",
       "36. 46\n",
       "37. 47\n",
       "38. 48\n",
       "39. 49\n",
       "40. 50\n",
       "41. 51\n",
       "42. 52\n",
       "43. 53\n",
       "44. 54\n",
       "45. 55\n",
       "46. 57\n",
       "47. 58\n",
       "48. 59\n",
       "49. 60\n",
       "50. 61\n",
       "51. 62\n",
       "52. 63\n",
       "53. 66\n",
       "54. 67\n",
       "55. 68\n",
       "56. 69\n",
       "57. 71\n",
       "58. 72\n",
       "59. 74\n",
       "60. 75\n",
       "61. 76\n",
       "62. 77\n",
       "63. 78\n",
       "64. 79\n",
       "65. 80\n",
       "66. 81\n",
       "67. 82\n",
       "68. 83\n",
       "69. 84\n",
       "70. 85\n",
       "71. 86\n",
       "72. 87\n",
       "73. 88\n",
       "74. 89\n",
       "75. 90\n",
       "76. 91\n",
       "77. 92\n",
       "78. 93\n",
       "79. 94\n",
       "80. 95\n",
       "81. 97\n",
       "82. 98\n",
       "83. 99\n",
       "84. 101\n",
       "85. 102\n",
       "86. 105\n",
       "87. 106\n",
       "88. 107\n",
       "89. 108\n",
       "90. 109\n",
       "91. 110\n",
       "92. 111\n",
       "93. 112\n",
       "94. 113\n",
       "95. 114\n",
       "96. 115\n",
       "97. 116\n",
       "98. 117\n",
       "99. 118\n",
       "100. 119\n",
       "101. 121\n",
       "102. 122\n",
       "103. 123\n",
       "104. 125\n",
       "105. 126\n",
       "106. 127\n",
       "107. 128\n",
       "108. 129\n",
       "109. 130\n",
       "110. 131\n",
       "111. 132\n",
       "112. 133\n",
       "113. 135\n",
       "114. 136\n",
       "115. 139\n",
       "116. 140\n",
       "117. 141\n",
       "118. 142\n",
       "119. 143\n",
       "120. 144\n",
       "121. 145\n",
       "122. 146\n",
       "123. 147\n",
       "124. 148\n",
       "125. 149\n",
       "126. 150\n",
       "127. 151\n",
       "128. 152\n",
       "129. 153\n",
       "130. 154\n",
       "131. 155\n",
       "132. 156\n",
       "133. 157\n",
       "134. 160\n",
       "135. 161\n",
       "136. 162\n",
       "137. 163\n",
       "138. 164\n",
       "139. 165\n",
       "140. 168\n",
       "141. 169\n",
       "142. 170\n",
       "143. 171\n",
       "144. 172\n",
       "145. 173\n",
       "146. 175\n",
       "147. 176\n",
       "148. 177\n",
       "149. 178\n",
       "150. 179\n",
       "151. 180\n",
       "152. 181\n",
       "153. 182\n",
       "154. 183\n",
       "155. 184\n",
       "156. 185\n",
       "157. 186\n",
       "158. 187\n",
       "159. 189\n",
       "160. 190\n",
       "161. 191\n",
       "162. 193\n",
       "163. 194\n",
       "164. 195\n",
       "165. 196\n",
       "166. 197\n",
       "167. 198\n",
       "168. 200\n",
       "169. 201\n",
       "170. 202\n",
       "171. 203\n",
       "172. 204\n",
       "173. 205\n",
       "174. 206\n",
       "175. 207\n",
       "176. 208\n",
       "177. 209\n",
       "178. 210\n",
       "179. 211\n",
       "180. 212\n",
       "181. 213\n",
       "182. 214\n",
       "183. 215\n",
       "184. 216\n",
       "185. 217\n",
       "186. 218\n",
       "187. 298\n",
       "188. 305\n",
       "189. 349\n",
       "190. 351\n",
       "191. 376\n",
       "192. 385\n",
       "193. 422\n",
       "194. 435\n",
       "195. 522\n",
       "\n",
       "\n"
      ],
      "text/plain": [
       "  [1]   6   7   8  10  11  12  13  14  15  16  17  18  19  20  22  23  24  25\n",
       " [19]  26  27  28  29  30  33  34  35  36  37  38  39  40  41  43  44  45  46\n",
       " [37]  47  48  49  50  51  52  53  54  55  57  58  59  60  61  62  63  66  67\n",
       " [55]  68  69  71  72  74  75  76  77  78  79  80  81  82  83  84  85  86  87\n",
       " [73]  88  89  90  91  92  93  94  95  97  98  99 101 102 105 106 107 108 109\n",
       " [91] 110 111 112 113 114 115 116 117 118 119 121 122 123 125 126 127 128 129\n",
       "[109] 130 131 132 133 135 136 139 140 141 142 143 144 145 146 147 148 149 150\n",
       "[127] 151 152 153 154 155 156 157 160 161 162 163 164 165 168 169 170 171 172\n",
       "[145] 173 175 176 177 178 179 180 181 182 183 184 185 186 187 189 190 191 193\n",
       "[163] 194 195 196 197 198 200 201 202 203 204 205 206 207 208 209 210 211 212\n",
       "[181] 213 214 215 216 217 218 298 305 349 351 376 385 422 435 522"
      ]
     },
     "metadata": {},
     "output_type": "display_data"
    },
    {
     "data": {
      "text/html": [
       "195"
      ],
      "text/latex": [
       "195"
      ],
      "text/markdown": [
       "195"
      ],
      "text/plain": [
       "[1] 195"
      ]
     },
     "metadata": {},
     "output_type": "display_data"
    }
   ],
   "source": [
    "## Number of countries we have to array over\n",
    "countries <- unique(edu_temp[, location_id])\n",
    "countries\n",
    "length(countries)"
   ]
  },
  {
   "cell_type": "code",
   "execution_count": 24,
   "metadata": {
    "collapsed": false
   },
   "outputs": [
    {
     "data": {
      "text/plain": [
       "   user  system elapsed \n",
       "457.675  16.655 474.480 "
      ]
     },
     "metadata": {},
     "output_type": "display_data"
    },
    {
     "name": "stdout",
     "output_type": "stream",
     "text": [
      " num [1:195, 1:91, 1:28, 1:1000] 2.19 4.39 5.94 1.86 3.52 ...\n",
      " - attr(*, \"dimnames\")=List of 4\n",
      "  ..$ : chr [1:195] \"6\" \"7\" \"8\" \"10\" ...\n",
      "  ..$ : chr [1:91] \"1950\" \"1951\" \"1952\" \"1953\" ...\n",
      "  ..$ : chr [1:28] \"15_1\" \"15_2\" \"20_1\" \"20_2\" ...\n",
      "  ..$ : chr [1:1000] \"draw0\" \"draw1\" \"draw2\" \"draw3\" ...\n"
     ]
    }
   ],
   "source": [
    "system.time(myarray2<- mclapply(countries, \n",
    "                                function(x) {reshape2::acast(edu_temp[location_id == x,], \n",
    "                                                      location_id ~  year_id ~ age_sex ~ variable, \n",
    "                                                      value.var = \"edu\") }, mc.cores = 12))\n",
    "myarray2 <- abind(myarray2, along=1)\n",
    "str(myarray2)"
   ]
  },
  {
   "cell_type": "code",
   "execution_count": 29,
   "metadata": {
    "collapsed": false
   },
   "outputs": [
    {
     "data": {
      "text/plain": [
       "   user  system elapsed \n",
       " 36.877   5.350  42.207 "
      ]
     },
     "metadata": {},
     "output_type": "display_data"
    },
    {
     "name": "stdout",
     "output_type": "stream",
     "text": [
      " num [1:195, 1:91, 1:28, 1:1000] 2.19 4.39 5.94 1.86 3.52 ...\n",
      " - attr(*, \"dimnames\")=List of 4\n",
      "  ..$ : chr [1:195] \"6\" \"7\" \"8\" \"10\" ...\n",
      "  ..$ : chr [1:91] \"1950\" \"1951\" \"1952\" \"1953\" ...\n",
      "  ..$ : chr [1:28] \"15_1\" \"15_2\" \"20_1\" \"20_2\" ...\n",
      "  ..$ : chr [1:1000] \"draw0\" \"draw1\" \"draw2\" \"draw3\" ...\n",
      "'data.frame':\t496860000 obs. of  5 variables:\n",
      " $ location_id: int  6 7 8 10 11 12 13 14 15 16 ...\n",
      " $ year_id    : int  1950 1950 1950 1950 1950 1950 1950 1950 1950 1950 ...\n",
      " $ age_sex    : Factor w/ 28 levels \"15_1\",\"15_2\",..: 1 1 1 1 1 1 1 1 1 1 ...\n",
      " $ draw_num   : Factor w/ 1000 levels \"draw0\",\"draw1\",..: 1 1 1 1 1 1 1 1 1 1 ...\n",
      " $ edu        : num  2.19 4.39 5.94 1.86 3.52 ...\n"
     ]
    }
   ],
   "source": [
    "# ### Administrative cleanup\n",
    "chn_array <- myarray2\n",
    "\n",
    "system.time(chn_array_df <- data.table::melt(chn_array))\n",
    "colnames(chn_array_df) <- c(\"location_id\", \"year_id\", \"age_sex\", \"draw_num\", \"edu\")\n",
    "\n",
    "str(chn_array)\n",
    "str(chn_array_df)"
   ]
  },
  {
   "cell_type": "markdown",
   "metadata": {},
   "source": [
    "### Neal's (TM) Multivariate Copula Function"
   ]
  },
  {
   "cell_type": "code",
   "execution_count": 31,
   "metadata": {
    "collapsed": true
   },
   "outputs": [],
   "source": [
    "draw2Dcopula <- function(X, cor_mat, df_return = F){\n",
    "  L <- dim(X)[2]\n",
    "  D <- dim(X)[3]\n",
    "  Xsum <- apply(X, c(2, 3), sum)\n",
    "  mvdat <- mvrnorm(n=D, mu=0 * 1:L, Sigma=cor_mat, empirical=TRUE)\n",
    "  ranks <- apply(mvdat, 2, rank, ties.method=\"first\")\n",
    "  sortedXsim <- apply(Xsum, 1, function(x) sort(x, index.return=TRUE)$ix)\n",
    "  sortedX <- X\n",
    "  for(i in 1:L){\n",
    "    sortedX[,i,] <- X[,i,sortedXsim[,i]]\n",
    "  }\n",
    "  Xcorr <- sortedX\n",
    "  for(i in 1:L){\n",
    "    Xcorr[,i,] <- sortedX[,i,ranks[,i]]\n",
    "  }\n",
    "  if (df_return==T) {\n",
    "    return(data.table(melt(Xcorr)))\n",
    "    }\n",
    "      else {\n",
    "          Xcorr\n",
    "      }\n",
    "}"
   ]
  },
  {
   "cell_type": "markdown",
   "metadata": {},
   "source": [
    "### Let's 2D copulate the data now"
   ]
  },
  {
   "cell_type": "code",
   "execution_count": 32,
   "metadata": {
    "collapsed": false,
    "scrolled": false
   },
   "outputs": [
    {
     "data": {
      "text/plain": [
       "   user  system elapsed \n",
       " 48.291 105.271 117.348 "
      ]
     },
     "metadata": {},
     "output_type": "display_data"
    },
    {
     "data": {
      "text/html": [
       "<table>\n",
       "<thead><tr><th scope=col>location_id</th><th scope=col>year_id</th><th scope=col>age_sex</th><th scope=col>draw_num</th><th scope=col>edu</th></tr></thead>\n",
       "<tbody>\n",
       "\t<tr><td>6       </td><td>1950    </td><td>15_1    </td><td>draw0   </td><td>5.235209</td></tr>\n",
       "\t<tr><td>6       </td><td>1951    </td><td>15_1    </td><td>draw0   </td><td>5.431837</td></tr>\n",
       "\t<tr><td>6       </td><td>1952    </td><td>15_1    </td><td>draw0   </td><td>5.627584</td></tr>\n",
       "\t<tr><td>6       </td><td>1953    </td><td>15_1    </td><td>draw0   </td><td>5.821759</td></tr>\n",
       "\t<tr><td>6       </td><td>1954    </td><td>15_1    </td><td>draw0   </td><td>6.013701</td></tr>\n",
       "\t<tr><td>6       </td><td>1955    </td><td>15_1    </td><td>draw0   </td><td>6.202800</td></tr>\n",
       "</tbody>\n",
       "</table>\n"
      ],
      "text/latex": [
       "\\begin{tabular}{r|lllll}\n",
       " location\\_id & year\\_id & age\\_sex & draw\\_num & edu\\\\\n",
       "\\hline\n",
       "\t 6        & 1950     & 15\\_1   & draw0    & 5.235209\\\\\n",
       "\t 6        & 1951     & 15\\_1   & draw0    & 5.431837\\\\\n",
       "\t 6        & 1952     & 15\\_1   & draw0    & 5.627584\\\\\n",
       "\t 6        & 1953     & 15\\_1   & draw0    & 5.821759\\\\\n",
       "\t 6        & 1954     & 15\\_1   & draw0    & 6.013701\\\\\n",
       "\t 6        & 1955     & 15\\_1   & draw0    & 6.202800\\\\\n",
       "\\end{tabular}\n"
      ],
      "text/markdown": [
       "\n",
       "location_id | year_id | age_sex | draw_num | edu | \n",
       "|---|---|---|---|---|---|\n",
       "| 6        | 1950     | 15_1     | draw0    | 5.235209 | \n",
       "| 6        | 1951     | 15_1     | draw0    | 5.431837 | \n",
       "| 6        | 1952     | 15_1     | draw0    | 5.627584 | \n",
       "| 6        | 1953     | 15_1     | draw0    | 5.821759 | \n",
       "| 6        | 1954     | 15_1     | draw0    | 6.013701 | \n",
       "| 6        | 1955     | 15_1     | draw0    | 6.202800 | \n",
       "\n",
       "\n"
      ],
      "text/plain": [
       "  location_id year_id age_sex draw_num edu     \n",
       "1 6           1950    15_1    draw0    5.235209\n",
       "2 6           1951    15_1    draw0    5.431837\n",
       "3 6           1952    15_1    draw0    5.627584\n",
       "4 6           1953    15_1    draw0    5.821759\n",
       "5 6           1954    15_1    draw0    6.013701\n",
       "6 6           1955    15_1    draw0    6.202800"
      ]
     },
     "metadata": {},
     "output_type": "display_data"
    }
   ],
   "source": [
    "system.time(Xcorr_array <- mclapply(countries, \n",
    "                                    function(x) {cbind(x, draw2Dcopula(chn_array[paste0(x),,,],\n",
    "                                                                      corr_mat , df_return = T))}, mc.cores = 10 ))\n",
    "                                        \n",
    "# Xcorr_array <-  draw2Dcopula(chn_array[1,,,], corr_mat, df_return = T)\n",
    "# str(Xcorr_array)\n",
    "                                        \n",
    "# Xcorr_df <- list.stack(Xcorr_array, data.table=T)\n",
    "\n",
    " Xcorr_df <- do.call(rbind, Xcorr_array)\n",
    "                                        \n",
    "# system.time(Xcorr_array_binded <- melt(Xcorr_array, id.vars = c(\"x\", \"Var1\", \"Var2\", \"Var3\"), value.name = \"value\"))\n",
    "# system.time(Xcorr_array_binded <- abind(Xcorr_array, along=1))\n",
    "colnames(Xcorr_df) <- c(\"location_id\", \"year_id\", \"age_sex\", \"draw_num\", \"edu\")\n",
    "head(Xcorr_df)    \n",
    "                                        \n",
    "# correlation over our first dimension (time) remains unchanged\n",
    "# time_corr <- sapply(1:28 , function(x) sapply(2:91, function(y) cor(Xcorr_array[y,x,], Xcorr_array[y-1,x,])))\n",
    "\n",
    "# correlation over our second dimension (age) now approaches desired target\n",
    "# age_corr <- sapply(2:28, function(x) sapply(1:91, function(y)   cor(Xcorr_array[y,x,], Xcorr_array[y,x-1,])))"
   ]
  },
  {
   "cell_type": "code",
   "execution_count": null,
   "metadata": {
    "collapsed": false
   },
   "outputs": [],
   "source": [
    "# Test plots (the overlays should be EXACT)\n",
    "# ggplot(data = subset(chn_array_df, location_id==6 & age_sex==\"15_1\" & year_id==2040), aes(x=edu)) + \n",
    "#     geom_histogram(aes(y=  ..density..), alpha=0.3,fill=\"steelblue\") +\n",
    "#     geom_density(color =\"blue4\")   +\n",
    "#     geom_histogram(data = Xcorr_df[location_id==6 &age_sex==\"15_1\" & year_id==2040,],  \n",
    "#                    aes(x=edu, y=  ..density..), alpha=0.3,fill=\"red2\") +\n",
    "#     geom_density(color =\"red4\")\n",
    "\n",
    "\n",
    "# ## Test for one case\n",
    "# tesssst_1 <- rank_time_series(edu[location_id==102 & age_group_id==8 & sex_id==2,  6:96], corr = 1, ts = F,print=F)\n",
    "# colnames(tesssst_1) <- paste0(c(1950:2040))\n",
    "# tesssst_1 <- cbind(edu[location_id==6 & age_group_id==8 & sex_id==2,  1:5], tesssst_1)\n",
    "# tesssst_2 <- data.table(melt(tesssst_1[, id :=NULL], id.vars=c(\"location_id\", \"age_group_id\", \"sex_id\",\"variable\"), value.name = \"edu\", variable.name = \"year_id\"))\n",
    "# head(tesssst_1)\n",
    "\n",
    "# ggplot(data.frame(tesssst_2)) + geom_line(aes(x=year_id, y = edu, group = variable, color=variable)) +\n",
    "# theme(legend.position = \"none\")"
   ]
  },
  {
   "cell_type": "markdown",
   "metadata": {},
   "source": [
    "### Collapse to year and country only"
   ]
  },
  {
   "cell_type": "code",
   "execution_count": null,
   "metadata": {
    "collapsed": false,
    "scrolled": true
   },
   "outputs": [],
   "source": [
    "# Reshape wide\n",
    "Xcorr_df_with_pop <- dcast(Xcorr_df, location_id + year_id + age_sex ~ draw_num, value.var = c(\"edu\"))\n",
    "head(Xcorr_df_with_pop)"
   ]
  },
  {
   "cell_type": "code",
   "execution_count": null,
   "metadata": {
    "collapsed": false
   },
   "outputs": [],
   "source": [
    "# Split back into age and sex\n",
    "Xcorr_df_with_pop2 <- Xcorr_df_with_pop\n",
    "system.time({ Xcorr_df_with_pop2[, c(\"age_group_id\",\"sex_id\") := data.table(str_split_fixed(age_sex,\"_\",2))] })\n",
    "Xcorr_df_with_pop2[, age_sex:=NULL]\n",
    "head(Xcorr_df_with_pop2)\n",
    "str(Xcorr_df_with_pop2)"
   ]
  },
  {
   "cell_type": "code",
   "execution_count": 17,
   "metadata": {
    "collapsed": false,
    "scrolled": true
   },
   "outputs": [
    {
     "data": {
      "text/html": [
       "<table>\n",
       "<thead><tr><th scope=col>location_id</th><th scope=col>year_id</th><th scope=col>age_group_id</th><th scope=col>sex_id</th><th scope=col>draw0</th><th scope=col>draw1</th><th scope=col>draw2</th><th scope=col>draw3</th><th scope=col>draw4</th><th scope=col>draw5</th><th scope=col>⋯</th><th scope=col>draw991</th><th scope=col>draw992</th><th scope=col>draw993</th><th scope=col>draw994</th><th scope=col>draw995</th><th scope=col>draw996</th><th scope=col>draw997</th><th scope=col>draw998</th><th scope=col>draw999</th><th scope=col>pop</th></tr></thead>\n",
       "<tbody>\n",
       "\t<tr><td>10       </td><td>1950     </td><td>15       </td><td>1        </td><td>2.2503144</td><td>2.4258791</td><td>1.1211123</td><td>2.9242015</td><td>1.6249613</td><td>4.3722217</td><td>⋯        </td><td>1.1827525</td><td>1.1136993</td><td>2.8482974</td><td>2.7844457</td><td>1.4267172</td><td>1.3551591</td><td>3.563146 </td><td>3.375350 </td><td>2.3019833</td><td>232764   </td></tr>\n",
       "\t<tr><td>10       </td><td>1950     </td><td>15       </td><td>2        </td><td>0.3439372</td><td>0.2166051</td><td>0.5485836</td><td>0.9655187</td><td>1.1025145</td><td>1.6348956</td><td>⋯        </td><td>0.9855367</td><td>1.1710950</td><td>1.8672381</td><td>1.0122322</td><td>0.3983977</td><td>0.6597315</td><td>1.529102 </td><td>1.550342 </td><td>1.0178673</td><td>228276   </td></tr>\n",
       "\t<tr><td>10       </td><td>1950     </td><td>20       </td><td>1        </td><td>1.6679306</td><td>4.4186142</td><td>5.4304417</td><td>1.3993006</td><td>4.1606969</td><td>3.7461768</td><td>⋯        </td><td>6.7339400</td><td>2.9967611</td><td>3.8523922</td><td>1.6038791</td><td>1.7113836</td><td>4.7100943</td><td>9.097668 </td><td>3.265435 </td><td>5.5925956</td><td>201348   </td></tr>\n",
       "\t<tr><td>10       </td><td>1950     </td><td>20       </td><td>2        </td><td>1.3331527</td><td>1.5262440</td><td>1.3058459</td><td>1.2151396</td><td>1.5229837</td><td>3.1882729</td><td>⋯        </td><td>2.7126600</td><td>1.6881564</td><td>1.5497478</td><td>0.3214691</td><td>0.8733422</td><td>2.9860821</td><td>2.472405 </td><td>2.102226 </td><td>1.5156280</td><td>197370   </td></tr>\n",
       "\t<tr><td>10       </td><td>1950     </td><td>25       </td><td>1        </td><td>2.9277657</td><td>3.7244577</td><td>3.7516614</td><td>2.4002815</td><td>2.9042453</td><td>3.1279123</td><td>⋯        </td><td>2.4163672</td><td>2.6215536</td><td>3.1071361</td><td>2.4555426</td><td>3.1901997</td><td>2.9019956</td><td>2.544044 </td><td>2.606943 </td><td>3.0018018</td><td>172482   </td></tr>\n",
       "\t<tr><td>10       </td><td>1950     </td><td>25       </td><td>2        </td><td>0.6288536</td><td>1.1624769</td><td>0.6780706</td><td>0.6170955</td><td>0.5761218</td><td>0.5103016</td><td>⋯        </td><td>0.6757079</td><td>0.6771333</td><td>0.7254781</td><td>1.3144308</td><td>0.8152588</td><td>1.0786091</td><td>1.438194 </td><td>0.878707 </td><td>0.5890368</td><td>169320   </td></tr>\n",
       "</tbody>\n",
       "</table>\n"
      ],
      "text/latex": [
       "\\begin{tabular}{r|lllllllllllllllllllllllllllllllllllllllllllllllllllllllllllllllllllllllllllllllllllllllllllllllllllllllllllllllllllllllllllllllllllllllllllllllllllllllllllllllllllllllllllllllllllllllllllllllllllllllllllllllllllllllllllllllllllllllllllllllllllllllllllllllllllllllllllllllllllllllllllllllllllllllllllllllllllllllllllllllllllllllllllllllllllllllllllllllllllllllllllllllllllllllllllllllllllllllllllllllllllllllllllllllllllllllllllllllllllllllllllllllllllllllllllllllllllllllllllllllllllllllllllllllllllllllllllllllllllllllllllllllllllllllllllllllllllllllllllllllllllllllllllllllllllllllllllllllllllllllllllllllllllllllllllllllllllllllllllllllllllllllllllllllllllllllllllllllllllllllllllllllllllllllllllllllllllllllllllllllllllllllllllllllllllllllllllllllllllllllllllllllllllllllllllllllllllllllllllllllllllllllllllllllllllllllllllllllllllllllllllllllllllllllllllllllllllllllllllllllllllllllllllllllllllllllllllllllllllllllllllllllllllllllllllllllllllllllllllllllllllllllllllllllllllllllllllllllllllllllllllll}\n",
       " location\\_id & year\\_id & age\\_group\\_id & sex\\_id & draw0 & draw1 & draw2 & draw3 & draw4 & draw5 & ⋯ & draw991 & draw992 & draw993 & draw994 & draw995 & draw996 & draw997 & draw998 & draw999 & pop\\\\\n",
       "\\hline\n",
       "\t 10        & 1950      & 15        & 1         & 2.2503144 & 2.4258791 & 1.1211123 & 2.9242015 & 1.6249613 & 4.3722217 & ⋯         & 1.1827525 & 1.1136993 & 2.8482974 & 2.7844457 & 1.4267172 & 1.3551591 & 3.563146  & 3.375350  & 2.3019833 & 232764   \\\\\n",
       "\t 10        & 1950      & 15        & 2         & 0.3439372 & 0.2166051 & 0.5485836 & 0.9655187 & 1.1025145 & 1.6348956 & ⋯         & 0.9855367 & 1.1710950 & 1.8672381 & 1.0122322 & 0.3983977 & 0.6597315 & 1.529102  & 1.550342  & 1.0178673 & 228276   \\\\\n",
       "\t 10        & 1950      & 20        & 1         & 1.6679306 & 4.4186142 & 5.4304417 & 1.3993006 & 4.1606969 & 3.7461768 & ⋯         & 6.7339400 & 2.9967611 & 3.8523922 & 1.6038791 & 1.7113836 & 4.7100943 & 9.097668  & 3.265435  & 5.5925956 & 201348   \\\\\n",
       "\t 10        & 1950      & 20        & 2         & 1.3331527 & 1.5262440 & 1.3058459 & 1.2151396 & 1.5229837 & 3.1882729 & ⋯         & 2.7126600 & 1.6881564 & 1.5497478 & 0.3214691 & 0.8733422 & 2.9860821 & 2.472405  & 2.102226  & 1.5156280 & 197370   \\\\\n",
       "\t 10        & 1950      & 25        & 1         & 2.9277657 & 3.7244577 & 3.7516614 & 2.4002815 & 2.9042453 & 3.1279123 & ⋯         & 2.4163672 & 2.6215536 & 3.1071361 & 2.4555426 & 3.1901997 & 2.9019956 & 2.544044  & 2.606943  & 3.0018018 & 172482   \\\\\n",
       "\t 10        & 1950      & 25        & 2         & 0.6288536 & 1.1624769 & 0.6780706 & 0.6170955 & 0.5761218 & 0.5103016 & ⋯         & 0.6757079 & 0.6771333 & 0.7254781 & 1.3144308 & 0.8152588 & 1.0786091 & 1.438194  & 0.878707  & 0.5890368 & 169320   \\\\\n",
       "\\end{tabular}\n"
      ],
      "text/markdown": [
       "\n",
       "location_id | year_id | age_group_id | sex_id | draw0 | draw1 | draw2 | draw3 | draw4 | draw5 | ⋯ | draw991 | draw992 | draw993 | draw994 | draw995 | draw996 | draw997 | draw998 | draw999 | pop | \n",
       "|---|---|---|---|---|---|\n",
       "| 10        | 1950      | 15        | 1         | 2.2503144 | 2.4258791 | 1.1211123 | 2.9242015 | 1.6249613 | 4.3722217 | ⋯         | 1.1827525 | 1.1136993 | 2.8482974 | 2.7844457 | 1.4267172 | 1.3551591 | 3.563146  | 3.375350  | 2.3019833 | 232764    | \n",
       "| 10        | 1950      | 15        | 2         | 0.3439372 | 0.2166051 | 0.5485836 | 0.9655187 | 1.1025145 | 1.6348956 | ⋯         | 0.9855367 | 1.1710950 | 1.8672381 | 1.0122322 | 0.3983977 | 0.6597315 | 1.529102  | 1.550342  | 1.0178673 | 228276    | \n",
       "| 10        | 1950      | 20        | 1         | 1.6679306 | 4.4186142 | 5.4304417 | 1.3993006 | 4.1606969 | 3.7461768 | ⋯         | 6.7339400 | 2.9967611 | 3.8523922 | 1.6038791 | 1.7113836 | 4.7100943 | 9.097668  | 3.265435  | 5.5925956 | 201348    | \n",
       "| 10        | 1950      | 20        | 2         | 1.3331527 | 1.5262440 | 1.3058459 | 1.2151396 | 1.5229837 | 3.1882729 | ⋯         | 2.7126600 | 1.6881564 | 1.5497478 | 0.3214691 | 0.8733422 | 2.9860821 | 2.472405  | 2.102226  | 1.5156280 | 197370    | \n",
       "| 10        | 1950      | 25        | 1         | 2.9277657 | 3.7244577 | 3.7516614 | 2.4002815 | 2.9042453 | 3.1279123 | ⋯         | 2.4163672 | 2.6215536 | 3.1071361 | 2.4555426 | 3.1901997 | 2.9019956 | 2.544044  | 2.606943  | 3.0018018 | 172482    | \n",
       "| 10        | 1950      | 25        | 2         | 0.6288536 | 1.1624769 | 0.6780706 | 0.6170955 | 0.5761218 | 0.5103016 | ⋯         | 0.6757079 | 0.6771333 | 0.7254781 | 1.3144308 | 0.8152588 | 1.0786091 | 1.438194  | 0.878707  | 0.5890368 | 169320    | \n",
       "\n",
       "\n"
      ],
      "text/plain": [
       "  location_id year_id age_group_id sex_id draw0     draw1     draw2    \n",
       "1 10          1950    15           1      2.2503144 2.4258791 1.1211123\n",
       "2 10          1950    15           2      0.3439372 0.2166051 0.5485836\n",
       "3 10          1950    20           1      1.6679306 4.4186142 5.4304417\n",
       "4 10          1950    20           2      1.3331527 1.5262440 1.3058459\n",
       "5 10          1950    25           1      2.9277657 3.7244577 3.7516614\n",
       "6 10          1950    25           2      0.6288536 1.1624769 0.6780706\n",
       "  draw3     draw4     draw5     ⋯ draw991   draw992   draw993   draw994  \n",
       "1 2.9242015 1.6249613 4.3722217 ⋯ 1.1827525 1.1136993 2.8482974 2.7844457\n",
       "2 0.9655187 1.1025145 1.6348956 ⋯ 0.9855367 1.1710950 1.8672381 1.0122322\n",
       "3 1.3993006 4.1606969 3.7461768 ⋯ 6.7339400 2.9967611 3.8523922 1.6038791\n",
       "4 1.2151396 1.5229837 3.1882729 ⋯ 2.7126600 1.6881564 1.5497478 0.3214691\n",
       "5 2.4002815 2.9042453 3.1279123 ⋯ 2.4163672 2.6215536 3.1071361 2.4555426\n",
       "6 0.6170955 0.5761218 0.5103016 ⋯ 0.6757079 0.6771333 0.7254781 1.3144308\n",
       "  draw995   draw996   draw997  draw998  draw999   pop   \n",
       "1 1.4267172 1.3551591 3.563146 3.375350 2.3019833 232764\n",
       "2 0.3983977 0.6597315 1.529102 1.550342 1.0178673 228276\n",
       "3 1.7113836 4.7100943 9.097668 3.265435 5.5925956 201348\n",
       "4 0.8733422 2.9860821 2.472405 2.102226 1.5156280 197370\n",
       "5 3.1901997 2.9019956 2.544044 2.606943 3.0018018 172482\n",
       "6 0.8152588 1.0786091 1.438194 0.878707 0.5890368 169320"
      ]
     },
     "metadata": {},
     "output_type": "display_data"
    }
   ],
   "source": [
    "# Merge in population\n",
    "Xcorr_df_with_pop2 <- data.table(merge(x=Xcorr_df_with_pop2, y=pop, by = c(\"location_id\", \"year_id\", \"age_group_id\", \"sex_id\")))\n",
    "head(Xcorr_df_with_pop2)"
   ]
  },
  {
   "cell_type": "code",
   "execution_count": 18,
   "metadata": {
    "collapsed": false,
    "scrolled": false
   },
   "outputs": [
    {
     "data": {
      "text/html": [
       "<table>\n",
       "<thead><tr><th scope=col>location_id</th><th scope=col>year_id</th><th scope=col>draw0</th><th scope=col>draw1</th><th scope=col>draw2</th><th scope=col>draw3</th><th scope=col>draw4</th><th scope=col>draw5</th><th scope=col>draw6</th><th scope=col>draw7</th><th scope=col>⋯</th><th scope=col>draw993</th><th scope=col>draw994</th><th scope=col>draw995</th><th scope=col>draw996</th><th scope=col>draw997</th><th scope=col>draw998</th><th scope=col>draw999</th><th scope=col>mean</th><th scope=col>lower</th><th scope=col>upper</th></tr></thead>\n",
       "<tbody>\n",
       "\t<tr><td>10      </td><td>1950    </td><td>1.336208</td><td>1.678651</td><td>1.666961</td><td>1.321678</td><td>1.726451</td><td>2.100176</td><td>1.644592</td><td>1.935168</td><td>⋯       </td><td>1.805843</td><td>1.324314</td><td>1.176254</td><td>1.550790</td><td>2.723640</td><td>1.806279</td><td>2.049624</td><td>1.645919</td><td>1.068804</td><td>2.630491</td></tr>\n",
       "\t<tr><td>10      </td><td>1951    </td><td>1.363233</td><td>1.692118</td><td>1.694677</td><td>1.350223</td><td>1.766093</td><td>2.145282</td><td>1.688327</td><td>1.959271</td><td>⋯       </td><td>1.823794</td><td>1.364587</td><td>1.208113</td><td>1.570845</td><td>2.754895</td><td>1.836829</td><td>2.107365</td><td>1.675652</td><td>1.087175</td><td>2.682010</td></tr>\n",
       "\t<tr><td>10      </td><td>1952    </td><td>1.391230</td><td>1.705612</td><td>1.723597</td><td>1.380729</td><td>1.806876</td><td>2.189708</td><td>1.732409</td><td>1.983210</td><td>⋯       </td><td>1.841873</td><td>1.406279</td><td>1.241448</td><td>1.591174</td><td>2.785191</td><td>1.867273</td><td>2.165253</td><td>1.706197</td><td>1.111213</td><td>2.737125</td></tr>\n",
       "\t<tr><td>10      </td><td>1953    </td><td>1.420162</td><td>1.719183</td><td>1.753810</td><td>1.413282</td><td>1.848761</td><td>2.233337</td><td>1.776700</td><td>2.007246</td><td>⋯       </td><td>1.860134</td><td>1.449185</td><td>1.276323</td><td>1.611863</td><td>2.814625</td><td>1.897611</td><td>2.223214</td><td>1.737582</td><td>1.135241</td><td>2.791019</td></tr>\n",
       "\t<tr><td>10      </td><td>1954    </td><td>1.449966</td><td>1.732866</td><td>1.785342</td><td>1.447930</td><td>1.891650</td><td>2.276010</td><td>1.821005</td><td>2.031560</td><td>⋯       </td><td>1.878600</td><td>1.493041</td><td>1.312772</td><td>1.633004</td><td>2.843222</td><td>1.927806</td><td>2.281070</td><td>1.769783</td><td>1.160084</td><td>2.835183</td></tr>\n",
       "\t<tr><td>10      </td><td>1955    </td><td>1.480594</td><td>1.746735</td><td>1.818158</td><td>1.484754</td><td>1.935420</td><td>2.317627</td><td>1.865190</td><td>2.056326</td><td>⋯       </td><td>1.897400</td><td>1.537597</td><td>1.350822</td><td>1.654735</td><td>2.871037</td><td>1.957871</td><td>2.338589</td><td>1.802792</td><td>1.190560</td><td>2.875104</td></tr>\n",
       "</tbody>\n",
       "</table>\n"
      ],
      "text/latex": [
       "\\begin{tabular}{r|lllllllllllllllllllllllllllllllllllllllllllllllllllllllllllllllllllllllllllllllllllllllllllllllllllllllllllllllllllllllllllllllllllllllllllllllllllllllllllllllllllllllllllllllllllllllllllllllllllllllllllllllllllllllllllllllllllllllllllllllllllllllllllllllllllllllllllllllllllllllllllllllllllllllllllllllllllllllllllllllllllllllllllllllllllllllllllllllllllllllllllllllllllllllllllllllllllllllllllllllllllllllllllllllllllllllllllllllllllllllllllllllllllllllllllllllllllllllllllllllllllllllllllllllllllllllllllllllllllllllllllllllllllllllllllllllllllllllllllllllllllllllllllllllllllllllllllllllllllllllllllllllllllllllllllllllllllllllllllllllllllllllllllllllllllllllllllllllllllllllllllllllllllllllllllllllllllllllllllllllllllllllllllllllllllllllllllllllllllllllllllllllllllllllllllllllllllllllllllllllllllllllllllllllllllllllllllllllllllllllllllllllllllllllllllllllllllllllllllllllllllllllllllllllllllllllllllllllllllllllllllllllllllllllllllllllllllllllllllllllllllllllllllllllllllllllllllllllllllllllllllll}\n",
       " location\\_id & year\\_id & draw0 & draw1 & draw2 & draw3 & draw4 & draw5 & draw6 & draw7 & ⋯ & draw993 & draw994 & draw995 & draw996 & draw997 & draw998 & draw999 & mean & lower & upper\\\\\n",
       "\\hline\n",
       "\t 10       & 1950     & 1.336208 & 1.678651 & 1.666961 & 1.321678 & 1.726451 & 2.100176 & 1.644592 & 1.935168 & ⋯        & 1.805843 & 1.324314 & 1.176254 & 1.550790 & 2.723640 & 1.806279 & 2.049624 & 1.645919 & 1.068804 & 2.630491\\\\\n",
       "\t 10       & 1951     & 1.363233 & 1.692118 & 1.694677 & 1.350223 & 1.766093 & 2.145282 & 1.688327 & 1.959271 & ⋯        & 1.823794 & 1.364587 & 1.208113 & 1.570845 & 2.754895 & 1.836829 & 2.107365 & 1.675652 & 1.087175 & 2.682010\\\\\n",
       "\t 10       & 1952     & 1.391230 & 1.705612 & 1.723597 & 1.380729 & 1.806876 & 2.189708 & 1.732409 & 1.983210 & ⋯        & 1.841873 & 1.406279 & 1.241448 & 1.591174 & 2.785191 & 1.867273 & 2.165253 & 1.706197 & 1.111213 & 2.737125\\\\\n",
       "\t 10       & 1953     & 1.420162 & 1.719183 & 1.753810 & 1.413282 & 1.848761 & 2.233337 & 1.776700 & 2.007246 & ⋯        & 1.860134 & 1.449185 & 1.276323 & 1.611863 & 2.814625 & 1.897611 & 2.223214 & 1.737582 & 1.135241 & 2.791019\\\\\n",
       "\t 10       & 1954     & 1.449966 & 1.732866 & 1.785342 & 1.447930 & 1.891650 & 2.276010 & 1.821005 & 2.031560 & ⋯        & 1.878600 & 1.493041 & 1.312772 & 1.633004 & 2.843222 & 1.927806 & 2.281070 & 1.769783 & 1.160084 & 2.835183\\\\\n",
       "\t 10       & 1955     & 1.480594 & 1.746735 & 1.818158 & 1.484754 & 1.935420 & 2.317627 & 1.865190 & 2.056326 & ⋯        & 1.897400 & 1.537597 & 1.350822 & 1.654735 & 2.871037 & 1.957871 & 2.338589 & 1.802792 & 1.190560 & 2.875104\\\\\n",
       "\\end{tabular}\n"
      ],
      "text/markdown": [
       "\n",
       "location_id | year_id | draw0 | draw1 | draw2 | draw3 | draw4 | draw5 | draw6 | draw7 | ⋯ | draw993 | draw994 | draw995 | draw996 | draw997 | draw998 | draw999 | mean | lower | upper | \n",
       "|---|---|---|---|---|---|\n",
       "| 10       | 1950     | 1.336208 | 1.678651 | 1.666961 | 1.321678 | 1.726451 | 2.100176 | 1.644592 | 1.935168 | ⋯        | 1.805843 | 1.324314 | 1.176254 | 1.550790 | 2.723640 | 1.806279 | 2.049624 | 1.645919 | 1.068804 | 2.630491 | \n",
       "| 10       | 1951     | 1.363233 | 1.692118 | 1.694677 | 1.350223 | 1.766093 | 2.145282 | 1.688327 | 1.959271 | ⋯        | 1.823794 | 1.364587 | 1.208113 | 1.570845 | 2.754895 | 1.836829 | 2.107365 | 1.675652 | 1.087175 | 2.682010 | \n",
       "| 10       | 1952     | 1.391230 | 1.705612 | 1.723597 | 1.380729 | 1.806876 | 2.189708 | 1.732409 | 1.983210 | ⋯        | 1.841873 | 1.406279 | 1.241448 | 1.591174 | 2.785191 | 1.867273 | 2.165253 | 1.706197 | 1.111213 | 2.737125 | \n",
       "| 10       | 1953     | 1.420162 | 1.719183 | 1.753810 | 1.413282 | 1.848761 | 2.233337 | 1.776700 | 2.007246 | ⋯        | 1.860134 | 1.449185 | 1.276323 | 1.611863 | 2.814625 | 1.897611 | 2.223214 | 1.737582 | 1.135241 | 2.791019 | \n",
       "| 10       | 1954     | 1.449966 | 1.732866 | 1.785342 | 1.447930 | 1.891650 | 2.276010 | 1.821005 | 2.031560 | ⋯        | 1.878600 | 1.493041 | 1.312772 | 1.633004 | 2.843222 | 1.927806 | 2.281070 | 1.769783 | 1.160084 | 2.835183 | \n",
       "| 10       | 1955     | 1.480594 | 1.746735 | 1.818158 | 1.484754 | 1.935420 | 2.317627 | 1.865190 | 2.056326 | ⋯        | 1.897400 | 1.537597 | 1.350822 | 1.654735 | 2.871037 | 1.957871 | 2.338589 | 1.802792 | 1.190560 | 2.875104 | \n",
       "\n",
       "\n"
      ],
      "text/plain": [
       "  location_id year_id draw0    draw1    draw2    draw3    draw4    draw5   \n",
       "1 10          1950    1.336208 1.678651 1.666961 1.321678 1.726451 2.100176\n",
       "2 10          1951    1.363233 1.692118 1.694677 1.350223 1.766093 2.145282\n",
       "3 10          1952    1.391230 1.705612 1.723597 1.380729 1.806876 2.189708\n",
       "4 10          1953    1.420162 1.719183 1.753810 1.413282 1.848761 2.233337\n",
       "5 10          1954    1.449966 1.732866 1.785342 1.447930 1.891650 2.276010\n",
       "6 10          1955    1.480594 1.746735 1.818158 1.484754 1.935420 2.317627\n",
       "  draw6    draw7    ⋯ draw993  draw994  draw995  draw996  draw997  draw998 \n",
       "1 1.644592 1.935168 ⋯ 1.805843 1.324314 1.176254 1.550790 2.723640 1.806279\n",
       "2 1.688327 1.959271 ⋯ 1.823794 1.364587 1.208113 1.570845 2.754895 1.836829\n",
       "3 1.732409 1.983210 ⋯ 1.841873 1.406279 1.241448 1.591174 2.785191 1.867273\n",
       "4 1.776700 2.007246 ⋯ 1.860134 1.449185 1.276323 1.611863 2.814625 1.897611\n",
       "5 1.821005 2.031560 ⋯ 1.878600 1.493041 1.312772 1.633004 2.843222 1.927806\n",
       "6 1.865190 2.056326 ⋯ 1.897400 1.537597 1.350822 1.654735 2.871037 1.957871\n",
       "  draw999  mean     lower    upper   \n",
       "1 2.049624 1.645919 1.068804 2.630491\n",
       "2 2.107365 1.675652 1.087175 2.682010\n",
       "3 2.165253 1.706197 1.111213 2.737125\n",
       "4 2.223214 1.737582 1.135241 2.791019\n",
       "5 2.281070 1.769783 1.160084 2.835183\n",
       "6 2.338589 1.802792 1.190560 2.875104"
      ]
     },
     "metadata": {},
     "output_type": "display_data"
    }
   ],
   "source": [
    "# Collapse correlated data and compute the mean and PCs\n",
    "Xcorr_df_CY<- Xcorr_df_with_pop2[, lapply(.SD, function(x) sum(x*pop)/sum(pop)), \n",
    "    by=c(\"location_id\", \"year_id\"), .SDcols=cbind(paste0(\"draw\",c(0:999))) ] \n",
    "Xcorr_df_CY <- Xcorr_df_CY[, `:=` (mean = rowMeans(.SD, na.rm=T),\n",
    "                                  lower = rowQuantiles(.SD, na.rm=T, probs=c(0.025)),\n",
    "                                  upper = rowQuantiles(.SD, na.rm=T, probs=c(0.975))), \n",
    "                           .SDcols = c(paste0(\"draw\",c(0:999))) ]    \n",
    "head(Xcorr_df_CY)"
   ]
  },
  {
   "cell_type": "code",
   "execution_count": 19,
   "metadata": {
    "collapsed": false
   },
   "outputs": [
    {
     "data": {
      "text/html": [
       "<table>\n",
       "<thead><tr><th scope=col>location_id</th><th scope=col>year_id</th><th scope=col>draw0</th><th scope=col>draw1</th><th scope=col>draw2</th><th scope=col>draw3</th><th scope=col>draw4</th><th scope=col>draw5</th><th scope=col>draw6</th><th scope=col>draw7</th><th scope=col>⋯</th><th scope=col>draw993</th><th scope=col>draw994</th><th scope=col>draw995</th><th scope=col>draw996</th><th scope=col>draw997</th><th scope=col>draw998</th><th scope=col>draw999</th><th scope=col>mean</th><th scope=col>lower</th><th scope=col>upper</th></tr></thead>\n",
       "<tbody>\n",
       "\t<tr><td>6       </td><td>1950    </td><td>2.432078</td><td>2.713488</td><td>2.444265</td><td>2.684126</td><td>2.419469</td><td>2.592997</td><td>2.535412</td><td>2.335430</td><td>⋯       </td><td>2.890653</td><td>2.466241</td><td>2.551215</td><td>3.288327</td><td>2.176167</td><td>2.639432</td><td>2.735019</td><td>2.635495</td><td>2.221110</td><td>3.105943</td></tr>\n",
       "\t<tr><td>6       </td><td>1951    </td><td>2.510957</td><td>2.804991</td><td>2.535165</td><td>2.754107</td><td>2.496789</td><td>2.665202</td><td>2.624748</td><td>2.420907</td><td>⋯       </td><td>2.963955</td><td>2.546576</td><td>2.622928</td><td>3.380717</td><td>2.242943</td><td>2.730847</td><td>2.831496</td><td>2.716177</td><td>2.299438</td><td>3.189553</td></tr>\n",
       "\t<tr><td>6       </td><td>1952    </td><td>2.595274</td><td>2.899303</td><td>2.629450</td><td>2.825219</td><td>2.577961</td><td>2.739777</td><td>2.717568</td><td>2.510471</td><td>⋯       </td><td>3.039806</td><td>2.631755</td><td>2.697830</td><td>3.471224</td><td>2.312788</td><td>2.826638</td><td>2.931058</td><td>2.799702</td><td>2.374159</td><td>3.287171</td></tr>\n",
       "\t<tr><td>6       </td><td>1953    </td><td>2.683937</td><td>2.996656</td><td>2.726524</td><td>2.896823</td><td>2.663117</td><td>2.816964</td><td>2.813468</td><td>2.603953</td><td>⋯       </td><td>3.117165</td><td>2.721595</td><td>2.775853</td><td>3.558953</td><td>2.385391</td><td>2.925752</td><td>3.032577</td><td>2.885641</td><td>2.465587</td><td>3.379080</td></tr>\n",
       "\t<tr><td>6       </td><td>1954    </td><td>2.775488</td><td>3.097141</td><td>2.825747</td><td>2.968049</td><td>2.752269</td><td>2.896925</td><td>2.911723</td><td>2.701238</td><td>⋯       </td><td>3.194826</td><td>2.815741</td><td>2.856832</td><td>3.642799</td><td>2.460515</td><td>3.026658</td><td>3.134533</td><td>2.973364</td><td>2.557058</td><td>3.466352</td></tr>\n",
       "\t<tr><td>6       </td><td>1955    </td><td>2.869003</td><td>3.200475</td><td>2.926663</td><td>3.038625</td><td>2.845288</td><td>2.979550</td><td>3.011781</td><td>2.802236</td><td>⋯       </td><td>3.272223</td><td>2.913949</td><td>2.940522</td><td>3.722581</td><td>2.538353</td><td>3.128242</td><td>3.235780</td><td>3.062452</td><td>2.636971</td><td>3.564466</td></tr>\n",
       "</tbody>\n",
       "</table>\n"
      ],
      "text/latex": [
       "\\begin{tabular}{r|lllllllllllllllllllllllllllllllllllllllllllllllllllllllllllllllllllllllllllllllllllllllllllllllllllllllllllllllllllllllllllllllllllllllllllllllllllllllllllllllllllllllllllllllllllllllllllllllllllllllllllllllllllllllllllllllllllllllllllllllllllllllllllllllllllllllllllllllllllllllllllllllllllllllllllllllllllllllllllllllllllllllllllllllllllllllllllllllllllllllllllllllllllllllllllllllllllllllllllllllllllllllllllllllllllllllllllllllllllllllllllllllllllllllllllllllllllllllllllllllllllllllllllllllllllllllllllllllllllllllllllllllllllllllllllllllllllllllllllllllllllllllllllllllllllllllllllllllllllllllllllllllllllllllllllllllllllllllllllllllllllllllllllllllllllllllllllllllllllllllllllllllllllllllllllllllllllllllllllllllllllllllllllllllllllllllllllllllllllllllllllllllllllllllllllllllllllllllllllllllllllllllllllllllllllllllllllllllllllllllllllllllllllllllllllllllllllllllllllllllllllllllllllllllllllllllllllllllllllllllllllllllllllllllllllllllllllllllllllllllllllllllllllllllllllllllllllllllllllllllllllll}\n",
       " location\\_id & year\\_id & draw0 & draw1 & draw2 & draw3 & draw4 & draw5 & draw6 & draw7 & ⋯ & draw993 & draw994 & draw995 & draw996 & draw997 & draw998 & draw999 & mean & lower & upper\\\\\n",
       "\\hline\n",
       "\t 6        & 1950     & 2.432078 & 2.713488 & 2.444265 & 2.684126 & 2.419469 & 2.592997 & 2.535412 & 2.335430 & ⋯        & 2.890653 & 2.466241 & 2.551215 & 3.288327 & 2.176167 & 2.639432 & 2.735019 & 2.635495 & 2.221110 & 3.105943\\\\\n",
       "\t 6        & 1951     & 2.510957 & 2.804991 & 2.535165 & 2.754107 & 2.496789 & 2.665202 & 2.624748 & 2.420907 & ⋯        & 2.963955 & 2.546576 & 2.622928 & 3.380717 & 2.242943 & 2.730847 & 2.831496 & 2.716177 & 2.299438 & 3.189553\\\\\n",
       "\t 6        & 1952     & 2.595274 & 2.899303 & 2.629450 & 2.825219 & 2.577961 & 2.739777 & 2.717568 & 2.510471 & ⋯        & 3.039806 & 2.631755 & 2.697830 & 3.471224 & 2.312788 & 2.826638 & 2.931058 & 2.799702 & 2.374159 & 3.287171\\\\\n",
       "\t 6        & 1953     & 2.683937 & 2.996656 & 2.726524 & 2.896823 & 2.663117 & 2.816964 & 2.813468 & 2.603953 & ⋯        & 3.117165 & 2.721595 & 2.775853 & 3.558953 & 2.385391 & 2.925752 & 3.032577 & 2.885641 & 2.465587 & 3.379080\\\\\n",
       "\t 6        & 1954     & 2.775488 & 3.097141 & 2.825747 & 2.968049 & 2.752269 & 2.896925 & 2.911723 & 2.701238 & ⋯        & 3.194826 & 2.815741 & 2.856832 & 3.642799 & 2.460515 & 3.026658 & 3.134533 & 2.973364 & 2.557058 & 3.466352\\\\\n",
       "\t 6        & 1955     & 2.869003 & 3.200475 & 2.926663 & 3.038625 & 2.845288 & 2.979550 & 3.011781 & 2.802236 & ⋯        & 3.272223 & 2.913949 & 2.940522 & 3.722581 & 2.538353 & 3.128242 & 3.235780 & 3.062452 & 2.636971 & 3.564466\\\\\n",
       "\\end{tabular}\n"
      ],
      "text/markdown": [
       "\n",
       "location_id | year_id | draw0 | draw1 | draw2 | draw3 | draw4 | draw5 | draw6 | draw7 | ⋯ | draw993 | draw994 | draw995 | draw996 | draw997 | draw998 | draw999 | mean | lower | upper | \n",
       "|---|---|---|---|---|---|\n",
       "| 6        | 1950     | 2.432078 | 2.713488 | 2.444265 | 2.684126 | 2.419469 | 2.592997 | 2.535412 | 2.335430 | ⋯        | 2.890653 | 2.466241 | 2.551215 | 3.288327 | 2.176167 | 2.639432 | 2.735019 | 2.635495 | 2.221110 | 3.105943 | \n",
       "| 6        | 1951     | 2.510957 | 2.804991 | 2.535165 | 2.754107 | 2.496789 | 2.665202 | 2.624748 | 2.420907 | ⋯        | 2.963955 | 2.546576 | 2.622928 | 3.380717 | 2.242943 | 2.730847 | 2.831496 | 2.716177 | 2.299438 | 3.189553 | \n",
       "| 6        | 1952     | 2.595274 | 2.899303 | 2.629450 | 2.825219 | 2.577961 | 2.739777 | 2.717568 | 2.510471 | ⋯        | 3.039806 | 2.631755 | 2.697830 | 3.471224 | 2.312788 | 2.826638 | 2.931058 | 2.799702 | 2.374159 | 3.287171 | \n",
       "| 6        | 1953     | 2.683937 | 2.996656 | 2.726524 | 2.896823 | 2.663117 | 2.816964 | 2.813468 | 2.603953 | ⋯        | 3.117165 | 2.721595 | 2.775853 | 3.558953 | 2.385391 | 2.925752 | 3.032577 | 2.885641 | 2.465587 | 3.379080 | \n",
       "| 6        | 1954     | 2.775488 | 3.097141 | 2.825747 | 2.968049 | 2.752269 | 2.896925 | 2.911723 | 2.701238 | ⋯        | 3.194826 | 2.815741 | 2.856832 | 3.642799 | 2.460515 | 3.026658 | 3.134533 | 2.973364 | 2.557058 | 3.466352 | \n",
       "| 6        | 1955     | 2.869003 | 3.200475 | 2.926663 | 3.038625 | 2.845288 | 2.979550 | 3.011781 | 2.802236 | ⋯        | 3.272223 | 2.913949 | 2.940522 | 3.722581 | 2.538353 | 3.128242 | 3.235780 | 3.062452 | 2.636971 | 3.564466 | \n",
       "\n",
       "\n"
      ],
      "text/plain": [
       "  location_id year_id draw0    draw1    draw2    draw3    draw4    draw5   \n",
       "1 6           1950    2.432078 2.713488 2.444265 2.684126 2.419469 2.592997\n",
       "2 6           1951    2.510957 2.804991 2.535165 2.754107 2.496789 2.665202\n",
       "3 6           1952    2.595274 2.899303 2.629450 2.825219 2.577961 2.739777\n",
       "4 6           1953    2.683937 2.996656 2.726524 2.896823 2.663117 2.816964\n",
       "5 6           1954    2.775488 3.097141 2.825747 2.968049 2.752269 2.896925\n",
       "6 6           1955    2.869003 3.200475 2.926663 3.038625 2.845288 2.979550\n",
       "  draw6    draw7    ⋯ draw993  draw994  draw995  draw996  draw997  draw998 \n",
       "1 2.535412 2.335430 ⋯ 2.890653 2.466241 2.551215 3.288327 2.176167 2.639432\n",
       "2 2.624748 2.420907 ⋯ 2.963955 2.546576 2.622928 3.380717 2.242943 2.730847\n",
       "3 2.717568 2.510471 ⋯ 3.039806 2.631755 2.697830 3.471224 2.312788 2.826638\n",
       "4 2.813468 2.603953 ⋯ 3.117165 2.721595 2.775853 3.558953 2.385391 2.925752\n",
       "5 2.911723 2.701238 ⋯ 3.194826 2.815741 2.856832 3.642799 2.460515 3.026658\n",
       "6 3.011781 2.802236 ⋯ 3.272223 2.913949 2.940522 3.722581 2.538353 3.128242\n",
       "  draw999  mean     lower    upper   \n",
       "1 2.735019 2.635495 2.221110 3.105943\n",
       "2 2.831496 2.716177 2.299438 3.189553\n",
       "3 2.931058 2.799702 2.374159 3.287171\n",
       "4 3.032577 2.885641 2.465587 3.379080\n",
       "5 3.134533 2.973364 2.557058 3.466352\n",
       "6 3.235780 3.062452 2.636971 3.564466"
      ]
     },
     "metadata": {},
     "output_type": "display_data"
    }
   ],
   "source": [
    "# Collapse un-correlated data\n",
    "uncorr_df_CY<- edu_orig_2[,lapply(.SD, function(x) sum(x*pop)/sum(pop)), \n",
    "    by=c(\"location_id\", \"year_id\"), .SDcols=cbind(paste0(\"draw\",c(0:999))) ] \n",
    "uncorr_df_CY <- uncorr_df_CY[, `:=` (mean = rowMeans(.SD, na.rm=T),\n",
    "                              lower = rowQuantiles(.SD, na.rm=T, probs=c(0.025)),\n",
    "                              upper = rowQuantiles(.SD, na.rm=T, probs=c(0.975))), \n",
    "                       .SDcols = c(paste0(\"draw\",c(0:999))) ] \n",
    "head(uncorr_df_CY)"
   ]
  },
  {
   "cell_type": "markdown",
   "metadata": {},
   "source": [
    "#### Test plots"
   ]
  },
  {
   "cell_type": "code",
   "execution_count": 22,
   "metadata": {
    "collapsed": false
   },
   "outputs": [
    {
     "data": {
      "text/plain": [
       "   user  system elapsed \n",
       "400.692  20.453 420.963 "
      ]
     },
     "metadata": {},
     "output_type": "display_data"
    },
    {
     "name": "stdout",
     "output_type": "stream",
     "text": [
      " num [1:195, 1:91, 1:28, 1:1000] 3.78 2.89 3.67 2.25 2.04 ...\n",
      " - attr(*, \"dimnames\")=List of 4\n",
      "  ..$ : chr [1:195] \"6\" \"7\" \"8\" \"10\" ...\n",
      "  ..$ : chr [1:91] \"1950\" \"1951\" \"1952\" \"1953\" ...\n",
      "  ..$ : chr [1:28] \"15_1\" \"15_2\" \"20_1\" \"20_2\" ...\n",
      "  ..$ : chr [1:1000] \"draw0\" \"draw1\" \"draw2\" \"draw3\" ...\n"
     ]
    }
   ],
   "source": [
    "# Convert to arrays for super faster subsetting\n",
    "system.time(myarray3<- lapply(countries, \n",
    "                                function(x) reshape2::acast(Xcorr_df[location_id == x,], \n",
    "                                                      location_id ~  year_id ~ age_sex ~ draw_num, \n",
    "                                                      value.var = \"edu\")))\n",
    "myarray3 <- abind(myarray3, along=1)\n",
    "str(myarray3)"
   ]
  },
  {
   "cell_type": "code",
   "execution_count": 43,
   "metadata": {
    "collapsed": false
   },
   "outputs": [
    {
     "name": "stderr",
     "output_type": "stream",
     "text": [
      "`stat_bin()` using `bins = 30`. Pick better value with `binwidth`.\n",
      "`stat_bin()` using `bins = 30`. Pick better value with `binwidth`.\n"
     ]
    },
    {
     "data": {},
     "metadata": {},
     "output_type": "display_data"
    },
    {
     "data": {
      "image/png": "[encoded data removed]",
      "text/plain": [
       "plot without title"
      ]
     },
     "metadata": {},
     "output_type": "display_data"
    }
   ],
   "source": [
    "x1<-data.frame(myarray2[\"6\",\"2040\",\"15_1\",]); colnames(x1) <- \"data\"\n",
    "x2<-data.frame(myarray3[\"6\",\"2040\",\"15_1\",]); colnames(x2) <- \"data\"\n",
    "\n",
    "ggplot(data = x1, aes(x=data)) + \n",
    "    geom_histogram(aes(y=  ..density..), alpha=0.3, fill=\"steelblue\") +\n",
    "    geom_density(color =\"blue4\") +\n",
    "geom_histogram(data = x1, aes(x=data, y=  ..density..), alpha=0.15, fill=\"red1\") +\n",
    "    geom_density(color =\"red4\")   + ggtitle(\"China: age group 15-20; male\")"
   ]
  },
  {
   "cell_type": "code",
   "execution_count": 45,
   "metadata": {
    "collapsed": false
   },
   "outputs": [
    {
     "name": "stderr",
     "output_type": "stream",
     "text": [
      "`stat_bin()` using `bins = 30`. Pick better value with `binwidth`.\n",
      "`stat_bin()` using `bins = 30`. Pick better value with `binwidth`.\n"
     ]
    },
    {
     "data": {},
     "metadata": {},
     "output_type": "display_data"
    },
    {
     "data": {
      "image/png": "[encoded data removed]",
      "text/plain": [
       "plot without title"
      ]
     },
     "metadata": {},
     "output_type": "display_data"
    }
   ],
   "source": [
    "x1<-data.frame(myarray2[\"6\",\"2040\",\"75_2\",]); colnames(x1) <- \"data\"\n",
    "x2<-data.frame(myarray3[\"6\",\"2040\",\"75_2\",]); colnames(x2) <- \"data\"\n",
    "\n",
    "ggplot(data = x1, aes(x=data)) + \n",
    "    geom_histogram(aes(y=  ..density..), alpha=0.3, fill=\"steelblue\") +\n",
    "    geom_density(color =\"blue4\") +\n",
    "geom_histogram(data = x1, aes(x=data, y=  ..density..), alpha=0.15, fill=\"red1\") +\n",
    "    geom_density(color =\"red4\") + ggtitle(\"China: age group 75-80; female\")"
   ]
  },
  {
   "cell_type": "code",
   "execution_count": 28,
   "metadata": {
    "collapsed": false
   },
   "outputs": [
    {
     "name": "stdout",
     "output_type": "stream",
     "text": [
      " num [1:191, 1:91, 1:1003] 2.43 2.72 3.84 1.47 1.9 ...\n",
      " - attr(*, \"dimnames\")=List of 3\n",
      "  ..$ : chr [1:191] \"6\" \"7\" \"8\" \"10\" ...\n",
      "  ..$ : chr [1:91] \"1950\" \"1951\" \"1952\" \"1953\" ...\n",
      "  ..$ : chr [1:1003] \"draw0\" \"draw1\" \"draw2\" \"draw3\" ...\n"
     ]
    }
   ],
   "source": [
    "## Turn the collapsed ones into arrays as well\n",
    "array_Xcorr_df_CY <- melt(Xcorr_df_CY, id.vars = c(\"location_id\", \"year_id\"), value.name = \"edu\", variable.name = \"variable\")\n",
    "array_Xcorr_df_CY <- reshape2::acast(array_Xcorr_df_CY, location_id ~ year_id ~ variable, value.var = \"edu\")\n",
    "str(array_Xcorr_df_CY) ### last 3 values are mean, upper, lower\n",
    "\n",
    "array_uncorr_df_CY <- melt(uncorr_df_CY, id.vars = c(\"location_id\", \"year_id\"), value.name = \"edu\", variable.name = \"variable\")\n",
    "array_uncorr_df_CY <- reshape2::acast(array_uncorr_df_CY, location_id ~ year_id ~ variable, value.var = \"edu\")\n",
    "str(array_uncorr_df_CY) ### last 3 values are mean, upper, lower"
   ]
  },
  {
   "cell_type": "code",
   "execution_count": 34,
   "metadata": {
    "collapsed": false
   },
   "outputs": [
    {
     "data": {},
     "metadata": {},
     "output_type": "display_data"
    },
    {
     "data": {
      "image/png": "[encoded data removed]",
      "text/plain": [
       "plot without title"
      ]
     },
     "metadata": {},
     "output_type": "display_data"
    }
   ],
   "source": [
    "plot_country_collapsed<-function(loc_id) {\n",
    "ggplot(uncorr_df_CY[location_id == loc_id,], aes(x = year_id, y = mean, ymin = lower, ymax = upper)) +\n",
    "    geom_ribbon(alpha = 0.3, fill=\"steelblue\") +\n",
    "    geom_line(color = \"blue4\") +\n",
    "    geom_ribbon(data=Xcorr_df_CY[location_id == loc_id,], aes(x = year_id, ymin = lower, ymax = upper),\n",
    "                alpha = 0.15, fill=\"red1\") +\n",
    "    geom_line(aes(x=year_id, y=mean),color = \"red4\") + xlab(\"Year\") + ylab(\"Education\") +\n",
    "    ggtitle(paste0(\"location_id: \", loc_id, \"; collapsed to C-Y : blue before copula, red after copula\"))\n",
    "}\n",
    "\n",
    "plot_country_collapsed(6)"
   ]
  },
  {
   "cell_type": "code",
   "execution_count": 46,
   "metadata": {
    "collapsed": false
   },
   "outputs": [],
   "source": [
    "## Save out data\n",
    "\n",
    "# Collapsed C-Y\n",
    "fwrite(Xcorr_df_CY, \"/home/j/WORK/01_covariates/02_inputs/education/update_2017/data/output_data/20161121_GBD2016prelim_95+_raked_2/country_year_A_S_T_collapsed.csv\")"
   ]
  },
  {
   "cell_type": "markdown",
   "metadata": {},
   "source": [
    "### Make country-year plots"
   ]
  },
  {
   "cell_type": "code",
   "execution_count": 35,
   "metadata": {
    "collapsed": false
   },
   "outputs": [
    {
     "data": {
      "text/html": [
       "<strong>png:</strong> 2"
      ],
      "text/latex": [
       "\\textbf{png:} 2"
      ],
      "text/markdown": [
       "**png:** 2"
      ],
      "text/plain": [
       "png \n",
       "  2 "
      ]
     },
     "metadata": {},
     "output_type": "display_data"
    }
   ],
   "source": [
    "filename <- paste0(\"/homes/sadatnfs/test_edu.pdf\")\n",
    "pdf(filename, width=10, height = 6)\n",
    "    for(c in countries){\n",
    "        print(plot_country_collapsed(c))\n",
    "    }\n",
    "dev.off()"
   ]
  },
  {
   "cell_type": "code",
   "execution_count": null,
   "metadata": {
    "collapsed": true
   },
   "outputs": [],
   "source": []
  }
 ],
 "metadata": {
  "anaconda-cloud": {},
  "kernelspec": {
   "display_name": "R 3.4.1",
   "language": "R",
   "name": "ir"
  },
  "language_info": {
   "codemirror_mode": "r",
   "file_extension": ".r",
   "mimetype": "text/x-r-source",
   "name": "R",
   "pygments_lexer": "r",
   "version": "3.4.1"
  }
 },
 "nbformat": 4,
 "nbformat_minor": 1
}
