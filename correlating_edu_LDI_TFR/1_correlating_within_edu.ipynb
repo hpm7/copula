{
 "cells": [
  {
   "cell_type": "code",
   "execution_count": 1,
   "metadata": {
    "collapsed": false,
    "scrolled": true
   },
   "outputs": [
    {
     "name": "stderr",
     "output_type": "stream",
     "text": [
      "Loading required package: data.table\n",
      "Loading required package: MASS\n",
      "Loading required package: ggplot2\n",
      "Loading required package: gridExtra\n",
      "Loading required package: stringr\n",
      "Loading required package: matrixStats\n",
      "Loading required package: parallel\n",
      "Loading required package: abind\n"
     ]
    },
    {
     "data": {
      "text/html": [
       "64"
      ],
      "text/latex": [
       "64"
      ],
      "text/markdown": [
       "64"
      ],
      "text/plain": [
       "[1] 64"
      ]
     },
     "metadata": {},
     "output_type": "display_data"
    }
   ],
   "source": [
    "# rm(list=ls())\n",
    "require(data.table)\n",
    "require(MASS)\n",
    "require(ggplot2)\n",
    "# require(foreach)\n",
    "require(gridExtra)\n",
    "require(stringr)\n",
    "require(matrixStats)\n",
    "require(parallel)\n",
    "require(abind)\n",
    "\n",
    "parallel::detectCores()\n",
    "## Resizing notebook plot space\n",
    "options(repr.plot.width=16, repr.plot.height=9)"
   ]
  },
  {
   "cell_type": "code",
   "execution_count": 2,
   "metadata": {
    "collapsed": false
   },
   "outputs": [
    {
     "data": {
      "text/html": [
       "<table>\n",
       "<thead><tr><th scope=col>location_id</th><th scope=col>sex_id</th><th scope=col>age_group_id</th><th scope=col>year_id</th><th scope=col>pop</th></tr></thead>\n",
       "<tbody>\n",
       "\t<tr><td>6       </td><td>1       </td><td>15      </td><td>1950    </td><td>27530292</td></tr>\n",
       "\t<tr><td>6       </td><td>1       </td><td>15      </td><td>1951    </td><td>28008975</td></tr>\n",
       "\t<tr><td>6       </td><td>1       </td><td>15      </td><td>1952    </td><td>28183766</td></tr>\n",
       "\t<tr><td>6       </td><td>1       </td><td>15      </td><td>1953    </td><td>28252474</td></tr>\n",
       "\t<tr><td>6       </td><td>1       </td><td>15      </td><td>1954    </td><td>28303795</td></tr>\n",
       "\t<tr><td>6       </td><td>1       </td><td>15      </td><td>1955    </td><td>28343730</td></tr>\n",
       "</tbody>\n",
       "</table>\n"
      ],
      "text/latex": [
       "\\begin{tabular}{r|lllll}\n",
       " location\\_id & sex\\_id & age\\_group\\_id & year\\_id & pop\\\\\n",
       "\\hline\n",
       "\t 6        & 1        & 15       & 1950     & 27530292\\\\\n",
       "\t 6        & 1        & 15       & 1951     & 28008975\\\\\n",
       "\t 6        & 1        & 15       & 1952     & 28183766\\\\\n",
       "\t 6        & 1        & 15       & 1953     & 28252474\\\\\n",
       "\t 6        & 1        & 15       & 1954     & 28303795\\\\\n",
       "\t 6        & 1        & 15       & 1955     & 28343730\\\\\n",
       "\\end{tabular}\n"
      ],
      "text/markdown": [
       "\n",
       "location_id | sex_id | age_group_id | year_id | pop | \n",
       "|---|---|---|---|---|---|\n",
       "| 6        | 1        | 15       | 1950     | 27530292 | \n",
       "| 6        | 1        | 15       | 1951     | 28008975 | \n",
       "| 6        | 1        | 15       | 1952     | 28183766 | \n",
       "| 6        | 1        | 15       | 1953     | 28252474 | \n",
       "| 6        | 1        | 15       | 1954     | 28303795 | \n",
       "| 6        | 1        | 15       | 1955     | 28343730 | \n",
       "\n",
       "\n"
      ],
      "text/plain": [
       "  location_id sex_id age_group_id year_id pop     \n",
       "1 6           1      15           1950    27530292\n",
       "2 6           1      15           1951    28008975\n",
       "3 6           1      15           1952    28183766\n",
       "4 6           1      15           1953    28252474\n",
       "5 6           1      15           1954    28303795\n",
       "6 6           1      15           1955    28343730"
      ]
     },
     "metadata": {},
     "output_type": "display_data"
    }
   ],
   "source": [
    "## POP DATA from UN\n",
    "# pop <- data.table(fread(\"/home/j/Project/IRH/Forecasting/data/WPP_forecasted_population.csv\"))\n",
    "pop <- fread('/ihme/forecasting/data/pop/20150101_wpp/data.csv')\n",
    "pop <- pop[, age_group_id:=15+5*(age_group_id -8)] \n",
    "pop<- pop[age_group_id == 15 | age_group_id == 20 | age_group_id == 25 | age_group_id == 30 | age_group_id == 35 | age_group_id == 40 | age_group_id == 45 | age_group_id == 50 | age_group_id == 55 | age_group_id == 60 | age_group_id == 65 | age_group_id == 70 | age_group_id == 75 | age_group_id == 85,]\n",
    "head(pop)"
   ]
  },
  {
   "cell_type": "code",
   "execution_count": 3,
   "metadata": {
    "collapsed": false,
    "scrolled": true
   },
   "outputs": [
    {
     "name": "stdout",
     "output_type": "stream",
     "text": [
      "Read 475800 rows and 1004 (of 1004) columns from 6.191 GB file in 00:02:55\n",
      "Read 475800 rows and 1004 (of 1004) columns from 6.196 GB file in 00:02:52\n",
      "Read 475800 rows and 1004 (of 1004) columns from 6.190 GB file in 00:02:59\n"
     ]
    }
   ],
   "source": [
    "## Education forecasts\n",
    "# edu_orig<-data.table(fread(paste0(\"/home/j/WORK/01_covariates/02_inputs/education/update_2017/data/tabulated_data/archive_nafis/20161121_GBD2016prelim_95+_raked_2/gpr_draws.csv\"), header = T))\n",
    "# edu_orig <- edu_orig[, V1:=NULL]\n",
    "# head(edu_orig)\n",
    "\n",
    "edu_ref <- fread(\"/ihme/forecasting/data/fbd_scenarios_data/forecast/covariate/education/20170608_GBD2016Final/20170608_GBD2016Final_gpr_draws_scenario0.csv\")\n",
    "edu_pes <- fread(\"/ihme/forecasting/data/fbd_scenarios_data/forecast/covariate/education/20170608_GBD2016Final/20170608_GBD2016Final_gpr_draws_scenario-1.csv\")\n",
    "edu_opt <- fread(\"/ihme/forecasting/data/fbd_scenarios_data/forecast/covariate/education/20170608_GBD2016Final/20170608_GBD2016Final_gpr_draws_scenario1.csv\")"
   ]
  },
  {
   "cell_type": "code",
   "execution_count": 4,
   "metadata": {
    "collapsed": false
   },
   "outputs": [],
   "source": [
    "## Convert age_group_id to age_start\n",
    "  ## Leave out the younglings (no maternal education)    \n",
    "    edu_ref <- edu_ref[age_group_id >7]\n",
    "    edu_ref <- edu_ref[, age_group_id:=15+5*(age_group_id -8)] \n",
    "    \n",
    "    edu_pes <- edu_pes[age_group_id >7]\n",
    "    edu_pes <- edu_pes[, age_group_id:=15+5*(age_group_id -8)] \n",
    "    \n",
    "    edu_opt <- edu_opt[age_group_id >7]\n",
    "    edu_opt <- edu_opt[, age_group_id:=15+5*(age_group_id -8)] \n",
    "\n",
    "\n",
    "\n",
    "# edu_orig_2 <- edu_orig\n",
    "## Merge pop for later stuff\n",
    "# edu_orig_2 <- merge(edu_orig_2, pop, by = c(\"location_id\", \"year_id\", \"age_group_id\", \"sex_id\"))\n",
    "# head(edu_orig_2)"
   ]
  },
  {
   "cell_type": "code",
   "execution_count": 5,
   "metadata": {
    "collapsed": false,
    "scrolled": true
   },
   "outputs": [
    {
     "data": {
      "text/html": [
       "<table>\n",
       "<thead><tr><th scope=col>location_id</th><th scope=col>age_group_id</th><th scope=col>sex_id</th><th scope=col>year_id</th><th scope=col>draw_0</th><th scope=col>draw_1</th><th scope=col>draw_2</th><th scope=col>draw_3</th><th scope=col>draw_4</th><th scope=col>draw_5</th><th scope=col>⋯</th><th scope=col>draw_990</th><th scope=col>draw_991</th><th scope=col>draw_992</th><th scope=col>draw_993</th><th scope=col>draw_994</th><th scope=col>draw_995</th><th scope=col>draw_996</th><th scope=col>draw_997</th><th scope=col>draw_998</th><th scope=col>draw_999</th></tr></thead>\n",
       "<tbody>\n",
       "\t<tr><td>6       </td><td>15      </td><td>1       </td><td>1980    </td><td>8.195544</td><td>7.856324</td><td>8.401491</td><td>9.273246</td><td>8.992329</td><td>8.964878</td><td>⋯       </td><td>9.161543</td><td>8.760984</td><td>8.799634</td><td>7.828814</td><td>8.363295</td><td>8.391927</td><td>7.986652</td><td>8.969120</td><td>7.888389</td><td>8.868681</td></tr>\n",
       "\t<tr><td>6       </td><td>15      </td><td>1       </td><td>1981    </td><td>8.147565</td><td>7.995990</td><td>8.300895</td><td>9.233780</td><td>9.023098</td><td>8.942048</td><td>⋯       </td><td>9.096156</td><td>8.771453</td><td>8.835323</td><td>7.893521</td><td>8.456012</td><td>8.404336</td><td>8.119655</td><td>8.888441</td><td>7.918112</td><td>8.809835</td></tr>\n",
       "\t<tr><td>6       </td><td>15      </td><td>1       </td><td>1982    </td><td>8.099316</td><td>8.128367</td><td>8.207957</td><td>9.189589</td><td>9.047270</td><td>8.918667</td><td>⋯       </td><td>9.027742</td><td>8.785263</td><td>8.869407</td><td>7.953739</td><td>8.548425</td><td>8.412889</td><td>8.246784</td><td>8.807993</td><td>7.947025</td><td>8.759813</td></tr>\n",
       "\t<tr><td>6       </td><td>15      </td><td>1       </td><td>1983    </td><td>8.052140</td><td>8.253047</td><td>8.123502</td><td>9.141470</td><td>9.065569</td><td>8.895725</td><td>⋯       </td><td>8.957377</td><td>8.802851</td><td>8.903085</td><td>8.010255</td><td>8.640162</td><td>8.418698</td><td>8.368072</td><td>8.729619</td><td>7.975628</td><td>8.719149</td></tr>\n",
       "\t<tr><td>6       </td><td>15      </td><td>1       </td><td>1984    </td><td>8.007288</td><td>8.369833</td><td>8.048323</td><td>9.090263</td><td>9.078829</td><td>8.874083</td><td>⋯       </td><td>8.886159</td><td>8.824562</td><td>8.937524</td><td>8.063889</td><td>8.730709</td><td>8.422927</td><td>8.483543</td><td>8.655100</td><td>8.004449</td><td>8.688123</td></tr>\n",
       "\t<tr><td>6       </td><td>15      </td><td>1       </td><td>1985    </td><td>7.965937</td><td>8.478749</td><td>7.983198</td><td>9.036858</td><td>9.087964</td><td>8.854468</td><td>⋯       </td><td>8.815209</td><td>8.850664</td><td>8.973828</td><td>8.115483</td><td>8.819436</td><td>8.426788</td><td>8.593215</td><td>8.586134</td><td>8.034035</td><td>8.666778</td></tr>\n",
       "</tbody>\n",
       "</table>\n"
      ],
      "text/latex": [
       "\\begin{tabular}{r|llllllllllllllllllllllllllllllllllllllllllllllllllllllllllllllllllllllllllllllllllllllllllllllllllllllllllllllllllllllllllllllllllllllllllllllllllllllllllllllllllllllllllllllllllllllllllllllllllllllllllllllllllllllllllllllllllllllllllllllllllllllllllllllllllllllllllllllllllllllllllllllllllllllllllllllllllllllllllllllllllllllllllllllllllllllllllllllllllllllllllllllllllllllllllllllllllllllllllllllllllllllllllllllllllllllllllllllllllllllllllllllllllllllllllllllllllllllllllllllllllllllllllllllllllllllllllllllllllllllllllllllllllllllllllllllllllllllllllllllllllllllllllllllllllllllllllllllllllllllllllllllllllllllllllllllllllllllllllllllllllllllllllllllllllllllllllllllllllllllllllllllllllllllllllllllllllllllllllllllllllllllllllllllllllllllllllllllllllllllllllllllllllllllllllllllllllllllllllllllllllllllllllllllllllllllllllllllllllllllllllllllllllllllllllllllllllllllllllllllllllllllllllllllllllllllllllllllllllllllllllllllllllllllllllllllllllllllllllllllllllllllllllllllllllllllllllllllllllllllllllll}\n",
       " location\\_id & age\\_group\\_id & sex\\_id & year\\_id & draw\\_0 & draw\\_1 & draw\\_2 & draw\\_3 & draw\\_4 & draw\\_5 & ⋯ & draw\\_990 & draw\\_991 & draw\\_992 & draw\\_993 & draw\\_994 & draw\\_995 & draw\\_996 & draw\\_997 & draw\\_998 & draw\\_999\\\\\n",
       "\\hline\n",
       "\t 6        & 15       & 1        & 1980     & 8.195544 & 7.856324 & 8.401491 & 9.273246 & 8.992329 & 8.964878 & ⋯        & 9.161543 & 8.760984 & 8.799634 & 7.828814 & 8.363295 & 8.391927 & 7.986652 & 8.969120 & 7.888389 & 8.868681\\\\\n",
       "\t 6        & 15       & 1        & 1981     & 8.147565 & 7.995990 & 8.300895 & 9.233780 & 9.023098 & 8.942048 & ⋯        & 9.096156 & 8.771453 & 8.835323 & 7.893521 & 8.456012 & 8.404336 & 8.119655 & 8.888441 & 7.918112 & 8.809835\\\\\n",
       "\t 6        & 15       & 1        & 1982     & 8.099316 & 8.128367 & 8.207957 & 9.189589 & 9.047270 & 8.918667 & ⋯        & 9.027742 & 8.785263 & 8.869407 & 7.953739 & 8.548425 & 8.412889 & 8.246784 & 8.807993 & 7.947025 & 8.759813\\\\\n",
       "\t 6        & 15       & 1        & 1983     & 8.052140 & 8.253047 & 8.123502 & 9.141470 & 9.065569 & 8.895725 & ⋯        & 8.957377 & 8.802851 & 8.903085 & 8.010255 & 8.640162 & 8.418698 & 8.368072 & 8.729619 & 7.975628 & 8.719149\\\\\n",
       "\t 6        & 15       & 1        & 1984     & 8.007288 & 8.369833 & 8.048323 & 9.090263 & 9.078829 & 8.874083 & ⋯        & 8.886159 & 8.824562 & 8.937524 & 8.063889 & 8.730709 & 8.422927 & 8.483543 & 8.655100 & 8.004449 & 8.688123\\\\\n",
       "\t 6        & 15       & 1        & 1985     & 7.965937 & 8.478749 & 7.983198 & 9.036858 & 9.087964 & 8.854468 & ⋯        & 8.815209 & 8.850664 & 8.973828 & 8.115483 & 8.819436 & 8.426788 & 8.593215 & 8.586134 & 8.034035 & 8.666778\\\\\n",
       "\\end{tabular}\n"
      ],
      "text/markdown": [
       "\n",
       "location_id | age_group_id | sex_id | year_id | draw_0 | draw_1 | draw_2 | draw_3 | draw_4 | draw_5 | ⋯ | draw_990 | draw_991 | draw_992 | draw_993 | draw_994 | draw_995 | draw_996 | draw_997 | draw_998 | draw_999 | \n",
       "|---|---|---|---|---|---|\n",
       "| 6        | 15       | 1        | 1980     | 8.195544 | 7.856324 | 8.401491 | 9.273246 | 8.992329 | 8.964878 | ⋯        | 9.161543 | 8.760984 | 8.799634 | 7.828814 | 8.363295 | 8.391927 | 7.986652 | 8.969120 | 7.888389 | 8.868681 | \n",
       "| 6        | 15       | 1        | 1981     | 8.147565 | 7.995990 | 8.300895 | 9.233780 | 9.023098 | 8.942048 | ⋯        | 9.096156 | 8.771453 | 8.835323 | 7.893521 | 8.456012 | 8.404336 | 8.119655 | 8.888441 | 7.918112 | 8.809835 | \n",
       "| 6        | 15       | 1        | 1982     | 8.099316 | 8.128367 | 8.207957 | 9.189589 | 9.047270 | 8.918667 | ⋯        | 9.027742 | 8.785263 | 8.869407 | 7.953739 | 8.548425 | 8.412889 | 8.246784 | 8.807993 | 7.947025 | 8.759813 | \n",
       "| 6        | 15       | 1        | 1983     | 8.052140 | 8.253047 | 8.123502 | 9.141470 | 9.065569 | 8.895725 | ⋯        | 8.957377 | 8.802851 | 8.903085 | 8.010255 | 8.640162 | 8.418698 | 8.368072 | 8.729619 | 7.975628 | 8.719149 | \n",
       "| 6        | 15       | 1        | 1984     | 8.007288 | 8.369833 | 8.048323 | 9.090263 | 9.078829 | 8.874083 | ⋯        | 8.886159 | 8.824562 | 8.937524 | 8.063889 | 8.730709 | 8.422927 | 8.483543 | 8.655100 | 8.004449 | 8.688123 | \n",
       "| 6        | 15       | 1        | 1985     | 7.965937 | 8.478749 | 7.983198 | 9.036858 | 9.087964 | 8.854468 | ⋯        | 8.815209 | 8.850664 | 8.973828 | 8.115483 | 8.819436 | 8.426788 | 8.593215 | 8.586134 | 8.034035 | 8.666778 | \n",
       "\n",
       "\n"
      ],
      "text/plain": [
       "  location_id age_group_id sex_id year_id draw_0   draw_1   draw_2   draw_3  \n",
       "1 6           15           1      1980    8.195544 7.856324 8.401491 9.273246\n",
       "2 6           15           1      1981    8.147565 7.995990 8.300895 9.233780\n",
       "3 6           15           1      1982    8.099316 8.128367 8.207957 9.189589\n",
       "4 6           15           1      1983    8.052140 8.253047 8.123502 9.141470\n",
       "5 6           15           1      1984    8.007288 8.369833 8.048323 9.090263\n",
       "6 6           15           1      1985    7.965937 8.478749 7.983198 9.036858\n",
       "  draw_4   draw_5   ⋯ draw_990 draw_991 draw_992 draw_993 draw_994 draw_995\n",
       "1 8.992329 8.964878 ⋯ 9.161543 8.760984 8.799634 7.828814 8.363295 8.391927\n",
       "2 9.023098 8.942048 ⋯ 9.096156 8.771453 8.835323 7.893521 8.456012 8.404336\n",
       "3 9.047270 8.918667 ⋯ 9.027742 8.785263 8.869407 7.953739 8.548425 8.412889\n",
       "4 9.065569 8.895725 ⋯ 8.957377 8.802851 8.903085 8.010255 8.640162 8.418698\n",
       "5 9.078829 8.874083 ⋯ 8.886159 8.824562 8.937524 8.063889 8.730709 8.422927\n",
       "6 9.087964 8.854468 ⋯ 8.815209 8.850664 8.973828 8.115483 8.819436 8.426788\n",
       "  draw_996 draw_997 draw_998 draw_999\n",
       "1 7.986652 8.969120 7.888389 8.868681\n",
       "2 8.119655 8.888441 7.918112 8.809835\n",
       "3 8.246784 8.807993 7.947025 8.759813\n",
       "4 8.368072 8.729619 7.975628 8.719149\n",
       "5 8.483543 8.655100 8.004449 8.688123\n",
       "6 8.593215 8.586134 8.034035 8.666778"
      ]
     },
     "metadata": {},
     "output_type": "display_data"
    },
    {
     "data": {
      "text/html": [
       "<table>\n",
       "<thead><tr><th scope=col>location_id</th><th scope=col>age_group_id</th><th scope=col>sex_id</th><th scope=col>year_id</th><th scope=col>draw_0</th><th scope=col>draw_1</th><th scope=col>draw_2</th><th scope=col>draw_3</th><th scope=col>draw_4</th><th scope=col>draw_5</th><th scope=col>⋯</th><th scope=col>draw_990</th><th scope=col>draw_991</th><th scope=col>draw_992</th><th scope=col>draw_993</th><th scope=col>draw_994</th><th scope=col>draw_995</th><th scope=col>draw_996</th><th scope=col>draw_997</th><th scope=col>draw_998</th><th scope=col>draw_999</th></tr></thead>\n",
       "<tbody>\n",
       "\t<tr><td>6       </td><td>15      </td><td>1       </td><td>1980    </td><td>8.195544</td><td>7.856324</td><td>8.401491</td><td>9.273246</td><td>8.992329</td><td>8.964878</td><td>⋯       </td><td>9.161543</td><td>8.760984</td><td>8.799634</td><td>7.828814</td><td>8.363295</td><td>8.391927</td><td>7.986652</td><td>8.969120</td><td>7.888389</td><td>8.868681</td></tr>\n",
       "\t<tr><td>6       </td><td>15      </td><td>1       </td><td>1981    </td><td>8.147565</td><td>7.995990</td><td>8.300895</td><td>9.233780</td><td>9.023098</td><td>8.942048</td><td>⋯       </td><td>9.096156</td><td>8.771453</td><td>8.835323</td><td>7.893521</td><td>8.456012</td><td>8.404336</td><td>8.119655</td><td>8.888441</td><td>7.918112</td><td>8.809835</td></tr>\n",
       "\t<tr><td>6       </td><td>15      </td><td>1       </td><td>1982    </td><td>8.099316</td><td>8.128367</td><td>8.207957</td><td>9.189589</td><td>9.047270</td><td>8.918667</td><td>⋯       </td><td>9.027742</td><td>8.785263</td><td>8.869407</td><td>7.953739</td><td>8.548425</td><td>8.412889</td><td>8.246784</td><td>8.807993</td><td>7.947025</td><td>8.759813</td></tr>\n",
       "\t<tr><td>6       </td><td>15      </td><td>1       </td><td>1983    </td><td>8.052140</td><td>8.253047</td><td>8.123502</td><td>9.141470</td><td>9.065569</td><td>8.895725</td><td>⋯       </td><td>8.957377</td><td>8.802851</td><td>8.903085</td><td>8.010255</td><td>8.640162</td><td>8.418698</td><td>8.368072</td><td>8.729619</td><td>7.975628</td><td>8.719149</td></tr>\n",
       "\t<tr><td>6       </td><td>15      </td><td>1       </td><td>1984    </td><td>8.007288</td><td>8.369833</td><td>8.048323</td><td>9.090263</td><td>9.078829</td><td>8.874083</td><td>⋯       </td><td>8.886159</td><td>8.824562</td><td>8.937524</td><td>8.063889</td><td>8.730709</td><td>8.422927</td><td>8.483543</td><td>8.655100</td><td>8.004449</td><td>8.688123</td></tr>\n",
       "\t<tr><td>6       </td><td>15      </td><td>1       </td><td>1985    </td><td>7.965937</td><td>8.478749</td><td>7.983198</td><td>9.036858</td><td>9.087964</td><td>8.854468</td><td>⋯       </td><td>8.815209</td><td>8.850664</td><td>8.973828</td><td>8.115483</td><td>8.819436</td><td>8.426788</td><td>8.593215</td><td>8.586134</td><td>8.034035</td><td>8.666778</td></tr>\n",
       "</tbody>\n",
       "</table>\n"
      ],
      "text/latex": [
       "\\begin{tabular}{r|llllllllllllllllllllllllllllllllllllllllllllllllllllllllllllllllllllllllllllllllllllllllllllllllllllllllllllllllllllllllllllllllllllllllllllllllllllllllllllllllllllllllllllllllllllllllllllllllllllllllllllllllllllllllllllllllllllllllllllllllllllllllllllllllllllllllllllllllllllllllllllllllllllllllllllllllllllllllllllllllllllllllllllllllllllllllllllllllllllllllllllllllllllllllllllllllllllllllllllllllllllllllllllllllllllllllllllllllllllllllllllllllllllllllllllllllllllllllllllllllllllllllllllllllllllllllllllllllllllllllllllllllllllllllllllllllllllllllllllllllllllllllllllllllllllllllllllllllllllllllllllllllllllllllllllllllllllllllllllllllllllllllllllllllllllllllllllllllllllllllllllllllllllllllllllllllllllllllllllllllllllllllllllllllllllllllllllllllllllllllllllllllllllllllllllllllllllllllllllllllllllllllllllllllllllllllllllllllllllllllllllllllllllllllllllllllllllllllllllllllllllllllllllllllllllllllllllllllllllllllllllllllllllllllllllllllllllllllllllllllllllllllllllllllllllllllllllllllllllllllllll}\n",
       " location\\_id & age\\_group\\_id & sex\\_id & year\\_id & draw\\_0 & draw\\_1 & draw\\_2 & draw\\_3 & draw\\_4 & draw\\_5 & ⋯ & draw\\_990 & draw\\_991 & draw\\_992 & draw\\_993 & draw\\_994 & draw\\_995 & draw\\_996 & draw\\_997 & draw\\_998 & draw\\_999\\\\\n",
       "\\hline\n",
       "\t 6        & 15       & 1        & 1980     & 8.195544 & 7.856324 & 8.401491 & 9.273246 & 8.992329 & 8.964878 & ⋯        & 9.161543 & 8.760984 & 8.799634 & 7.828814 & 8.363295 & 8.391927 & 7.986652 & 8.969120 & 7.888389 & 8.868681\\\\\n",
       "\t 6        & 15       & 1        & 1981     & 8.147565 & 7.995990 & 8.300895 & 9.233780 & 9.023098 & 8.942048 & ⋯        & 9.096156 & 8.771453 & 8.835323 & 7.893521 & 8.456012 & 8.404336 & 8.119655 & 8.888441 & 7.918112 & 8.809835\\\\\n",
       "\t 6        & 15       & 1        & 1982     & 8.099316 & 8.128367 & 8.207957 & 9.189589 & 9.047270 & 8.918667 & ⋯        & 9.027742 & 8.785263 & 8.869407 & 7.953739 & 8.548425 & 8.412889 & 8.246784 & 8.807993 & 7.947025 & 8.759813\\\\\n",
       "\t 6        & 15       & 1        & 1983     & 8.052140 & 8.253047 & 8.123502 & 9.141470 & 9.065569 & 8.895725 & ⋯        & 8.957377 & 8.802851 & 8.903085 & 8.010255 & 8.640162 & 8.418698 & 8.368072 & 8.729619 & 7.975628 & 8.719149\\\\\n",
       "\t 6        & 15       & 1        & 1984     & 8.007288 & 8.369833 & 8.048323 & 9.090263 & 9.078829 & 8.874083 & ⋯        & 8.886159 & 8.824562 & 8.937524 & 8.063889 & 8.730709 & 8.422927 & 8.483543 & 8.655100 & 8.004449 & 8.688123\\\\\n",
       "\t 6        & 15       & 1        & 1985     & 7.965937 & 8.478749 & 7.983198 & 9.036858 & 9.087964 & 8.854468 & ⋯        & 8.815209 & 8.850664 & 8.973828 & 8.115483 & 8.819436 & 8.426788 & 8.593215 & 8.586134 & 8.034035 & 8.666778\\\\\n",
       "\\end{tabular}\n"
      ],
      "text/markdown": [
       "\n",
       "location_id | age_group_id | sex_id | year_id | draw_0 | draw_1 | draw_2 | draw_3 | draw_4 | draw_5 | ⋯ | draw_990 | draw_991 | draw_992 | draw_993 | draw_994 | draw_995 | draw_996 | draw_997 | draw_998 | draw_999 | \n",
       "|---|---|---|---|---|---|\n",
       "| 6        | 15       | 1        | 1980     | 8.195544 | 7.856324 | 8.401491 | 9.273246 | 8.992329 | 8.964878 | ⋯        | 9.161543 | 8.760984 | 8.799634 | 7.828814 | 8.363295 | 8.391927 | 7.986652 | 8.969120 | 7.888389 | 8.868681 | \n",
       "| 6        | 15       | 1        | 1981     | 8.147565 | 7.995990 | 8.300895 | 9.233780 | 9.023098 | 8.942048 | ⋯        | 9.096156 | 8.771453 | 8.835323 | 7.893521 | 8.456012 | 8.404336 | 8.119655 | 8.888441 | 7.918112 | 8.809835 | \n",
       "| 6        | 15       | 1        | 1982     | 8.099316 | 8.128367 | 8.207957 | 9.189589 | 9.047270 | 8.918667 | ⋯        | 9.027742 | 8.785263 | 8.869407 | 7.953739 | 8.548425 | 8.412889 | 8.246784 | 8.807993 | 7.947025 | 8.759813 | \n",
       "| 6        | 15       | 1        | 1983     | 8.052140 | 8.253047 | 8.123502 | 9.141470 | 9.065569 | 8.895725 | ⋯        | 8.957377 | 8.802851 | 8.903085 | 8.010255 | 8.640162 | 8.418698 | 8.368072 | 8.729619 | 7.975628 | 8.719149 | \n",
       "| 6        | 15       | 1        | 1984     | 8.007288 | 8.369833 | 8.048323 | 9.090263 | 9.078829 | 8.874083 | ⋯        | 8.886159 | 8.824562 | 8.937524 | 8.063889 | 8.730709 | 8.422927 | 8.483543 | 8.655100 | 8.004449 | 8.688123 | \n",
       "| 6        | 15       | 1        | 1985     | 7.965937 | 8.478749 | 7.983198 | 9.036858 | 9.087964 | 8.854468 | ⋯        | 8.815209 | 8.850664 | 8.973828 | 8.115483 | 8.819436 | 8.426788 | 8.593215 | 8.586134 | 8.034035 | 8.666778 | \n",
       "\n",
       "\n"
      ],
      "text/plain": [
       "  location_id age_group_id sex_id year_id draw_0   draw_1   draw_2   draw_3  \n",
       "1 6           15           1      1980    8.195544 7.856324 8.401491 9.273246\n",
       "2 6           15           1      1981    8.147565 7.995990 8.300895 9.233780\n",
       "3 6           15           1      1982    8.099316 8.128367 8.207957 9.189589\n",
       "4 6           15           1      1983    8.052140 8.253047 8.123502 9.141470\n",
       "5 6           15           1      1984    8.007288 8.369833 8.048323 9.090263\n",
       "6 6           15           1      1985    7.965937 8.478749 7.983198 9.036858\n",
       "  draw_4   draw_5   ⋯ draw_990 draw_991 draw_992 draw_993 draw_994 draw_995\n",
       "1 8.992329 8.964878 ⋯ 9.161543 8.760984 8.799634 7.828814 8.363295 8.391927\n",
       "2 9.023098 8.942048 ⋯ 9.096156 8.771453 8.835323 7.893521 8.456012 8.404336\n",
       "3 9.047270 8.918667 ⋯ 9.027742 8.785263 8.869407 7.953739 8.548425 8.412889\n",
       "4 9.065569 8.895725 ⋯ 8.957377 8.802851 8.903085 8.010255 8.640162 8.418698\n",
       "5 9.078829 8.874083 ⋯ 8.886159 8.824562 8.937524 8.063889 8.730709 8.422927\n",
       "6 9.087964 8.854468 ⋯ 8.815209 8.850664 8.973828 8.115483 8.819436 8.426788\n",
       "  draw_996 draw_997 draw_998 draw_999\n",
       "1 7.986652 8.969120 7.888389 8.868681\n",
       "2 8.119655 8.888441 7.918112 8.809835\n",
       "3 8.246784 8.807993 7.947025 8.759813\n",
       "4 8.368072 8.729619 7.975628 8.719149\n",
       "5 8.483543 8.655100 8.004449 8.688123\n",
       "6 8.593215 8.586134 8.034035 8.666778"
      ]
     },
     "metadata": {},
     "output_type": "display_data"
    },
    {
     "data": {
      "text/html": [
       "<table>\n",
       "<thead><tr><th scope=col>location_id</th><th scope=col>age_group_id</th><th scope=col>sex_id</th><th scope=col>year_id</th><th scope=col>draw_0</th><th scope=col>draw_1</th><th scope=col>draw_2</th><th scope=col>draw_3</th><th scope=col>draw_4</th><th scope=col>draw_5</th><th scope=col>⋯</th><th scope=col>draw_990</th><th scope=col>draw_991</th><th scope=col>draw_992</th><th scope=col>draw_993</th><th scope=col>draw_994</th><th scope=col>draw_995</th><th scope=col>draw_996</th><th scope=col>draw_997</th><th scope=col>draw_998</th><th scope=col>draw_999</th></tr></thead>\n",
       "<tbody>\n",
       "\t<tr><td>6       </td><td>15      </td><td>1       </td><td>1980    </td><td>8.195544</td><td>7.856324</td><td>8.401491</td><td>9.273246</td><td>8.992329</td><td>8.964878</td><td>⋯       </td><td>9.161543</td><td>8.760984</td><td>8.799634</td><td>7.828814</td><td>8.363295</td><td>8.391927</td><td>7.986652</td><td>8.969120</td><td>7.888389</td><td>8.868681</td></tr>\n",
       "\t<tr><td>6       </td><td>15      </td><td>1       </td><td>1981    </td><td>8.147565</td><td>7.995990</td><td>8.300895</td><td>9.233780</td><td>9.023098</td><td>8.942048</td><td>⋯       </td><td>9.096156</td><td>8.771453</td><td>8.835323</td><td>7.893521</td><td>8.456012</td><td>8.404336</td><td>8.119655</td><td>8.888441</td><td>7.918112</td><td>8.809835</td></tr>\n",
       "\t<tr><td>6       </td><td>15      </td><td>1       </td><td>1982    </td><td>8.099316</td><td>8.128367</td><td>8.207957</td><td>9.189589</td><td>9.047270</td><td>8.918667</td><td>⋯       </td><td>9.027742</td><td>8.785263</td><td>8.869407</td><td>7.953739</td><td>8.548425</td><td>8.412889</td><td>8.246784</td><td>8.807993</td><td>7.947025</td><td>8.759813</td></tr>\n",
       "\t<tr><td>6       </td><td>15      </td><td>1       </td><td>1983    </td><td>8.052140</td><td>8.253047</td><td>8.123502</td><td>9.141470</td><td>9.065569</td><td>8.895725</td><td>⋯       </td><td>8.957377</td><td>8.802851</td><td>8.903085</td><td>8.010255</td><td>8.640162</td><td>8.418698</td><td>8.368072</td><td>8.729619</td><td>7.975628</td><td>8.719149</td></tr>\n",
       "\t<tr><td>6       </td><td>15      </td><td>1       </td><td>1984    </td><td>8.007288</td><td>8.369833</td><td>8.048323</td><td>9.090263</td><td>9.078829</td><td>8.874083</td><td>⋯       </td><td>8.886159</td><td>8.824562</td><td>8.937524</td><td>8.063889</td><td>8.730709</td><td>8.422927</td><td>8.483543</td><td>8.655100</td><td>8.004449</td><td>8.688123</td></tr>\n",
       "\t<tr><td>6       </td><td>15      </td><td>1       </td><td>1985    </td><td>7.965937</td><td>8.478749</td><td>7.983198</td><td>9.036858</td><td>9.087964</td><td>8.854468</td><td>⋯       </td><td>8.815209</td><td>8.850664</td><td>8.973828</td><td>8.115483</td><td>8.819436</td><td>8.426788</td><td>8.593215</td><td>8.586134</td><td>8.034035</td><td>8.666778</td></tr>\n",
       "</tbody>\n",
       "</table>\n"
      ],
      "text/latex": [
       "\\begin{tabular}{r|llllllllllllllllllllllllllllllllllllllllllllllllllllllllllllllllllllllllllllllllllllllllllllllllllllllllllllllllllllllllllllllllllllllllllllllllllllllllllllllllllllllllllllllllllllllllllllllllllllllllllllllllllllllllllllllllllllllllllllllllllllllllllllllllllllllllllllllllllllllllllllllllllllllllllllllllllllllllllllllllllllllllllllllllllllllllllllllllllllllllllllllllllllllllllllllllllllllllllllllllllllllllllllllllllllllllllllllllllllllllllllllllllllllllllllllllllllllllllllllllllllllllllllllllllllllllllllllllllllllllllllllllllllllllllllllllllllllllllllllllllllllllllllllllllllllllllllllllllllllllllllllllllllllllllllllllllllllllllllllllllllllllllllllllllllllllllllllllllllllllllllllllllllllllllllllllllllllllllllllllllllllllllllllllllllllllllllllllllllllllllllllllllllllllllllllllllllllllllllllllllllllllllllllllllllllllllllllllllllllllllllllllllllllllllllllllllllllllllllllllllllllllllllllllllllllllllllllllllllllllllllllllllllllllllllllllllllllllllllllllllllllllllllllllllllllllllllllllllllllllllll}\n",
       " location\\_id & age\\_group\\_id & sex\\_id & year\\_id & draw\\_0 & draw\\_1 & draw\\_2 & draw\\_3 & draw\\_4 & draw\\_5 & ⋯ & draw\\_990 & draw\\_991 & draw\\_992 & draw\\_993 & draw\\_994 & draw\\_995 & draw\\_996 & draw\\_997 & draw\\_998 & draw\\_999\\\\\n",
       "\\hline\n",
       "\t 6        & 15       & 1        & 1980     & 8.195544 & 7.856324 & 8.401491 & 9.273246 & 8.992329 & 8.964878 & ⋯        & 9.161543 & 8.760984 & 8.799634 & 7.828814 & 8.363295 & 8.391927 & 7.986652 & 8.969120 & 7.888389 & 8.868681\\\\\n",
       "\t 6        & 15       & 1        & 1981     & 8.147565 & 7.995990 & 8.300895 & 9.233780 & 9.023098 & 8.942048 & ⋯        & 9.096156 & 8.771453 & 8.835323 & 7.893521 & 8.456012 & 8.404336 & 8.119655 & 8.888441 & 7.918112 & 8.809835\\\\\n",
       "\t 6        & 15       & 1        & 1982     & 8.099316 & 8.128367 & 8.207957 & 9.189589 & 9.047270 & 8.918667 & ⋯        & 9.027742 & 8.785263 & 8.869407 & 7.953739 & 8.548425 & 8.412889 & 8.246784 & 8.807993 & 7.947025 & 8.759813\\\\\n",
       "\t 6        & 15       & 1        & 1983     & 8.052140 & 8.253047 & 8.123502 & 9.141470 & 9.065569 & 8.895725 & ⋯        & 8.957377 & 8.802851 & 8.903085 & 8.010255 & 8.640162 & 8.418698 & 8.368072 & 8.729619 & 7.975628 & 8.719149\\\\\n",
       "\t 6        & 15       & 1        & 1984     & 8.007288 & 8.369833 & 8.048323 & 9.090263 & 9.078829 & 8.874083 & ⋯        & 8.886159 & 8.824562 & 8.937524 & 8.063889 & 8.730709 & 8.422927 & 8.483543 & 8.655100 & 8.004449 & 8.688123\\\\\n",
       "\t 6        & 15       & 1        & 1985     & 7.965937 & 8.478749 & 7.983198 & 9.036858 & 9.087964 & 8.854468 & ⋯        & 8.815209 & 8.850664 & 8.973828 & 8.115483 & 8.819436 & 8.426788 & 8.593215 & 8.586134 & 8.034035 & 8.666778\\\\\n",
       "\\end{tabular}\n"
      ],
      "text/markdown": [
       "\n",
       "location_id | age_group_id | sex_id | year_id | draw_0 | draw_1 | draw_2 | draw_3 | draw_4 | draw_5 | ⋯ | draw_990 | draw_991 | draw_992 | draw_993 | draw_994 | draw_995 | draw_996 | draw_997 | draw_998 | draw_999 | \n",
       "|---|---|---|---|---|---|\n",
       "| 6        | 15       | 1        | 1980     | 8.195544 | 7.856324 | 8.401491 | 9.273246 | 8.992329 | 8.964878 | ⋯        | 9.161543 | 8.760984 | 8.799634 | 7.828814 | 8.363295 | 8.391927 | 7.986652 | 8.969120 | 7.888389 | 8.868681 | \n",
       "| 6        | 15       | 1        | 1981     | 8.147565 | 7.995990 | 8.300895 | 9.233780 | 9.023098 | 8.942048 | ⋯        | 9.096156 | 8.771453 | 8.835323 | 7.893521 | 8.456012 | 8.404336 | 8.119655 | 8.888441 | 7.918112 | 8.809835 | \n",
       "| 6        | 15       | 1        | 1982     | 8.099316 | 8.128367 | 8.207957 | 9.189589 | 9.047270 | 8.918667 | ⋯        | 9.027742 | 8.785263 | 8.869407 | 7.953739 | 8.548425 | 8.412889 | 8.246784 | 8.807993 | 7.947025 | 8.759813 | \n",
       "| 6        | 15       | 1        | 1983     | 8.052140 | 8.253047 | 8.123502 | 9.141470 | 9.065569 | 8.895725 | ⋯        | 8.957377 | 8.802851 | 8.903085 | 8.010255 | 8.640162 | 8.418698 | 8.368072 | 8.729619 | 7.975628 | 8.719149 | \n",
       "| 6        | 15       | 1        | 1984     | 8.007288 | 8.369833 | 8.048323 | 9.090263 | 9.078829 | 8.874083 | ⋯        | 8.886159 | 8.824562 | 8.937524 | 8.063889 | 8.730709 | 8.422927 | 8.483543 | 8.655100 | 8.004449 | 8.688123 | \n",
       "| 6        | 15       | 1        | 1985     | 7.965937 | 8.478749 | 7.983198 | 9.036858 | 9.087964 | 8.854468 | ⋯        | 8.815209 | 8.850664 | 8.973828 | 8.115483 | 8.819436 | 8.426788 | 8.593215 | 8.586134 | 8.034035 | 8.666778 | \n",
       "\n",
       "\n"
      ],
      "text/plain": [
       "  location_id age_group_id sex_id year_id draw_0   draw_1   draw_2   draw_3  \n",
       "1 6           15           1      1980    8.195544 7.856324 8.401491 9.273246\n",
       "2 6           15           1      1981    8.147565 7.995990 8.300895 9.233780\n",
       "3 6           15           1      1982    8.099316 8.128367 8.207957 9.189589\n",
       "4 6           15           1      1983    8.052140 8.253047 8.123502 9.141470\n",
       "5 6           15           1      1984    8.007288 8.369833 8.048323 9.090263\n",
       "6 6           15           1      1985    7.965937 8.478749 7.983198 9.036858\n",
       "  draw_4   draw_5   ⋯ draw_990 draw_991 draw_992 draw_993 draw_994 draw_995\n",
       "1 8.992329 8.964878 ⋯ 9.161543 8.760984 8.799634 7.828814 8.363295 8.391927\n",
       "2 9.023098 8.942048 ⋯ 9.096156 8.771453 8.835323 7.893521 8.456012 8.404336\n",
       "3 9.047270 8.918667 ⋯ 9.027742 8.785263 8.869407 7.953739 8.548425 8.412889\n",
       "4 9.065569 8.895725 ⋯ 8.957377 8.802851 8.903085 8.010255 8.640162 8.418698\n",
       "5 9.078829 8.874083 ⋯ 8.886159 8.824562 8.937524 8.063889 8.730709 8.422927\n",
       "6 9.087964 8.854468 ⋯ 8.815209 8.850664 8.973828 8.115483 8.819436 8.426788\n",
       "  draw_996 draw_997 draw_998 draw_999\n",
       "1 7.986652 8.969120 7.888389 8.868681\n",
       "2 8.119655 8.888441 7.918112 8.809835\n",
       "3 8.246784 8.807993 7.947025 8.759813\n",
       "4 8.368072 8.729619 7.975628 8.719149\n",
       "5 8.483543 8.655100 8.004449 8.688123\n",
       "6 8.593215 8.586134 8.034035 8.666778"
      ]
     },
     "metadata": {},
     "output_type": "display_data"
    }
   ],
   "source": [
    "## How you lookin?\n",
    " head(edu_ref); head(edu_opt); head(edu_pes);"
   ]
  },
  {
   "cell_type": "code",
   "execution_count": 6,
   "metadata": {
    "collapsed": false
   },
   "outputs": [],
   "source": [
    "### Let's concatenatate the age and sex columns to be one identifier:\n",
    "data_cleanup_1 <- function(dt) {\n",
    "    dt <- dt[, age_sex := paste0(age_group_id, \"_\", sex_id)]\n",
    "    dt <- dt[, age_group_id:= NULL]\n",
    "    dt <- dt[, sex_id:= NULL]\n",
    "    dt <- setcolorder(dt, c(\"location_id\", \"year_id\", \"age_sex\", paste0(\"draw_\",c(0:999)) ))\n",
    "    head(dt)\n",
    "    \n",
    "    return(dt)\n",
    "}\n",
    "\n",
    "edu_ref <- data_cleanup_1(edu_ref)\n",
    "edu_pes <- data_cleanup_1(edu_pes)\n",
    "edu_opt <- data_cleanup_1(edu_opt)"
   ]
  },
  {
   "cell_type": "markdown",
   "metadata": {},
   "source": [
    "### Reshape long by draws, wide by year, use copula with spearman = 1, and reshape back AND collapse by country-year"
   ]
  },
  {
   "cell_type": "code",
   "execution_count": 13,
   "metadata": {
    "collapsed": false,
    "scrolled": true
   },
   "outputs": [
    {
     "data": {
      "text/plain": [
       "   user  system elapsed \n",
       "  6.511   1.399   7.912 "
      ]
     },
     "metadata": {},
     "output_type": "display_data"
    },
    {
     "data": {
      "text/plain": [
       "   user  system elapsed \n",
       "  8.822 240.254 257.161 "
      ]
     },
     "metadata": {},
     "output_type": "display_data"
    },
    {
     "data": {
      "text/plain": [
       "   user  system elapsed \n",
       "  5.043 234.146 245.492 "
      ]
     },
     "metadata": {},
     "output_type": "display_data"
    }
   ],
   "source": [
    "# Make draws long first\n",
    "system.time(edu_ref_long <- melt(edu_ref, id.vars = c(\"location_id\", \"age_sex\", \"year_id\"), value.name = \"edu\", varnames = \"draw\"))\n",
    "system.time(edu_pes_long <- melt(edu_pes, id.vars = c(\"location_id\", \"age_sex\", \"year_id\"), value.name = \"edu\", varnames = \"draw\"))\n",
    "system.time(edu_opt_long <- melt(edu_opt, id.vars = c(\"location_id\", \"age_sex\", \"year_id\"), value.name = \"edu\", varnames = \"draw\"))"
   ]
  },
  {
   "cell_type": "code",
   "execution_count": 23,
   "metadata": {
    "collapsed": false
   },
   "outputs": [
    {
     "data": {
      "text/html": [
       "<ol class=list-inline>\n",
       "\t<li>6</li>\n",
       "\t<li>7</li>\n",
       "\t<li>8</li>\n",
       "\t<li>10</li>\n",
       "\t<li>11</li>\n",
       "\t<li>12</li>\n",
       "\t<li>13</li>\n",
       "\t<li>14</li>\n",
       "\t<li>15</li>\n",
       "\t<li>16</li>\n",
       "\t<li>17</li>\n",
       "\t<li>18</li>\n",
       "\t<li>19</li>\n",
       "\t<li>20</li>\n",
       "\t<li>22</li>\n",
       "\t<li>23</li>\n",
       "\t<li>24</li>\n",
       "\t<li>25</li>\n",
       "\t<li>26</li>\n",
       "\t<li>27</li>\n",
       "\t<li>28</li>\n",
       "\t<li>29</li>\n",
       "\t<li>30</li>\n",
       "\t<li>33</li>\n",
       "\t<li>34</li>\n",
       "\t<li>35</li>\n",
       "\t<li>36</li>\n",
       "\t<li>37</li>\n",
       "\t<li>38</li>\n",
       "\t<li>39</li>\n",
       "\t<li>40</li>\n",
       "\t<li>41</li>\n",
       "\t<li>43</li>\n",
       "\t<li>44</li>\n",
       "\t<li>45</li>\n",
       "\t<li>46</li>\n",
       "\t<li>47</li>\n",
       "\t<li>48</li>\n",
       "\t<li>49</li>\n",
       "\t<li>50</li>\n",
       "\t<li>51</li>\n",
       "\t<li>52</li>\n",
       "\t<li>53</li>\n",
       "\t<li>54</li>\n",
       "\t<li>55</li>\n",
       "\t<li>57</li>\n",
       "\t<li>58</li>\n",
       "\t<li>59</li>\n",
       "\t<li>60</li>\n",
       "\t<li>61</li>\n",
       "\t<li>62</li>\n",
       "\t<li>63</li>\n",
       "\t<li>66</li>\n",
       "\t<li>67</li>\n",
       "\t<li>68</li>\n",
       "\t<li>69</li>\n",
       "\t<li>71</li>\n",
       "\t<li>72</li>\n",
       "\t<li>74</li>\n",
       "\t<li>75</li>\n",
       "\t<li>76</li>\n",
       "\t<li>77</li>\n",
       "\t<li>78</li>\n",
       "\t<li>79</li>\n",
       "\t<li>80</li>\n",
       "\t<li>81</li>\n",
       "\t<li>82</li>\n",
       "\t<li>83</li>\n",
       "\t<li>84</li>\n",
       "\t<li>85</li>\n",
       "\t<li>86</li>\n",
       "\t<li>87</li>\n",
       "\t<li>88</li>\n",
       "\t<li>89</li>\n",
       "\t<li>90</li>\n",
       "\t<li>91</li>\n",
       "\t<li>92</li>\n",
       "\t<li>93</li>\n",
       "\t<li>94</li>\n",
       "\t<li>95</li>\n",
       "\t<li>97</li>\n",
       "\t<li>98</li>\n",
       "\t<li>99</li>\n",
       "\t<li>101</li>\n",
       "\t<li>102</li>\n",
       "\t<li>105</li>\n",
       "\t<li>106</li>\n",
       "\t<li>107</li>\n",
       "\t<li>108</li>\n",
       "\t<li>109</li>\n",
       "\t<li>110</li>\n",
       "\t<li>111</li>\n",
       "\t<li>112</li>\n",
       "\t<li>113</li>\n",
       "\t<li>114</li>\n",
       "\t<li>115</li>\n",
       "\t<li>116</li>\n",
       "\t<li>117</li>\n",
       "\t<li>118</li>\n",
       "\t<li>119</li>\n",
       "\t<li>121</li>\n",
       "\t<li>122</li>\n",
       "\t<li>123</li>\n",
       "\t<li>125</li>\n",
       "\t<li>126</li>\n",
       "\t<li>127</li>\n",
       "\t<li>128</li>\n",
       "\t<li>129</li>\n",
       "\t<li>130</li>\n",
       "\t<li>131</li>\n",
       "\t<li>132</li>\n",
       "\t<li>133</li>\n",
       "\t<li>135</li>\n",
       "\t<li>136</li>\n",
       "\t<li>139</li>\n",
       "\t<li>140</li>\n",
       "\t<li>141</li>\n",
       "\t<li>142</li>\n",
       "\t<li>143</li>\n",
       "\t<li>144</li>\n",
       "\t<li>145</li>\n",
       "\t<li>146</li>\n",
       "\t<li>147</li>\n",
       "\t<li>148</li>\n",
       "\t<li>149</li>\n",
       "\t<li>150</li>\n",
       "\t<li>151</li>\n",
       "\t<li>152</li>\n",
       "\t<li>153</li>\n",
       "\t<li>154</li>\n",
       "\t<li>155</li>\n",
       "\t<li>156</li>\n",
       "\t<li>157</li>\n",
       "\t<li>160</li>\n",
       "\t<li>161</li>\n",
       "\t<li>162</li>\n",
       "\t<li>163</li>\n",
       "\t<li>164</li>\n",
       "\t<li>165</li>\n",
       "\t<li>168</li>\n",
       "\t<li>169</li>\n",
       "\t<li>170</li>\n",
       "\t<li>171</li>\n",
       "\t<li>172</li>\n",
       "\t<li>173</li>\n",
       "\t<li>175</li>\n",
       "\t<li>176</li>\n",
       "\t<li>177</li>\n",
       "\t<li>178</li>\n",
       "\t<li>179</li>\n",
       "\t<li>180</li>\n",
       "\t<li>181</li>\n",
       "\t<li>182</li>\n",
       "\t<li>183</li>\n",
       "\t<li>184</li>\n",
       "\t<li>185</li>\n",
       "\t<li>186</li>\n",
       "\t<li>187</li>\n",
       "\t<li>189</li>\n",
       "\t<li>190</li>\n",
       "\t<li>191</li>\n",
       "\t<li>193</li>\n",
       "\t<li>194</li>\n",
       "\t<li>195</li>\n",
       "\t<li>196</li>\n",
       "\t<li>197</li>\n",
       "\t<li>198</li>\n",
       "\t<li>200</li>\n",
       "\t<li>201</li>\n",
       "\t<li>202</li>\n",
       "\t<li>203</li>\n",
       "\t<li>204</li>\n",
       "\t<li>205</li>\n",
       "\t<li>206</li>\n",
       "\t<li>207</li>\n",
       "\t<li>208</li>\n",
       "\t<li>209</li>\n",
       "\t<li>210</li>\n",
       "\t<li>211</li>\n",
       "\t<li>212</li>\n",
       "\t<li>213</li>\n",
       "\t<li>214</li>\n",
       "\t<li>215</li>\n",
       "\t<li>216</li>\n",
       "\t<li>217</li>\n",
       "\t<li>218</li>\n",
       "\t<li>298</li>\n",
       "\t<li>305</li>\n",
       "\t<li>349</li>\n",
       "\t<li>351</li>\n",
       "\t<li>376</li>\n",
       "\t<li>385</li>\n",
       "\t<li>422</li>\n",
       "\t<li>435</li>\n",
       "\t<li>522</li>\n",
       "</ol>\n"
      ],
      "text/latex": [
       "\\begin{enumerate*}\n",
       "\\item 6\n",
       "\\item 7\n",
       "\\item 8\n",
       "\\item 10\n",
       "\\item 11\n",
       "\\item 12\n",
       "\\item 13\n",
       "\\item 14\n",
       "\\item 15\n",
       "\\item 16\n",
       "\\item 17\n",
       "\\item 18\n",
       "\\item 19\n",
       "\\item 20\n",
       "\\item 22\n",
       "\\item 23\n",
       "\\item 24\n",
       "\\item 25\n",
       "\\item 26\n",
       "\\item 27\n",
       "\\item 28\n",
       "\\item 29\n",
       "\\item 30\n",
       "\\item 33\n",
       "\\item 34\n",
       "\\item 35\n",
       "\\item 36\n",
       "\\item 37\n",
       "\\item 38\n",
       "\\item 39\n",
       "\\item 40\n",
       "\\item 41\n",
       "\\item 43\n",
       "\\item 44\n",
       "\\item 45\n",
       "\\item 46\n",
       "\\item 47\n",
       "\\item 48\n",
       "\\item 49\n",
       "\\item 50\n",
       "\\item 51\n",
       "\\item 52\n",
       "\\item 53\n",
       "\\item 54\n",
       "\\item 55\n",
       "\\item 57\n",
       "\\item 58\n",
       "\\item 59\n",
       "\\item 60\n",
       "\\item 61\n",
       "\\item 62\n",
       "\\item 63\n",
       "\\item 66\n",
       "\\item 67\n",
       "\\item 68\n",
       "\\item 69\n",
       "\\item 71\n",
       "\\item 72\n",
       "\\item 74\n",
       "\\item 75\n",
       "\\item 76\n",
       "\\item 77\n",
       "\\item 78\n",
       "\\item 79\n",
       "\\item 80\n",
       "\\item 81\n",
       "\\item 82\n",
       "\\item 83\n",
       "\\item 84\n",
       "\\item 85\n",
       "\\item 86\n",
       "\\item 87\n",
       "\\item 88\n",
       "\\item 89\n",
       "\\item 90\n",
       "\\item 91\n",
       "\\item 92\n",
       "\\item 93\n",
       "\\item 94\n",
       "\\item 95\n",
       "\\item 97\n",
       "\\item 98\n",
       "\\item 99\n",
       "\\item 101\n",
       "\\item 102\n",
       "\\item 105\n",
       "\\item 106\n",
       "\\item 107\n",
       "\\item 108\n",
       "\\item 109\n",
       "\\item 110\n",
       "\\item 111\n",
       "\\item 112\n",
       "\\item 113\n",
       "\\item 114\n",
       "\\item 115\n",
       "\\item 116\n",
       "\\item 117\n",
       "\\item 118\n",
       "\\item 119\n",
       "\\item 121\n",
       "\\item 122\n",
       "\\item 123\n",
       "\\item 125\n",
       "\\item 126\n",
       "\\item 127\n",
       "\\item 128\n",
       "\\item 129\n",
       "\\item 130\n",
       "\\item 131\n",
       "\\item 132\n",
       "\\item 133\n",
       "\\item 135\n",
       "\\item 136\n",
       "\\item 139\n",
       "\\item 140\n",
       "\\item 141\n",
       "\\item 142\n",
       "\\item 143\n",
       "\\item 144\n",
       "\\item 145\n",
       "\\item 146\n",
       "\\item 147\n",
       "\\item 148\n",
       "\\item 149\n",
       "\\item 150\n",
       "\\item 151\n",
       "\\item 152\n",
       "\\item 153\n",
       "\\item 154\n",
       "\\item 155\n",
       "\\item 156\n",
       "\\item 157\n",
       "\\item 160\n",
       "\\item 161\n",
       "\\item 162\n",
       "\\item 163\n",
       "\\item 164\n",
       "\\item 165\n",
       "\\item 168\n",
       "\\item 169\n",
       "\\item 170\n",
       "\\item 171\n",
       "\\item 172\n",
       "\\item 173\n",
       "\\item 175\n",
       "\\item 176\n",
       "\\item 177\n",
       "\\item 178\n",
       "\\item 179\n",
       "\\item 180\n",
       "\\item 181\n",
       "\\item 182\n",
       "\\item 183\n",
       "\\item 184\n",
       "\\item 185\n",
       "\\item 186\n",
       "\\item 187\n",
       "\\item 189\n",
       "\\item 190\n",
       "\\item 191\n",
       "\\item 193\n",
       "\\item 194\n",
       "\\item 195\n",
       "\\item 196\n",
       "\\item 197\n",
       "\\item 198\n",
       "\\item 200\n",
       "\\item 201\n",
       "\\item 202\n",
       "\\item 203\n",
       "\\item 204\n",
       "\\item 205\n",
       "\\item 206\n",
       "\\item 207\n",
       "\\item 208\n",
       "\\item 209\n",
       "\\item 210\n",
       "\\item 211\n",
       "\\item 212\n",
       "\\item 213\n",
       "\\item 214\n",
       "\\item 215\n",
       "\\item 216\n",
       "\\item 217\n",
       "\\item 218\n",
       "\\item 298\n",
       "\\item 305\n",
       "\\item 349\n",
       "\\item 351\n",
       "\\item 376\n",
       "\\item 385\n",
       "\\item 422\n",
       "\\item 435\n",
       "\\item 522\n",
       "\\end{enumerate*}\n"
      ],
      "text/markdown": [
       "1. 6\n",
       "2. 7\n",
       "3. 8\n",
       "4. 10\n",
       "5. 11\n",
       "6. 12\n",
       "7. 13\n",
       "8. 14\n",
       "9. 15\n",
       "10. 16\n",
       "11. 17\n",
       "12. 18\n",
       "13. 19\n",
       "14. 20\n",
       "15. 22\n",
       "16. 23\n",
       "17. 24\n",
       "18. 25\n",
       "19. 26\n",
       "20. 27\n",
       "21. 28\n",
       "22. 29\n",
       "23. 30\n",
       "24. 33\n",
       "25. 34\n",
       "26. 35\n",
       "27. 36\n",
       "28. 37\n",
       "29. 38\n",
       "30. 39\n",
       "31. 40\n",
       "32. 41\n",
       "33. 43\n",
       "34. 44\n",
       "35. 45\n",
       "36. 46\n",
       "37. 47\n",
       "38. 48\n",
       "39. 49\n",
       "40. 50\n",
       "41. 51\n",
       "42. 52\n",
       "43. 53\n",
       "44. 54\n",
       "45. 55\n",
       "46. 57\n",
       "47. 58\n",
       "48. 59\n",
       "49. 60\n",
       "50. 61\n",
       "51. 62\n",
       "52. 63\n",
       "53. 66\n",
       "54. 67\n",
       "55. 68\n",
       "56. 69\n",
       "57. 71\n",
       "58. 72\n",
       "59. 74\n",
       "60. 75\n",
       "61. 76\n",
       "62. 77\n",
       "63. 78\n",
       "64. 79\n",
       "65. 80\n",
       "66. 81\n",
       "67. 82\n",
       "68. 83\n",
       "69. 84\n",
       "70. 85\n",
       "71. 86\n",
       "72. 87\n",
       "73. 88\n",
       "74. 89\n",
       "75. 90\n",
       "76. 91\n",
       "77. 92\n",
       "78. 93\n",
       "79. 94\n",
       "80. 95\n",
       "81. 97\n",
       "82. 98\n",
       "83. 99\n",
       "84. 101\n",
       "85. 102\n",
       "86. 105\n",
       "87. 106\n",
       "88. 107\n",
       "89. 108\n",
       "90. 109\n",
       "91. 110\n",
       "92. 111\n",
       "93. 112\n",
       "94. 113\n",
       "95. 114\n",
       "96. 115\n",
       "97. 116\n",
       "98. 117\n",
       "99. 118\n",
       "100. 119\n",
       "101. 121\n",
       "102. 122\n",
       "103. 123\n",
       "104. 125\n",
       "105. 126\n",
       "106. 127\n",
       "107. 128\n",
       "108. 129\n",
       "109. 130\n",
       "110. 131\n",
       "111. 132\n",
       "112. 133\n",
       "113. 135\n",
       "114. 136\n",
       "115. 139\n",
       "116. 140\n",
       "117. 141\n",
       "118. 142\n",
       "119. 143\n",
       "120. 144\n",
       "121. 145\n",
       "122. 146\n",
       "123. 147\n",
       "124. 148\n",
       "125. 149\n",
       "126. 150\n",
       "127. 151\n",
       "128. 152\n",
       "129. 153\n",
       "130. 154\n",
       "131. 155\n",
       "132. 156\n",
       "133. 157\n",
       "134. 160\n",
       "135. 161\n",
       "136. 162\n",
       "137. 163\n",
       "138. 164\n",
       "139. 165\n",
       "140. 168\n",
       "141. 169\n",
       "142. 170\n",
       "143. 171\n",
       "144. 172\n",
       "145. 173\n",
       "146. 175\n",
       "147. 176\n",
       "148. 177\n",
       "149. 178\n",
       "150. 179\n",
       "151. 180\n",
       "152. 181\n",
       "153. 182\n",
       "154. 183\n",
       "155. 184\n",
       "156. 185\n",
       "157. 186\n",
       "158. 187\n",
       "159. 189\n",
       "160. 190\n",
       "161. 191\n",
       "162. 193\n",
       "163. 194\n",
       "164. 195\n",
       "165. 196\n",
       "166. 197\n",
       "167. 198\n",
       "168. 200\n",
       "169. 201\n",
       "170. 202\n",
       "171. 203\n",
       "172. 204\n",
       "173. 205\n",
       "174. 206\n",
       "175. 207\n",
       "176. 208\n",
       "177. 209\n",
       "178. 210\n",
       "179. 211\n",
       "180. 212\n",
       "181. 213\n",
       "182. 214\n",
       "183. 215\n",
       "184. 216\n",
       "185. 217\n",
       "186. 218\n",
       "187. 298\n",
       "188. 305\n",
       "189. 349\n",
       "190. 351\n",
       "191. 376\n",
       "192. 385\n",
       "193. 422\n",
       "194. 435\n",
       "195. 522\n",
       "\n",
       "\n"
      ],
      "text/plain": [
       "  [1]   6   7   8  10  11  12  13  14  15  16  17  18  19  20  22  23  24  25\n",
       " [19]  26  27  28  29  30  33  34  35  36  37  38  39  40  41  43  44  45  46\n",
       " [37]  47  48  49  50  51  52  53  54  55  57  58  59  60  61  62  63  66  67\n",
       " [55]  68  69  71  72  74  75  76  77  78  79  80  81  82  83  84  85  86  87\n",
       " [73]  88  89  90  91  92  93  94  95  97  98  99 101 102 105 106 107 108 109\n",
       " [91] 110 111 112 113 114 115 116 117 118 119 121 122 123 125 126 127 128 129\n",
       "[109] 130 131 132 133 135 136 139 140 141 142 143 144 145 146 147 148 149 150\n",
       "[127] 151 152 153 154 155 156 157 160 161 162 163 164 165 168 169 170 171 172\n",
       "[145] 173 175 176 177 178 179 180 181 182 183 184 185 186 187 189 190 191 193\n",
       "[163] 194 195 196 197 198 200 201 202 203 204 205 206 207 208 209 210 211 212\n",
       "[181] 213 214 215 216 217 218 298 305 349 351 376 385 422 435 522"
      ]
     },
     "metadata": {},
     "output_type": "display_data"
    },
    {
     "data": {
      "text/html": [
       "195"
      ],
      "text/latex": [
       "195"
      ],
      "text/markdown": [
       "195"
      ],
      "text/plain": [
       "[1] 195"
      ]
     },
     "metadata": {},
     "output_type": "display_data"
    }
   ],
   "source": [
    "## Number of countries we have to array over\n",
    "countries <- unique(edu_ref[year_id ==1980, location_id])\n",
    "countries\n",
    "length(countries)"
   ]
  },
  {
   "cell_type": "code",
   "execution_count": 17,
   "metadata": {
    "collapsed": true
   },
   "outputs": [],
   "source": [
    "## Ease up on the memory\n",
    "rm(edu_ref); rm(edu_pes); rm(edu_opt)"
   ]
  },
  {
   "cell_type": "code",
   "execution_count": 18,
   "metadata": {
    "collapsed": false
   },
   "outputs": [],
   "source": [
    "## Get our baseline correlation matrix\n",
    "load(\"/home/j/WORK/01_covariates/02_inputs/education/update_2017/data/tabulated_data/archive_nafis/insample_corr_mat.Rdata\")\n",
    "\n",
    "## For now, trim the corr matrix to have 14 age groups\n",
    "corr_mat <- corr_mat[1:28,1:28]"
   ]
  },
  {
   "cell_type": "code",
   "execution_count": null,
   "metadata": {
    "collapsed": false,
    "scrolled": true
   },
   "outputs": [],
   "source": [
    "## Convert them all to multidim array in the dims: [loc, year, age_sex, draw_num, data]\n",
    "\n",
    "## Reference\n",
    "system.time(edu_ref_array<- mclapply(countries, \n",
    "                                function(x) {reshape2::acast(edu_ref_long[location_id == x,], \n",
    "                                                      location_id ~  year_id ~ age_sex ~ variable, \n",
    "                                                      value.var = \"edu\") }, \n",
    "                                                        mc.cores = 4))\n",
    "edu_ref_array <- abind(edu_ref_array, along=1)\n",
    "str(edu_ref_array)"
   ]
  },
  {
   "cell_type": "code",
   "execution_count": 39,
   "metadata": {
    "collapsed": false
   },
   "outputs": [
    {
     "data": {
      "text/html": [
       "<table>\n",
       "<thead><tr><th scope=col>location_id</th><th scope=col>age_sex</th><th scope=col>year_id</th><th scope=col>variable</th><th scope=col>edu</th></tr></thead>\n",
       "<tbody>\n",
       "\t<tr><td>522       </td><td>80_2      </td><td>2035      </td><td>draw_999  </td><td>-0.1569604</td></tr>\n",
       "\t<tr><td>522       </td><td>80_2      </td><td>2036      </td><td>draw_999  </td><td>-0.1532036</td></tr>\n",
       "\t<tr><td>522       </td><td>80_2      </td><td>2037      </td><td>draw_999  </td><td>-0.1466647</td></tr>\n",
       "\t<tr><td>522       </td><td>80_2      </td><td>2038      </td><td>draw_999  </td><td>-0.1372289</td></tr>\n",
       "\t<tr><td>522       </td><td>80_2      </td><td>2039      </td><td>draw_999  </td><td>-0.1248067</td></tr>\n",
       "\t<tr><td>522       </td><td>80_2      </td><td>2040      </td><td>draw_999  </td><td>-0.1093387</td></tr>\n",
       "</tbody>\n",
       "</table>\n"
      ],
      "text/latex": [
       "\\begin{tabular}{r|lllll}\n",
       " location\\_id & age\\_sex & year\\_id & variable & edu\\\\\n",
       "\\hline\n",
       "\t 522        & 80\\_2     & 2035       & draw\\_999 & -0.1569604\\\\\n",
       "\t 522        & 80\\_2     & 2036       & draw\\_999 & -0.1532036\\\\\n",
       "\t 522        & 80\\_2     & 2037       & draw\\_999 & -0.1466647\\\\\n",
       "\t 522        & 80\\_2     & 2038       & draw\\_999 & -0.1372289\\\\\n",
       "\t 522        & 80\\_2     & 2039       & draw\\_999 & -0.1248067\\\\\n",
       "\t 522        & 80\\_2     & 2040       & draw\\_999 & -0.1093387\\\\\n",
       "\\end{tabular}\n"
      ],
      "text/markdown": [
       "\n",
       "location_id | age_sex | year_id | variable | edu | \n",
       "|---|---|---|---|---|---|\n",
       "| 522        | 80_2       | 2035       | draw_999   | -0.1569604 | \n",
       "| 522        | 80_2       | 2036       | draw_999   | -0.1532036 | \n",
       "| 522        | 80_2       | 2037       | draw_999   | -0.1466647 | \n",
       "| 522        | 80_2       | 2038       | draw_999   | -0.1372289 | \n",
       "| 522        | 80_2       | 2039       | draw_999   | -0.1248067 | \n",
       "| 522        | 80_2       | 2040       | draw_999   | -0.1093387 | \n",
       "\n",
       "\n"
      ],
      "text/plain": [
       "  location_id age_sex year_id variable edu       \n",
       "1 522         80_2    2035    draw_999 -0.1569604\n",
       "2 522         80_2    2036    draw_999 -0.1532036\n",
       "3 522         80_2    2037    draw_999 -0.1466647\n",
       "4 522         80_2    2038    draw_999 -0.1372289\n",
       "5 522         80_2    2039    draw_999 -0.1248067\n",
       "6 522         80_2    2040    draw_999 -0.1093387"
      ]
     },
     "metadata": {},
     "output_type": "display_data"
    }
   ],
   "source": [
    "tail(edu_pes_long)"
   ]
  },
  {
   "cell_type": "code",
   "execution_count": null,
   "metadata": {
    "collapsed": true
   },
   "outputs": [],
   "source": [
    "## Pessimistic\n",
    "system.time(edu_pes_array<- mclapply(countries, \n",
    "                                function(x) {reshape2::acast(edu_pes_long[location_id == x,], \n",
    "                                                      location_id ~  year_id ~ age_sex ~ variable, \n",
    "                                                      value.var = \"edu\") }, \n",
    "                                                        mc.cores = 10))\n",
    "edu_pes_array <- abind(edu_pes_array, along=1)\n",
    "str(edu_pes_array)"
   ]
  },
  {
   "cell_type": "code",
   "execution_count": null,
   "metadata": {
    "collapsed": true
   },
   "outputs": [],
   "source": [
    "## Optimistic\n",
    "system.time(edu_opt_array<- mclapply(countries, \n",
    "                                function(x) {reshape2::acast(edu_opt_long[location_id == x,], \n",
    "                                                      location_id ~  year_id ~ age_sex ~ variable, \n",
    "                                                      value.var = \"edu\") }, \n",
    "                                                        mc.cores = 10))\n",
    "edu_opt_array <- abind(edu_opt_array, along=1)\n",
    "str(edu_opt_array)"
   ]
  },
  {
   "cell_type": "markdown",
   "metadata": {},
   "source": [
    "### Neal's (TM) Multivariate Copula Function"
   ]
  },
  {
   "cell_type": "code",
   "execution_count": 33,
   "metadata": {
    "collapsed": true
   },
   "outputs": [],
   "source": [
    "draw2Dcopula <- function(X, cor_mat, df_return = F){\n",
    "  L <- dim(X)[2]\n",
    "  D <- dim(X)[3]\n",
    "  Xsum <- apply(X, c(2, 3), sum)\n",
    "  mvdat <- mvrnorm(n=D, mu=0 * 1:L, Sigma=cor_mat, empirical=TRUE)\n",
    "  ranks <- apply(mvdat, 2, rank, ties.method=\"first\")\n",
    "  sortedXsim <- apply(Xsum, 1, function(x) sort(x, index.return=TRUE)$ix)\n",
    "  sortedX <- X\n",
    "  for(i in 1:L){\n",
    "    sortedX[,i,] <- X[,i,sortedXsim[,i]]\n",
    "  }\n",
    "  Xcorr <- sortedX\n",
    "  for(i in 1:L){\n",
    "    Xcorr[,i,] <- sortedX[,i,ranks[,i]]\n",
    "  }\n",
    "  if (df_return==T) {\n",
    "    return(data.table(melt(Xcorr)))\n",
    "    }\n",
    "      else {\n",
    "          Xcorr\n",
    "      }\n",
    "}"
   ]
  },
  {
   "cell_type": "markdown",
   "metadata": {},
   "source": [
    "### Let's 2D copulate the data now"
   ]
  },
  {
   "cell_type": "code",
   "execution_count": 34,
   "metadata": {
    "collapsed": false,
    "scrolled": false
   },
   "outputs": [
    {
     "name": "stderr",
     "output_type": "stream",
     "text": [
      "Warning message in mclapply(countries, function(x) {:\n",
      "“all scheduled cores encountered errors in user code”"
     ]
    },
    {
     "data": {
      "text/plain": [
       "   user  system elapsed \n",
       "145.080  63.082   8.384 "
      ]
     },
     "metadata": {},
     "output_type": "display_data"
    },
    {
     "ename": "ERROR",
     "evalue": "Error in dimnames(x) <- dn: length of 'dimnames' [2] not equal to array extent\n",
     "output_type": "error",
     "traceback": [
      "Error in dimnames(x) <- dn: length of 'dimnames' [2] not equal to array extent\nTraceback:\n",
      "1. `colnames<-`(`*tmp*`, value = c(\"location_id\", \"year_id\", \"age_sex\", \n . \"draw_num\", \"edu\"))"
     ]
    }
   ],
   "source": [
    "system.time(edu_ref_corr_array <- mclapply(countries, \n",
    "                                    function(x) {cbind(x, draw2Dcopula(edu_ref_array[paste0(x),,,],\n",
    "                                                                      corr_mat , df_return = T))}, mc.cores = 10 ))\n",
    "                                        \n",
    "edu_ref_corr_df <- do.call(rbind, edu_ref_corr_array)\n",
    "                                        \n",
    "colnames(edu_ref_corr_df) <- c(\"location_id\", \"year_id\", \"age_sex\", \"draw_num\", \"edu\")\n",
    "head(edu_ref_corr_df)    \n",
    "\n",
    "\n",
    "system.time(edu_pes_corr_array <- mclapply(countries, \n",
    "                                    function(x) {cbind(x, draw2Dcopula(edu_pes_array[paste0(x),,,],\n",
    "                                                                      corr_mat , df_return = T))}, mc.cores = 10 ))\n",
    "                                        \n",
    "edu_pes_corr_df <- do.call(rbind, edu_pes_corr_array)\n",
    "                                        \n",
    "colnames(edu_pes_corr_df) <- c(\"location_id\", \"year_id\", \"age_sex\", \"draw_num\", \"edu\")\n",
    "head(edu_pes_corr_df)    \n",
    "\n",
    "\n",
    "\n",
    "system.time(edu_opt_corr_array <- mclapply(countries, \n",
    "                                    function(x) {cbind(x, draw2Dcopula(edu_opt_array[paste0(x),,,],\n",
    "                                                                      corr_mat , df_return = T))}, mc.cores = 10 ))\n",
    "                                        \n",
    "edu_opt_corr_df <- do.call(rbind, edu_opt_corr_array)\n",
    "                                        \n",
    "colnames(edu_opt_corr_df) <- c(\"location_id\", \"year_id\", \"age_sex\", \"draw_num\", \"edu\")\n",
    "head(edu_opt_corr_df)"
   ]
  },
  {
   "cell_type": "markdown",
   "metadata": {},
   "source": [
    "### Collapse to year and country only"
   ]
  },
  {
   "cell_type": "code",
   "execution_count": null,
   "metadata": {
    "collapsed": false,
    "scrolled": true
   },
   "outputs": [],
   "source": [
    "# Reshape wide\n",
    "Xcorr_df_with_pop <- dcast(Xcorr_df, location_id + year_id + age_sex ~ draw_num, value.var = c(\"edu\"))\n",
    "head(Xcorr_df_with_pop)"
   ]
  },
  {
   "cell_type": "code",
   "execution_count": null,
   "metadata": {
    "collapsed": false
   },
   "outputs": [],
   "source": [
    "# Split back into age and sex\n",
    "Xcorr_df_with_pop2 <- Xcorr_df_with_pop\n",
    "system.time({ Xcorr_df_with_pop2[, c(\"age_group_id\",\"sex_id\") := data.table(str_split_fixed(age_sex,\"_\",2))] })\n",
    "Xcorr_df_with_pop2[, age_sex:=NULL]\n",
    "head(Xcorr_df_with_pop2)\n",
    "str(Xcorr_df_with_pop2)"
   ]
  },
  {
   "cell_type": "code",
   "execution_count": null,
   "metadata": {
    "collapsed": false,
    "scrolled": true
   },
   "outputs": [],
   "source": [
    "# Merge in population\n",
    "Xcorr_df_with_pop2 <- data.table(merge(x=Xcorr_df_with_pop2, y=pop, by = c(\"location_id\", \"year_id\", \"age_group_id\", \"sex_id\")))\n",
    "head(Xcorr_df_with_pop2)"
   ]
  },
  {
   "cell_type": "code",
   "execution_count": null,
   "metadata": {
    "collapsed": false,
    "scrolled": false
   },
   "outputs": [],
   "source": [
    "# Collapse correlated data and compute the mean and PCs\n",
    "Xcorr_df_CY<- Xcorr_df_with_pop2[, lapply(.SD, function(x) sum(x*pop)/sum(pop)), \n",
    "    by=c(\"location_id\", \"year_id\"), .SDcols=cbind(paste0(\"draw_\",c(0:999))) ] \n",
    "Xcorr_df_CY <- Xcorr_df_CY[, `:=` (mean = rowMeans(.SD, na.rm=T),\n",
    "                                  lower = rowQuantiles(.SD, na.rm=T, probs=c(0.025)),\n",
    "                                  upper = rowQuantiles(.SD, na.rm=T, probs=c(0.975))), \n",
    "                           .SDcols = c(paste0(\"draw_\",c(0:999))) ]    \n",
    "head(Xcorr_df_CY)"
   ]
  },
  {
   "cell_type": "code",
   "execution_count": null,
   "metadata": {
    "collapsed": false
   },
   "outputs": [],
   "source": [
    "# Collapse un-correlated data\n",
    "uncorr_df_CY<- edu_orig_2[,lapply(.SD, function(x) sum(x*pop)/sum(pop)), \n",
    "    by=c(\"location_id\", \"year_id\"), .SDcols=cbind(paste0(\"draw_\",c(0:999))) ] \n",
    "uncorr_df_CY <- uncorr_df_CY[, `:=` (mean = rowMeans(.SD, na.rm=T),\n",
    "                              lower = rowQuantiles(.SD, na.rm=T, probs=c(0.025)),\n",
    "                              upper = rowQuantiles(.SD, na.rm=T, probs=c(0.975))), \n",
    "                       .SDcols = c(paste0(\"draw_a\",c(0:999))) ] \n",
    "head(uncorr_df_CY)"
   ]
  },
  {
   "cell_type": "markdown",
   "metadata": {},
   "source": [
    "#### Test plots"
   ]
  },
  {
   "cell_type": "code",
   "execution_count": null,
   "metadata": {
    "collapsed": false
   },
   "outputs": [],
   "source": [
    "# Convert to arrays for super faster subsetting\n",
    "system.time(myarray3<- lapply(countries, \n",
    "                                function(x) reshape2::acast(Xcorr_df[location_id == x,], \n",
    "                                                      location_id ~  year_id ~ age_sex ~ draw_num, \n",
    "                                                      value.var = \"edu\")))\n",
    "myarray3 <- abind(myarray3, along=1)\n",
    "str(myarray3)"
   ]
  },
  {
   "cell_type": "code",
   "execution_count": null,
   "metadata": {
    "collapsed": false
   },
   "outputs": [],
   "source": [
    "x1<-data.frame(myarray2[\"6\",\"2040\",\"15_1\",]); colnames(x1) <- \"data\"\n",
    "x2<-data.frame(myarray3[\"6\",\"2040\",\"15_1\",]); colnames(x2) <- \"data\"\n",
    "\n",
    "ggplot(data = x1, aes(x=data)) + \n",
    "    geom_histogram(aes(y=  ..density..), alpha=0.3, fill=\"steelblue\") +\n",
    "    geom_density(color =\"blue4\") +\n",
    "geom_histogram(data = x1, aes(x=data, y=  ..density..), alpha=0.15, fill=\"red1\") +\n",
    "    geom_density(color =\"red4\")   + ggtitle(\"China: age group 15-20; male\")"
   ]
  },
  {
   "cell_type": "code",
   "execution_count": null,
   "metadata": {
    "collapsed": false
   },
   "outputs": [],
   "source": [
    "x1<-data.frame(myarray2[\"6\",\"2040\",\"75_2\",]); colnames(x1) <- \"data\"\n",
    "x2<-data.frame(myarray3[\"6\",\"2040\",\"75_2\",]); colnames(x2) <- \"data\"\n",
    "\n",
    "ggplot(data = x1, aes(x=data)) + \n",
    "    geom_histogram(aes(y=  ..density..), alpha=0.3, fill=\"steelblue\") +\n",
    "    geom_density(color =\"blue4\") +\n",
    "geom_histogram(data = x1, aes(x=data, y=  ..density..), alpha=0.15, fill=\"red1\") +\n",
    "    geom_density(color =\"red4\") + ggtitle(\"China: age group 75-80; female\")"
   ]
  },
  {
   "cell_type": "code",
   "execution_count": null,
   "metadata": {
    "collapsed": false
   },
   "outputs": [],
   "source": [
    "## Turn the collapsed ones into arrays as well\n",
    "array_Xcorr_df_CY <- melt(Xcorr_df_CY, id.vars = c(\"location_id\", \"year_id\"), value.name = \"edu\", variable.name = \"variable\")\n",
    "array_Xcorr_df_CY <- reshape2::acast(array_Xcorr_df_CY, location_id ~ year_id ~ variable, value.var = \"edu\")\n",
    "str(array_Xcorr_df_CY) ### last 3 values are mean, upper, lower\n",
    "\n",
    "array_uncorr_df_CY <- melt(uncorr_df_CY, id.vars = c(\"location_id\", \"year_id\"), value.name = \"edu\", variable.name = \"variable\")\n",
    "array_uncorr_df_CY <- reshape2::acast(array_uncorr_df_CY, location_id ~ year_id ~ variable, value.var = \"edu\")\n",
    "str(array_uncorr_df_CY) ### last 3 values are mean, upper, lower"
   ]
  },
  {
   "cell_type": "code",
   "execution_count": null,
   "metadata": {
    "collapsed": false
   },
   "outputs": [],
   "source": [
    "plot_country_collapsed<-function(loc_id) {\n",
    "ggplot(uncorr_df_CY[location_id == loc_id,], aes(x = year_id, y = mean, ymin = lower, ymax = upper)) +\n",
    "    geom_ribbon(alpha = 0.3, fill=\"steelblue\") +\n",
    "    geom_line(color = \"blue4\") +\n",
    "    geom_ribbon(data=Xcorr_df_CY[location_id == loc_id,], aes(x = year_id, ymin = lower, ymax = upper),\n",
    "                alpha = 0.15, fill=\"red1\") +\n",
    "    geom_line(aes(x=year_id, y=mean),color = \"red4\") + xlab(\"Year\") + ylab(\"Education\") +\n",
    "    ggtitle(paste0(\"location_id: \", loc_id, \"; collapsed to C-Y : blue before copula, red after copula\"))\n",
    "}\n",
    "\n",
    "plot_country_collapsed(6)"
   ]
  },
  {
   "cell_type": "code",
   "execution_count": null,
   "metadata": {
    "collapsed": false
   },
   "outputs": [],
   "source": [
    "## Save out data\n",
    "\n",
    "# Collapsed C-Y\n",
    "fwrite(Xcorr_df_CY, \"/home/j/WORK/01_covariates/02_inputs/education/update_2017/data/output_data/20161121_GBD2016prelim_95+_raked_2/country_year_A_S_T_collapsed.csv\")"
   ]
  },
  {
   "cell_type": "markdown",
   "metadata": {},
   "source": [
    "### Make country-year plots"
   ]
  },
  {
   "cell_type": "code",
   "execution_count": null,
   "metadata": {
    "collapsed": false
   },
   "outputs": [],
   "source": [
    "filename <- paste0(\"/homes/sadatnfs/test_edu.pdf\")\n",
    "pdf(filename, width=10, height = 6)\n",
    "    for(c in countries){\n",
    "        print(plot_country_collapsed(c))\n",
    "    }\n",
    "dev.off()"
   ]
  },
  {
   "cell_type": "code",
   "execution_count": null,
   "metadata": {
    "collapsed": true
   },
   "outputs": [],
   "source": []
  }
 ],
 "metadata": {
  "anaconda-cloud": {},
  "kernelspec": {
   "display_name": "R 3.4.1",
   "language": "R",
   "name": "ir"
  },
  "language_info": {
   "codemirror_mode": "r",
   "file_extension": ".r",
   "mimetype": "text/x-r-source",
   "name": "R",
   "pygments_lexer": "r",
   "version": "3.4.1"
  }
 },
 "nbformat": 4,
 "nbformat_minor": 1
}
