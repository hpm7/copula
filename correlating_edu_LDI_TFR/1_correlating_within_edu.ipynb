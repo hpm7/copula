{
 "cells": [
  {
   "cell_type": "code",
   "execution_count": 1,
   "metadata": {
    "scrolled": false
   },
   "outputs": [
    {
     "data": {
      "text/html": [
       "64"
      ],
      "text/latex": [
       "64"
      ],
      "text/markdown": [
       "64"
      ],
      "text/plain": [
       "[1] 64"
      ]
     },
     "metadata": {},
     "output_type": "display_data"
    }
   ],
   "source": [
    "rm(list=ls())\n",
    "pacman::p_load(data.table, MASS, ggplot2, stringr, matrixStats, doParallel, abind, ncdf4)\n",
    "\n",
    "parallel::detectCores()\n",
    "## Resizing notebook plot space\n",
    "options(repr.plot.width=16, repr.plot.height=9)"
   ]
  },
  {
   "cell_type": "code",
   "execution_count": 2,
   "metadata": {
    "scrolled": true
   },
   "outputs": [
    {
     "data": {
      "text/html": [
       "<table>\n",
       "<thead><tr><th scope=col>location_id</th><th scope=col>sex_id</th><th scope=col>age_group_id</th><th scope=col>year_id</th><th scope=col>pop</th></tr></thead>\n",
       "<tbody>\n",
       "\t<tr><td>6       </td><td>1       </td><td>15      </td><td>1950    </td><td>27530292</td></tr>\n",
       "\t<tr><td>6       </td><td>1       </td><td>15      </td><td>1951    </td><td>28008975</td></tr>\n",
       "\t<tr><td>6       </td><td>1       </td><td>15      </td><td>1952    </td><td>28183766</td></tr>\n",
       "\t<tr><td>6       </td><td>1       </td><td>15      </td><td>1953    </td><td>28252474</td></tr>\n",
       "\t<tr><td>6       </td><td>1       </td><td>15      </td><td>1954    </td><td>28303795</td></tr>\n",
       "\t<tr><td>6       </td><td>1       </td><td>15      </td><td>1955    </td><td>28343730</td></tr>\n",
       "</tbody>\n",
       "</table>\n"
      ],
      "text/latex": [
       "\\begin{tabular}{r|lllll}\n",
       " location\\_id & sex\\_id & age\\_group\\_id & year\\_id & pop\\\\\n",
       "\\hline\n",
       "\t 6        & 1        & 15       & 1950     & 27530292\\\\\n",
       "\t 6        & 1        & 15       & 1951     & 28008975\\\\\n",
       "\t 6        & 1        & 15       & 1952     & 28183766\\\\\n",
       "\t 6        & 1        & 15       & 1953     & 28252474\\\\\n",
       "\t 6        & 1        & 15       & 1954     & 28303795\\\\\n",
       "\t 6        & 1        & 15       & 1955     & 28343730\\\\\n",
       "\\end{tabular}\n"
      ],
      "text/markdown": [
       "\n",
       "location_id | sex_id | age_group_id | year_id | pop | \n",
       "|---|---|---|---|---|---|\n",
       "| 6        | 1        | 15       | 1950     | 27530292 | \n",
       "| 6        | 1        | 15       | 1951     | 28008975 | \n",
       "| 6        | 1        | 15       | 1952     | 28183766 | \n",
       "| 6        | 1        | 15       | 1953     | 28252474 | \n",
       "| 6        | 1        | 15       | 1954     | 28303795 | \n",
       "| 6        | 1        | 15       | 1955     | 28343730 | \n",
       "\n",
       "\n"
      ],
      "text/plain": [
       "  location_id sex_id age_group_id year_id pop     \n",
       "1 6           1      15           1950    27530292\n",
       "2 6           1      15           1951    28008975\n",
       "3 6           1      15           1952    28183766\n",
       "4 6           1      15           1953    28252474\n",
       "5 6           1      15           1954    28303795\n",
       "6 6           1      15           1955    28343730"
      ]
     },
     "metadata": {},
     "output_type": "display_data"
    }
   ],
   "source": [
    "## POP DATA from UN\n",
    "# pop <- data.table(fread(\"/home/j/Project/IRH/Forecasting/data/WPP_forecasted_population.csv\"))\n",
    "pop <- fread('/ihme/forecasting/data/pop/20150101_wpp/data.csv')\n",
    "pop <- pop[, age_group_id:=15+5*(age_group_id -8)] \n",
    "pop<- pop[age_group_id == 15 | age_group_id == 20 | age_group_id == 25 | age_group_id == 30 | age_group_id == 35 | age_group_id == 40 | \n",
    "          age_group_id == 45 | age_group_id == 50 | age_group_id == 55 | age_group_id == 60 | age_group_id == 65 | age_group_id == 70 | \n",
    "          age_group_id == 75 | age_group_id == 80,]\n",
    "head(pop)"
   ]
  },
  {
   "cell_type": "code",
   "execution_count": 3,
   "metadata": {
    "collapsed": true
   },
   "outputs": [],
   "source": [
    "### Let's concatenatate the age and sex columns to be one identifier:\n",
    "data_cleanup_1 <- function(dt) {\n",
    "    dt <- dt[, age_sex := paste0(age_group_id, \"_\", sex_id)]\n",
    "    dt <- dt[, age_group_id:= NULL]\n",
    "    dt <- dt[, sex_id:= NULL]\n",
    "#     dt <- setcolorder(dt, c(\"location_id\", \"year_id\", \"age_sex\", paste0(\"draw_\",c(0:999)) ))\n",
    "    head(dt)\n",
    "    \n",
    "    return(dt)\n",
    "}"
   ]
  },
  {
   "cell_type": "code",
   "execution_count": 4,
   "metadata": {},
   "outputs": [],
   "source": [
    "## Merge pop age-sex var\n",
    "pop_joined <- data_cleanup_1(pop)"
   ]
  },
  {
   "cell_type": "code",
   "execution_count": 5,
   "metadata": {},
   "outputs": [
    {
     "name": "stdout",
     "output_type": "stream",
     "text": [
      "\r",
      "Read 0.0% of 709800 rows\r",
      "Read 1.4% of 709800 rows\r",
      "Read 2.8% of 709800 rows\r",
      "Read 4.2% of 709800 rows\r",
      "Read 5.6% of 709800 rows\r",
      "Read 7.0% of 709800 rows\r",
      "Read 8.5% of 709800 rows\r",
      "Read 9.9% of 709800 rows\r",
      "Read 11.3% of 709800 rows\r",
      "Read 12.7% of 709800 rows\r",
      "Read 14.1% of 709800 rows\r",
      "Read 15.5% of 709800 rows\r",
      "Read 16.9% of 709800 rows\r",
      "Read 18.3% of 709800 rows\r",
      "Read 19.7% of 709800 rows\r",
      "Read 21.1% of 709800 rows\r",
      "Read 22.5% of 709800 rows\r",
      "Read 24.0% of 709800 rows\r",
      "Read 25.4% of 709800 rows\r",
      "Read 26.8% of 709800 rows\r",
      "Read 28.2% of 709800 rows\r",
      "Read 29.6% of 709800 rows\r",
      "Read 31.0% of 709800 rows\r",
      "Read 32.4% of 709800 rows\r",
      "Read 33.8% of 709800 rows\r",
      "Read 35.2% of 709800 rows\r",
      "Read 36.6% of 709800 rows\r",
      "Read 38.0% of 709800 rows\r",
      "Read 39.4% of 709800 rows\r",
      "Read 40.9% of 709800 rows\r",
      "Read 42.3% of 709800 rows\r",
      "Read 43.7% of 709800 rows\r",
      "Read 45.1% of 709800 rows\r",
      "Read 46.5% of 709800 rows\r",
      "Read 47.9% of 709800 rows\r",
      "Read 49.3% of 709800 rows\r",
      "Read 50.7% of 709800 rows\r",
      "Read 52.1% of 709800 rows\r",
      "Read 53.5% of 709800 rows\r",
      "Read 54.9% of 709800 rows\r",
      "Read 56.4% of 709800 rows\r",
      "Read 57.8% of 709800 rows\r",
      "Read 59.2% of 709800 rows\r",
      "Read 60.6% of 709800 rows\r",
      "Read 62.0% of 709800 rows\r",
      "Read 63.4% of 709800 rows\r",
      "Read 64.8% of 709800 rows\r",
      "Read 66.2% of 709800 rows\r",
      "Read 67.6% of 709800 rows\r",
      "Read 69.0% of 709800 rows\r",
      "Read 70.4% of 709800 rows\r",
      "Read 71.9% of 709800 rows\r",
      "Read 73.3% of 709800 rows\r",
      "Read 74.7% of 709800 rows\r",
      "Read 76.1% of 709800 rows\r",
      "Read 77.5% of 709800 rows\r",
      "Read 78.9% of 709800 rows\r",
      "Read 80.3% of 709800 rows\r",
      "Read 81.7% of 709800 rows\r",
      "Read 83.1% of 709800 rows\r",
      "Read 84.5% of 709800 rows\r",
      "Read 85.9% of 709800 rows\r",
      "Read 87.3% of 709800 rows\r",
      "Read 88.8% of 709800 rows\r",
      "Read 90.2% of 709800 rows\r",
      "Read 91.6% of 709800 rows\r",
      "Read 93.0% of 709800 rows\r",
      "Read 94.4% of 709800 rows\r",
      "Read 95.8% of 709800 rows\r",
      "Read 97.2% of 709800 rows\r",
      "Read 98.6% of 709800 rows\r",
      "Read 709800 rows and 1004 (of 1004) columns from 9.300 GB file in 00:04:52\n"
     ]
    },
    {
     "data": {
      "text/plain": [
       "   user  system elapsed \n",
       "256.957  34.972 305.034 "
      ]
     },
     "metadata": {},
     "output_type": "display_data"
    },
    {
     "name": "stdout",
     "output_type": "stream",
     "text": [
      "\r",
      "Read 0.0% of 709800 rows\r",
      "Read 1.4% of 709800 rows\r",
      "Read 2.8% of 709800 rows\r",
      "Read 4.2% of 709800 rows\r",
      "Read 5.6% of 709800 rows\r",
      "Read 7.0% of 709800 rows\r",
      "Read 8.5% of 709800 rows\r",
      "Read 9.9% of 709800 rows\r",
      "Read 11.3% of 709800 rows\r",
      "Read 12.7% of 709800 rows\r",
      "Read 14.1% of 709800 rows\r",
      "Read 15.5% of 709800 rows\r",
      "Read 16.9% of 709800 rows\r",
      "Read 18.3% of 709800 rows\r",
      "Read 19.7% of 709800 rows\r",
      "Read 21.1% of 709800 rows\r",
      "Read 22.5% of 709800 rows\r",
      "Read 24.0% of 709800 rows\r",
      "Read 25.4% of 709800 rows\r",
      "Read 26.8% of 709800 rows\r",
      "Read 28.2% of 709800 rows\r",
      "Read 29.6% of 709800 rows\r",
      "Read 31.0% of 709800 rows\r",
      "Read 32.4% of 709800 rows\r",
      "Read 33.8% of 709800 rows\r",
      "Read 35.2% of 709800 rows\r",
      "Read 36.6% of 709800 rows\r",
      "Read 38.0% of 709800 rows\r",
      "Read 39.4% of 709800 rows\r",
      "Read 40.9% of 709800 rows\r",
      "Read 42.3% of 709800 rows\r",
      "Read 43.7% of 709800 rows\r",
      "Read 45.1% of 709800 rows\r",
      "Read 46.5% of 709800 rows\r",
      "Read 47.9% of 709800 rows\r",
      "Read 49.3% of 709800 rows\r",
      "Read 50.7% of 709800 rows\r",
      "Read 52.1% of 709800 rows\r",
      "Read 53.5% of 709800 rows\r",
      "Read 54.9% of 709800 rows\r",
      "Read 56.4% of 709800 rows\r",
      "Read 57.8% of 709800 rows\r",
      "Read 59.2% of 709800 rows\r",
      "Read 60.6% of 709800 rows\r",
      "Read 62.0% of 709800 rows\r",
      "Read 63.4% of 709800 rows\r",
      "Read 64.8% of 709800 rows\r",
      "Read 66.2% of 709800 rows\r",
      "Read 67.6% of 709800 rows\r",
      "Read 69.0% of 709800 rows\r",
      "Read 70.4% of 709800 rows\r",
      "Read 71.9% of 709800 rows\r",
      "Read 73.3% of 709800 rows\r",
      "Read 74.7% of 709800 rows\r",
      "Read 76.1% of 709800 rows\r",
      "Read 77.5% of 709800 rows\r",
      "Read 78.9% of 709800 rows\r",
      "Read 80.3% of 709800 rows\r",
      "Read 81.7% of 709800 rows\r",
      "Read 83.1% of 709800 rows\r",
      "Read 84.5% of 709800 rows\r",
      "Read 85.9% of 709800 rows\r",
      "Read 87.3% of 709800 rows\r",
      "Read 88.8% of 709800 rows\r",
      "Read 90.2% of 709800 rows\r",
      "Read 91.6% of 709800 rows\r",
      "Read 93.0% of 709800 rows\r",
      "Read 94.4% of 709800 rows\r",
      "Read 95.8% of 709800 rows\r",
      "Read 97.2% of 709800 rows\r",
      "Read 98.6% of 709800 rows\r",
      "Read 709800 rows and 1004 (of 1004) columns from 9.300 GB file in 00:04:49\n"
     ]
    },
    {
     "data": {
      "text/plain": [
       "   user  system elapsed \n",
       "254.128  35.343 302.141 "
      ]
     },
     "metadata": {},
     "output_type": "display_data"
    },
    {
     "name": "stdout",
     "output_type": "stream",
     "text": [
      "\r",
      "Read 0.0% of 709800 rows\r",
      "Read 1.4% of 709800 rows\r",
      "Read 2.8% of 709800 rows\r",
      "Read 4.2% of 709800 rows\r",
      "Read 5.6% of 709800 rows\r",
      "Read 7.0% of 709800 rows\r",
      "Read 8.5% of 709800 rows\r",
      "Read 9.9% of 709800 rows\r",
      "Read 11.3% of 709800 rows\r",
      "Read 12.7% of 709800 rows\r",
      "Read 14.1% of 709800 rows\r",
      "Read 15.5% of 709800 rows\r",
      "Read 16.9% of 709800 rows\r",
      "Read 18.3% of 709800 rows\r",
      "Read 19.7% of 709800 rows\r",
      "Read 21.1% of 709800 rows\r",
      "Read 22.5% of 709800 rows\r",
      "Read 24.0% of 709800 rows\r",
      "Read 25.4% of 709800 rows\r",
      "Read 26.8% of 709800 rows\r",
      "Read 28.2% of 709800 rows\r",
      "Read 29.6% of 709800 rows\r",
      "Read 31.0% of 709800 rows\r",
      "Read 32.4% of 709800 rows\r",
      "Read 33.8% of 709800 rows\r",
      "Read 35.2% of 709800 rows\r",
      "Read 36.6% of 709800 rows\r",
      "Read 38.0% of 709800 rows\r",
      "Read 39.4% of 709800 rows\r",
      "Read 40.9% of 709800 rows\r",
      "Read 42.3% of 709800 rows\r",
      "Read 43.7% of 709800 rows\r",
      "Read 45.1% of 709800 rows\r",
      "Read 46.5% of 709800 rows\r",
      "Read 47.9% of 709800 rows\r",
      "Read 49.3% of 709800 rows\r",
      "Read 50.7% of 709800 rows\r",
      "Read 52.1% of 709800 rows\r",
      "Read 53.5% of 709800 rows\r",
      "Read 54.9% of 709800 rows\r",
      "Read 56.4% of 709800 rows\r",
      "Read 57.8% of 709800 rows\r",
      "Read 59.2% of 709800 rows\r",
      "Read 60.6% of 709800 rows\r",
      "Read 62.0% of 709800 rows\r",
      "Read 63.4% of 709800 rows\r",
      "Read 64.8% of 709800 rows\r",
      "Read 66.2% of 709800 rows\r",
      "Read 67.6% of 709800 rows\r",
      "Read 69.0% of 709800 rows\r",
      "Read 70.4% of 709800 rows\r",
      "Read 71.9% of 709800 rows\r",
      "Read 73.3% of 709800 rows\r",
      "Read 74.7% of 709800 rows\r",
      "Read 76.1% of 709800 rows\r",
      "Read 77.5% of 709800 rows\r",
      "Read 78.9% of 709800 rows\r",
      "Read 80.3% of 709800 rows\r",
      "Read 81.7% of 709800 rows\r",
      "Read 83.1% of 709800 rows\r",
      "Read 84.5% of 709800 rows\r",
      "Read 85.9% of 709800 rows\r",
      "Read 87.3% of 709800 rows\r",
      "Read 88.8% of 709800 rows\r",
      "Read 90.2% of 709800 rows\r",
      "Read 91.6% of 709800 rows\r",
      "Read 93.0% of 709800 rows\r",
      "Read 94.4% of 709800 rows\r",
      "Read 95.8% of 709800 rows\r",
      "Read 97.2% of 709800 rows\r",
      "Read 98.6% of 709800 rows\r",
      "Read 709800 rows and 1004 (of 1004) columns from 9.301 GB file in 00:05:40\n"
     ]
    },
    {
     "data": {
      "text/plain": [
       "   user  system elapsed \n",
       "249.362  91.413 357.308 "
      ]
     },
     "metadata": {},
     "output_type": "display_data"
    }
   ],
   "source": [
    "## Bring in edu from Pat!\n",
    "\n",
    "system.time(edu_ref <- fread(\"/ihme/forecasting/data/fbd_scenarios_data/forecast/covariate/education/20170608_GBD2016Final/20170725_cohort_maternal_scenarios0.csv\"))\n",
    "system.time(edu_pes <- fread(\"/ihme/forecasting/data/fbd_scenarios_data/forecast/covariate/education/20170608_GBD2016Final/20170725_cohort_maternal_scenarios-1.csv\"))\n",
    "system.time(edu_opt <- fread(\"/ihme/forecasting/data/fbd_scenarios_data/forecast/covariate/education/20170608_GBD2016Final/20170725_cohort_maternal_scenarios1.csv\"))"
   ]
  },
  {
   "cell_type": "code",
   "execution_count": 6,
   "metadata": {},
   "outputs": [],
   "source": [
    "## Convert age_group_id to age_start\n",
    "  ## Leave out the younglings (no maternal education)    \n",
    "    edu_ref <- edu_ref[age_group_id >7]\n",
    "    edu_ref <- edu_ref[, age_group_id:=15+5*(age_group_id -8)] \n",
    "    \n",
    "    edu_pes <- edu_pes[age_group_id >7]\n",
    "    edu_pes <- edu_pes[, age_group_id:=15+5*(age_group_id -8)] \n",
    "    \n",
    "    edu_opt <- edu_opt[age_group_id >7]\n",
    "    edu_opt <- edu_opt[, age_group_id:=15+5*(age_group_id -8)] "
   ]
  },
  {
   "cell_type": "code",
   "execution_count": 7,
   "metadata": {},
   "outputs": [
    {
     "data": {
      "text/plain": [
       "[1] \"2017-07-26 15:06:35 PDT\""
      ]
     },
     "metadata": {},
     "output_type": "display_data"
    },
    {
     "data": {
      "text/plain": [
       "[1] \"2017-07-26 15:06:38 PDT\""
      ]
     },
     "metadata": {},
     "output_type": "display_data"
    }
   ],
   "source": [
    "## Use the function\n",
    "Sys.time()\n",
    "edu_ref <- data_cleanup_1(edu_ref)\n",
    "edu_pes <- data_cleanup_1(edu_pes)\n",
    "edu_opt <- data_cleanup_1(edu_opt)\n",
    "Sys.time()"
   ]
  },
  {
   "cell_type": "markdown",
   "metadata": {},
   "source": [
    "### Reshape long by draws, wide by year, use copula with spearman = 1, and reshape back AND collapse by country-year"
   ]
  },
  {
   "cell_type": "code",
   "execution_count": 8,
   "metadata": {
    "scrolled": true
   },
   "outputs": [
    {
     "data": {
      "text/plain": [
       "   user  system elapsed \n",
       "  8.637 229.503 244.297 "
      ]
     },
     "metadata": {},
     "output_type": "display_data"
    },
    {
     "data": {
      "text/plain": [
       "    user   system  elapsed \n",
       "   5.197 1025.126 1070.009 "
      ]
     },
     "metadata": {},
     "output_type": "display_data"
    },
    {
     "data": {
      "text/plain": [
       "   user  system elapsed \n",
       "  7.972 654.511 688.615 "
      ]
     },
     "metadata": {},
     "output_type": "display_data"
    }
   ],
   "source": [
    "# Make draws long \n",
    "system.time(edu_ref_long <- melt(edu_ref, id.vars = c(\"location_id\", \"age_sex\", \"year_id\"), value.name = \"edu\", varnames = \"draw\"))\n",
    "system.time(edu_pes_long <- melt(edu_pes, id.vars = c(\"location_id\", \"age_sex\", \"year_id\"), value.name = \"edu\", varnames = \"draw\"))\n",
    "system.time(edu_opt_long <- melt(edu_opt, id.vars = c(\"location_id\", \"age_sex\", \"year_id\"), value.name = \"edu\", varnames = \"draw\"))"
   ]
  },
  {
   "cell_type": "code",
   "execution_count": 9,
   "metadata": {},
   "outputs": [
    {
     "data": {
      "text/html": [
       "<ol class=list-inline>\n",
       "\t<li>6</li>\n",
       "\t<li>7</li>\n",
       "\t<li>8</li>\n",
       "\t<li>10</li>\n",
       "\t<li>11</li>\n",
       "\t<li>12</li>\n",
       "</ol>\n"
      ],
      "text/latex": [
       "\\begin{enumerate*}\n",
       "\\item 6\n",
       "\\item 7\n",
       "\\item 8\n",
       "\\item 10\n",
       "\\item 11\n",
       "\\item 12\n",
       "\\end{enumerate*}\n"
      ],
      "text/markdown": [
       "1. 6\n",
       "2. 7\n",
       "3. 8\n",
       "4. 10\n",
       "5. 11\n",
       "6. 12\n",
       "\n",
       "\n"
      ],
      "text/plain": [
       "[1]  6  7  8 10 11 12"
      ]
     },
     "metadata": {},
     "output_type": "display_data"
    },
    {
     "data": {
      "text/html": [
       "195"
      ],
      "text/latex": [
       "195"
      ],
      "text/markdown": [
       "195"
      ],
      "text/plain": [
       "[1] 195"
      ]
     },
     "metadata": {},
     "output_type": "display_data"
    }
   ],
   "source": [
    "## Number of countries we have to array over\n",
    "countries <- unique(edu_ref[year_id ==1980 & age_sex==\"15_1\", location_id])\n",
    "head(countries); length(countries);"
   ]
  },
  {
   "cell_type": "code",
   "execution_count": 12,
   "metadata": {
    "collapsed": true
   },
   "outputs": [],
   "source": [
    "## Ease up on the memory\n",
    "rm(edu_ref); rm(edu_pes); rm(edu_opt)"
   ]
  },
  {
   "cell_type": "code",
   "execution_count": 13,
   "metadata": {},
   "outputs": [],
   "source": [
    "## Get our baseline correlation matrix\n",
    "load(\"/home/j/WORK/01_covariates/02_inputs/education/update_2017/data/tabulated_data/archive_nafis/insample_corr_mat.Rdata\")\n",
    "\n",
    "## For now, trim the corr matrix to have 14 age groups\n",
    "corr_mat <- corr_mat[1:28,1:28]"
   ]
  },
  {
   "cell_type": "code",
   "execution_count": 14,
   "metadata": {
    "scrolled": true
   },
   "outputs": [
    {
     "data": {
      "text/html": [
       "<table>\n",
       "<thead><tr><th scope=col>location_id</th><th scope=col>age_sex</th><th scope=col>year_id</th><th scope=col>variable</th><th scope=col>edu</th></tr></thead>\n",
       "<tbody>\n",
       "\t<tr><td>6       </td><td>15_1    </td><td>1950    </td><td>draw_0  </td><td>6.271784</td></tr>\n",
       "\t<tr><td>6       </td><td>15_1    </td><td>1951    </td><td>draw_0  </td><td>6.393951</td></tr>\n",
       "\t<tr><td>6       </td><td>15_1    </td><td>1952    </td><td>draw_0  </td><td>6.517633</td></tr>\n",
       "\t<tr><td>6       </td><td>15_1    </td><td>1953    </td><td>draw_0  </td><td>6.642597</td></tr>\n",
       "\t<tr><td>6       </td><td>15_1    </td><td>1954    </td><td>draw_0  </td><td>6.768515</td></tr>\n",
       "\t<tr><td>6       </td><td>15_1    </td><td>1955    </td><td>draw_0  </td><td>6.894976</td></tr>\n",
       "</tbody>\n",
       "</table>\n"
      ],
      "text/latex": [
       "\\begin{tabular}{r|lllll}\n",
       " location\\_id & age\\_sex & year\\_id & variable & edu\\\\\n",
       "\\hline\n",
       "\t 6        & 15\\_1   & 1950     & draw\\_0 & 6.271784\\\\\n",
       "\t 6        & 15\\_1   & 1951     & draw\\_0 & 6.393951\\\\\n",
       "\t 6        & 15\\_1   & 1952     & draw\\_0 & 6.517633\\\\\n",
       "\t 6        & 15\\_1   & 1953     & draw\\_0 & 6.642597\\\\\n",
       "\t 6        & 15\\_1   & 1954     & draw\\_0 & 6.768515\\\\\n",
       "\t 6        & 15\\_1   & 1955     & draw\\_0 & 6.894976\\\\\n",
       "\\end{tabular}\n"
      ],
      "text/markdown": [
       "\n",
       "location_id | age_sex | year_id | variable | edu | \n",
       "|---|---|---|---|---|---|\n",
       "| 6        | 15_1     | 1950     | draw_0   | 6.271784 | \n",
       "| 6        | 15_1     | 1951     | draw_0   | 6.393951 | \n",
       "| 6        | 15_1     | 1952     | draw_0   | 6.517633 | \n",
       "| 6        | 15_1     | 1953     | draw_0   | 6.642597 | \n",
       "| 6        | 15_1     | 1954     | draw_0   | 6.768515 | \n",
       "| 6        | 15_1     | 1955     | draw_0   | 6.894976 | \n",
       "\n",
       "\n"
      ],
      "text/plain": [
       "  location_id age_sex year_id variable edu     \n",
       "1 6           15_1    1950    draw_0   6.271784\n",
       "2 6           15_1    1951    draw_0   6.393951\n",
       "3 6           15_1    1952    draw_0   6.517633\n",
       "4 6           15_1    1953    draw_0   6.642597\n",
       "5 6           15_1    1954    draw_0   6.768515\n",
       "6 6           15_1    1955    draw_0   6.894976"
      ]
     },
     "metadata": {},
     "output_type": "display_data"
    }
   ],
   "source": [
    "head(edu_pes_long)"
   ]
  },
  {
   "cell_type": "code",
   "execution_count": 10,
   "metadata": {
    "scrolled": true
   },
   "outputs": [
    {
     "data": {
      "text/plain": [
       "    user   system  elapsed \n",
       " 331.479 2436.240  280.574 "
      ]
     },
     "metadata": {},
     "output_type": "display_data"
    },
    {
     "name": "stdout",
     "output_type": "stream",
     "text": [
      " num [1:26, 1:91, 1:28, 1:1000] 0.899 7.832 4.993 5.804 5.513 ...\n",
      " - attr(*, \"dimnames\")=List of 4\n",
      "  ..$ : chr [1:26] \"19\" \"22\" \"37\" \"39\" ...\n",
      "  ..$ : chr [1:91] \"1950\" \"1951\" \"1952\" \"1953\" ...\n",
      "  ..$ : chr [1:28] \"15_1\" \"15_2\" \"20_1\" \"20_2\" ...\n",
      "  ..$ : chr [1:1000] \"draw_0\" \"draw_1\" \"draw_2\" \"draw_3\" ...\n"
     ]
    }
   ],
   "source": [
    "## Convert them all to multidim array in the dims: [loc, year, age_sex, draw_num, data]\n",
    "\n",
    "## Reference\n",
    "system.time(edu_ref_array<- mclapply(countries, \n",
    "                                function(x) {reshape2::acast(edu_ref_long[location_id == x,], \n",
    "                                                      location_id ~  year_id ~ age_sex ~ variable, \n",
    "                                                      value.var = \"edu\") }, mc.cores = 15))\n",
    "edu_ref_array <- abind(edu_ref_array, along=1)\n",
    "str(edu_ref_array)"
   ]
  },
  {
   "cell_type": "code",
   "execution_count": 17,
   "metadata": {},
   "outputs": [
    {
     "name": "stderr",
     "output_type": "stream",
     "text": [
      "Timing stopped at: 289.7 357.3 41.54\n"
     ]
    }
   ],
   "source": [
    "## Pessimistic\n",
    "system.time(edu_pes_array<- mclapply(countries, \n",
    "                                function(x) {reshape2::acast(edu_pes_long[location_id == x,], \n",
    "                                                      location_id ~  year_id ~ age_sex ~ variable, \n",
    "                                                      value.var = \"edu\") }, \n",
    "                                                        mc.cores = 6))\n",
    "edu_pes_array <- abind(edu_pes_array, along=1)\n",
    "str(edu_pes_array)"
   ]
  },
  {
   "cell_type": "code",
   "execution_count": null,
   "metadata": {},
   "outputs": [],
   "source": [
    "## Optimistic\n",
    "system.time(edu_opt_array<- mclapply(countries, \n",
    "                                function(x) {reshape2::acast(edu_opt_long[location_id == x,], \n",
    "                                                      location_id ~  year_id ~ age_sex ~ variable, \n",
    "                                                      value.var = \"edu\") }, \n",
    "                                                        mc.cores = 6))\n",
    "edu_opt_array <- abind(edu_opt_array, along=1)\n",
    "str(edu_opt_array)"
   ]
  },
  {
   "cell_type": "markdown",
   "metadata": {},
   "source": [
    "### Neal's (TM) Multivariate Copula Function"
   ]
  },
  {
   "cell_type": "code",
   "execution_count": null,
   "metadata": {
    "collapsed": true
   },
   "outputs": [],
   "source": [
    "draw2Dcopula <- function(X, cor_mat, df_return = F){\n",
    "  L <- dim(X)[2]\n",
    "  D <- dim(X)[3]\n",
    "  Xsum <- apply(X, c(2, 3), sum)\n",
    "  mvdat <- mvrnorm(n=D, mu=0 * 1:L, Sigma=cor_mat, empirical=TRUE)\n",
    "  ranks <- apply(mvdat, 2, rank, ties.method=\"first\")\n",
    "  sortedXsim <- apply(Xsum, 1, function(x) sort(x, index.return=TRUE)$ix)\n",
    "  sortedX <- X\n",
    "  for(i in 1:L){\n",
    "    sortedX[,i,] <- X[,i,sortedXsim[,i]]\n",
    "  }\n",
    "  Xcorr <- sortedX\n",
    "  for(i in 1:L){\n",
    "    Xcorr[,i,] <- sortedX[,i,ranks[,i]]\n",
    "  }\n",
    "  if (df_return==T) {\n",
    "    return(data.table(melt(Xcorr)))\n",
    "    }\n",
    "      else {\n",
    "          Xcorr\n",
    "      }\n",
    "}"
   ]
  },
  {
   "cell_type": "markdown",
   "metadata": {},
   "source": [
    "### Let's 2D copulate the data now"
   ]
  },
  {
   "cell_type": "code",
   "execution_count": null,
   "metadata": {
    "scrolled": false
   },
   "outputs": [],
   "source": [
    "system.time(edu_ref_corr_array <- mclapply(countries, \n",
    "                                    function(x) {cbind(x, draw2Dcopula(edu_ref_array[paste0(x),,,],\n",
    "                                                                      corr_mat , df_return = T))}, mc.cores = 6 ))\n",
    "                                        \n",
    "edu_ref_corr_df <- do.call(rbind, edu_ref_corr_array)\n",
    "                                        \n",
    "colnames(edu_ref_corr_df) <- c(\"location_id\", \"year_id\", \"age_sex\", \"draw_num\", \"edu\")\n",
    "head(edu_ref_corr_df)    \n",
    "\n",
    "\n",
    "system.time(edu_pes_corr_array <- mclapply(countries, \n",
    "                                    function(x) {cbind(x, draw2Dcopula(edu_pes_array[paste0(x),,,],\n",
    "                                                                      corr_mat , df_return = T))}, mc.cores = 6 ))\n",
    "                                        \n",
    "edu_pes_corr_df <- do.call(rbind, edu_pes_corr_array)\n",
    "                                        \n",
    "colnames(edu_pes_corr_df) <- c(\"location_id\", \"year_id\", \"age_sex\", \"draw_num\", \"edu\")\n",
    "head(edu_pes_corr_df)    \n",
    "\n",
    "\n",
    "\n",
    "system.time(edu_opt_corr_array <- mclapply(countries, \n",
    "                                    function(x) {cbind(x, draw2Dcopula(edu_opt_array[paste0(x),,,],\n",
    "                                                                      corr_mat , df_return = T))}, mc.cores = 6 ))\n",
    "                                        \n",
    "edu_opt_corr_df <- do.call(rbind, edu_opt_corr_array)\n",
    "                                        \n",
    "colnames(edu_opt_corr_df) <- c(\"location_id\", \"year_id\", \"age_sex\", \"draw_num\", \"edu\")\n",
    "head(edu_opt_corr_df)"
   ]
  },
  {
   "cell_type": "code",
   "execution_count": null,
   "metadata": {},
   "outputs": [],
   "source": [
    "dim(edu_ref_long); dim(edu_opt_corr_df); dim(edu_pes_corr_df); dim(edu_ref_corr_df)"
   ]
  },
  {
   "cell_type": "markdown",
   "metadata": {},
   "source": [
    "### Collapse to year and country only"
   ]
  },
  {
   "cell_type": "code",
   "execution_count": null,
   "metadata": {},
   "outputs": [],
   "source": [
    "country_year_collapser <- function(edu_data, pop_data = pop, split_AS = T, dcast_needed=T) {\n",
    "    \n",
    "    if(dcast_needed) {\n",
    "        ## Reshape wide\n",
    "        Xcorr_df_with_pop <- dcast(edu_data, location_id + year_id + age_sex ~ draw_num, value.var = c(\"edu\"))\n",
    "    } else {\n",
    "        Xcorr_df_with_pop <- edu_data\n",
    "    }\n",
    "\n",
    "    # Split back into age and sex\n",
    "    Xcorr_df_with_pop2 <- Xcorr_df_with_pop\n",
    "    \n",
    "    if(split_AS) {\n",
    "        ## Split the string \"_\"\n",
    "        system.time({ Xcorr_df_with_pop2[, c(\"age_group_id\",\"sex_id\") := data.table(str_split_fixed(age_sex,\"_\",2))] })\n",
    "        Xcorr_df_with_pop2[, age_sex:=NULL]    \n",
    "\n",
    "        ## Convert the new columns to numerics\n",
    "        Xcorr_df_with_pop2[, age_group_id := as.numeric(age_group_id)]\n",
    "        Xcorr_df_with_pop2[, sex_id := as.integer(sex_id)]\n",
    "    }\n",
    "   \n",
    "    #### MAKE THE POP DT INTO A SINGLE AGE_SEX AND DO THE MERGE! FASTER\n",
    "    \n",
    "    ## Merge in population\n",
    "    Xcorr_df_with_pop2 <- merge(x=Xcorr_df_with_pop2, \n",
    "                                           y=pop_data, by = c(\"location_id\", \"year_id\", \"age_sex\") )\n",
    "\n",
    "#     Xcorr_df_with_pop2 <- Xcorr_df_with_pop2[!is.na(pop)]\n",
    "    \n",
    "    head(Xcorr_df_with_pop2)\n",
    "    \n",
    "    # Collapse correlated data and compute the mean and PCs\n",
    "#     Xcorr_df_CY<- Xcorr_df_with_pop2[, lapply(.SD, function(x) sum(x*pop)/sum(pop)), \n",
    "#                             by=c(\"location_id\", \"year_id\"), .SDcols=cbind(paste0(\"draw_\",c(0:999))) ] \n",
    "       Xcorr_df_CY<- Xcorr_df_with_pop2[, list(data = sum(edu*pop, na.rm=T)/sum(pop, na.rm=T)), \n",
    "                             by=c(\"location_id\", \"year_id\", \"draw_num\")] \n",
    "\n",
    "    \n",
    "    ## Melt super long to get stats\n",
    "#     Xcorr_df_CY_super_long <- melt(Xcorr_df_CY, id.vars = c(\"location_id\", \"year_id\"), \n",
    "#                                    value.name = \"data\", variable.name = \"draws\")\n",
    "    \n",
    "        \n",
    "    ## Get stats\n",
    "    Xcorr_df_CY_stats <- Xcorr_df_CY[, list(mean = mean(data, na.rm=T), \n",
    "                                                            upper = quantile(data, 0.975, na.rm=T), \n",
    "                                                            lower = quantile(data, 0.025, na.rm=T)), \n",
    "                                                     by = c(\"location_id\", \"year_id\")]\n",
    "\n",
    "    ## Return stuff\n",
    "    returner <- list()\n",
    "    returner[[\"draws\"]] <- Xcorr_df_CY\n",
    "    returner[[\"stats\"]] <- Xcorr_df_CY_stats\n",
    "        \n",
    "    return(returner)\n",
    "}\n"
   ]
  },
  {
   "cell_type": "code",
   "execution_count": null,
   "metadata": {
    "scrolled": true
   },
   "outputs": [],
   "source": [
    "## Collapse the three scenarios\n",
    "system.time(edu_ref_corr_CY <- country_year_collapser(edu_data = edu_ref_corr_df, pop_joined, split_AS = F,dcast_needed = F))\n",
    "system.time(edu_opt_corr_CY <- country_year_collapser(edu_data = edu_opt_corr_df, pop_joined, split_AS = F,dcast_needed = F))\n",
    "system.time(edu_pes_corr_CY <- country_year_collapser(edu_data = edu_pes_corr_df, pop_joined, split_AS = F,dcast_needed = F))"
   ]
  },
  {
   "cell_type": "code",
   "execution_count": null,
   "metadata": {
    "scrolled": true
   },
   "outputs": [],
   "source": [
    "## Collapse the un-correlated data\n",
    "try(edu_ref_long[, draw_num:= variable])\n",
    "try(edu_ref_long[, variable:= NULL])\n",
    "system.time(edu_ref_uncorr_CY <-country_year_collapser(edu_data = edu_ref_long, pop_joined, split_AS=F, dcast_needed=F))\n",
    "\n",
    "try(edu_pes_long[, draw_num:= variable])\n",
    "try(edu_pes_long[, variable:= NULL])\n",
    "system.time(edu_pes_uncorr_CY <-country_year_collapser(edu_data = edu_pes_long, pop_joined, split_AS=F, dcast_needed=F))\n",
    "\n",
    "edu_opt_long[, draw_num:= variable]\n",
    "edu_opt_long[, variable:= NULL]\n",
    "system.time(edu_opt_uncorr_CY <-country_year_collapser(edu_data = edu_opt_long, pop_joined, split_AS=F, dcast_needed=F))"
   ]
  },
  {
   "cell_type": "markdown",
   "metadata": {},
   "source": [
    "#### Test plots"
   ]
  },
  {
   "cell_type": "code",
   "execution_count": null,
   "metadata": {},
   "outputs": [],
   "source": [
    "## Plot by country\n",
    "plot_country_collapsed <- function(loc_id, data_ref, data_pes, data_opt) {\n",
    "    ggplot() +  xlab(\"Year\") + ylab(\"Education per capita\") + ggtitle(paste0(loc_id)) +\n",
    "    \n",
    "    ## Reference\n",
    "    geom_line(data = data_ref[year_id<=2015 & location_id == loc_id],\n",
    "                aes(x = year_id, y = mean), color = \"blue3\", alpha = .3) +\n",
    "    geom_ribbon(data = data_ref[location_id == loc_id],\n",
    "                aes(x = year_id, ymin= lower, ymax = upper), fill = \"steelblue\", alpha = .3) +\n",
    "    geom_line(data = data_ref[year_id>=2015 & location_id == loc_id],\n",
    "                aes(x = year_id, y = mean), color = \"blue3\", linetype = \"dashed\", alpha = .3) +\n",
    "    \n",
    "    ## Optimistic\n",
    "    geom_ribbon(data = data_opt[year_id >=2015 & location_id == loc_id],\n",
    "                aes(x = year_id, ymin= lower, ymax = upper), fill = \"green2\", alpha = .3) +\n",
    "    geom_line(data = data_opt[year_id>=2015& location_id == loc_id],\n",
    "                aes(x = year_id, y = mean), color = \"green4\", linetype = \"dashed\", alpha = .3) +\n",
    "    \n",
    "    ## Pessimistic\n",
    "    geom_ribbon(data = data_pes[year_id>=2015 & location_id == loc_id],\n",
    "                aes(x = year_id, ymin= lower, ymax = upper), fill = \"red2\", alpha = .3) +\n",
    "    geom_line(data = data_pes[year_id>=2015 & location_id == loc_id],\n",
    "                aes(x = year_id, y = mean), color = \"red4\", linetype = \"dashed\", alpha = .3) \n",
    "    \n",
    "}"
   ]
  },
  {
   "cell_type": "code",
   "execution_count": null,
   "metadata": {},
   "outputs": [],
   "source": [
    "ggplot(edu_opt_corr_CY[[\"stats\"]][location_id==522]) +\n",
    " geom_ribbon(aes(x = year_id, ymin = lower, ymax = upper)) +\n",
    "geom_line(aes(x = year_id, y=mean))"
   ]
  },
  {
   "cell_type": "code",
   "execution_count": null,
   "metadata": {},
   "outputs": [],
   "source": [
    "## Correlated\n",
    "plot_country_collapsed(6, data_ref = edu_ref_corr_CY[[\"stats\"]],\n",
    "                      data_pes = edu_pes_corr_CY[[\"stats\"]], data_opt=edu_opt_corr_CY[[\"stats\"]])"
   ]
  },
  {
   "cell_type": "code",
   "execution_count": null,
   "metadata": {},
   "outputs": [],
   "source": [
    "## Uncorrelated\n",
    "plot_country_collapsed(6, data_ref = edu_ref_uncorr_CY[[\"stats\"]],\n",
    "                      data_pes = edu_pes_uncorr_CY[[\"stats\"]], data_opt=edu_opt_uncorr_CY[[\"stats\"]])"
   ]
  },
  {
   "cell_type": "code",
   "execution_count": null,
   "metadata": {},
   "outputs": [],
   "source": [
    "## Prep for saving out the data (merge in the stats AND add a column of scenarios)\n",
    "reference_save <- merge(edu_ref_corr_CY[[\"draws\"]], edu_ref_corr_CY[[\"stats\"]], by = c(\"location_id\", \"year_id\"))\n",
    "reference_save[, scenario:= 0]\n",
    "\n",
    "pessimistic_save <- merge(edu_pes_corr_CY[[\"draws\"]], edu_pes_corr_CY[[\"stats\"]], by = c(\"location_id\", \"year_id\"))\n",
    "pessimistic_save[, scenario:= -1]\n",
    "\n",
    "optimistic_save <- merge(edu_opt_corr_CY[[\"draws\"]], edu_opt_corr_CY[[\"stats\"]], by = c(\"location_id\", \"year_id\"))\n",
    "optimistic_save[, scenario:= 1]"
   ]
  },
  {
   "cell_type": "code",
   "execution_count": null,
   "metadata": {},
   "outputs": [],
   "source": [
    "## Save out data\n",
    "\n",
    "\n",
    "## Reference\n",
    "fwrite(reference_save, paste0(\n",
    "       \"/ihme/forecasting/data/fbd_scenarios_data/forecast/covariate/education/20170608_GBD2016Final/correlated_CY_edu/\",\n",
    "          \"20170608_GBD2016Final_gpr_draws_cohort_scenarios0_CY.csv\"))\n",
    "\n",
    "## Pessimistic\n",
    "fwrite(pessimistic_save, paste0(\n",
    "       \"/ihme/forecasting/data/fbd_scenarios_data/forecast/covariate/education/20170608_GBD2016Final/correlated_CY_edu/\",\n",
    "          \"20170608_GBD2016Final_gpr_draws_cohort_scenarios-1_CY.csv\"))\n",
    "\n",
    "## Optimistic\n",
    "fwrite(optimistic_save, paste0(\n",
    "       \"/ihme/forecasting/data/fbd_scenarios_data/forecast/covariate/education/20170608_GBD2016Final/correlated_CY_edu/\",\n",
    "          \"20170608_GBD2016Final_gpr_draws_cohort_scenarios1_CY.csv\"))"
   ]
  }
 ],
 "metadata": {
  "anaconda-cloud": {},
  "kernelspec": {
   "display_name": "R 3.4.1",
   "language": "R",
   "name": "ir341"
  },
  "language_info": {
   "codemirror_mode": "r",
   "file_extension": ".r",
   "mimetype": "text/x-r-source",
   "name": "R",
   "pygments_lexer": "r",
   "version": "3.4.1"
  }
 },
 "nbformat": 4,
 "nbformat_minor": 1
}
