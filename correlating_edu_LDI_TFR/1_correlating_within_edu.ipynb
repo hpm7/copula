{
 "cells": [
  {
   "cell_type": "code",
   "execution_count": 1,
   "metadata": {
    "collapsed": false,
    "scrolled": true
   },
   "outputs": [
    {
     "name": "stderr",
     "output_type": "stream",
     "text": [
      "Loading required package: data.table\n",
      "Loading required package: MASS\n",
      "Loading required package: ggplot2\n",
      "Loading required package: gridExtra\n",
      "Loading required package: stringr\n",
      "Loading required package: matrixStats\n",
      "Loading required package: parallel\n",
      "Loading required package: abind\n"
     ]
    },
    {
     "data": {
      "text/html": [
       "56"
      ],
      "text/latex": [
       "56"
      ],
      "text/markdown": [
       "56"
      ],
      "text/plain": [
       "[1] 56"
      ]
     },
     "metadata": {},
     "output_type": "display_data"
    }
   ],
   "source": [
    "# rm(list=ls())\n",
    "require(data.table)\n",
    "require(MASS)\n",
    "require(ggplot2)\n",
    "# require(foreach)\n",
    "require(gridExtra)\n",
    "require(stringr)\n",
    "require(matrixStats)\n",
    "require(parallel)\n",
    "require(abind)\n",
    "\n",
    "parallel::detectCores()\n",
    "## Resizing notebook plot space\n",
    "options(repr.plot.width=16, repr.plot.height=9)"
   ]
  },
  {
   "cell_type": "code",
   "execution_count": 2,
   "metadata": {
    "collapsed": false
   },
   "outputs": [
    {
     "data": {
      "text/html": [
       "<table>\n",
       "<thead><tr><th scope=col>location_id</th><th scope=col>sex_id</th><th scope=col>age_group_id</th><th scope=col>year_id</th><th scope=col>pop</th></tr></thead>\n",
       "<tbody>\n",
       "\t<tr><td>6       </td><td>1       </td><td>15      </td><td>1950    </td><td>27530292</td></tr>\n",
       "\t<tr><td>6       </td><td>1       </td><td>15      </td><td>1951    </td><td>28008975</td></tr>\n",
       "\t<tr><td>6       </td><td>1       </td><td>15      </td><td>1952    </td><td>28183766</td></tr>\n",
       "\t<tr><td>6       </td><td>1       </td><td>15      </td><td>1953    </td><td>28252474</td></tr>\n",
       "\t<tr><td>6       </td><td>1       </td><td>15      </td><td>1954    </td><td>28303795</td></tr>\n",
       "\t<tr><td>6       </td><td>1       </td><td>15      </td><td>1955    </td><td>28343730</td></tr>\n",
       "</tbody>\n",
       "</table>\n"
      ],
      "text/latex": [
       "\\begin{tabular}{r|lllll}\n",
       " location\\_id & sex\\_id & age\\_group\\_id & year\\_id & pop\\\\\n",
       "\\hline\n",
       "\t 6        & 1        & 15       & 1950     & 27530292\\\\\n",
       "\t 6        & 1        & 15       & 1951     & 28008975\\\\\n",
       "\t 6        & 1        & 15       & 1952     & 28183766\\\\\n",
       "\t 6        & 1        & 15       & 1953     & 28252474\\\\\n",
       "\t 6        & 1        & 15       & 1954     & 28303795\\\\\n",
       "\t 6        & 1        & 15       & 1955     & 28343730\\\\\n",
       "\\end{tabular}\n"
      ],
      "text/markdown": [
       "\n",
       "location_id | sex_id | age_group_id | year_id | pop | \n",
       "|---|---|---|---|---|---|\n",
       "| 6        | 1        | 15       | 1950     | 27530292 | \n",
       "| 6        | 1        | 15       | 1951     | 28008975 | \n",
       "| 6        | 1        | 15       | 1952     | 28183766 | \n",
       "| 6        | 1        | 15       | 1953     | 28252474 | \n",
       "| 6        | 1        | 15       | 1954     | 28303795 | \n",
       "| 6        | 1        | 15       | 1955     | 28343730 | \n",
       "\n",
       "\n"
      ],
      "text/plain": [
       "  location_id sex_id age_group_id year_id pop     \n",
       "1 6           1      15           1950    27530292\n",
       "2 6           1      15           1951    28008975\n",
       "3 6           1      15           1952    28183766\n",
       "4 6           1      15           1953    28252474\n",
       "5 6           1      15           1954    28303795\n",
       "6 6           1      15           1955    28343730"
      ]
     },
     "metadata": {},
     "output_type": "display_data"
    }
   ],
   "source": [
    "## POP DATA from UN\n",
    "# pop <- data.table(fread(\"/home/j/Project/IRH/Forecasting/data/WPP_forecasted_population.csv\"))\n",
    "pop <- fread('/ihme/forecasting/data/pop/20150101_wpp/data.csv')\n",
    "pop <- pop[, age_group_id:=15+5*(age_group_id -8)] \n",
    "pop<- pop[age_group_id == 15 | age_group_id == 20 | age_group_id == 25 | age_group_id == 30 | age_group_id == 35 | age_group_id == 40 | age_group_id == 45 | age_group_id == 50 | age_group_id == 55 | age_group_id == 60 | age_group_id == 65 | age_group_id == 70 | age_group_id == 75 | age_group_id == 85,]\n",
    "head(pop)"
   ]
  },
  {
   "cell_type": "code",
   "execution_count": 3,
   "metadata": {
    "collapsed": false,
    "scrolled": true
   },
   "outputs": [
    {
     "name": "stdout",
     "output_type": "stream",
     "text": [
      "Read 475800 rows and 1004 (of 1004) columns from 6.191 GB file in 00:02:06\n",
      "Read 475800 rows and 1004 (of 1004) columns from 6.192 GB file in 00:02:28\n",
      "Read 475800 rows and 1004 (of 1004) columns from 6.190 GB file in 00:02:30\n"
     ]
    }
   ],
   "source": [
    "## Education forecasts\n",
    "# edu_orig<-data.table(fread(paste0(\"/home/j/WORK/01_covariates/02_inputs/education/update_2017/data/tabulated_data/archive_nafis/20161121_GBD2016prelim_95+_raked_2/gpr_draws.csv\"), header = T))\n",
    "# edu_orig <- edu_orig[, V1:=NULL]\n",
    "# head(edu_orig)\n",
    "\n",
    "edu_ref <- fread(\"/ihme/forecasting/data/fbd_scenarios_data/forecast/covariate/education/20170608_GBD2016Final/20170608_GBD2016Final_gpr_draws_scenario0.csv\")\n",
    "edu_pes <- fread(\"/ihme/forecasting/data/fbd_scenarios_data/forecast/covariate/education/20170608_GBD2016Final/20170608_GBD2016Final_gpr_draws_scenario-1.csv\")\n",
    "edu_opt <- fread(\"/ihme/forecasting/data/fbd_scenarios_data/forecast/covariate/education/20170608_GBD2016Final/20170608_GBD2016Final_gpr_draws_scenario1.csv\")"
   ]
  },
  {
   "cell_type": "code",
   "execution_count": 4,
   "metadata": {
    "collapsed": false
   },
   "outputs": [],
   "source": [
    "## Convert age_group_id to age_start\n",
    "  ## Leave out the younglings (no maternal education)    \n",
    "    edu_ref <- edu_ref[age_group_id >7]\n",
    "    edu_ref <- edu_ref[, age_group_id:=15+5*(age_group_id -8)] \n",
    "    \n",
    "    edu_pes <- edu_pes[age_group_id >7]\n",
    "    edu_pes <- edu_pes[, age_group_id:=15+5*(age_group_id -8)] \n",
    "    \n",
    "    edu_opt <- edu_opt[age_group_id >7]\n",
    "    edu_opt <- edu_opt[, age_group_id:=15+5*(age_group_id -8)] \n",
    "\n",
    "# edu_orig_2 <- edu_orig\n",
    "## Merge pop for later stuff\n",
    "# edu_orig_2 <- merge(edu_orig_2, pop, by = c(\"location_id\", \"year_id\", \"age_group_id\", \"sex_id\"))\n",
    "# head(edu_orig_2)"
   ]
  },
  {
   "cell_type": "code",
   "execution_count": 5,
   "metadata": {
    "collapsed": false,
    "scrolled": true
   },
   "outputs": [
    {
     "data": {
      "text/html": [
       "<table>\n",
       "<thead><tr><th scope=col>location_id</th><th scope=col>age_group_id</th><th scope=col>sex_id</th><th scope=col>year_id</th><th scope=col>draw_0</th><th scope=col>draw_1</th><th scope=col>draw_2</th><th scope=col>draw_3</th><th scope=col>draw_4</th><th scope=col>draw_5</th><th scope=col>⋯</th><th scope=col>draw_990</th><th scope=col>draw_991</th><th scope=col>draw_992</th><th scope=col>draw_993</th><th scope=col>draw_994</th><th scope=col>draw_995</th><th scope=col>draw_996</th><th scope=col>draw_997</th><th scope=col>draw_998</th><th scope=col>draw_999</th></tr></thead>\n",
       "<tbody>\n",
       "\t<tr><td>6       </td><td>15      </td><td>1       </td><td>1980    </td><td>8.195544</td><td>7.856324</td><td>8.401491</td><td>9.273246</td><td>8.992329</td><td>8.964878</td><td>⋯       </td><td>9.161543</td><td>8.760984</td><td>8.799634</td><td>7.828814</td><td>8.363295</td><td>8.391927</td><td>7.986652</td><td>8.969120</td><td>7.888389</td><td>8.868681</td></tr>\n",
       "\t<tr><td>6       </td><td>15      </td><td>1       </td><td>1981    </td><td>8.147565</td><td>7.995990</td><td>8.300895</td><td>9.233780</td><td>9.023098</td><td>8.942048</td><td>⋯       </td><td>9.096156</td><td>8.771453</td><td>8.835323</td><td>7.893521</td><td>8.456012</td><td>8.404336</td><td>8.119655</td><td>8.888441</td><td>7.918112</td><td>8.809835</td></tr>\n",
       "\t<tr><td>6       </td><td>15      </td><td>1       </td><td>1982    </td><td>8.099316</td><td>8.128367</td><td>8.207957</td><td>9.189589</td><td>9.047270</td><td>8.918667</td><td>⋯       </td><td>9.027742</td><td>8.785263</td><td>8.869407</td><td>7.953739</td><td>8.548425</td><td>8.412889</td><td>8.246784</td><td>8.807993</td><td>7.947025</td><td>8.759813</td></tr>\n",
       "\t<tr><td>6       </td><td>15      </td><td>1       </td><td>1983    </td><td>8.052140</td><td>8.253047</td><td>8.123502</td><td>9.141470</td><td>9.065569</td><td>8.895725</td><td>⋯       </td><td>8.957377</td><td>8.802851</td><td>8.903085</td><td>8.010255</td><td>8.640162</td><td>8.418698</td><td>8.368072</td><td>8.729619</td><td>7.975628</td><td>8.719149</td></tr>\n",
       "\t<tr><td>6       </td><td>15      </td><td>1       </td><td>1984    </td><td>8.007288</td><td>8.369833</td><td>8.048323</td><td>9.090263</td><td>9.078829</td><td>8.874083</td><td>⋯       </td><td>8.886159</td><td>8.824562</td><td>8.937524</td><td>8.063889</td><td>8.730709</td><td>8.422927</td><td>8.483543</td><td>8.655100</td><td>8.004449</td><td>8.688123</td></tr>\n",
       "\t<tr><td>6       </td><td>15      </td><td>1       </td><td>1985    </td><td>7.965937</td><td>8.478749</td><td>7.983198</td><td>9.036858</td><td>9.087964</td><td>8.854468</td><td>⋯       </td><td>8.815209</td><td>8.850664</td><td>8.973828</td><td>8.115483</td><td>8.819436</td><td>8.426788</td><td>8.593215</td><td>8.586134</td><td>8.034035</td><td>8.666778</td></tr>\n",
       "</tbody>\n",
       "</table>\n"
      ],
      "text/latex": [
       "\\begin{tabular}{r|llllllllllllllllllllllllllllllllllllllllllllllllllllllllllllllllllllllllllllllllllllllllllllllllllllllllllllllllllllllllllllllllllllllllllllllllllllllllllllllllllllllllllllllllllllllllllllllllllllllllllllllllllllllllllllllllllllllllllllllllllllllllllllllllllllllllllllllllllllllllllllllllllllllllllllllllllllllllllllllllllllllllllllllllllllllllllllllllllllllllllllllllllllllllllllllllllllllllllllllllllllllllllllllllllllllllllllllllllllllllllllllllllllllllllllllllllllllllllllllllllllllllllllllllllllllllllllllllllllllllllllllllllllllllllllllllllllllllllllllllllllllllllllllllllllllllllllllllllllllllllllllllllllllllllllllllllllllllllllllllllllllllllllllllllllllllllllllllllllllllllllllllllllllllllllllllllllllllllllllllllllllllllllllllllllllllllllllllllllllllllllllllllllllllllllllllllllllllllllllllllllllllllllllllllllllllllllllllllllllllllllllllllllllllllllllllllllllllllllllllllllllllllllllllllllllllllllllllllllllllllllllllllllllllllllllllllllllllllllllllllllllllllllllllllllllllllllllllllllllllllll}\n",
       " location\\_id & age\\_group\\_id & sex\\_id & year\\_id & draw\\_0 & draw\\_1 & draw\\_2 & draw\\_3 & draw\\_4 & draw\\_5 & ⋯ & draw\\_990 & draw\\_991 & draw\\_992 & draw\\_993 & draw\\_994 & draw\\_995 & draw\\_996 & draw\\_997 & draw\\_998 & draw\\_999\\\\\n",
       "\\hline\n",
       "\t 6        & 15       & 1        & 1980     & 8.195544 & 7.856324 & 8.401491 & 9.273246 & 8.992329 & 8.964878 & ⋯        & 9.161543 & 8.760984 & 8.799634 & 7.828814 & 8.363295 & 8.391927 & 7.986652 & 8.969120 & 7.888389 & 8.868681\\\\\n",
       "\t 6        & 15       & 1        & 1981     & 8.147565 & 7.995990 & 8.300895 & 9.233780 & 9.023098 & 8.942048 & ⋯        & 9.096156 & 8.771453 & 8.835323 & 7.893521 & 8.456012 & 8.404336 & 8.119655 & 8.888441 & 7.918112 & 8.809835\\\\\n",
       "\t 6        & 15       & 1        & 1982     & 8.099316 & 8.128367 & 8.207957 & 9.189589 & 9.047270 & 8.918667 & ⋯        & 9.027742 & 8.785263 & 8.869407 & 7.953739 & 8.548425 & 8.412889 & 8.246784 & 8.807993 & 7.947025 & 8.759813\\\\\n",
       "\t 6        & 15       & 1        & 1983     & 8.052140 & 8.253047 & 8.123502 & 9.141470 & 9.065569 & 8.895725 & ⋯        & 8.957377 & 8.802851 & 8.903085 & 8.010255 & 8.640162 & 8.418698 & 8.368072 & 8.729619 & 7.975628 & 8.719149\\\\\n",
       "\t 6        & 15       & 1        & 1984     & 8.007288 & 8.369833 & 8.048323 & 9.090263 & 9.078829 & 8.874083 & ⋯        & 8.886159 & 8.824562 & 8.937524 & 8.063889 & 8.730709 & 8.422927 & 8.483543 & 8.655100 & 8.004449 & 8.688123\\\\\n",
       "\t 6        & 15       & 1        & 1985     & 7.965937 & 8.478749 & 7.983198 & 9.036858 & 9.087964 & 8.854468 & ⋯        & 8.815209 & 8.850664 & 8.973828 & 8.115483 & 8.819436 & 8.426788 & 8.593215 & 8.586134 & 8.034035 & 8.666778\\\\\n",
       "\\end{tabular}\n"
      ],
      "text/markdown": [
       "\n",
       "location_id | age_group_id | sex_id | year_id | draw_0 | draw_1 | draw_2 | draw_3 | draw_4 | draw_5 | ⋯ | draw_990 | draw_991 | draw_992 | draw_993 | draw_994 | draw_995 | draw_996 | draw_997 | draw_998 | draw_999 | \n",
       "|---|---|---|---|---|---|\n",
       "| 6        | 15       | 1        | 1980     | 8.195544 | 7.856324 | 8.401491 | 9.273246 | 8.992329 | 8.964878 | ⋯        | 9.161543 | 8.760984 | 8.799634 | 7.828814 | 8.363295 | 8.391927 | 7.986652 | 8.969120 | 7.888389 | 8.868681 | \n",
       "| 6        | 15       | 1        | 1981     | 8.147565 | 7.995990 | 8.300895 | 9.233780 | 9.023098 | 8.942048 | ⋯        | 9.096156 | 8.771453 | 8.835323 | 7.893521 | 8.456012 | 8.404336 | 8.119655 | 8.888441 | 7.918112 | 8.809835 | \n",
       "| 6        | 15       | 1        | 1982     | 8.099316 | 8.128367 | 8.207957 | 9.189589 | 9.047270 | 8.918667 | ⋯        | 9.027742 | 8.785263 | 8.869407 | 7.953739 | 8.548425 | 8.412889 | 8.246784 | 8.807993 | 7.947025 | 8.759813 | \n",
       "| 6        | 15       | 1        | 1983     | 8.052140 | 8.253047 | 8.123502 | 9.141470 | 9.065569 | 8.895725 | ⋯        | 8.957377 | 8.802851 | 8.903085 | 8.010255 | 8.640162 | 8.418698 | 8.368072 | 8.729619 | 7.975628 | 8.719149 | \n",
       "| 6        | 15       | 1        | 1984     | 8.007288 | 8.369833 | 8.048323 | 9.090263 | 9.078829 | 8.874083 | ⋯        | 8.886159 | 8.824562 | 8.937524 | 8.063889 | 8.730709 | 8.422927 | 8.483543 | 8.655100 | 8.004449 | 8.688123 | \n",
       "| 6        | 15       | 1        | 1985     | 7.965937 | 8.478749 | 7.983198 | 9.036858 | 9.087964 | 8.854468 | ⋯        | 8.815209 | 8.850664 | 8.973828 | 8.115483 | 8.819436 | 8.426788 | 8.593215 | 8.586134 | 8.034035 | 8.666778 | \n",
       "\n",
       "\n"
      ],
      "text/plain": [
       "  location_id age_group_id sex_id year_id draw_0   draw_1   draw_2   draw_3  \n",
       "1 6           15           1      1980    8.195544 7.856324 8.401491 9.273246\n",
       "2 6           15           1      1981    8.147565 7.995990 8.300895 9.233780\n",
       "3 6           15           1      1982    8.099316 8.128367 8.207957 9.189589\n",
       "4 6           15           1      1983    8.052140 8.253047 8.123502 9.141470\n",
       "5 6           15           1      1984    8.007288 8.369833 8.048323 9.090263\n",
       "6 6           15           1      1985    7.965937 8.478749 7.983198 9.036858\n",
       "  draw_4   draw_5   ⋯ draw_990 draw_991 draw_992 draw_993 draw_994 draw_995\n",
       "1 8.992329 8.964878 ⋯ 9.161543 8.760984 8.799634 7.828814 8.363295 8.391927\n",
       "2 9.023098 8.942048 ⋯ 9.096156 8.771453 8.835323 7.893521 8.456012 8.404336\n",
       "3 9.047270 8.918667 ⋯ 9.027742 8.785263 8.869407 7.953739 8.548425 8.412889\n",
       "4 9.065569 8.895725 ⋯ 8.957377 8.802851 8.903085 8.010255 8.640162 8.418698\n",
       "5 9.078829 8.874083 ⋯ 8.886159 8.824562 8.937524 8.063889 8.730709 8.422927\n",
       "6 9.087964 8.854468 ⋯ 8.815209 8.850664 8.973828 8.115483 8.819436 8.426788\n",
       "  draw_996 draw_997 draw_998 draw_999\n",
       "1 7.986652 8.969120 7.888389 8.868681\n",
       "2 8.119655 8.888441 7.918112 8.809835\n",
       "3 8.246784 8.807993 7.947025 8.759813\n",
       "4 8.368072 8.729619 7.975628 8.719149\n",
       "5 8.483543 8.655100 8.004449 8.688123\n",
       "6 8.593215 8.586134 8.034035 8.666778"
      ]
     },
     "metadata": {},
     "output_type": "display_data"
    },
    {
     "data": {
      "text/html": [
       "<table>\n",
       "<thead><tr><th scope=col>location_id</th><th scope=col>age_group_id</th><th scope=col>sex_id</th><th scope=col>year_id</th><th scope=col>draw_0</th><th scope=col>draw_1</th><th scope=col>draw_2</th><th scope=col>draw_3</th><th scope=col>draw_4</th><th scope=col>draw_5</th><th scope=col>⋯</th><th scope=col>draw_990</th><th scope=col>draw_991</th><th scope=col>draw_992</th><th scope=col>draw_993</th><th scope=col>draw_994</th><th scope=col>draw_995</th><th scope=col>draw_996</th><th scope=col>draw_997</th><th scope=col>draw_998</th><th scope=col>draw_999</th></tr></thead>\n",
       "<tbody>\n",
       "\t<tr><td>6       </td><td>15      </td><td>1       </td><td>1980    </td><td>8.195544</td><td>7.856324</td><td>8.401491</td><td>9.273246</td><td>8.992329</td><td>8.964878</td><td>⋯       </td><td>9.161543</td><td>8.760984</td><td>8.799634</td><td>7.828814</td><td>8.363295</td><td>8.391927</td><td>7.986652</td><td>8.969120</td><td>7.888389</td><td>8.868681</td></tr>\n",
       "\t<tr><td>6       </td><td>15      </td><td>1       </td><td>1981    </td><td>8.147565</td><td>7.995990</td><td>8.300895</td><td>9.233780</td><td>9.023098</td><td>8.942048</td><td>⋯       </td><td>9.096156</td><td>8.771453</td><td>8.835323</td><td>7.893521</td><td>8.456012</td><td>8.404336</td><td>8.119655</td><td>8.888441</td><td>7.918112</td><td>8.809835</td></tr>\n",
       "\t<tr><td>6       </td><td>15      </td><td>1       </td><td>1982    </td><td>8.099316</td><td>8.128367</td><td>8.207957</td><td>9.189589</td><td>9.047270</td><td>8.918667</td><td>⋯       </td><td>9.027742</td><td>8.785263</td><td>8.869407</td><td>7.953739</td><td>8.548425</td><td>8.412889</td><td>8.246784</td><td>8.807993</td><td>7.947025</td><td>8.759813</td></tr>\n",
       "\t<tr><td>6       </td><td>15      </td><td>1       </td><td>1983    </td><td>8.052140</td><td>8.253047</td><td>8.123502</td><td>9.141470</td><td>9.065569</td><td>8.895725</td><td>⋯       </td><td>8.957377</td><td>8.802851</td><td>8.903085</td><td>8.010255</td><td>8.640162</td><td>8.418698</td><td>8.368072</td><td>8.729619</td><td>7.975628</td><td>8.719149</td></tr>\n",
       "\t<tr><td>6       </td><td>15      </td><td>1       </td><td>1984    </td><td>8.007288</td><td>8.369833</td><td>8.048323</td><td>9.090263</td><td>9.078829</td><td>8.874083</td><td>⋯       </td><td>8.886159</td><td>8.824562</td><td>8.937524</td><td>8.063889</td><td>8.730709</td><td>8.422927</td><td>8.483543</td><td>8.655100</td><td>8.004449</td><td>8.688123</td></tr>\n",
       "\t<tr><td>6       </td><td>15      </td><td>1       </td><td>1985    </td><td>7.965937</td><td>8.478749</td><td>7.983198</td><td>9.036858</td><td>9.087964</td><td>8.854468</td><td>⋯       </td><td>8.815209</td><td>8.850664</td><td>8.973828</td><td>8.115483</td><td>8.819436</td><td>8.426788</td><td>8.593215</td><td>8.586134</td><td>8.034035</td><td>8.666778</td></tr>\n",
       "</tbody>\n",
       "</table>\n"
      ],
      "text/latex": [
       "\\begin{tabular}{r|llllllllllllllllllllllllllllllllllllllllllllllllllllllllllllllllllllllllllllllllllllllllllllllllllllllllllllllllllllllllllllllllllllllllllllllllllllllllllllllllllllllllllllllllllllllllllllllllllllllllllllllllllllllllllllllllllllllllllllllllllllllllllllllllllllllllllllllllllllllllllllllllllllllllllllllllllllllllllllllllllllllllllllllllllllllllllllllllllllllllllllllllllllllllllllllllllllllllllllllllllllllllllllllllllllllllllllllllllllllllllllllllllllllllllllllllllllllllllllllllllllllllllllllllllllllllllllllllllllllllllllllllllllllllllllllllllllllllllllllllllllllllllllllllllllllllllllllllllllllllllllllllllllllllllllllllllllllllllllllllllllllllllllllllllllllllllllllllllllllllllllllllllllllllllllllllllllllllllllllllllllllllllllllllllllllllllllllllllllllllllllllllllllllllllllllllllllllllllllllllllllllllllllllllllllllllllllllllllllllllllllllllllllllllllllllllllllllllllllllllllllllllllllllllllllllllllllllllllllllllllllllllllllllllllllllllllllllllllllllllllllllllllllllllllllllllllllllllllllllllllll}\n",
       " location\\_id & age\\_group\\_id & sex\\_id & year\\_id & draw\\_0 & draw\\_1 & draw\\_2 & draw\\_3 & draw\\_4 & draw\\_5 & ⋯ & draw\\_990 & draw\\_991 & draw\\_992 & draw\\_993 & draw\\_994 & draw\\_995 & draw\\_996 & draw\\_997 & draw\\_998 & draw\\_999\\\\\n",
       "\\hline\n",
       "\t 6        & 15       & 1        & 1980     & 8.195544 & 7.856324 & 8.401491 & 9.273246 & 8.992329 & 8.964878 & ⋯        & 9.161543 & 8.760984 & 8.799634 & 7.828814 & 8.363295 & 8.391927 & 7.986652 & 8.969120 & 7.888389 & 8.868681\\\\\n",
       "\t 6        & 15       & 1        & 1981     & 8.147565 & 7.995990 & 8.300895 & 9.233780 & 9.023098 & 8.942048 & ⋯        & 9.096156 & 8.771453 & 8.835323 & 7.893521 & 8.456012 & 8.404336 & 8.119655 & 8.888441 & 7.918112 & 8.809835\\\\\n",
       "\t 6        & 15       & 1        & 1982     & 8.099316 & 8.128367 & 8.207957 & 9.189589 & 9.047270 & 8.918667 & ⋯        & 9.027742 & 8.785263 & 8.869407 & 7.953739 & 8.548425 & 8.412889 & 8.246784 & 8.807993 & 7.947025 & 8.759813\\\\\n",
       "\t 6        & 15       & 1        & 1983     & 8.052140 & 8.253047 & 8.123502 & 9.141470 & 9.065569 & 8.895725 & ⋯        & 8.957377 & 8.802851 & 8.903085 & 8.010255 & 8.640162 & 8.418698 & 8.368072 & 8.729619 & 7.975628 & 8.719149\\\\\n",
       "\t 6        & 15       & 1        & 1984     & 8.007288 & 8.369833 & 8.048323 & 9.090263 & 9.078829 & 8.874083 & ⋯        & 8.886159 & 8.824562 & 8.937524 & 8.063889 & 8.730709 & 8.422927 & 8.483543 & 8.655100 & 8.004449 & 8.688123\\\\\n",
       "\t 6        & 15       & 1        & 1985     & 7.965937 & 8.478749 & 7.983198 & 9.036858 & 9.087964 & 8.854468 & ⋯        & 8.815209 & 8.850664 & 8.973828 & 8.115483 & 8.819436 & 8.426788 & 8.593215 & 8.586134 & 8.034035 & 8.666778\\\\\n",
       "\\end{tabular}\n"
      ],
      "text/markdown": [
       "\n",
       "location_id | age_group_id | sex_id | year_id | draw_0 | draw_1 | draw_2 | draw_3 | draw_4 | draw_5 | ⋯ | draw_990 | draw_991 | draw_992 | draw_993 | draw_994 | draw_995 | draw_996 | draw_997 | draw_998 | draw_999 | \n",
       "|---|---|---|---|---|---|\n",
       "| 6        | 15       | 1        | 1980     | 8.195544 | 7.856324 | 8.401491 | 9.273246 | 8.992329 | 8.964878 | ⋯        | 9.161543 | 8.760984 | 8.799634 | 7.828814 | 8.363295 | 8.391927 | 7.986652 | 8.969120 | 7.888389 | 8.868681 | \n",
       "| 6        | 15       | 1        | 1981     | 8.147565 | 7.995990 | 8.300895 | 9.233780 | 9.023098 | 8.942048 | ⋯        | 9.096156 | 8.771453 | 8.835323 | 7.893521 | 8.456012 | 8.404336 | 8.119655 | 8.888441 | 7.918112 | 8.809835 | \n",
       "| 6        | 15       | 1        | 1982     | 8.099316 | 8.128367 | 8.207957 | 9.189589 | 9.047270 | 8.918667 | ⋯        | 9.027742 | 8.785263 | 8.869407 | 7.953739 | 8.548425 | 8.412889 | 8.246784 | 8.807993 | 7.947025 | 8.759813 | \n",
       "| 6        | 15       | 1        | 1983     | 8.052140 | 8.253047 | 8.123502 | 9.141470 | 9.065569 | 8.895725 | ⋯        | 8.957377 | 8.802851 | 8.903085 | 8.010255 | 8.640162 | 8.418698 | 8.368072 | 8.729619 | 7.975628 | 8.719149 | \n",
       "| 6        | 15       | 1        | 1984     | 8.007288 | 8.369833 | 8.048323 | 9.090263 | 9.078829 | 8.874083 | ⋯        | 8.886159 | 8.824562 | 8.937524 | 8.063889 | 8.730709 | 8.422927 | 8.483543 | 8.655100 | 8.004449 | 8.688123 | \n",
       "| 6        | 15       | 1        | 1985     | 7.965937 | 8.478749 | 7.983198 | 9.036858 | 9.087964 | 8.854468 | ⋯        | 8.815209 | 8.850664 | 8.973828 | 8.115483 | 8.819436 | 8.426788 | 8.593215 | 8.586134 | 8.034035 | 8.666778 | \n",
       "\n",
       "\n"
      ],
      "text/plain": [
       "  location_id age_group_id sex_id year_id draw_0   draw_1   draw_2   draw_3  \n",
       "1 6           15           1      1980    8.195544 7.856324 8.401491 9.273246\n",
       "2 6           15           1      1981    8.147565 7.995990 8.300895 9.233780\n",
       "3 6           15           1      1982    8.099316 8.128367 8.207957 9.189589\n",
       "4 6           15           1      1983    8.052140 8.253047 8.123502 9.141470\n",
       "5 6           15           1      1984    8.007288 8.369833 8.048323 9.090263\n",
       "6 6           15           1      1985    7.965937 8.478749 7.983198 9.036858\n",
       "  draw_4   draw_5   ⋯ draw_990 draw_991 draw_992 draw_993 draw_994 draw_995\n",
       "1 8.992329 8.964878 ⋯ 9.161543 8.760984 8.799634 7.828814 8.363295 8.391927\n",
       "2 9.023098 8.942048 ⋯ 9.096156 8.771453 8.835323 7.893521 8.456012 8.404336\n",
       "3 9.047270 8.918667 ⋯ 9.027742 8.785263 8.869407 7.953739 8.548425 8.412889\n",
       "4 9.065569 8.895725 ⋯ 8.957377 8.802851 8.903085 8.010255 8.640162 8.418698\n",
       "5 9.078829 8.874083 ⋯ 8.886159 8.824562 8.937524 8.063889 8.730709 8.422927\n",
       "6 9.087964 8.854468 ⋯ 8.815209 8.850664 8.973828 8.115483 8.819436 8.426788\n",
       "  draw_996 draw_997 draw_998 draw_999\n",
       "1 7.986652 8.969120 7.888389 8.868681\n",
       "2 8.119655 8.888441 7.918112 8.809835\n",
       "3 8.246784 8.807993 7.947025 8.759813\n",
       "4 8.368072 8.729619 7.975628 8.719149\n",
       "5 8.483543 8.655100 8.004449 8.688123\n",
       "6 8.593215 8.586134 8.034035 8.666778"
      ]
     },
     "metadata": {},
     "output_type": "display_data"
    },
    {
     "data": {
      "text/html": [
       "<table>\n",
       "<thead><tr><th scope=col>location_id</th><th scope=col>age_group_id</th><th scope=col>sex_id</th><th scope=col>year_id</th><th scope=col>draw_0</th><th scope=col>draw_1</th><th scope=col>draw_2</th><th scope=col>draw_3</th><th scope=col>draw_4</th><th scope=col>draw_5</th><th scope=col>⋯</th><th scope=col>draw_990</th><th scope=col>draw_991</th><th scope=col>draw_992</th><th scope=col>draw_993</th><th scope=col>draw_994</th><th scope=col>draw_995</th><th scope=col>draw_996</th><th scope=col>draw_997</th><th scope=col>draw_998</th><th scope=col>draw_999</th></tr></thead>\n",
       "<tbody>\n",
       "\t<tr><td>6       </td><td>15      </td><td>1       </td><td>1980    </td><td>8.195544</td><td>7.856324</td><td>8.401491</td><td>9.273246</td><td>8.992329</td><td>8.964878</td><td>⋯       </td><td>9.161543</td><td>8.760984</td><td>8.799634</td><td>7.828814</td><td>8.363295</td><td>8.391927</td><td>7.986652</td><td>8.969120</td><td>7.888389</td><td>8.868681</td></tr>\n",
       "\t<tr><td>6       </td><td>15      </td><td>1       </td><td>1981    </td><td>8.147565</td><td>7.995990</td><td>8.300895</td><td>9.233780</td><td>9.023098</td><td>8.942048</td><td>⋯       </td><td>9.096156</td><td>8.771453</td><td>8.835323</td><td>7.893521</td><td>8.456012</td><td>8.404336</td><td>8.119655</td><td>8.888441</td><td>7.918112</td><td>8.809835</td></tr>\n",
       "\t<tr><td>6       </td><td>15      </td><td>1       </td><td>1982    </td><td>8.099316</td><td>8.128367</td><td>8.207957</td><td>9.189589</td><td>9.047270</td><td>8.918667</td><td>⋯       </td><td>9.027742</td><td>8.785263</td><td>8.869407</td><td>7.953739</td><td>8.548425</td><td>8.412889</td><td>8.246784</td><td>8.807993</td><td>7.947025</td><td>8.759813</td></tr>\n",
       "\t<tr><td>6       </td><td>15      </td><td>1       </td><td>1983    </td><td>8.052140</td><td>8.253047</td><td>8.123502</td><td>9.141470</td><td>9.065569</td><td>8.895725</td><td>⋯       </td><td>8.957377</td><td>8.802851</td><td>8.903085</td><td>8.010255</td><td>8.640162</td><td>8.418698</td><td>8.368072</td><td>8.729619</td><td>7.975628</td><td>8.719149</td></tr>\n",
       "\t<tr><td>6       </td><td>15      </td><td>1       </td><td>1984    </td><td>8.007288</td><td>8.369833</td><td>8.048323</td><td>9.090263</td><td>9.078829</td><td>8.874083</td><td>⋯       </td><td>8.886159</td><td>8.824562</td><td>8.937524</td><td>8.063889</td><td>8.730709</td><td>8.422927</td><td>8.483543</td><td>8.655100</td><td>8.004449</td><td>8.688123</td></tr>\n",
       "\t<tr><td>6       </td><td>15      </td><td>1       </td><td>1985    </td><td>7.965937</td><td>8.478749</td><td>7.983198</td><td>9.036858</td><td>9.087964</td><td>8.854468</td><td>⋯       </td><td>8.815209</td><td>8.850664</td><td>8.973828</td><td>8.115483</td><td>8.819436</td><td>8.426788</td><td>8.593215</td><td>8.586134</td><td>8.034035</td><td>8.666778</td></tr>\n",
       "</tbody>\n",
       "</table>\n"
      ],
      "text/latex": [
       "\\begin{tabular}{r|llllllllllllllllllllllllllllllllllllllllllllllllllllllllllllllllllllllllllllllllllllllllllllllllllllllllllllllllllllllllllllllllllllllllllllllllllllllllllllllllllllllllllllllllllllllllllllllllllllllllllllllllllllllllllllllllllllllllllllllllllllllllllllllllllllllllllllllllllllllllllllllllllllllllllllllllllllllllllllllllllllllllllllllllllllllllllllllllllllllllllllllllllllllllllllllllllllllllllllllllllllllllllllllllllllllllllllllllllllllllllllllllllllllllllllllllllllllllllllllllllllllllllllllllllllllllllllllllllllllllllllllllllllllllllllllllllllllllllllllllllllllllllllllllllllllllllllllllllllllllllllllllllllllllllllllllllllllllllllllllllllllllllllllllllllllllllllllllllllllllllllllllllllllllllllllllllllllllllllllllllllllllllllllllllllllllllllllllllllllllllllllllllllllllllllllllllllllllllllllllllllllllllllllllllllllllllllllllllllllllllllllllllllllllllllllllllllllllllllllllllllllllllllllllllllllllllllllllllllllllllllllllllllllllllllllllllllllllllllllllllllllllllllllllllllllllllllllllllllllllllll}\n",
       " location\\_id & age\\_group\\_id & sex\\_id & year\\_id & draw\\_0 & draw\\_1 & draw\\_2 & draw\\_3 & draw\\_4 & draw\\_5 & ⋯ & draw\\_990 & draw\\_991 & draw\\_992 & draw\\_993 & draw\\_994 & draw\\_995 & draw\\_996 & draw\\_997 & draw\\_998 & draw\\_999\\\\\n",
       "\\hline\n",
       "\t 6        & 15       & 1        & 1980     & 8.195544 & 7.856324 & 8.401491 & 9.273246 & 8.992329 & 8.964878 & ⋯        & 9.161543 & 8.760984 & 8.799634 & 7.828814 & 8.363295 & 8.391927 & 7.986652 & 8.969120 & 7.888389 & 8.868681\\\\\n",
       "\t 6        & 15       & 1        & 1981     & 8.147565 & 7.995990 & 8.300895 & 9.233780 & 9.023098 & 8.942048 & ⋯        & 9.096156 & 8.771453 & 8.835323 & 7.893521 & 8.456012 & 8.404336 & 8.119655 & 8.888441 & 7.918112 & 8.809835\\\\\n",
       "\t 6        & 15       & 1        & 1982     & 8.099316 & 8.128367 & 8.207957 & 9.189589 & 9.047270 & 8.918667 & ⋯        & 9.027742 & 8.785263 & 8.869407 & 7.953739 & 8.548425 & 8.412889 & 8.246784 & 8.807993 & 7.947025 & 8.759813\\\\\n",
       "\t 6        & 15       & 1        & 1983     & 8.052140 & 8.253047 & 8.123502 & 9.141470 & 9.065569 & 8.895725 & ⋯        & 8.957377 & 8.802851 & 8.903085 & 8.010255 & 8.640162 & 8.418698 & 8.368072 & 8.729619 & 7.975628 & 8.719149\\\\\n",
       "\t 6        & 15       & 1        & 1984     & 8.007288 & 8.369833 & 8.048323 & 9.090263 & 9.078829 & 8.874083 & ⋯        & 8.886159 & 8.824562 & 8.937524 & 8.063889 & 8.730709 & 8.422927 & 8.483543 & 8.655100 & 8.004449 & 8.688123\\\\\n",
       "\t 6        & 15       & 1        & 1985     & 7.965937 & 8.478749 & 7.983198 & 9.036858 & 9.087964 & 8.854468 & ⋯        & 8.815209 & 8.850664 & 8.973828 & 8.115483 & 8.819436 & 8.426788 & 8.593215 & 8.586134 & 8.034035 & 8.666778\\\\\n",
       "\\end{tabular}\n"
      ],
      "text/markdown": [
       "\n",
       "location_id | age_group_id | sex_id | year_id | draw_0 | draw_1 | draw_2 | draw_3 | draw_4 | draw_5 | ⋯ | draw_990 | draw_991 | draw_992 | draw_993 | draw_994 | draw_995 | draw_996 | draw_997 | draw_998 | draw_999 | \n",
       "|---|---|---|---|---|---|\n",
       "| 6        | 15       | 1        | 1980     | 8.195544 | 7.856324 | 8.401491 | 9.273246 | 8.992329 | 8.964878 | ⋯        | 9.161543 | 8.760984 | 8.799634 | 7.828814 | 8.363295 | 8.391927 | 7.986652 | 8.969120 | 7.888389 | 8.868681 | \n",
       "| 6        | 15       | 1        | 1981     | 8.147565 | 7.995990 | 8.300895 | 9.233780 | 9.023098 | 8.942048 | ⋯        | 9.096156 | 8.771453 | 8.835323 | 7.893521 | 8.456012 | 8.404336 | 8.119655 | 8.888441 | 7.918112 | 8.809835 | \n",
       "| 6        | 15       | 1        | 1982     | 8.099316 | 8.128367 | 8.207957 | 9.189589 | 9.047270 | 8.918667 | ⋯        | 9.027742 | 8.785263 | 8.869407 | 7.953739 | 8.548425 | 8.412889 | 8.246784 | 8.807993 | 7.947025 | 8.759813 | \n",
       "| 6        | 15       | 1        | 1983     | 8.052140 | 8.253047 | 8.123502 | 9.141470 | 9.065569 | 8.895725 | ⋯        | 8.957377 | 8.802851 | 8.903085 | 8.010255 | 8.640162 | 8.418698 | 8.368072 | 8.729619 | 7.975628 | 8.719149 | \n",
       "| 6        | 15       | 1        | 1984     | 8.007288 | 8.369833 | 8.048323 | 9.090263 | 9.078829 | 8.874083 | ⋯        | 8.886159 | 8.824562 | 8.937524 | 8.063889 | 8.730709 | 8.422927 | 8.483543 | 8.655100 | 8.004449 | 8.688123 | \n",
       "| 6        | 15       | 1        | 1985     | 7.965937 | 8.478749 | 7.983198 | 9.036858 | 9.087964 | 8.854468 | ⋯        | 8.815209 | 8.850664 | 8.973828 | 8.115483 | 8.819436 | 8.426788 | 8.593215 | 8.586134 | 8.034035 | 8.666778 | \n",
       "\n",
       "\n"
      ],
      "text/plain": [
       "  location_id age_group_id sex_id year_id draw_0   draw_1   draw_2   draw_3  \n",
       "1 6           15           1      1980    8.195544 7.856324 8.401491 9.273246\n",
       "2 6           15           1      1981    8.147565 7.995990 8.300895 9.233780\n",
       "3 6           15           1      1982    8.099316 8.128367 8.207957 9.189589\n",
       "4 6           15           1      1983    8.052140 8.253047 8.123502 9.141470\n",
       "5 6           15           1      1984    8.007288 8.369833 8.048323 9.090263\n",
       "6 6           15           1      1985    7.965937 8.478749 7.983198 9.036858\n",
       "  draw_4   draw_5   ⋯ draw_990 draw_991 draw_992 draw_993 draw_994 draw_995\n",
       "1 8.992329 8.964878 ⋯ 9.161543 8.760984 8.799634 7.828814 8.363295 8.391927\n",
       "2 9.023098 8.942048 ⋯ 9.096156 8.771453 8.835323 7.893521 8.456012 8.404336\n",
       "3 9.047270 8.918667 ⋯ 9.027742 8.785263 8.869407 7.953739 8.548425 8.412889\n",
       "4 9.065569 8.895725 ⋯ 8.957377 8.802851 8.903085 8.010255 8.640162 8.418698\n",
       "5 9.078829 8.874083 ⋯ 8.886159 8.824562 8.937524 8.063889 8.730709 8.422927\n",
       "6 9.087964 8.854468 ⋯ 8.815209 8.850664 8.973828 8.115483 8.819436 8.426788\n",
       "  draw_996 draw_997 draw_998 draw_999\n",
       "1 7.986652 8.969120 7.888389 8.868681\n",
       "2 8.119655 8.888441 7.918112 8.809835\n",
       "3 8.246784 8.807993 7.947025 8.759813\n",
       "4 8.368072 8.729619 7.975628 8.719149\n",
       "5 8.483543 8.655100 8.004449 8.688123\n",
       "6 8.593215 8.586134 8.034035 8.666778"
      ]
     },
     "metadata": {},
     "output_type": "display_data"
    }
   ],
   "source": [
    "## How you lookin?\n",
    " head(edu_ref); head(edu_opt); head(edu_pes);"
   ]
  },
  {
   "cell_type": "code",
   "execution_count": 6,
   "metadata": {
    "collapsed": false
   },
   "outputs": [],
   "source": [
    "### Let's concatenatate the age and sex columns to be one identifier:\n",
    "data_cleanup_1 <- function(dt) {\n",
    "    dt <- dt[, age_sex := paste0(age_group_id, \"_\", sex_id)]\n",
    "    dt <- dt[, age_group_id:= NULL]\n",
    "    dt <- dt[, sex_id:= NULL]\n",
    "    dt <- setcolorder(dt, c(\"location_id\", \"year_id\", \"age_sex\", paste0(\"draw_\",c(0:999)) ))\n",
    "    head(dt)\n",
    "    \n",
    "    return(dt)\n",
    "}\n",
    "\n",
    "edu_ref <- data_cleanup_1(edu_ref)\n",
    "edu_pes <- data_cleanup_1(edu_pes)\n",
    "edu_opt <- data_cleanup_1(edu_opt)"
   ]
  },
  {
   "cell_type": "markdown",
   "metadata": {},
   "source": [
    "### Reshape long by draws, wide by year, use copula with spearman = 1, and reshape back AND collapse by country-year"
   ]
  },
  {
   "cell_type": "code",
   "execution_count": 7,
   "metadata": {
    "collapsed": false,
    "scrolled": true
   },
   "outputs": [
    {
     "data": {
      "text/plain": [
       "   user  system elapsed \n",
       "  0.000 198.722 267.465 "
      ]
     },
     "metadata": {},
     "output_type": "display_data"
    },
    {
     "data": {
      "text/plain": [
       "   user  system elapsed \n",
       "  0.000  15.869  26.055 "
      ]
     },
     "metadata": {},
     "output_type": "display_data"
    },
    {
     "data": {
      "text/plain": [
       "   user  system elapsed \n",
       "  0.000  45.001  56.103 "
      ]
     },
     "metadata": {},
     "output_type": "display_data"
    }
   ],
   "source": [
    "# Make draws long first\n",
    "system.time(edu_ref_long <- melt(edu_ref, id.vars = c(\"location_id\", \"age_sex\", \"year_id\"), value.name = \"edu\", varnames = \"draw\"))\n",
    "system.time(edu_pes_long <- melt(edu_pes, id.vars = c(\"location_id\", \"age_sex\", \"year_id\"), value.name = \"edu\", varnames = \"draw\"))\n",
    "system.time(edu_opt_long <- melt(edu_opt, id.vars = c(\"location_id\", \"age_sex\", \"year_id\"), value.name = \"edu\", varnames = \"draw\"))"
   ]
  },
  {
   "cell_type": "code",
   "execution_count": 8,
   "metadata": {
    "collapsed": false
   },
   "outputs": [
    {
     "data": {
      "text/html": [
       "<ol class=list-inline>\n",
       "\t<li>6</li>\n",
       "\t<li>7</li>\n",
       "\t<li>8</li>\n",
       "\t<li>10</li>\n",
       "\t<li>11</li>\n",
       "\t<li>12</li>\n",
       "</ol>\n"
      ],
      "text/latex": [
       "\\begin{enumerate*}\n",
       "\\item 6\n",
       "\\item 7\n",
       "\\item 8\n",
       "\\item 10\n",
       "\\item 11\n",
       "\\item 12\n",
       "\\end{enumerate*}\n"
      ],
      "text/markdown": [
       "1. 6\n",
       "2. 7\n",
       "3. 8\n",
       "4. 10\n",
       "5. 11\n",
       "6. 12\n",
       "\n",
       "\n"
      ],
      "text/plain": [
       "[1]  6  7  8 10 11 12"
      ]
     },
     "metadata": {},
     "output_type": "display_data"
    },
    {
     "data": {
      "text/html": [
       "195"
      ],
      "text/latex": [
       "195"
      ],
      "text/markdown": [
       "195"
      ],
      "text/plain": [
       "[1] 195"
      ]
     },
     "metadata": {},
     "output_type": "display_data"
    }
   ],
   "source": [
    "## Number of countries we have to array over\n",
    "countries <- unique(edu_ref[year_id ==1980, location_id])\n",
    "head(countries); length(countries);"
   ]
  },
  {
   "cell_type": "code",
   "execution_count": 9,
   "metadata": {
    "collapsed": true
   },
   "outputs": [],
   "source": [
    "## Ease up on the memory\n",
    "rm(edu_ref); rm(edu_pes); rm(edu_opt)"
   ]
  },
  {
   "cell_type": "code",
   "execution_count": 10,
   "metadata": {
    "collapsed": false
   },
   "outputs": [],
   "source": [
    "## Get our baseline correlation matrix\n",
    "load(\"/home/j/WORK/01_covariates/02_inputs/education/update_2017/data/tabulated_data/archive_nafis/insample_corr_mat.Rdata\")\n",
    "\n",
    "## For now, trim the corr matrix to have 14 age groups\n",
    "corr_mat <- corr_mat[1:28,1:28]"
   ]
  },
  {
   "cell_type": "code",
   "execution_count": 12,
   "metadata": {
    "collapsed": false,
    "scrolled": true
   },
   "outputs": [
    {
     "data": {
      "text/plain": [
       "   user  system elapsed \n",
       "433.273 552.685  78.846 "
      ]
     },
     "metadata": {},
     "output_type": "display_data"
    },
    {
     "name": "stdout",
     "output_type": "stream",
     "text": [
      " num [1:195, 1:61, 1:28, 1:1000] 8.2 3.36 8.02 2.32 5.61 ...\n",
      " - attr(*, \"dimnames\")=List of 4\n",
      "  ..$ : chr [1:195] \"6\" \"7\" \"8\" \"10\" ...\n",
      "  ..$ : chr [1:61] \"1980\" \"1981\" \"1982\" \"1983\" ...\n",
      "  ..$ : chr [1:28] \"15_1\" \"15_2\" \"20_1\" \"20_2\" ...\n",
      "  ..$ : chr [1:1000] \"draw_0\" \"draw_1\" \"draw_2\" \"draw_3\" ...\n"
     ]
    }
   ],
   "source": [
    "## Convert them all to multidim array in the dims: [loc, year, age_sex, draw_num, data]\n",
    "\n",
    "## Reference\n",
    "system.time(edu_ref_array<- mclapply(countries, \n",
    "                                function(x) {reshape2::acast(edu_ref_long[location_id == x,], \n",
    "                                                      location_id ~  year_id ~ age_sex ~ variable, \n",
    "                                                      value.var = \"edu\") }, \n",
    "                                                        mc.cores = 15))\n",
    "edu_ref_array <- abind(edu_ref_array, along=1)\n",
    "str(edu_ref_array)"
   ]
  },
  {
   "cell_type": "code",
   "execution_count": 13,
   "metadata": {
    "collapsed": false
   },
   "outputs": [
    {
     "data": {
      "text/html": [
       "<table>\n",
       "<thead><tr><th scope=col>location_id</th><th scope=col>age_sex</th><th scope=col>year_id</th><th scope=col>variable</th><th scope=col>edu</th></tr></thead>\n",
       "<tbody>\n",
       "\t<tr><td>522      </td><td>80_2     </td><td>2035     </td><td>draw_999 </td><td>0.3345257</td></tr>\n",
       "\t<tr><td>522      </td><td>80_2     </td><td>2036     </td><td>draw_999 </td><td>0.3484963</td></tr>\n",
       "\t<tr><td>522      </td><td>80_2     </td><td>2037     </td><td>draw_999 </td><td>0.3630242</td></tr>\n",
       "\t<tr><td>522      </td><td>80_2     </td><td>2038     </td><td>draw_999 </td><td>0.3780908</td></tr>\n",
       "\t<tr><td>522      </td><td>80_2     </td><td>2039     </td><td>draw_999 </td><td>0.3936626</td></tr>\n",
       "\t<tr><td>522      </td><td>80_2     </td><td>2040     </td><td>draw_999 </td><td>0.4096907</td></tr>\n",
       "</tbody>\n",
       "</table>\n"
      ],
      "text/latex": [
       "\\begin{tabular}{r|lllll}\n",
       " location\\_id & age\\_sex & year\\_id & variable & edu\\\\\n",
       "\\hline\n",
       "\t 522        & 80\\_2     & 2035       & draw\\_999 & 0.3345257 \\\\\n",
       "\t 522        & 80\\_2     & 2036       & draw\\_999 & 0.3484963 \\\\\n",
       "\t 522        & 80\\_2     & 2037       & draw\\_999 & 0.3630242 \\\\\n",
       "\t 522        & 80\\_2     & 2038       & draw\\_999 & 0.3780908 \\\\\n",
       "\t 522        & 80\\_2     & 2039       & draw\\_999 & 0.3936626 \\\\\n",
       "\t 522        & 80\\_2     & 2040       & draw\\_999 & 0.4096907 \\\\\n",
       "\\end{tabular}\n"
      ],
      "text/markdown": [
       "\n",
       "location_id | age_sex | year_id | variable | edu | \n",
       "|---|---|---|---|---|---|\n",
       "| 522       | 80_2      | 2035      | draw_999  | 0.3345257 | \n",
       "| 522       | 80_2      | 2036      | draw_999  | 0.3484963 | \n",
       "| 522       | 80_2      | 2037      | draw_999  | 0.3630242 | \n",
       "| 522       | 80_2      | 2038      | draw_999  | 0.3780908 | \n",
       "| 522       | 80_2      | 2039      | draw_999  | 0.3936626 | \n",
       "| 522       | 80_2      | 2040      | draw_999  | 0.4096907 | \n",
       "\n",
       "\n"
      ],
      "text/plain": [
       "  location_id age_sex year_id variable edu      \n",
       "1 522         80_2    2035    draw_999 0.3345257\n",
       "2 522         80_2    2036    draw_999 0.3484963\n",
       "3 522         80_2    2037    draw_999 0.3630242\n",
       "4 522         80_2    2038    draw_999 0.3780908\n",
       "5 522         80_2    2039    draw_999 0.3936626\n",
       "6 522         80_2    2040    draw_999 0.4096907"
      ]
     },
     "metadata": {},
     "output_type": "display_data"
    }
   ],
   "source": [
    "tail(edu_pes_long)"
   ]
  },
  {
   "cell_type": "code",
   "execution_count": 14,
   "metadata": {
    "collapsed": false
   },
   "outputs": [
    {
     "data": {
      "text/plain": [
       "   user  system elapsed \n",
       "269.089 124.857  45.320 "
      ]
     },
     "metadata": {},
     "output_type": "display_data"
    },
    {
     "name": "stdout",
     "output_type": "stream",
     "text": [
      " num [1:195, 1:61, 1:28, 1:1000] 8.2 3.36 8.02 2.32 5.61 ...\n",
      " - attr(*, \"dimnames\")=List of 4\n",
      "  ..$ : chr [1:195] \"6\" \"7\" \"8\" \"10\" ...\n",
      "  ..$ : chr [1:61] \"1980\" \"1981\" \"1982\" \"1983\" ...\n",
      "  ..$ : chr [1:28] \"15_1\" \"15_2\" \"20_1\" \"20_2\" ...\n",
      "  ..$ : chr [1:1000] \"draw_0\" \"draw_1\" \"draw_2\" \"draw_3\" ...\n"
     ]
    }
   ],
   "source": [
    "## Pessimistic\n",
    "system.time(edu_pes_array<- mclapply(countries, \n",
    "                                function(x) {reshape2::acast(edu_pes_long[location_id == x,], \n",
    "                                                      location_id ~  year_id ~ age_sex ~ variable, \n",
    "                                                      value.var = \"edu\") }, \n",
    "                                                        mc.cores = 10))\n",
    "edu_pes_array <- abind(edu_pes_array, along=1)\n",
    "str(edu_pes_array)"
   ]
  },
  {
   "cell_type": "code",
   "execution_count": 15,
   "metadata": {
    "collapsed": false
   },
   "outputs": [
    {
     "data": {
      "text/plain": [
       "   user  system elapsed \n",
       "397.603  78.154  46.632 "
      ]
     },
     "metadata": {},
     "output_type": "display_data"
    },
    {
     "name": "stdout",
     "output_type": "stream",
     "text": [
      " num [1:195, 1:61, 1:28, 1:1000] 8.2 3.36 8.02 2.32 5.61 ...\n",
      " - attr(*, \"dimnames\")=List of 4\n",
      "  ..$ : chr [1:195] \"6\" \"7\" \"8\" \"10\" ...\n",
      "  ..$ : chr [1:61] \"1980\" \"1981\" \"1982\" \"1983\" ...\n",
      "  ..$ : chr [1:28] \"15_1\" \"15_2\" \"20_1\" \"20_2\" ...\n",
      "  ..$ : chr [1:1000] \"draw_0\" \"draw_1\" \"draw_2\" \"draw_3\" ...\n"
     ]
    }
   ],
   "source": [
    "## Optimistic\n",
    "system.time(edu_opt_array<- mclapply(countries, \n",
    "                                function(x) {reshape2::acast(edu_opt_long[location_id == x,], \n",
    "                                                      location_id ~  year_id ~ age_sex ~ variable, \n",
    "                                                      value.var = \"edu\") }, \n",
    "                                                        mc.cores = 10))\n",
    "edu_opt_array <- abind(edu_opt_array, along=1)\n",
    "str(edu_opt_array)"
   ]
  },
  {
   "cell_type": "markdown",
   "metadata": {},
   "source": [
    "### Neal's (TM) Multivariate Copula Function"
   ]
  },
  {
   "cell_type": "code",
   "execution_count": 16,
   "metadata": {
    "collapsed": true
   },
   "outputs": [],
   "source": [
    "draw2Dcopula <- function(X, cor_mat, df_return = F){\n",
    "  L <- dim(X)[2]\n",
    "  D <- dim(X)[3]\n",
    "  Xsum <- apply(X, c(2, 3), sum)\n",
    "  mvdat <- mvrnorm(n=D, mu=0 * 1:L, Sigma=cor_mat, empirical=TRUE)\n",
    "  ranks <- apply(mvdat, 2, rank, ties.method=\"first\")\n",
    "  sortedXsim <- apply(Xsum, 1, function(x) sort(x, index.return=TRUE)$ix)\n",
    "  sortedX <- X\n",
    "  for(i in 1:L){\n",
    "    sortedX[,i,] <- X[,i,sortedXsim[,i]]\n",
    "  }\n",
    "  Xcorr <- sortedX\n",
    "  for(i in 1:L){\n",
    "    Xcorr[,i,] <- sortedX[,i,ranks[,i]]\n",
    "  }\n",
    "  if (df_return==T) {\n",
    "    return(data.table(melt(Xcorr)))\n",
    "    }\n",
    "      else {\n",
    "          Xcorr\n",
    "      }\n",
    "}"
   ]
  },
  {
   "cell_type": "markdown",
   "metadata": {},
   "source": [
    "### Let's 2D copulate the data now"
   ]
  },
  {
   "cell_type": "code",
   "execution_count": 17,
   "metadata": {
    "collapsed": false,
    "scrolled": false
   },
   "outputs": [
    {
     "data": {
      "text/plain": [
       "   user  system elapsed \n",
       "231.810  45.712  35.597 "
      ]
     },
     "metadata": {},
     "output_type": "display_data"
    },
    {
     "data": {
      "text/html": [
       "<table>\n",
       "<thead><tr><th scope=col>location_id</th><th scope=col>year_id</th><th scope=col>age_sex</th><th scope=col>draw_num</th><th scope=col>edu</th></tr></thead>\n",
       "<tbody>\n",
       "\t<tr><td>6       </td><td>1980    </td><td>15_1    </td><td>draw_0  </td><td>8.307976</td></tr>\n",
       "\t<tr><td>6       </td><td>1981    </td><td>15_1    </td><td>draw_0  </td><td>8.401405</td></tr>\n",
       "\t<tr><td>6       </td><td>1982    </td><td>15_1    </td><td>draw_0  </td><td>8.489877</td></tr>\n",
       "\t<tr><td>6       </td><td>1983    </td><td>15_1    </td><td>draw_0  </td><td>8.573406</td></tr>\n",
       "\t<tr><td>6       </td><td>1984    </td><td>15_1    </td><td>draw_0  </td><td>8.652111</td></tr>\n",
       "\t<tr><td>6       </td><td>1985    </td><td>15_1    </td><td>draw_0  </td><td>8.726195</td></tr>\n",
       "</tbody>\n",
       "</table>\n"
      ],
      "text/latex": [
       "\\begin{tabular}{r|lllll}\n",
       " location\\_id & year\\_id & age\\_sex & draw\\_num & edu\\\\\n",
       "\\hline\n",
       "\t 6        & 1980     & 15\\_1   & draw\\_0 & 8.307976\\\\\n",
       "\t 6        & 1981     & 15\\_1   & draw\\_0 & 8.401405\\\\\n",
       "\t 6        & 1982     & 15\\_1   & draw\\_0 & 8.489877\\\\\n",
       "\t 6        & 1983     & 15\\_1   & draw\\_0 & 8.573406\\\\\n",
       "\t 6        & 1984     & 15\\_1   & draw\\_0 & 8.652111\\\\\n",
       "\t 6        & 1985     & 15\\_1   & draw\\_0 & 8.726195\\\\\n",
       "\\end{tabular}\n"
      ],
      "text/markdown": [
       "\n",
       "location_id | year_id | age_sex | draw_num | edu | \n",
       "|---|---|---|---|---|---|\n",
       "| 6        | 1980     | 15_1     | draw_0   | 8.307976 | \n",
       "| 6        | 1981     | 15_1     | draw_0   | 8.401405 | \n",
       "| 6        | 1982     | 15_1     | draw_0   | 8.489877 | \n",
       "| 6        | 1983     | 15_1     | draw_0   | 8.573406 | \n",
       "| 6        | 1984     | 15_1     | draw_0   | 8.652111 | \n",
       "| 6        | 1985     | 15_1     | draw_0   | 8.726195 | \n",
       "\n",
       "\n"
      ],
      "text/plain": [
       "  location_id year_id age_sex draw_num edu     \n",
       "1 6           1980    15_1    draw_0   8.307976\n",
       "2 6           1981    15_1    draw_0   8.401405\n",
       "3 6           1982    15_1    draw_0   8.489877\n",
       "4 6           1983    15_1    draw_0   8.573406\n",
       "5 6           1984    15_1    draw_0   8.652111\n",
       "6 6           1985    15_1    draw_0   8.726195"
      ]
     },
     "metadata": {},
     "output_type": "display_data"
    },
    {
     "data": {
      "text/plain": [
       "   user  system elapsed \n",
       "166.067  31.383  32.285 "
      ]
     },
     "metadata": {},
     "output_type": "display_data"
    },
    {
     "data": {
      "text/html": [
       "<table>\n",
       "<thead><tr><th scope=col>location_id</th><th scope=col>year_id</th><th scope=col>age_sex</th><th scope=col>draw_num</th><th scope=col>edu</th></tr></thead>\n",
       "<tbody>\n",
       "\t<tr><td>6       </td><td>1980    </td><td>15_1    </td><td>draw_0  </td><td>8.810489</td></tr>\n",
       "\t<tr><td>6       </td><td>1981    </td><td>15_1    </td><td>draw_0  </td><td>8.759018</td></tr>\n",
       "\t<tr><td>6       </td><td>1982    </td><td>15_1    </td><td>draw_0  </td><td>8.711748</td></tr>\n",
       "\t<tr><td>6       </td><td>1983    </td><td>15_1    </td><td>draw_0  </td><td>8.669652</td></tr>\n",
       "\t<tr><td>6       </td><td>1984    </td><td>15_1    </td><td>draw_0  </td><td>8.633570</td></tr>\n",
       "\t<tr><td>6       </td><td>1985    </td><td>15_1    </td><td>draw_0  </td><td>8.604188</td></tr>\n",
       "</tbody>\n",
       "</table>\n"
      ],
      "text/latex": [
       "\\begin{tabular}{r|lllll}\n",
       " location\\_id & year\\_id & age\\_sex & draw\\_num & edu\\\\\n",
       "\\hline\n",
       "\t 6        & 1980     & 15\\_1   & draw\\_0 & 8.810489\\\\\n",
       "\t 6        & 1981     & 15\\_1   & draw\\_0 & 8.759018\\\\\n",
       "\t 6        & 1982     & 15\\_1   & draw\\_0 & 8.711748\\\\\n",
       "\t 6        & 1983     & 15\\_1   & draw\\_0 & 8.669652\\\\\n",
       "\t 6        & 1984     & 15\\_1   & draw\\_0 & 8.633570\\\\\n",
       "\t 6        & 1985     & 15\\_1   & draw\\_0 & 8.604188\\\\\n",
       "\\end{tabular}\n"
      ],
      "text/markdown": [
       "\n",
       "location_id | year_id | age_sex | draw_num | edu | \n",
       "|---|---|---|---|---|---|\n",
       "| 6        | 1980     | 15_1     | draw_0   | 8.810489 | \n",
       "| 6        | 1981     | 15_1     | draw_0   | 8.759018 | \n",
       "| 6        | 1982     | 15_1     | draw_0   | 8.711748 | \n",
       "| 6        | 1983     | 15_1     | draw_0   | 8.669652 | \n",
       "| 6        | 1984     | 15_1     | draw_0   | 8.633570 | \n",
       "| 6        | 1985     | 15_1     | draw_0   | 8.604188 | \n",
       "\n",
       "\n"
      ],
      "text/plain": [
       "  location_id year_id age_sex draw_num edu     \n",
       "1 6           1980    15_1    draw_0   8.810489\n",
       "2 6           1981    15_1    draw_0   8.759018\n",
       "3 6           1982    15_1    draw_0   8.711748\n",
       "4 6           1983    15_1    draw_0   8.669652\n",
       "5 6           1984    15_1    draw_0   8.633570\n",
       "6 6           1985    15_1    draw_0   8.604188"
      ]
     },
     "metadata": {},
     "output_type": "display_data"
    },
    {
     "data": {
      "text/plain": [
       "   user  system elapsed \n",
       "184.301  36.168  36.605 "
      ]
     },
     "metadata": {},
     "output_type": "display_data"
    },
    {
     "data": {
      "text/html": [
       "<table>\n",
       "<thead><tr><th scope=col>location_id</th><th scope=col>year_id</th><th scope=col>age_sex</th><th scope=col>draw_num</th><th scope=col>edu</th></tr></thead>\n",
       "<tbody>\n",
       "\t<tr><td>6       </td><td>1980    </td><td>15_1    </td><td>draw_0  </td><td>8.608164</td></tr>\n",
       "\t<tr><td>6       </td><td>1981    </td><td>15_1    </td><td>draw_0  </td><td>8.661169</td></tr>\n",
       "\t<tr><td>6       </td><td>1982    </td><td>15_1    </td><td>draw_0  </td><td>8.716452</td></tr>\n",
       "\t<tr><td>6       </td><td>1983    </td><td>15_1    </td><td>draw_0  </td><td>8.773816</td></tr>\n",
       "\t<tr><td>6       </td><td>1984    </td><td>15_1    </td><td>draw_0  </td><td>8.833029</td></tr>\n",
       "\t<tr><td>6       </td><td>1985    </td><td>15_1    </td><td>draw_0  </td><td>8.893837</td></tr>\n",
       "</tbody>\n",
       "</table>\n"
      ],
      "text/latex": [
       "\\begin{tabular}{r|lllll}\n",
       " location\\_id & year\\_id & age\\_sex & draw\\_num & edu\\\\\n",
       "\\hline\n",
       "\t 6        & 1980     & 15\\_1   & draw\\_0 & 8.608164\\\\\n",
       "\t 6        & 1981     & 15\\_1   & draw\\_0 & 8.661169\\\\\n",
       "\t 6        & 1982     & 15\\_1   & draw\\_0 & 8.716452\\\\\n",
       "\t 6        & 1983     & 15\\_1   & draw\\_0 & 8.773816\\\\\n",
       "\t 6        & 1984     & 15\\_1   & draw\\_0 & 8.833029\\\\\n",
       "\t 6        & 1985     & 15\\_1   & draw\\_0 & 8.893837\\\\\n",
       "\\end{tabular}\n"
      ],
      "text/markdown": [
       "\n",
       "location_id | year_id | age_sex | draw_num | edu | \n",
       "|---|---|---|---|---|---|\n",
       "| 6        | 1980     | 15_1     | draw_0   | 8.608164 | \n",
       "| 6        | 1981     | 15_1     | draw_0   | 8.661169 | \n",
       "| 6        | 1982     | 15_1     | draw_0   | 8.716452 | \n",
       "| 6        | 1983     | 15_1     | draw_0   | 8.773816 | \n",
       "| 6        | 1984     | 15_1     | draw_0   | 8.833029 | \n",
       "| 6        | 1985     | 15_1     | draw_0   | 8.893837 | \n",
       "\n",
       "\n"
      ],
      "text/plain": [
       "  location_id year_id age_sex draw_num edu     \n",
       "1 6           1980    15_1    draw_0   8.608164\n",
       "2 6           1981    15_1    draw_0   8.661169\n",
       "3 6           1982    15_1    draw_0   8.716452\n",
       "4 6           1983    15_1    draw_0   8.773816\n",
       "5 6           1984    15_1    draw_0   8.833029\n",
       "6 6           1985    15_1    draw_0   8.893837"
      ]
     },
     "metadata": {},
     "output_type": "display_data"
    }
   ],
   "source": [
    "system.time(edu_ref_corr_array <- mclapply(countries, \n",
    "                                    function(x) {cbind(x, draw2Dcopula(edu_ref_array[paste0(x),,,],\n",
    "                                                                      corr_mat , df_return = T))}, mc.cores = 10 ))\n",
    "                                        \n",
    "edu_ref_corr_df <- do.call(rbind, edu_ref_corr_array)\n",
    "                                        \n",
    "colnames(edu_ref_corr_df) <- c(\"location_id\", \"year_id\", \"age_sex\", \"draw_num\", \"edu\")\n",
    "head(edu_ref_corr_df)    \n",
    "\n",
    "\n",
    "system.time(edu_pes_corr_array <- mclapply(countries, \n",
    "                                    function(x) {cbind(x, draw2Dcopula(edu_pes_array[paste0(x),,,],\n",
    "                                                                      corr_mat , df_return = T))}, mc.cores = 10 ))\n",
    "                                        \n",
    "edu_pes_corr_df <- do.call(rbind, edu_pes_corr_array)\n",
    "                                        \n",
    "colnames(edu_pes_corr_df) <- c(\"location_id\", \"year_id\", \"age_sex\", \"draw_num\", \"edu\")\n",
    "head(edu_pes_corr_df)    \n",
    "\n",
    "\n",
    "\n",
    "system.time(edu_opt_corr_array <- mclapply(countries, \n",
    "                                    function(x) {cbind(x, draw2Dcopula(edu_opt_array[paste0(x),,,],\n",
    "                                                                      corr_mat , df_return = T))}, mc.cores = 10 ))\n",
    "                                        \n",
    "edu_opt_corr_df <- do.call(rbind, edu_opt_corr_array)\n",
    "                                        \n",
    "colnames(edu_opt_corr_df) <- c(\"location_id\", \"year_id\", \"age_sex\", \"draw_num\", \"edu\")\n",
    "head(edu_opt_corr_df)"
   ]
  },
  {
   "cell_type": "code",
   "execution_count": 19,
   "metadata": {
    "collapsed": false
   },
   "outputs": [
    {
     "data": {
      "text/html": [
       "<ol class=list-inline>\n",
       "\t<li>333060000</li>\n",
       "\t<li>5</li>\n",
       "</ol>\n"
      ],
      "text/latex": [
       "\\begin{enumerate*}\n",
       "\\item 333060000\n",
       "\\item 5\n",
       "\\end{enumerate*}\n"
      ],
      "text/markdown": [
       "1. 333060000\n",
       "2. 5\n",
       "\n",
       "\n"
      ],
      "text/plain": [
       "[1] 333060000         5"
      ]
     },
     "metadata": {},
     "output_type": "display_data"
    },
    {
     "data": {
      "text/html": [
       "<ol class=list-inline>\n",
       "\t<li>333060000</li>\n",
       "\t<li>5</li>\n",
       "</ol>\n"
      ],
      "text/latex": [
       "\\begin{enumerate*}\n",
       "\\item 333060000\n",
       "\\item 5\n",
       "\\end{enumerate*}\n"
      ],
      "text/markdown": [
       "1. 333060000\n",
       "2. 5\n",
       "\n",
       "\n"
      ],
      "text/plain": [
       "[1] 333060000         5"
      ]
     },
     "metadata": {},
     "output_type": "display_data"
    },
    {
     "data": {
      "text/html": [
       "<ol class=list-inline>\n",
       "\t<li>333060000</li>\n",
       "\t<li>5</li>\n",
       "</ol>\n"
      ],
      "text/latex": [
       "\\begin{enumerate*}\n",
       "\\item 333060000\n",
       "\\item 5\n",
       "\\end{enumerate*}\n"
      ],
      "text/markdown": [
       "1. 333060000\n",
       "2. 5\n",
       "\n",
       "\n"
      ],
      "text/plain": [
       "[1] 333060000         5"
      ]
     },
     "metadata": {},
     "output_type": "display_data"
    },
    {
     "data": {
      "text/html": [
       "<ol class=list-inline>\n",
       "\t<li>333060000</li>\n",
       "\t<li>5</li>\n",
       "</ol>\n"
      ],
      "text/latex": [
       "\\begin{enumerate*}\n",
       "\\item 333060000\n",
       "\\item 5\n",
       "\\end{enumerate*}\n"
      ],
      "text/markdown": [
       "1. 333060000\n",
       "2. 5\n",
       "\n",
       "\n"
      ],
      "text/plain": [
       "[1] 333060000         5"
      ]
     },
     "metadata": {},
     "output_type": "display_data"
    }
   ],
   "source": [
    "dim(edu_ref_long); dim(edu_opt_corr_df); dim(edu_pes_corr_df); dim(edu_ref_corr_df)"
   ]
  },
  {
   "cell_type": "markdown",
   "metadata": {},
   "source": [
    "### Collapse to year and country only"
   ]
  },
  {
   "cell_type": "code",
   "execution_count": 60,
   "metadata": {
    "collapsed": true
   },
   "outputs": [],
   "source": [
    "country_year_collapser <- function(edu_data, pop_data = pop, split_AS = T, dcast_needed=T) {\n",
    "    \n",
    "    if(dcast_needed) {\n",
    "        ## Reshape wide\n",
    "        Xcorr_df_with_pop <- dcast(edu_data, location_id + year_id + age_sex ~ draw_num, value.var = c(\"edu\"))\n",
    "    } else {\n",
    "        Xcorr_df_with_pop <- edu_data\n",
    "    }\n",
    "\n",
    "    # Split back into age and sex\n",
    "    Xcorr_df_with_pop2 <- Xcorr_df_with_pop\n",
    "    \n",
    "    if(split_AS) {\n",
    "        ## Split the string \"_\"\n",
    "        system.time({ Xcorr_df_with_pop2[, c(\"age_group_id\",\"sex_id\") := data.table(str_split_fixed(age_sex,\"_\",2))] })\n",
    "        Xcorr_df_with_pop2[, age_sex:=NULL]    \n",
    "\n",
    "        ## Convert the new columns to numerics\n",
    "        Xcorr_df_with_pop2[, age_group_id := as.numeric(age_group_id)]\n",
    "        Xcorr_df_with_pop2[, sex_id := as.integer(sex_id)]\n",
    "    }\n",
    "    \n",
    "    ## Merge in population\n",
    "    Xcorr_df_with_pop2 <- data.table(merge(x=Xcorr_df_with_pop2, \n",
    "                                           y=pop_data, by = c(\"location_id\", \"year_id\", \"age_group_id\", \"sex_id\")))\n",
    "    \n",
    "    \n",
    "    # Collapse correlated data and compute the mean and PCs\n",
    "    Xcorr_df_CY<- Xcorr_df_with_pop2[, lapply(.SD, function(x) sum(x*pop)/sum(pop)), \n",
    "                            by=c(\"location_id\", \"year_id\"), .SDcols=cbind(paste0(\"draw_\",c(0:999))) ] \n",
    "    \n",
    "    \n",
    "    ## Melt super long to get stats\n",
    "    Xcorr_df_CY_super_long <- melt(Xcorr_df_CY, id.vars = c(\"location_id\", \"year_id\"), \n",
    "                                   value.name = \"data\", variable.name = \"draws\")\n",
    "    \n",
    "        \n",
    "    ## Get stats\n",
    "    Xcorr_df_CY_stats <- Xcorr_df_CY_super_long[, list(mean = mean(data), \n",
    "                                                            upper = quantile(data, 0.975), \n",
    "                                                            lower = quantile(data, 0.025)), \n",
    "                                                     by = c(\"location_id\", \"year_id\")]\n",
    "\n",
    "    ## Return stuff\n",
    "    returner <- list()\n",
    "    returner[[\"draws\"]] <- Xcorr_df_CY\n",
    "    returner[[\"stats\"]] <- Xcorr_df_CY_stats\n",
    "        \n",
    "    return(returner)\n",
    "}\n"
   ]
  },
  {
   "cell_type": "code",
   "execution_count": 52,
   "metadata": {
    "collapsed": false,
    "scrolled": true
   },
   "outputs": [
    {
     "data": {
      "text/plain": [
       "   user  system elapsed \n",
       "195.609   5.584 200.576 "
      ]
     },
     "metadata": {},
     "output_type": "display_data"
    },
    {
     "data": {
      "text/plain": [
       "   user  system elapsed \n",
       "203.028   5.318 207.710 "
      ]
     },
     "metadata": {},
     "output_type": "display_data"
    },
    {
     "data": {
      "text/plain": [
       "   user  system elapsed \n",
       "205.273   4.876 209.523 "
      ]
     },
     "metadata": {},
     "output_type": "display_data"
    }
   ],
   "source": [
    "## Collapse the three scenarios\n",
    "system.time(edu_ref_corr_CY <- country_year_collapser(edu_data = edu_ref_corr_df, pop, split_AS = T))\n",
    "system.time(edu_opt_corr_CY <- country_year_collapser(edu_data = edu_opt_corr_df, pop, split_AS = T))\n",
    "system.time(edu_pes_corr_CY <- country_year_collapser(edu_data = edu_pes_corr_df, pop, split_AS = T))"
   ]
  },
  {
   "cell_type": "code",
   "execution_count": 59,
   "metadata": {
    "collapsed": false
   },
   "outputs": [
    {
     "data": {
      "text/html": [
       "<table>\n",
       "<thead><tr><th scope=col>location_id</th><th scope=col>age_sex</th><th scope=col>year_id</th><th scope=col>variable</th><th scope=col>edu</th></tr></thead>\n",
       "<tbody>\n",
       "\t<tr><td>6       </td><td>15_1    </td><td>1980    </td><td>draw_0  </td><td>8.195544</td></tr>\n",
       "\t<tr><td>6       </td><td>15_1    </td><td>1981    </td><td>draw_0  </td><td>8.147565</td></tr>\n",
       "\t<tr><td>6       </td><td>15_1    </td><td>1982    </td><td>draw_0  </td><td>8.099316</td></tr>\n",
       "\t<tr><td>6       </td><td>15_1    </td><td>1983    </td><td>draw_0  </td><td>8.052140</td></tr>\n",
       "\t<tr><td>6       </td><td>15_1    </td><td>1984    </td><td>draw_0  </td><td>8.007288</td></tr>\n",
       "\t<tr><td>6       </td><td>15_1    </td><td>1985    </td><td>draw_0  </td><td>7.965937</td></tr>\n",
       "</tbody>\n",
       "</table>\n"
      ],
      "text/latex": [
       "\\begin{tabular}{r|lllll}\n",
       " location\\_id & age\\_sex & year\\_id & variable & edu\\\\\n",
       "\\hline\n",
       "\t 6        & 15\\_1   & 1980     & draw\\_0 & 8.195544\\\\\n",
       "\t 6        & 15\\_1   & 1981     & draw\\_0 & 8.147565\\\\\n",
       "\t 6        & 15\\_1   & 1982     & draw\\_0 & 8.099316\\\\\n",
       "\t 6        & 15\\_1   & 1983     & draw\\_0 & 8.052140\\\\\n",
       "\t 6        & 15\\_1   & 1984     & draw\\_0 & 8.007288\\\\\n",
       "\t 6        & 15\\_1   & 1985     & draw\\_0 & 7.965937\\\\\n",
       "\\end{tabular}\n"
      ],
      "text/markdown": [
       "\n",
       "location_id | age_sex | year_id | variable | edu | \n",
       "|---|---|---|---|---|---|\n",
       "| 6        | 15_1     | 1980     | draw_0   | 8.195544 | \n",
       "| 6        | 15_1     | 1981     | draw_0   | 8.147565 | \n",
       "| 6        | 15_1     | 1982     | draw_0   | 8.099316 | \n",
       "| 6        | 15_1     | 1983     | draw_0   | 8.052140 | \n",
       "| 6        | 15_1     | 1984     | draw_0   | 8.007288 | \n",
       "| 6        | 15_1     | 1985     | draw_0   | 7.965937 | \n",
       "\n",
       "\n"
      ],
      "text/plain": [
       "  location_id age_sex year_id variable edu     \n",
       "1 6           15_1    1980    draw_0   8.195544\n",
       "2 6           15_1    1981    draw_0   8.147565\n",
       "3 6           15_1    1982    draw_0   8.099316\n",
       "4 6           15_1    1983    draw_0   8.052140\n",
       "5 6           15_1    1984    draw_0   8.007288\n",
       "6 6           15_1    1985    draw_0   7.965937"
      ]
     },
     "metadata": {},
     "output_type": "display_data"
    }
   ],
   "source": [
    "head(edu_ref_long)"
   ]
  },
  {
   "cell_type": "code",
   "execution_count": 67,
   "metadata": {
    "collapsed": false,
    "scrolled": true
   },
   "outputs": [
    {
     "data": {},
     "metadata": {},
     "output_type": "display_data"
    },
    {
     "data": {},
     "metadata": {},
     "output_type": "display_data"
    },
    {
     "data": {
      "text/plain": [
       "   user  system elapsed \n",
       "218.074   5.719 223.180 "
      ]
     },
     "metadata": {},
     "output_type": "display_data"
    },
    {
     "data": {},
     "metadata": {},
     "output_type": "display_data"
    },
    {
     "data": {},
     "metadata": {},
     "output_type": "display_data"
    },
    {
     "data": {
      "text/plain": [
       "   user  system elapsed \n",
       "219.874   5.733 224.999 "
      ]
     },
     "metadata": {},
     "output_type": "display_data"
    }
   ],
   "source": [
    "## Collapse the un-correlated data\n",
    "edu_ref_long[, draw_num:= variable]\n",
    "edu_ref_long[, variable:= NULL]\n",
    "system.time(edu_ref_uncorr_CY <-country_year_collapser(edu_data = edu_ref_long, split_AS=T, dcast_needed=T))\n",
    "\n",
    "edu_pes_long[, draw_num:= variable]\n",
    "edu_pes_long[, variable:= NULL]\n",
    "system.time(edu_pes_uncorr_CY <-country_year_collapser(edu_data = edu_pes_long, split_AS=T, dcast_needed=T))\n",
    "\n",
    "edu_opt_long[, draw_num:= variable]\n",
    "edu_opt_long[, variable:= NULL]\n",
    "system.time(edu_opt_uncorr_CY <-country_year_collapser(edu_data = edu_opt_long, split_AS=T, dcast_needed=T))"
   ]
  },
  {
   "cell_type": "markdown",
   "metadata": {},
   "source": [
    "#### Test plots"
   ]
  },
  {
   "cell_type": "code",
   "execution_count": 110,
   "metadata": {
    "collapsed": false
   },
   "outputs": [],
   "source": [
    "## Plot by country\n",
    "plot_country_collapsed <- function(loc_id, data_ref, data_pes, data_opt) {\n",
    "    ggplot() +  xlab(\"Year\") + ylab(\"Education per capita\") + ggtitle(paste0(loc_id)) +\n",
    "    \n",
    "    ## Reference\n",
    "    geom_line(data = data_ref[year_id<=2015 & location_id == loc_id],\n",
    "                aes(x = year_id, y = mean), color = \"blue3\", alpha = .3) +\n",
    "    geom_ribbon(data = data_ref[location_id == loc_id],\n",
    "                aes(x = year_id, ymin= lower, ymax = upper), fill = \"steelblue\", alpha = .3) +\n",
    "    geom_line(data = data_ref[year_id>=2015 & location_id == loc_id],\n",
    "                aes(x = year_id, y = mean), color = \"blue3\", linetype = \"dashed\", alpha = .3) +\n",
    "    \n",
    "    ## Optimistic\n",
    "    geom_ribbon(data = data_opt[year_id >=2015 & location_id == loc_id],\n",
    "                aes(x = year_id, ymin= lower, ymax = upper), fill = \"green2\", alpha = .3) +\n",
    "    geom_line(data = data_opt[year_id>=2015& location_id == loc_id],\n",
    "                aes(x = year_id, y = mean), color = \"green4\", linetype = \"dashed\", alpha = .3) +\n",
    "    \n",
    "    ## Pessimistic\n",
    "    geom_ribbon(data = data_pes[year_id>=2015 & location_id == loc_id],\n",
    "                aes(x = year_id, ymin= lower, ymax = upper), fill = \"red2\", alpha = .3) +\n",
    "    geom_line(data = data_pes[year_id>=2015 & location_id == loc_id],\n",
    "                aes(x = year_id, y = mean), color = \"red4\", linetype = \"dashed\", alpha = .3) \n",
    "    \n",
    "}"
   ]
  },
  {
   "cell_type": "code",
   "execution_count": 111,
   "metadata": {
    "collapsed": false
   },
   "outputs": [
    {
     "data": {},
     "metadata": {},
     "output_type": "display_data"
    },
    {
     "data": {
      "image/png": "[encoded data removed]",
      "text/plain": [
       "plot without title"
      ]
     },
     "metadata": {},
     "output_type": "display_data"
    }
   ],
   "source": [
    "## Correlated\n",
    "plot_country_collapsed(6, data_ref = edu_ref_corr_CY[[\"stats\"]],\n",
    "                      data_pes = edu_pes_corr_CY[[\"stats\"]], data_opt=edu_opt_corr_CY[[\"stats\"]])"
   ]
  },
  {
   "cell_type": "code",
   "execution_count": 112,
   "metadata": {
    "collapsed": false
   },
   "outputs": [
    {
     "data": {},
     "metadata": {},
     "output_type": "display_data"
    },
    {
     "data": {
      "image/png": "[encoded data removed]",
      "text/plain": [
       "plot without title"
      ]
     },
     "metadata": {},
     "output_type": "display_data"
    }
   ],
   "source": [
    "## Uncorrelated\n",
    "plot_country_collapsed(6, data_ref = edu_ref_uncorr_CY[[\"stats\"]],\n",
    "                      data_pes = edu_pes_uncorr_CY[[\"stats\"]], data_opt=edu_opt_uncorr_CY[[\"stats\"]])"
   ]
  },
  {
   "cell_type": "code",
   "execution_count": 113,
   "metadata": {
    "collapsed": false
   },
   "outputs": [
    {
     "data": {},
     "metadata": {},
     "output_type": "display_data"
    },
    {
     "data": {},
     "metadata": {},
     "output_type": "display_data"
    },
    {
     "data": {},
     "metadata": {},
     "output_type": "display_data"
    }
   ],
   "source": [
    "## Prep for saving out the data (merge in the stats AND add a column of scenarios)\n",
    "reference_save <- merge(edu_ref_corr_CY[[\"draws\"]], edu_ref_corr_CY[[\"stats\"]], by = c(\"location_id\", \"year_id\"))\n",
    "reference_save[, scenario:= 0]\n",
    "\n",
    "pessimistic_save <- merge(edu_pes_corr_CY[[\"draws\"]], edu_pes_corr_CY[[\"stats\"]], by = c(\"location_id\", \"year_id\"))\n",
    "pessimistic_save[, scenario:= -1]\n",
    "\n",
    "optimistic_save <- merge(edu_opt_corr_CY[[\"draws\"]], edu_opt_corr_CY[[\"stats\"]], by = c(\"location_id\", \"year_id\"))\n",
    "optimistic_save[, scenario:= 1]"
   ]
  },
  {
   "cell_type": "code",
   "execution_count": null,
   "metadata": {
    "collapsed": false
   },
   "outputs": [],
   "source": [
    "## Save out data\n",
    "\n",
    "\n",
    "## Reference\n",
    "fwrite(reference_save, paste0(\n",
    "       \"/ihme/forecasting/data/fbd_scenarios_data/forecast/covariate/education/20170608_GBD2016Final/correlated_CY_edu/\",\n",
    "          \"20170608_GBD2016Final_gpr_draws_scenario0_corr_CY.csv\"))\n",
    "\n",
    "## Pessimistic\n",
    "fwrite(pessimistic_save, paste0(\n",
    "       \"/ihme/forecasting/data/fbd_scenarios_data/forecast/covariate/education/20170608_GBD2016Final/correlated_CY_edu/\",\n",
    "          \"20170608_GBD2016Final_gpr_draws_scenario-1_corr_CY.csv\"))\n",
    "\n",
    "## Optimistic\n",
    "fwrite(optimistic_save, paste0(\n",
    "       \"/ihme/forecasting/data/fbd_scenarios_data/forecast/covariate/education/20170608_GBD2016Final/correlated_CY_edu/\",\n",
    "          \"20170608_GBD2016Final_gpr_draws_scenario1_corr_CY.csv\"))"
   ]
  }
 ],
 "metadata": {
  "anaconda-cloud": {},
  "kernelspec": {
   "display_name": "R 3.4.1",
   "language": "R",
   "name": "ir341"
  },
  "language_info": {
   "codemirror_mode": "r",
   "file_extension": ".r",
   "mimetype": "text/x-r-source",
   "name": "R",
   "pygments_lexer": "r",
   "version": "3.4.1"
  }
 },
 "nbformat": 4,
 "nbformat_minor": 1
}
