{
 "cells": [
  {
   "cell_type": "code",
   "execution_count": 1,
   "metadata": {
    "collapsed": false
   },
   "outputs": [
    {
     "data": {
      "text/html": [
       "48"
      ],
      "text/latex": [
       "48"
      ],
      "text/markdown": [
       "48"
      ],
      "text/plain": [
       "[1] 48"
      ]
     },
     "metadata": {},
     "output_type": "display_data"
    }
   ],
   "source": [
    "rm(list=ls())\n",
    "pacman::p_load(data.table, MASS, ggplot2, stringr, matrixStats, doParallel, abind, ncdf4)\n",
    "\n",
    "parallel::detectCores()\n",
    "## Resizing notebook plot space\n",
    "options(repr.plot.width=16, repr.plot.height=9)"
   ]
  },
  {
   "cell_type": "code",
   "execution_count": 2,
   "metadata": {
    "collapsed": true
   },
   "outputs": [],
   "source": [
    "## A function to just open the ncdf file and it's corresponding metadata\n",
    "\n",
    "ncdf_open_extract_dims <- function(file) {\n",
    "    \n",
    "    le_file <- list()\n",
    "    \n",
    "    ## Open the file\n",
    "    le_file[[1]] <- nc_open(paste0(file))\n",
    "    \n",
    "    \n",
    "    ## Get all dimnames of the xarray\n",
    "    dim_names <- names(le_file[[1]]$dim)\n",
    "\n",
    "    ## Get the corresponding dimvalues\n",
    "    dim_vals <- lapply(dim_names, function(x) {\n",
    "        return(le_file[[1]]$dim[[paste0(x)]]$vals)\n",
    "    })\n",
    "\n",
    "    names(dim_vals) <- dim_names\n",
    "    \n",
    "    le_file[[2]] <- dim_vals\n",
    "    \n",
    "    return(le_file)\n",
    "    \n",
    "}"
   ]
  },
  {
   "cell_type": "code",
   "execution_count": null,
   "metadata": {
    "collapsed": true
   },
   "outputs": [],
   "source": [
    "file <- paste0(\"/ihme/forecasting/data/fbd_scenarios_data/forecast/death/20170322_gk_scenario/cvd_ihd.nc\")\n",
    "example_nc <- ncdf_open_extract_dims(file)\n",
    "example_nc[[1]]"
   ]
  },
  {
   "cell_type": "code",
   "execution_count": null,
   "metadata": {
    "collapsed": true
   },
   "outputs": [],
   "source": [
    "## Now, here's the important part: subsetting and getting just the data we need, and also to make sure that, \n",
    "## if a subset occurs, then we don't exceed the dimensions in the count option\n",
    "\n",
    "lengths(example_nc[[2]])\n",
    "example_nc[[2]][\"location_id\"]"
   ]
  },
  {
   "cell_type": "code",
   "execution_count": null,
   "metadata": {
    "collapsed": true
   },
   "outputs": [],
   "source": [
    "## So, the first datapoint is scenario == -1. Let's extract that\n",
    "system.time(edu_pes <- ncvar_get(gpr_ncopen, \"__xarray_dataarray_variable__\", start=c(1,1,1,1,1,1), \n",
    "                                 count = c(2,2,2,2,2,2)))\n",
    "str(edu_pes)\n",
    "\n",
    "## Melt to a data table"
   ]
  },
  {
   "cell_type": "code",
   "execution_count": null,
   "metadata": {
    "collapsed": true
   },
   "outputs": [],
   "source": [
    "## Create a grid of the coordinates \n",
    "\n",
    "# Name of all dimensions\n",
    "dims <- names(gpr_ncopen$dim)\n",
    "\n",
    "# List of dim values for each of the above names\n",
    "dim_list <- lapply(dims, function(x) {\n",
    "    gpr_ncopen$dim[[paste0(x)]]$vals\n",
    "})\n",
    "\n",
    "names(dim_list) <- dims"
   ]
  },
  {
   "cell_type": "code",
   "execution_count": null,
   "metadata": {
    "collapsed": true
   },
   "outputs": [],
   "source": [
    "## the dimnames list has to be of the EXACT dimensions as that of the dimension of the array!\n",
    "dimnames_smaller <- lapply(dim_names, function(x) {dim_vals[[paste0(x)]][1:2]} )\n",
    "dimnames_smaller"
   ]
  },
  {
   "cell_type": "code",
   "execution_count": null,
   "metadata": {
    "collapsed": true
   },
   "outputs": [],
   "source": [
    "attributes(edu_pes)$dimnames <- dimnames_smaller"
   ]
  }
 ],
 "metadata": {
  "kernelspec": {
   "display_name": "R 3.4.1",
   "language": "R",
   "name": "ir341"
  },
  "language_info": {
   "codemirror_mode": "r",
   "file_extension": ".r",
   "mimetype": "text/x-r-source",
   "name": "R",
   "pygments_lexer": "r",
   "version": "3.4.1"
  }
 },
 "nbformat": 4,
 "nbformat_minor": 0
}
