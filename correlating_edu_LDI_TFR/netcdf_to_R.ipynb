{
 "cells": [
  {
   "cell_type": "code",
   "execution_count": 8,
   "metadata": {},
   "outputs": [
    {
     "data": {
      "text/html": [
       "48"
      ],
      "text/latex": [
       "48"
      ],
      "text/markdown": [
       "48"
      ],
      "text/plain": [
       "[1] 48"
      ]
     },
     "metadata": {},
     "output_type": "display_data"
    }
   ],
   "source": [
    "# rm(list=ls())\n",
    "pacman::p_load(data.table, MASS, ggplot2, stringr, matrixStats, doParallel, abind, ncdf4, arrayhelpers)\n",
    "\n",
    "parallel::detectCores()\n",
    "## Resizing notebook plot space\n",
    "options(repr.plot.width=16, repr.plot.height=9)"
   ]
  },
  {
   "cell_type": "code",
   "execution_count": 9,
   "metadata": {},
   "outputs": [],
   "source": [
    "## A function to just open the ncdf file and it's corresponding metadata\n",
    "\n",
    "ncdf_open_extract_dims <- function(file) {\n",
    "    \n",
    "    le_file <- list()\n",
    "    \n",
    "    ## Open the file\n",
    "    le_file[[1]] <- nc_open(paste0(file))\n",
    "    \n",
    "    \n",
    "    val_name <- names(le_file[[1]]$var)\n",
    "    dim_numbers <- length(le_file[[1]]$var[[paste0(val_name)]]$dim)\n",
    "    \n",
    "    ## Get the corresponding dimvalues in the order of the xarray\n",
    "        dim_vals <- lapply(c(1:dim_numbers), function(x) {\n",
    "            le_file[[1]]$var[[paste0(val_name)]]$dim[[x]]$vals\n",
    "        })\n",
    "    ## Get the corresponding dimnames in the order of the xarray\n",
    "        dim_names <- lapply(c(1:dim_numbers), function(x) {\n",
    "            le_file[[1]]$var[[paste0(val_name)]]$dim[[x]]$name\n",
    "        })\n",
    "\n",
    "    ## Name the dim metadata\n",
    "        names(dim_vals) <- dim_names\n",
    "    \n",
    "    le_file[[2]] <- dim_vals\n",
    "    \n",
    "    return(le_file)\n",
    "    \n",
    "}"
   ]
  },
  {
   "cell_type": "code",
   "execution_count": 10,
   "metadata": {
    "scrolled": false
   },
   "outputs": [
    {
     "data": {
      "text/plain": [
       "File /ihme/forecasting/data/fbd_scenarios_data/forecast/covariate/education/20170608_GBD2016Final//20170726_cohort_maternal_scenarios.nc (NC_FORMAT_NETCDF4):\n",
       "\n",
       "     1 variables (excluding dimension variables):\n",
       "        double __xarray_dataarray_variable__[draw,year_id,sex_id,age_group_id,location_id,scenario]   (Contiguous storage)  \n",
       "            _FillValue: NaN\n",
       "\n",
       "     6 dimensions:\n",
       "        location_id  Size:195\n",
       "        age_group_id  Size:20\n",
       "        sex_id  Size:2\n",
       "        year_id  Size:91\n",
       "        draw  Size:1000\n",
       "        scenario  Size:3\n",
       "\n",
       "    1 global attributes:\n",
       "        _NCProperties: version=1|netcdflibversion=4.4.1|hdf5libversion=1.8.17"
      ]
     },
     "metadata": {},
     "output_type": "display_data"
    }
   ],
   "source": [
    "file <- paste0(\"/ihme/forecasting/data/fbd_scenarios_data/forecast/covariate/education/20170608_GBD2016Final//20170726_cohort_maternal_scenarios.nc\")\n",
    "example_nc <- ncdf_open_extract_dims(file)\n",
    "example_nc[[1]]"
   ]
  },
  {
   "cell_type": "code",
   "execution_count": 11,
   "metadata": {},
   "outputs": [],
   "source": [
    "## Now, here's the important part: subsetting and getting just the data we need, and also to make sure that, \n",
    "## if a subset occurs, then we don't exceed the dimensions in the count option\n",
    "\n",
    "# head(example_nc[[2]])"
   ]
  },
  {
   "cell_type": "code",
   "execution_count": 36,
   "metadata": {
    "scrolled": true
   },
   "outputs": [
    {
     "data": {
      "text/plain": [
       "   user  system elapsed \n",
       " 13.733   6.844  20.582 "
      ]
     },
     "metadata": {},
     "output_type": "display_data"
    },
    {
     "name": "stdout",
     "output_type": "stream",
     "text": [
      " num [1:1000, 1:91, 1:2, 1:15, 1:195] 1.28 1.38 1.39 1.19 1.25 ...\n"
     ]
    }
   ],
   "source": [
    "## So, the first datapoint is scenario == -1 and for age_group > 7. Let's extract that\n",
    "system.time(edu_pes <- ncvar_get(example_nc[[1]], \"__xarray_dataarray_variable__\", \n",
    "                                 start=c(1,1,1,6,1,3)))\n",
    "str(edu_pes)"
   ]
  },
  {
   "cell_type": "code",
   "execution_count": 37,
   "metadata": {},
   "outputs": [],
   "source": [
    "# Get a list of array dim names, stripped according to subset\n",
    "array_dimnames <- example_nc[[2]]\n",
    "# array_dimnames[[\"draw\"]] <- array_dimnames[[\"draw\"]][c(996:1000)]\n",
    "array_dimnames[[\"age_group_id\"]] <- array_dimnames[[\"age_group_id\"]][c(6:20)]\n",
    "array_dimnames[[\"scenario\"]] <- array_dimnames[[\"scenario\"]][3]"
   ]
  },
  {
   "cell_type": "code",
   "execution_count": 67,
   "metadata": {},
   "outputs": [
    {
     "name": "stdout",
     "output_type": "stream",
     "text": [
      " num [1:1000, 1:91, 1:2, 1:15, 1:195] 1.28 1.38 1.39 1.19 1.25 ...\n",
      " - attr(*, \"dimnames\")=List of 5\n",
      "  ..$ draw        : chr [1:1000] \"0\" \"1\" \"2\" \"3\" ...\n",
      "  ..$ year_id     : chr [1:91] \"1950\" \"1951\" \"1952\" \"1953\" ...\n",
      "  ..$ sex_id      : chr [1:2] \"1\" \"2\"\n",
      "  ..$ age_group_id: chr [1:15] \"7\" \"8\" \"9\" \"10\" ...\n",
      "  ..$ location_id : chr [1:195] \"6\" \"7\" \"8\" \"10\" ...\n"
     ]
    }
   ],
   "source": [
    "## Set array dim values\n",
    "for(i in c(1:5)) {\n",
    "    dimnames(edu_pes)[[i]] <- array_dimnames[[i]]\n",
    "}\n",
    "\n",
    "## Set array dim names (no scenario since we killed it off by subset)\n",
    "names(dimnames(edu_pes)) <- setdiff(names(array_dimnames), \"scenario\")\n",
    "\n",
    "str(edu_pes)"
   ]
  },
  {
   "cell_type": "code",
   "execution_count": 68,
   "metadata": {},
   "outputs": [
    {
     "data": {
      "text/html": [
       "<table>\n",
       "<thead><tr><th scope=col>draw</th><th scope=col>year_id</th><th scope=col>sex_id</th><th scope=col>age_group_id</th><th scope=col>location_id</th><th scope=col>value</th></tr></thead>\n",
       "<tbody>\n",
       "\t<tr><td>0       </td><td>1950    </td><td>1       </td><td>7       </td><td>6       </td><td>1.280493</td></tr>\n",
       "\t<tr><td>1       </td><td>1950    </td><td>1       </td><td>7       </td><td>6       </td><td>1.379191</td></tr>\n",
       "\t<tr><td>2       </td><td>1950    </td><td>1       </td><td>7       </td><td>6       </td><td>1.392498</td></tr>\n",
       "\t<tr><td>3       </td><td>1950    </td><td>1       </td><td>7       </td><td>6       </td><td>1.187493</td></tr>\n",
       "\t<tr><td>4       </td><td>1950    </td><td>1       </td><td>7       </td><td>6       </td><td>1.248056</td></tr>\n",
       "\t<tr><td>5       </td><td>1950    </td><td>1       </td><td>7       </td><td>6       </td><td>1.464628</td></tr>\n",
       "</tbody>\n",
       "</table>\n"
      ],
      "text/latex": [
       "\\begin{tabular}{r|llllll}\n",
       " draw & year\\_id & sex\\_id & age\\_group\\_id & location\\_id & value\\\\\n",
       "\\hline\n",
       "\t 0        & 1950     & 1        & 7        & 6        & 1.280493\\\\\n",
       "\t 1        & 1950     & 1        & 7        & 6        & 1.379191\\\\\n",
       "\t 2        & 1950     & 1        & 7        & 6        & 1.392498\\\\\n",
       "\t 3        & 1950     & 1        & 7        & 6        & 1.187493\\\\\n",
       "\t 4        & 1950     & 1        & 7        & 6        & 1.248056\\\\\n",
       "\t 5        & 1950     & 1        & 7        & 6        & 1.464628\\\\\n",
       "\\end{tabular}\n"
      ],
      "text/markdown": [
       "\n",
       "draw | year_id | sex_id | age_group_id | location_id | value | \n",
       "|---|---|---|---|---|---|\n",
       "| 0        | 1950     | 1        | 7        | 6        | 1.280493 | \n",
       "| 1        | 1950     | 1        | 7        | 6        | 1.379191 | \n",
       "| 2        | 1950     | 1        | 7        | 6        | 1.392498 | \n",
       "| 3        | 1950     | 1        | 7        | 6        | 1.187493 | \n",
       "| 4        | 1950     | 1        | 7        | 6        | 1.248056 | \n",
       "| 5        | 1950     | 1        | 7        | 6        | 1.464628 | \n",
       "\n",
       "\n"
      ],
      "text/plain": [
       "  draw year_id sex_id age_group_id location_id value   \n",
       "1 0    1950    1      7            6           1.280493\n",
       "2 1    1950    1      7            6           1.379191\n",
       "3 2    1950    1      7            6           1.392498\n",
       "4 3    1950    1      7            6           1.187493\n",
       "5 4    1950    1      7            6           1.248056\n",
       "6 5    1950    1      7            6           1.464628"
      ]
     },
     "metadata": {},
     "output_type": "display_data"
    }
   ],
   "source": [
    "## Finally, to a data table!\n",
    "edu_pes_DT <- data.table::melt(edu_pes)\n",
    "colnames(edu_pes_DT)[6] <- \"edu\"\n",
    "head(edu_pes_DT)"
   ]
  },
  {
   "cell_type": "code",
   "execution_count": 71,
   "metadata": {},
   "outputs": [
    {
     "name": "stdout",
     "output_type": "stream",
     "text": [
      "\r",
      "Written 2.2% of 532350000 rows in 2 secs using 48 threads. anyBufferGrown=no; maxBuffUsed=49%. Finished in 89 secs.      \r",
      "Written 7.6% of 532350000 rows in 3 secs using 48 threads. anyBufferGrown=no; maxBuffUsed=50%. Finished in 36 secs.      \r",
      "Written 14.1% of 532350000 rows in 4 secs using 48 threads. anyBufferGrown=no; maxBuffUsed=50%. Finished in 24 secs.      \r",
      "Written 20.6% of 532350000 rows in 5 secs using 48 threads. anyBufferGrown=no; maxBuffUsed=50%. Finished in 19 secs.      \r",
      "Written 26.0% of 532350000 rows in 6 secs using 48 threads. anyBufferGrown=no; maxBuffUsed=50%. Finished in 17 secs.      \r",
      "Written 32.4% of 532350000 rows in 7 secs using 48 threads. anyBufferGrown=no; maxBuffUsed=50%. Finished in 14 secs.      \r",
      "Written 38.9% of 532350000 rows in 8 secs using 48 threads. anyBufferGrown=no; maxBuffUsed=50%. Finished in 12 secs.      \r",
      "Written 44.3% of 532350000 rows in 9 secs using 48 threads. anyBufferGrown=no; maxBuffUsed=50%. Finished in 11 secs.      \r",
      "Written 50.8% of 532350000 rows in 10 secs using 48 threads. anyBufferGrown=no; maxBuffUsed=50%. Finished in 9 secs.      \r",
      "Written 57.3% of 532350000 rows in 11 secs using 48 threads. anyBufferGrown=no; maxBuffUsed=50%. Finished in 8 secs.      \r",
      "Written 62.7% of 532350000 rows in 12 secs using 48 threads. anyBufferGrown=no; maxBuffUsed=51%. Finished in 7 secs.      \r",
      "Written 64.9% of 532350000 rows in 13 secs using 48 threads. anyBufferGrown=no; maxBuffUsed=51%. Finished in 7 secs.      \r",
      "Written 70.3% of 532350000 rows in 14 secs using 48 threads. anyBufferGrown=no; maxBuffUsed=52%. Finished in 5 secs.      \r",
      "Written 74.6% of 532350000 rows in 15 secs using 48 threads. anyBufferGrown=no; maxBuffUsed=52%. Finished in 5 secs.      \r",
      "Written 80.0% of 532350000 rows in 16 secs using 48 threads. anyBufferGrown=no; maxBuffUsed=52%. Finished in 4 secs.      \r",
      "Written 81.1% of 532350000 rows in 18 secs using 48 threads. anyBufferGrown=no; maxBuffUsed=52%. Finished in 4 secs.      \r",
      "Written 86.5% of 532350000 rows in 19 secs using 48 threads. anyBufferGrown=no; maxBuffUsed=52%. Finished in 2 secs.      \r",
      "Written 91.9% of 532350000 rows in 20 secs using 48 threads. anyBufferGrown=no; maxBuffUsed=52%. Finished in 1 secs.      \r",
      "Written 97.3% of 532350000 rows in 21 secs using 48 threads. anyBufferGrown=no; maxBuffUsed=52%. Finished in 0 secs.      \r",
      "                                                                                                                                     \r"
     ]
    }
   ],
   "source": [
    "fwrite(edu_pes_DT, file = paste0(\"/share/forecasting/data/fbd_scenarios_data/forecast/covariate/education//20170608_GBD2016Final/\",\n",
    "    \"20170729_GBD2016Final_gpr_draws_scenario-1_from_Nafis.csv\"))"
   ]
  }
 ],
 "metadata": {
  "kernelspec": {
   "display_name": "R 3.4.1",
   "language": "R",
   "name": "ir341"
  },
  "language_info": {
   "codemirror_mode": "r",
   "file_extension": ".r",
   "mimetype": "text/x-r-source",
   "name": "R",
   "pygments_lexer": "r",
   "version": "3.4.1"
  }
 },
 "nbformat": 4,
 "nbformat_minor": 1
}
