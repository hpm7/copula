{
 "cells": [
  {
   "cell_type": "code",
   "execution_count": 1,
   "metadata": {
    "scrolled": true
   },
   "outputs": [
    {
     "name": "stderr",
     "output_type": "stream",
     "text": [
      "Loading required package: data.table\n",
      "Loading required package: MASS\n",
      "Loading required package: ggplot2\n",
      "Loading required package: gridExtra\n",
      "Loading required package: stringr\n",
      "Loading required package: doParallel\n",
      "Loading required package: foreach\n",
      "Loading required package: iterators\n",
      "Loading required package: parallel\n",
      "Loading required package: abind\n",
      "Loading required package: Matrix\n"
     ]
    }
   ],
   "source": [
    "# rm(list=ls())\n",
    "require(data.table)\n",
    "require(MASS)\n",
    "require(ggplot2)\n",
    "require(gridExtra)\n",
    "require(stringr)\n",
    "require(doParallel)\n",
    "require(abind)\n",
    "require(Matrix)\n",
    "set.seed(123)\n",
    "\n",
    "## Resizing notebook plot space\n",
    "options(repr.plot.width=16, repr.plot.height=9)"
   ]
  },
  {
   "cell_type": "markdown",
   "metadata": {},
   "source": [
    "## (0) Some functions"
   ]
  },
  {
   "cell_type": "code",
   "execution_count": 2,
   "metadata": {
    "collapsed": true
   },
   "outputs": [],
   "source": [
    "## Load in the R functions\n",
    "source(\"/home/j/temp/central_comp/libraries/current/r/get_draws.R\")"
   ]
  },
  {
   "cell_type": "code",
   "execution_count": 3,
   "metadata": {
    "collapsed": true
   },
   "outputs": [],
   "source": [
    "## Neal's multivariate copula function\n",
    "\n",
    "draw2Dcopula <- function(X, cor_mat, df_return = F){\n",
    "  L <- dim(X)[2]\n",
    "  D <- dim(X)[3]\n",
    "  Xsum <- apply(X, c(2, 3), sum)\n",
    "  mvdat <- mvrnorm(n=D, mu=0 * 1:L, Sigma=cor_mat, empirical=TRUE)\n",
    "  ranks <- apply(mvdat, 2, rank, ties.method=\"first\")\n",
    "  sortedXsim <- apply(Xsum, 1, function(x) sort(x, index.return=TRUE)$ix)\n",
    "  sortedX <- X\n",
    "  for(i in 1:L){\n",
    "    sortedX[,i,] <- X[,i,sortedXsim[,i]]\n",
    "  }\n",
    "  Xcorr <- sortedX\n",
    "  for(i in 1:L){\n",
    "    Xcorr[,i,] <- sortedX[,i,ranks[,i]]\n",
    "  }\n",
    "  if (df_return==T) {\n",
    "    return(data.table(melt(Xcorr)))\n",
    "    }\n",
    "      else {\n",
    "          Xcorr\n",
    "      }\n",
    "}\n"
   ]
  },
  {
   "cell_type": "code",
   "execution_count": 53,
   "metadata": {
    "collapsed": true
   },
   "outputs": [],
   "source": [
    "## Stacking function: stack the names of the ones that matter and ones that don't\n",
    "stacking_df <- function(data, to_stack, to_stack_name, no_stack, no_stack_name) {\n",
    "    \n",
    "    data[,paste0(to_stack_name) := do.call(paste, c(data[, .SD, .SDcols = to_stack], sep = \"_\")) ]\n",
    "    data[, paste0(no_stack_name) := do.call(paste, c(data[, .SD, .SDcols = no_stack], sep = \"_\"))]\n",
    "    \n",
    "    return(data)\n",
    "}"
   ]
  },
  {
   "cell_type": "markdown",
   "metadata": {},
   "source": [
    "## (1) Prepping the data to be into the array we want"
   ]
  },
  {
   "cell_type": "code",
   "execution_count": 16,
   "metadata": {
    "collapsed": true
   },
   "outputs": [],
   "source": [
    "## Get some example draws (causes 587 and 495)\n",
    "dalys_diabetes <- get_draws(gbd_id_field = \"cause_id\", gbd_id = 587, source = 'dalynator', metric_id = 1,\n",
    "                            measure_ids = 2, location_id = c(6,7,8), \n",
    "                            age_group_ids = c(6,7,8,9,10), sex_ids = c(1,2))\n",
    "\n",
    "dalys_ihd <- get_draws(gbd_id_field = \"cause_id\", gbd_id = 495, source = 'dalynator', metric_id = 1,\n",
    "                            measure_ids = 2, location_id = c(6,7,8), \n",
    "                            age_group_ids = c(6,7,8,9,10), sex_ids = c(1,2))"
   ]
  },
  {
   "cell_type": "code",
   "execution_count": 17,
   "metadata": {
    "collapsed": true
   },
   "outputs": [],
   "source": [
    "## Clean up and only what we need (loc, year, age, sex, draws):\n",
    "dalys_ihd <- dalys_ihd[, .SD, .SDcols = c(\"location_id\", \"year_id\", \"age_group_id\", \"sex_id\", \"cause_id\", paste0(\"draw_\",c(0:999)) )]\n",
    "dalys_diabetes <- dalys_diabetes[, .SD, .SDcols = c(\"location_id\", \"year_id\", \"age_group_id\", \"sex_id\", \"cause_id\", paste0(\"draw_\",c(0:999)) )]"
   ]
  },
  {
   "cell_type": "code",
   "execution_count": 18,
   "metadata": {},
   "outputs": [
    {
     "data": {},
     "metadata": {},
     "output_type": "display_data"
    },
    {
     "data": {},
     "metadata": {},
     "output_type": "display_data"
    }
   ],
   "source": [
    "## Convert age group to a string with leading zeroes, so that the sorting is maintained in the arrays\n",
    "dalys_ihd[, age_group_id:= formatC(age_group_id, width = 3, format = \"d\", flag = \"0\")]\n",
    "dalys_diabetes[, age_group_id:= formatC(age_group_id, width = 3, format = \"d\", flag = \"0\")]"
   ]
  },
  {
   "cell_type": "code",
   "execution_count": 20,
   "metadata": {
    "collapsed": true
   },
   "outputs": [],
   "source": [
    "## Stack age_sex and loc_year\n",
    "corring_over <- c(\"age_group_id\", \"sex_id\", \"cause_id\")\n",
    "corring_var_name <- \"age_sex_cause\"\n",
    "\n",
    "not_corring_over <- c(\"location_id\", \"year_id\")\n",
    "not_corring_var_name <- \"loc_year\"\n",
    "\n",
    "dalys_ihd <- stacking_df(dalys_ihd, to_stack =  corring_over, to_stack_name = corring_var_name,\n",
    "                         no_stack = not_corring_over, no_stack_name = not_corring_var_name)\n",
    "\n",
    "dalys_diabetes <- stacking_df(dalys_diabetes, to_stack =  corring_over, to_stack_name = corring_var_name,\n",
    "                         no_stack = not_corring_over, no_stack_name = not_corring_var_name)"
   ]
  },
  {
   "cell_type": "code",
   "execution_count": 21,
   "metadata": {},
   "outputs": [
    {
     "data": {
      "text/html": [
       "<table>\n",
       "<thead><tr><th scope=col>location_id</th><th scope=col>year_id</th><th scope=col>age_group_id</th><th scope=col>sex_id</th><th scope=col>var_name</th><th scope=col>draw_0</th><th scope=col>draw_1</th><th scope=col>draw_2</th><th scope=col>draw_3</th><th scope=col>draw_4</th><th scope=col>⋯</th><th scope=col>draw_992</th><th scope=col>draw_993</th><th scope=col>draw_994</th><th scope=col>draw_995</th><th scope=col>draw_996</th><th scope=col>draw_997</th><th scope=col>draw_998</th><th scope=col>draw_999</th><th scope=col>age_sex_var</th><th scope=col>loc_year</th></tr></thead>\n",
       "<tbody>\n",
       "\t<tr><td>6              </td><td>2016           </td><td>006            </td><td>1              </td><td>diabeetus      </td><td>  1502.603     </td><td>  1464.278     </td><td>  1159.717     </td><td>  1123.799     </td><td>  1117.349     </td><td>⋯              </td><td>  1749.500     </td><td>  1556.551     </td><td>  1537.333     </td><td>  1938.616     </td><td> 1579.557      </td><td>  1576.566     </td><td>  1485.885     </td><td>  1702.443     </td><td>006_1_diabeetus</td><td>6_2016         </td></tr>\n",
       "\t<tr><td>6              </td><td>2016           </td><td>007            </td><td>1              </td><td>diabeetus      </td><td>  4544.980     </td><td>  5109.784     </td><td>  4331.432     </td><td>  4388.135     </td><td>  4026.030     </td><td>⋯              </td><td>  7566.693     </td><td>  5161.448     </td><td>  4875.295     </td><td>  6053.514     </td><td> 4516.764      </td><td>  5316.403     </td><td>  5184.320     </td><td>  5352.031     </td><td>007_1_diabeetus</td><td>6_2016         </td></tr>\n",
       "\t<tr><td>6              </td><td>2016           </td><td>008            </td><td>1              </td><td>diabeetus      </td><td> 22877.532     </td><td> 21976.269     </td><td> 16302.054     </td><td> 16337.912     </td><td> 16569.428     </td><td>⋯              </td><td> 26773.150     </td><td> 20345.621     </td><td> 16477.317     </td><td> 20851.499     </td><td>14993.269      </td><td> 17000.141     </td><td> 20112.642     </td><td> 16799.632     </td><td>008_1_diabeetus</td><td>6_2016         </td></tr>\n",
       "\t<tr><td>6              </td><td>2016           </td><td>009            </td><td>1              </td><td>diabeetus      </td><td> 99663.020     </td><td> 85973.618     </td><td> 53148.500     </td><td> 54046.493     </td><td> 63074.437     </td><td>⋯              </td><td> 83049.148     </td><td> 79542.014     </td><td> 68065.248     </td><td> 83753.853     </td><td>46989.948      </td><td> 60156.015     </td><td> 61445.950     </td><td> 52345.268     </td><td>009_1_diabeetus</td><td>6_2016         </td></tr>\n",
       "\t<tr><td>6              </td><td>2016           </td><td>010            </td><td>1              </td><td>diabeetus      </td><td>207400.937     </td><td>187044.589     </td><td>116781.610     </td><td>112546.733     </td><td>133283.330     </td><td>⋯              </td><td>181121.544     </td><td>170419.012     </td><td>157672.722     </td><td>193634.411     </td><td>91804.074      </td><td>137670.104     </td><td>120549.784     </td><td>122673.684     </td><td>010_1_diabeetus</td><td>6_2016         </td></tr>\n",
       "\t<tr><td>6              </td><td>2016           </td><td>006            </td><td>2              </td><td>diabeetus      </td><td>  2129.917     </td><td>  1870.235     </td><td>  1835.528     </td><td>  1770.460     </td><td>  1846.798     </td><td>⋯              </td><td>  2871.924     </td><td>  2508.616     </td><td>  2421.117     </td><td>  2665.646     </td><td> 2356.602      </td><td>  2619.106     </td><td>  2224.157     </td><td>  2340.772     </td><td>006_2_diabeetus</td><td>6_2016         </td></tr>\n",
       "</tbody>\n",
       "</table>\n"
      ],
      "text/latex": [
       "\\begin{tabular}{r|lllllllllllllllllllllllllllllllllllllllllllllllllllllllllllllllllllllllllllllllllllllllllllllllllllllllllllllllllllllllllllllllllllllllllllllllllllllllllllllllllllllllllllllllllllllllllllllllllllllllllllllllllllllllllllllllllllllllllllllllllllllllllllllllllllllllllllllllllllllllllllllllllllllllllllllllllllllllllllllllllllllllllllllllllllllllllllllllllllllllllllllllllllllllllllllllllllllllllllllllllllllllllllllllllllllllllllllllllllllllllllllllllllllllllllllllllllllllllllllllllllllllllllllllllllllllllllllllllllllllllllllllllllllllllllllllllllllllllllllllllllllllllllllllllllllllllllllllllllllllllllllllllllllllllllllllllllllllllllllllllllllllllllllllllllllllllllllllllllllllllllllllllllllllllllllllllllllllllllllllllllllllllllllllllllllllllllllllllllllllllllllllllllllllllllllllllllllllllllllllllllllllllllllllllllllllllllllllllllllllllllllllllllllllllllllllllllllllllllllllllllllllllllllllllllllllllllllllllllllllllllllllllllllllllllllllllllllllllllllllllllllllllllllllllllllllllllllllllllllllllllllll}\n",
       " location\\_id & year\\_id & age\\_group\\_id & sex\\_id & var\\_name & draw\\_0 & draw\\_1 & draw\\_2 & draw\\_3 & draw\\_4 & ⋯ & draw\\_992 & draw\\_993 & draw\\_994 & draw\\_995 & draw\\_996 & draw\\_997 & draw\\_998 & draw\\_999 & age\\_sex\\_var & loc\\_year\\\\\n",
       "\\hline\n",
       "\t 6                   & 2016                & 006                 & 1                   & diabeetus           &   1502.603          &   1464.278          &   1159.717          &   1123.799          &   1117.349          & ⋯                   &   1749.500          &   1556.551          &   1537.333          &   1938.616          &  1579.557           &   1576.566          &   1485.885          &   1702.443          & 006\\_1\\_diabeetus & 6\\_2016           \\\\\n",
       "\t 6                   & 2016                & 007                 & 1                   & diabeetus           &   4544.980          &   5109.784          &   4331.432          &   4388.135          &   4026.030          & ⋯                   &   7566.693          &   5161.448          &   4875.295          &   6053.514          &  4516.764           &   5316.403          &   5184.320          &   5352.031          & 007\\_1\\_diabeetus & 6\\_2016           \\\\\n",
       "\t 6                   & 2016                & 008                 & 1                   & diabeetus           &  22877.532          &  21976.269          &  16302.054          &  16337.912          &  16569.428          & ⋯                   &  26773.150          &  20345.621          &  16477.317          &  20851.499          & 14993.269           &  17000.141          &  20112.642          &  16799.632          & 008\\_1\\_diabeetus & 6\\_2016           \\\\\n",
       "\t 6                   & 2016                & 009                 & 1                   & diabeetus           &  99663.020          &  85973.618          &  53148.500          &  54046.493          &  63074.437          & ⋯                   &  83049.148          &  79542.014          &  68065.248          &  83753.853          & 46989.948           &  60156.015          &  61445.950          &  52345.268          & 009\\_1\\_diabeetus & 6\\_2016           \\\\\n",
       "\t 6                   & 2016                & 010                 & 1                   & diabeetus           & 207400.937          & 187044.589          & 116781.610          & 112546.733          & 133283.330          & ⋯                   & 181121.544          & 170419.012          & 157672.722          & 193634.411          & 91804.074           & 137670.104          & 120549.784          & 122673.684          & 010\\_1\\_diabeetus & 6\\_2016           \\\\\n",
       "\t 6                   & 2016                & 006                 & 2                   & diabeetus           &   2129.917          &   1870.235          &   1835.528          &   1770.460          &   1846.798          & ⋯                   &   2871.924          &   2508.616          &   2421.117          &   2665.646          &  2356.602           &   2619.106          &   2224.157          &   2340.772          & 006\\_2\\_diabeetus & 6\\_2016           \\\\\n",
       "\\end{tabular}\n"
      ],
      "text/markdown": [
       "\n",
       "location_id | year_id | age_group_id | sex_id | var_name | draw_0 | draw_1 | draw_2 | draw_3 | draw_4 | ⋯ | draw_992 | draw_993 | draw_994 | draw_995 | draw_996 | draw_997 | draw_998 | draw_999 | age_sex_var | loc_year | \n",
       "|---|---|---|---|---|---|\n",
       "| 6               | 2016            | 006             | 1               | diabeetus       |   1502.603      |   1464.278      |   1159.717      |   1123.799      |   1117.349      | ⋯               |   1749.500      |   1556.551      |   1537.333      |   1938.616      |  1579.557       |   1576.566      |   1485.885      |   1702.443      | 006_1_diabeetus | 6_2016          | \n",
       "| 6               | 2016            | 007             | 1               | diabeetus       |   4544.980      |   5109.784      |   4331.432      |   4388.135      |   4026.030      | ⋯               |   7566.693      |   5161.448      |   4875.295      |   6053.514      |  4516.764       |   5316.403      |   5184.320      |   5352.031      | 007_1_diabeetus | 6_2016          | \n",
       "| 6               | 2016            | 008             | 1               | diabeetus       |  22877.532      |  21976.269      |  16302.054      |  16337.912      |  16569.428      | ⋯               |  26773.150      |  20345.621      |  16477.317      |  20851.499      | 14993.269       |  17000.141      |  20112.642      |  16799.632      | 008_1_diabeetus | 6_2016          | \n",
       "| 6               | 2016            | 009             | 1               | diabeetus       |  99663.020      |  85973.618      |  53148.500      |  54046.493      |  63074.437      | ⋯               |  83049.148      |  79542.014      |  68065.248      |  83753.853      | 46989.948       |  60156.015      |  61445.950      |  52345.268      | 009_1_diabeetus | 6_2016          | \n",
       "| 6               | 2016            | 010             | 1               | diabeetus       | 207400.937      | 187044.589      | 116781.610      | 112546.733      | 133283.330      | ⋯               | 181121.544      | 170419.012      | 157672.722      | 193634.411      | 91804.074       | 137670.104      | 120549.784      | 122673.684      | 010_1_diabeetus | 6_2016          | \n",
       "| 6               | 2016            | 006             | 2               | diabeetus       |   2129.917      |   1870.235      |   1835.528      |   1770.460      |   1846.798      | ⋯               |   2871.924      |   2508.616      |   2421.117      |   2665.646      |  2356.602       |   2619.106      |   2224.157      |   2340.772      | 006_2_diabeetus | 6_2016          | \n",
       "\n",
       "\n"
      ],
      "text/plain": [
       "  location_id year_id age_group_id sex_id var_name  draw_0     draw_1    \n",
       "1 6           2016    006          1      diabeetus   1502.603   1464.278\n",
       "2 6           2016    007          1      diabeetus   4544.980   5109.784\n",
       "3 6           2016    008          1      diabeetus  22877.532  21976.269\n",
       "4 6           2016    009          1      diabeetus  99663.020  85973.618\n",
       "5 6           2016    010          1      diabeetus 207400.937 187044.589\n",
       "6 6           2016    006          2      diabeetus   2129.917   1870.235\n",
       "  draw_2     draw_3     draw_4     ⋯ draw_992   draw_993   draw_994  \n",
       "1   1159.717   1123.799   1117.349 ⋯   1749.500   1556.551   1537.333\n",
       "2   4331.432   4388.135   4026.030 ⋯   7566.693   5161.448   4875.295\n",
       "3  16302.054  16337.912  16569.428 ⋯  26773.150  20345.621  16477.317\n",
       "4  53148.500  54046.493  63074.437 ⋯  83049.148  79542.014  68065.248\n",
       "5 116781.610 112546.733 133283.330 ⋯ 181121.544 170419.012 157672.722\n",
       "6   1835.528   1770.460   1846.798 ⋯   2871.924   2508.616   2421.117\n",
       "  draw_995   draw_996  draw_997   draw_998   draw_999   age_sex_var    \n",
       "1   1938.616  1579.557   1576.566   1485.885   1702.443 006_1_diabeetus\n",
       "2   6053.514  4516.764   5316.403   5184.320   5352.031 007_1_diabeetus\n",
       "3  20851.499 14993.269  17000.141  20112.642  16799.632 008_1_diabeetus\n",
       "4  83753.853 46989.948  60156.015  61445.950  52345.268 009_1_diabeetus\n",
       "5 193634.411 91804.074 137670.104 120549.784 122673.684 010_1_diabeetus\n",
       "6   2665.646  2356.602   2619.106   2224.157   2340.772 006_2_diabeetus\n",
       "  loc_year\n",
       "1 6_2016  \n",
       "2 6_2016  \n",
       "3 6_2016  \n",
       "4 6_2016  \n",
       "5 6_2016  \n",
       "6 6_2016  "
      ]
     },
     "metadata": {},
     "output_type": "display_data"
    },
    {
     "data": {
      "text/html": [
       "<table>\n",
       "<thead><tr><th scope=col>location_id</th><th scope=col>year_id</th><th scope=col>age_group_id</th><th scope=col>sex_id</th><th scope=col>var_name</th><th scope=col>draw_0</th><th scope=col>draw_1</th><th scope=col>draw_2</th><th scope=col>draw_3</th><th scope=col>draw_4</th><th scope=col>⋯</th><th scope=col>draw_992</th><th scope=col>draw_993</th><th scope=col>draw_994</th><th scope=col>draw_995</th><th scope=col>draw_996</th><th scope=col>draw_997</th><th scope=col>draw_998</th><th scope=col>draw_999</th><th scope=col>age_sex_var</th><th scope=col>loc_year</th></tr></thead>\n",
       "<tbody>\n",
       "\t<tr><td>8                </td><td>2005             </td><td>010              </td><td>1                </td><td>heart_stuff      </td><td>233.988585       </td><td>171.487190       </td><td>209.91860        </td><td>154.464707       </td><td>135.579504       </td><td>⋯                </td><td>167.509717       </td><td>174.953283       </td><td>217.349300       </td><td>140.951074       </td><td>101.940970       </td><td>205.146271       </td><td>118.190764       </td><td>233.869982       </td><td>010_1_heart_stuff</td><td>8_2005           </td></tr>\n",
       "\t<tr><td>8                </td><td>2005             </td><td>006              </td><td>2                </td><td>heart_stuff      </td><td>  4.457144       </td><td>  6.132533       </td><td>  6.77355        </td><td>  7.412024       </td><td>  5.990928       </td><td>⋯                </td><td>  5.085523       </td><td>  3.212157       </td><td>  8.599625       </td><td>  5.393792       </td><td>  4.949043       </td><td>  5.543227       </td><td>  5.685739       </td><td>  6.499283       </td><td>006_2_heart_stuff</td><td>8_2005           </td></tr>\n",
       "\t<tr><td>8                </td><td>2005             </td><td>007              </td><td>2                </td><td>heart_stuff      </td><td> 11.385647       </td><td> 12.958085       </td><td> 13.54328        </td><td> 10.741678       </td><td>  8.925954       </td><td>⋯                </td><td> 14.483783       </td><td> 11.895921       </td><td> 15.118872       </td><td> 15.822339       </td><td> 14.795711       </td><td> 11.584933       </td><td> 11.505027       </td><td> 13.801689       </td><td>007_2_heart_stuff</td><td>8_2005           </td></tr>\n",
       "\t<tr><td>8                </td><td>2005             </td><td>008              </td><td>2                </td><td>heart_stuff      </td><td> 29.771521       </td><td> 31.065605       </td><td> 23.15046        </td><td> 22.519256       </td><td> 36.584111       </td><td>⋯                </td><td> 20.610921       </td><td> 16.632874       </td><td> 30.001893       </td><td> 23.911072       </td><td> 24.180766       </td><td> 32.952451       </td><td> 30.363117       </td><td> 34.850801       </td><td>008_2_heart_stuff</td><td>8_2005           </td></tr>\n",
       "\t<tr><td>8                </td><td>2005             </td><td>009              </td><td>2                </td><td>heart_stuff      </td><td>128.309223       </td><td> 82.572138       </td><td> 85.95811        </td><td> 72.925669       </td><td> 69.914348       </td><td>⋯                </td><td> 83.147467       </td><td> 74.205571       </td><td> 91.836777       </td><td>101.789327       </td><td> 59.807383       </td><td> 82.291100       </td><td>105.698706       </td><td>122.497104       </td><td>009_2_heart_stuff</td><td>8_2005           </td></tr>\n",
       "\t<tr><td>8                </td><td>2005             </td><td>010              </td><td>2                </td><td>heart_stuff      </td><td>159.220627       </td><td>158.660794       </td><td>126.50677        </td><td>161.854878       </td><td>156.890885       </td><td>⋯                </td><td>144.133512       </td><td>176.340762       </td><td>124.226775       </td><td>152.610968       </td><td>129.468943       </td><td>146.645636       </td><td>127.134103       </td><td>169.171297       </td><td>010_2_heart_stuff</td><td>8_2005           </td></tr>\n",
       "</tbody>\n",
       "</table>\n"
      ],
      "text/latex": [
       "\\begin{tabular}{r|lllllllllllllllllllllllllllllllllllllllllllllllllllllllllllllllllllllllllllllllllllllllllllllllllllllllllllllllllllllllllllllllllllllllllllllllllllllllllllllllllllllllllllllllllllllllllllllllllllllllllllllllllllllllllllllllllllllllllllllllllllllllllllllllllllllllllllllllllllllllllllllllllllllllllllllllllllllllllllllllllllllllllllllllllllllllllllllllllllllllllllllllllllllllllllllllllllllllllllllllllllllllllllllllllllllllllllllllllllllllllllllllllllllllllllllllllllllllllllllllllllllllllllllllllllllllllllllllllllllllllllllllllllllllllllllllllllllllllllllllllllllllllllllllllllllllllllllllllllllllllllllllllllllllllllllllllllllllllllllllllllllllllllllllllllllllllllllllllllllllllllllllllllllllllllllllllllllllllllllllllllllllllllllllllllllllllllllllllllllllllllllllllllllllllllllllllllllllllllllllllllllllllllllllllllllllllllllllllllllllllllllllllllllllllllllllllllllllllllllllllllllllllllllllllllllllllllllllllllllllllllllllllllllllllllllllllllllllllllllllllllllllllllllllllllllllllllllllllllllllllllllll}\n",
       " location\\_id & year\\_id & age\\_group\\_id & sex\\_id & var\\_name & draw\\_0 & draw\\_1 & draw\\_2 & draw\\_3 & draw\\_4 & ⋯ & draw\\_992 & draw\\_993 & draw\\_994 & draw\\_995 & draw\\_996 & draw\\_997 & draw\\_998 & draw\\_999 & age\\_sex\\_var & loc\\_year\\\\\n",
       "\\hline\n",
       "\t 8                       & 2005                    & 010                     & 1                       & heart\\_stuff           & 233.988585              & 171.487190              & 209.91860               & 154.464707              & 135.579504              & ⋯                       & 167.509717              & 174.953283              & 217.349300              & 140.951074              & 101.940970              & 205.146271              & 118.190764              & 233.869982              & 010\\_1\\_heart\\_stuff & 8\\_2005               \\\\\n",
       "\t 8                       & 2005                    & 006                     & 2                       & heart\\_stuff           &   4.457144              &   6.132533              &   6.77355               &   7.412024              &   5.990928              & ⋯                       &   5.085523              &   3.212157              &   8.599625              &   5.393792              &   4.949043              &   5.543227              &   5.685739              &   6.499283              & 006\\_2\\_heart\\_stuff & 8\\_2005               \\\\\n",
       "\t 8                       & 2005                    & 007                     & 2                       & heart\\_stuff           &  11.385647              &  12.958085              &  13.54328               &  10.741678              &   8.925954              & ⋯                       &  14.483783              &  11.895921              &  15.118872              &  15.822339              &  14.795711              &  11.584933              &  11.505027              &  13.801689              & 007\\_2\\_heart\\_stuff & 8\\_2005               \\\\\n",
       "\t 8                       & 2005                    & 008                     & 2                       & heart\\_stuff           &  29.771521              &  31.065605              &  23.15046               &  22.519256              &  36.584111              & ⋯                       &  20.610921              &  16.632874              &  30.001893              &  23.911072              &  24.180766              &  32.952451              &  30.363117              &  34.850801              & 008\\_2\\_heart\\_stuff & 8\\_2005               \\\\\n",
       "\t 8                       & 2005                    & 009                     & 2                       & heart\\_stuff           & 128.309223              &  82.572138              &  85.95811               &  72.925669              &  69.914348              & ⋯                       &  83.147467              &  74.205571              &  91.836777              & 101.789327              &  59.807383              &  82.291100              & 105.698706              & 122.497104              & 009\\_2\\_heart\\_stuff & 8\\_2005               \\\\\n",
       "\t 8                       & 2005                    & 010                     & 2                       & heart\\_stuff           & 159.220627              & 158.660794              & 126.50677               & 161.854878              & 156.890885              & ⋯                       & 144.133512              & 176.340762              & 124.226775              & 152.610968              & 129.468943              & 146.645636              & 127.134103              & 169.171297              & 010\\_2\\_heart\\_stuff & 8\\_2005               \\\\\n",
       "\\end{tabular}\n"
      ],
      "text/markdown": [
       "\n",
       "location_id | year_id | age_group_id | sex_id | var_name | draw_0 | draw_1 | draw_2 | draw_3 | draw_4 | ⋯ | draw_992 | draw_993 | draw_994 | draw_995 | draw_996 | draw_997 | draw_998 | draw_999 | age_sex_var | loc_year | \n",
       "|---|---|---|---|---|---|\n",
       "| 8                 | 2005              | 010               | 1                 | heart_stuff       | 233.988585        | 171.487190        | 209.91860         | 154.464707        | 135.579504        | ⋯                 | 167.509717        | 174.953283        | 217.349300        | 140.951074        | 101.940970        | 205.146271        | 118.190764        | 233.869982        | 010_1_heart_stuff | 8_2005            | \n",
       "| 8                 | 2005              | 006               | 2                 | heart_stuff       |   4.457144        |   6.132533        |   6.77355         |   7.412024        |   5.990928        | ⋯                 |   5.085523        |   3.212157        |   8.599625        |   5.393792        |   4.949043        |   5.543227        |   5.685739        |   6.499283        | 006_2_heart_stuff | 8_2005            | \n",
       "| 8                 | 2005              | 007               | 2                 | heart_stuff       |  11.385647        |  12.958085        |  13.54328         |  10.741678        |   8.925954        | ⋯                 |  14.483783        |  11.895921        |  15.118872        |  15.822339        |  14.795711        |  11.584933        |  11.505027        |  13.801689        | 007_2_heart_stuff | 8_2005            | \n",
       "| 8                 | 2005              | 008               | 2                 | heart_stuff       |  29.771521        |  31.065605        |  23.15046         |  22.519256        |  36.584111        | ⋯                 |  20.610921        |  16.632874        |  30.001893        |  23.911072        |  24.180766        |  32.952451        |  30.363117        |  34.850801        | 008_2_heart_stuff | 8_2005            | \n",
       "| 8                 | 2005              | 009               | 2                 | heart_stuff       | 128.309223        |  82.572138        |  85.95811         |  72.925669        |  69.914348        | ⋯                 |  83.147467        |  74.205571        |  91.836777        | 101.789327        |  59.807383        |  82.291100        | 105.698706        | 122.497104        | 009_2_heart_stuff | 8_2005            | \n",
       "| 8                 | 2005              | 010               | 2                 | heart_stuff       | 159.220627        | 158.660794        | 126.50677         | 161.854878        | 156.890885        | ⋯                 | 144.133512        | 176.340762        | 124.226775        | 152.610968        | 129.468943        | 146.645636        | 127.134103        | 169.171297        | 010_2_heart_stuff | 8_2005            | \n",
       "\n",
       "\n"
      ],
      "text/plain": [
       "  location_id year_id age_group_id sex_id var_name    draw_0     draw_1    \n",
       "1 8           2005    010          1      heart_stuff 233.988585 171.487190\n",
       "2 8           2005    006          2      heart_stuff   4.457144   6.132533\n",
       "3 8           2005    007          2      heart_stuff  11.385647  12.958085\n",
       "4 8           2005    008          2      heart_stuff  29.771521  31.065605\n",
       "5 8           2005    009          2      heart_stuff 128.309223  82.572138\n",
       "6 8           2005    010          2      heart_stuff 159.220627 158.660794\n",
       "  draw_2    draw_3     draw_4     ⋯ draw_992   draw_993   draw_994   draw_995  \n",
       "1 209.91860 154.464707 135.579504 ⋯ 167.509717 174.953283 217.349300 140.951074\n",
       "2   6.77355   7.412024   5.990928 ⋯   5.085523   3.212157   8.599625   5.393792\n",
       "3  13.54328  10.741678   8.925954 ⋯  14.483783  11.895921  15.118872  15.822339\n",
       "4  23.15046  22.519256  36.584111 ⋯  20.610921  16.632874  30.001893  23.911072\n",
       "5  85.95811  72.925669  69.914348 ⋯  83.147467  74.205571  91.836777 101.789327\n",
       "6 126.50677 161.854878 156.890885 ⋯ 144.133512 176.340762 124.226775 152.610968\n",
       "  draw_996   draw_997   draw_998   draw_999   age_sex_var       loc_year\n",
       "1 101.940970 205.146271 118.190764 233.869982 010_1_heart_stuff 8_2005  \n",
       "2   4.949043   5.543227   5.685739   6.499283 006_2_heart_stuff 8_2005  \n",
       "3  14.795711  11.584933  11.505027  13.801689 007_2_heart_stuff 8_2005  \n",
       "4  24.180766  32.952451  30.363117  34.850801 008_2_heart_stuff 8_2005  \n",
       "5  59.807383  82.291100 105.698706 122.497104 009_2_heart_stuff 8_2005  \n",
       "6 129.468943 146.645636 127.134103 169.171297 010_2_heart_stuff 8_2005  "
      ]
     },
     "metadata": {},
     "output_type": "display_data"
    }
   ],
   "source": [
    "head(dalys_diabetes); tail(dalys_ihd)"
   ]
  },
  {
   "cell_type": "code",
   "execution_count": 22,
   "metadata": {
    "collapsed": true
   },
   "outputs": [],
   "source": [
    "## Melt the draws and add a column called \"var_name\"\n",
    "dalys_ihd_long <- melt(dalys_ihd, id.vars = c(not_corring_var_name, corring_var_name), \n",
    "                       measure.vars = paste0(\"draw_\", c(0:999)),\n",
    "                      value.name = \"dalys\", variable.name = \"draw_num\")\n",
    "\n",
    "dalys_diabetes_long <- melt(dalys_diabetes, id.vars =c(not_corring_var_name, corring_var_name), \n",
    "                            measure.vars = paste0(\"draw_\", c(0:999)),\n",
    "                            value.name = \"dalys\", variable.name = \"draw_num\")"
   ]
  },
  {
   "cell_type": "code",
   "execution_count": 23,
   "metadata": {
    "collapsed": true
   },
   "outputs": [],
   "source": [
    "## Bind the dataframes\n",
    "dalys_binded_long <- rbind(dalys_diabetes_long, dalys_ihd_long)"
   ]
  },
  {
   "cell_type": "code",
   "execution_count": 24,
   "metadata": {},
   "outputs": [
    {
     "data": {
      "text/html": [
       "<table>\n",
       "<thead><tr><th scope=col>loc_year</th><th scope=col>age_sex_var</th><th scope=col>draw_num</th><th scope=col>dalys</th></tr></thead>\n",
       "<tbody>\n",
       "\t<tr><td>6_2016         </td><td>006_1_diabeetus</td><td>draw_0         </td><td>  1502.603     </td></tr>\n",
       "\t<tr><td>6_2016         </td><td>007_1_diabeetus</td><td>draw_0         </td><td>  4544.980     </td></tr>\n",
       "\t<tr><td>6_2016         </td><td>008_1_diabeetus</td><td>draw_0         </td><td> 22877.532     </td></tr>\n",
       "\t<tr><td>6_2016         </td><td>009_1_diabeetus</td><td>draw_0         </td><td> 99663.020     </td></tr>\n",
       "\t<tr><td>6_2016         </td><td>010_1_diabeetus</td><td>draw_0         </td><td>207400.937     </td></tr>\n",
       "\t<tr><td>6_2016         </td><td>006_2_diabeetus</td><td>draw_0         </td><td>  2129.917     </td></tr>\n",
       "</tbody>\n",
       "</table>\n"
      ],
      "text/latex": [
       "\\begin{tabular}{r|llll}\n",
       " loc\\_year & age\\_sex\\_var & draw\\_num & dalys\\\\\n",
       "\\hline\n",
       "\t 6\\_2016            & 006\\_1\\_diabeetus & draw\\_0            &   1502.603         \\\\\n",
       "\t 6\\_2016            & 007\\_1\\_diabeetus & draw\\_0            &   4544.980         \\\\\n",
       "\t 6\\_2016            & 008\\_1\\_diabeetus & draw\\_0            &  22877.532         \\\\\n",
       "\t 6\\_2016            & 009\\_1\\_diabeetus & draw\\_0            &  99663.020         \\\\\n",
       "\t 6\\_2016            & 010\\_1\\_diabeetus & draw\\_0            & 207400.937         \\\\\n",
       "\t 6\\_2016            & 006\\_2\\_diabeetus & draw\\_0            &   2129.917         \\\\\n",
       "\\end{tabular}\n"
      ],
      "text/markdown": [
       "\n",
       "loc_year | age_sex_var | draw_num | dalys | \n",
       "|---|---|---|---|---|---|\n",
       "| 6_2016          | 006_1_diabeetus | draw_0          |   1502.603      | \n",
       "| 6_2016          | 007_1_diabeetus | draw_0          |   4544.980      | \n",
       "| 6_2016          | 008_1_diabeetus | draw_0          |  22877.532      | \n",
       "| 6_2016          | 009_1_diabeetus | draw_0          |  99663.020      | \n",
       "| 6_2016          | 010_1_diabeetus | draw_0          | 207400.937      | \n",
       "| 6_2016          | 006_2_diabeetus | draw_0          |   2129.917      | \n",
       "\n",
       "\n"
      ],
      "text/plain": [
       "  loc_year age_sex_var     draw_num dalys     \n",
       "1 6_2016   006_1_diabeetus draw_0     1502.603\n",
       "2 6_2016   007_1_diabeetus draw_0     4544.980\n",
       "3 6_2016   008_1_diabeetus draw_0    22877.532\n",
       "4 6_2016   009_1_diabeetus draw_0    99663.020\n",
       "5 6_2016   010_1_diabeetus draw_0   207400.937\n",
       "6 6_2016   006_2_diabeetus draw_0     2129.917"
      ]
     },
     "metadata": {},
     "output_type": "display_data"
    },
    {
     "data": {
      "text/html": [
       "<table>\n",
       "<thead><tr><th scope=col>loc_year</th><th scope=col>age_sex_var</th><th scope=col>draw_num</th><th scope=col>dalys</th></tr></thead>\n",
       "<tbody>\n",
       "\t<tr><td>8_2005           </td><td>010_1_heart_stuff</td><td>draw_999         </td><td>233.869982       </td></tr>\n",
       "\t<tr><td>8_2005           </td><td>006_2_heart_stuff</td><td>draw_999         </td><td>  6.499283       </td></tr>\n",
       "\t<tr><td>8_2005           </td><td>007_2_heart_stuff</td><td>draw_999         </td><td> 13.801689       </td></tr>\n",
       "\t<tr><td>8_2005           </td><td>008_2_heart_stuff</td><td>draw_999         </td><td> 34.850801       </td></tr>\n",
       "\t<tr><td>8_2005           </td><td>009_2_heart_stuff</td><td>draw_999         </td><td>122.497104       </td></tr>\n",
       "\t<tr><td>8_2005           </td><td>010_2_heart_stuff</td><td>draw_999         </td><td>169.171297       </td></tr>\n",
       "</tbody>\n",
       "</table>\n"
      ],
      "text/latex": [
       "\\begin{tabular}{r|llll}\n",
       " loc\\_year & age\\_sex\\_var & draw\\_num & dalys\\\\\n",
       "\\hline\n",
       "\t 8\\_2005                & 010\\_1\\_heart\\_stuff & draw\\_999              & 233.869982             \\\\\n",
       "\t 8\\_2005                & 006\\_2\\_heart\\_stuff & draw\\_999              &   6.499283             \\\\\n",
       "\t 8\\_2005                & 007\\_2\\_heart\\_stuff & draw\\_999              &  13.801689             \\\\\n",
       "\t 8\\_2005                & 008\\_2\\_heart\\_stuff & draw\\_999              &  34.850801             \\\\\n",
       "\t 8\\_2005                & 009\\_2\\_heart\\_stuff & draw\\_999              & 122.497104             \\\\\n",
       "\t 8\\_2005                & 010\\_2\\_heart\\_stuff & draw\\_999              & 169.171297             \\\\\n",
       "\\end{tabular}\n"
      ],
      "text/markdown": [
       "\n",
       "loc_year | age_sex_var | draw_num | dalys | \n",
       "|---|---|---|---|---|---|\n",
       "| 8_2005            | 010_1_heart_stuff | draw_999          | 233.869982        | \n",
       "| 8_2005            | 006_2_heart_stuff | draw_999          |   6.499283        | \n",
       "| 8_2005            | 007_2_heart_stuff | draw_999          |  13.801689        | \n",
       "| 8_2005            | 008_2_heart_stuff | draw_999          |  34.850801        | \n",
       "| 8_2005            | 009_2_heart_stuff | draw_999          | 122.497104        | \n",
       "| 8_2005            | 010_2_heart_stuff | draw_999          | 169.171297        | \n",
       "\n",
       "\n"
      ],
      "text/plain": [
       "  loc_year age_sex_var       draw_num dalys     \n",
       "1 8_2005   010_1_heart_stuff draw_999 233.869982\n",
       "2 8_2005   006_2_heart_stuff draw_999   6.499283\n",
       "3 8_2005   007_2_heart_stuff draw_999  13.801689\n",
       "4 8_2005   008_2_heart_stuff draw_999  34.850801\n",
       "5 8_2005   009_2_heart_stuff draw_999 122.497104\n",
       "6 8_2005   010_2_heart_stuff draw_999 169.171297"
      ]
     },
     "metadata": {},
     "output_type": "display_data"
    }
   ],
   "source": [
    "head(dalys_binded_long); tail(dalys_binded_long)"
   ]
  },
  {
   "cell_type": "markdown",
   "metadata": {},
   "source": [
    "## (2) Devising AR correlation matrix for each unique corring variable (age, sex and cause) and then combine... maybe?"
   ]
  },
  {
   "cell_type": "code",
   "execution_count": 25,
   "metadata": {
    "collapsed": true
   },
   "outputs": [],
   "source": [
    "## Number of groups\n",
    "age_groups <- unique(dalys_ihd[year_id == 2016, age_group_id])\n",
    "sex_groups <- unique(dalys_ihd[year_id == 2016, sex_id])\n",
    "year_groups <- unique(dalys_ihd[year_id == 2016, year_id])\n",
    "loc_groups <- unique(dalys_ihd[year_id == 2016, location_id])\n",
    "var_groups <- unique(c(\"heart_stuff\", \"diabeetus\"))"
   ]
  },
  {
   "cell_type": "code",
   "execution_count": 26,
   "metadata": {
    "collapsed": true
   },
   "outputs": [],
   "source": [
    "## Matrices within each group first (2x2 matrices do not follow AR processes)\n",
    "age_corr_mat <- 0.75**abs(outer(1:length(age_groups), 1:length(age_groups), \"-\"))\n",
    "colnames(age_corr_mat) = rownames(age_corr_mat) = age_groups\n",
    "\n",
    "sex_corr_mat <- 0.4**abs(outer(1:length(sex_groups), 1:length(sex_groups), \"-\"))\n",
    "colnames(sex_corr_mat) = rownames(sex_corr_mat) = sex_groups\n",
    "\n",
    "var_corr_mat <- 0.6**abs(outer(1:length(var_groups), 1:length(var_groups), \"-\"))\n",
    "colnames(var_corr_mat) = rownames(var_corr_mat) = var_groups"
   ]
  },
  {
   "cell_type": "code",
   "execution_count": 27,
   "metadata": {
    "collapsed": true
   },
   "outputs": [],
   "source": [
    "## Create the ultimate correlation matrix: the Kronecker product (IN THE REVERSE ORDER OF age_sex_var)\n",
    "k1 <- kronecker(var_corr_mat, sex_corr_mat, make.dimnames = T)\n",
    "k2 <- kronecker(k1, age_corr_mat, make.dimnames = T)"
   ]
  },
  {
   "cell_type": "code",
   "execution_count": 51,
   "metadata": {},
   "outputs": [
    {
     "data": {
      "text/plain": [
       "   user  system elapsed \n",
       "  1.663   0.023   1.687 "
      ]
     },
     "metadata": {},
     "output_type": "display_data"
    },
    {
     "name": "stdout",
     "output_type": "stream",
     "text": [
      " num [1:18, 1:20, 1:1000] 4956 6162 5783 2280 2266 ...\n",
      " - attr(*, \"dimnames\")=List of 3\n",
      "  ..$ : chr [1:18] \"6_1990\" \"6_1995\" \"6_2000\" \"6_2005\" ...\n",
      "  ..$ : chr [1:20] \"006_1_diabeetus\" \"006_1_heart_stuff\" \"006_2_diabeetus\" \"006_2_heart_stuff\" ...\n",
      "  ..$ : chr [1:1000] \"draw_0\" \"draw_1\" \"draw_2\" \"draw_3\" ...\n"
     ]
    }
   ],
   "source": [
    "## The time has come: make the data.table into a multi dimensional array!\n",
    "system.time(dalys_array <- reshape2::acast(dalys_binded_long, loc_year ~ age_sex_var ~ draw_num, value.var = \"dalys\"))\n",
    "str(dalys_array)"
   ]
  },
  {
   "cell_type": "code",
   "execution_count": 52,
   "metadata": {},
   "outputs": [
    {
     "data": {
      "text/plain": [
       "   user  system elapsed \n",
       "  1.218   0.019   1.237 "
      ]
     },
     "metadata": {},
     "output_type": "display_data"
    },
    {
     "name": "stdout",
     "output_type": "stream",
     "text": [
      "Classes ‘data.table’ and 'data.frame':\t360000 obs. of  4 variables:\n",
      " $ loc_year   : Factor w/ 18 levels \"6_1990\",\"6_1995\",..: 1 2 3 4 5 6 7 8 9 10 ...\n",
      " $ age_sex_var: Factor w/ 20 levels \"006_1_diabeetus\",..: 1 1 1 1 1 1 1 1 1 1 ...\n",
      " $ draw_num   : Factor w/ 1000 levels \"draw_0\",\"draw_1\",..: 1 1 1 1 1 1 1 1 1 1 ...\n",
      " $ dalys      : num  4558 6343 5643 2492 2274 ...\n",
      " - attr(*, \".internal.selfref\")=<externalptr> \n"
     ]
    }
   ],
   "source": [
    "## Copulate all over my body\n",
    "system.time(dalys_corr <- draw2Dcopula(X = dalys_array, cor_mat = k2, df_return = T))\n",
    "names(dalys_corr) <- colnames(dalys_binded_long)\n",
    "str(dalys_corr)"
   ]
  },
  {
   "cell_type": "code",
   "execution_count": null,
   "metadata": {
    "collapsed": true
   },
   "outputs": [],
   "source": []
  }
 ],
 "metadata": {
  "kernelspec": {
   "display_name": "R 3.4.1",
   "language": "R",
   "name": "ir341"
  },
  "language_info": {
   "codemirror_mode": "r",
   "file_extension": ".r",
   "mimetype": "text/x-r-source",
   "name": "R",
   "pygments_lexer": "r",
   "version": "3.4.1"
  }
 },
 "nbformat": 4,
 "nbformat_minor": 1
}
